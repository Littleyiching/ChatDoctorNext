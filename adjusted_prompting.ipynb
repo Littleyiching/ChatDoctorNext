{
 "cells": [
  {
   "cell_type": "markdown",
   "metadata": {
    "id": "kUTC05DY7dQH"
   },
   "source": [
    "# Install Libraries"
   ]
  },
  {
   "cell_type": "code",
   "execution_count": null,
   "metadata": {
    "id": "GIyaC_3u7dQJ",
    "outputId": "04fc5a92-9896-4a79-8686-e7e3762bc28d"
   },
   "outputs": [],
   "source": [
    "pip install -U -q requests"
   ]
  },
  {
   "cell_type": "code",
   "execution_count": null,
   "metadata": {
    "id": "7HF5EhNn7dQK",
    "outputId": "52e50177-dc50-42e4-e8d1-f6a48d2e885e"
   },
   "outputs": [],
   "source": [
    "pip install -U -q bitsandbytes"
   ]
  },
  {
   "cell_type": "code",
   "execution_count": null,
   "metadata": {
    "id": "vSZIt5Y_7dQK",
    "outputId": "397080a7-95b4-4347-dfcd-c9cc2393a0c3"
   },
   "outputs": [],
   "source": [
    "pip install -U -q git+https://github.com/huggingface/transformers.git"
   ]
  },
  {
   "cell_type": "code",
   "execution_count": null,
   "metadata": {
    "id": "dUvRNpCt7dQK",
    "outputId": "f355fc44-72d4-4bef-c4c5-f65da91ad57c"
   },
   "outputs": [],
   "source": [
    "pip install -U -q git+https://github.com/huggingface/peft.git"
   ]
  },
  {
   "cell_type": "code",
   "execution_count": null,
   "metadata": {
    "id": "9oTyes_a7dQK",
    "outputId": "706c022e-260a-4497-b366-a49ca498ced4"
   },
   "outputs": [],
   "source": [
    "pip install -U -q git+https://github.com/huggingface/accelerate.git"
   ]
  },
  {
   "cell_type": "code",
   "execution_count": null,
   "metadata": {
    "id": "VVpR2EuS7dQL",
    "outputId": "5805b3ce-8ffd-414d-afe4-be1057cb368b"
   },
   "outputs": [],
   "source": [
    "pip install -U -q datasets"
   ]
  },
  {
   "cell_type": "code",
   "execution_count": null,
   "metadata": {
    "id": "eOMGFZGQ7dQL",
    "outputId": "3eeadd95-b024-40dd-9d40-e10dce3ba0fe"
   },
   "outputs": [],
   "source": [
    "pip install -U -q scipy"
   ]
  },
  {
   "cell_type": "code",
   "execution_count": null,
   "metadata": {
    "id": "jqgxxwzM7dQL",
    "outputId": "fffb837e-b301-4635-dcbf-fed282197999"
   },
   "outputs": [],
   "source": [
    "pip install -U -q ipywidgets"
   ]
  },
  {
   "cell_type": "code",
   "execution_count": null,
   "metadata": {
    "id": "_f_9AX5y7dQL",
    "outputId": "f4d39098-792b-4822-e34f-a1ff7dade86c"
   },
   "outputs": [],
   "source": [
    "pip install -U -q matplotlib"
   ]
  },
  {
   "cell_type": "code",
   "execution_count": null,
   "metadata": {
    "id": "qoLZMTHt7dQL",
    "outputId": "3751e817-66c0-436c-dbea-56a602381739"
   },
   "outputs": [],
   "source": [
    "pip install -q newsapi-python"
   ]
  },
  {
   "cell_type": "markdown",
   "metadata": {
    "id": "6aK001mp7dQL"
   },
   "source": [
    "# Load Disease Table"
   ]
  },
  {
   "cell_type": "code",
   "execution_count": null,
   "metadata": {
    "id": "k1txvCVt7dQL"
   },
   "outputs": [],
   "source": [
    "import json\n",
    "with open('diseases.json', 'r') as f:\n",
    "    # Load the JSON data from the file\n",
    "    disease_table = json.load(f)"
   ]
  },
  {
   "cell_type": "markdown",
   "metadata": {
    "id": "2Zj6vSxI7dQM"
   },
   "source": [
    "# Query API"
   ]
  },
  {
   "cell_type": "code",
   "execution_count": null,
   "metadata": {
    "id": "phbSdR1G7dQM"
   },
   "outputs": [],
   "source": [
    "import requests\n",
    "filter_key = ['whooping', 'Fever', 'mpox', 'coli']\n",
    "url = f\"https://newsapi.org/v2/top-headlines?country=us&category=health&pageSize=100&apiKey=38a5c18e23b04ed387b8c60f83bf0b37\"\n",
    "response = requests.get(url)\n",
    "if response.status_code == 200:\n",
    "    articles = response.json().get(\"articles\", [])\n",
    "    #print(articles)\n",
    "else:\n",
    "    print(f\"Error: {response.status_code}, {response.text}\")\n",
    "\n",
    "for id in filter_key:\n",
    "    url = f\"https://newsapi.org/v2/everything?q={id}&language=en&apiKey=38a5c18e23b04ed387b8c60f83bf0b37\"\n",
    "    response = requests.get(url)\n",
    "    if response.status_code == 200:\n",
    "        articles.extend(response.json().get(\"articles\", []))\n",
    "        #print(response.json().get(\"articles\"))\n",
    "    else:\n",
    "        print(f\"Error: {response.status_code}, {response.text}\")"
   ]
  },
  {
   "cell_type": "markdown",
   "metadata": {
    "id": "ZHNsST1T7dQM"
   },
   "source": [
    "# NER for disease/location keywords"
   ]
  },
  {
   "cell_type": "code",
   "execution_count": null,
   "metadata": {
    "colab": {
     "base_uri": "https://localhost:8080/"
    },
    "id": "ejgqyLKB7dQM",
    "outputId": "672e60f0-ed04-4f29-ceb2-bf6d979cbaca"
   },
   "outputs": [],
   "source": [
    "from transformers import AutoTokenizer, AutoModelForTokenClassification\n",
    "from transformers import pipeline\n",
    "\n",
    "tokenizer = AutoTokenizer.from_pretrained(\"dslim/bert-base-NER\")\n",
    "model = AutoModelForTokenClassification.from_pretrained(\"dslim/bert-base-NER\")\n",
    "\n",
    "loc_ner = pipeline(\"ner\", model=model, tokenizer=tokenizer)\n",
    "med_ner = pipeline(\"token-classification\", model=\"blaze999/Medical-NER\")\n",
    "example = \"Long COVID can strike anyone, rich or poor, but a growing body of evidence suggests poor and middle income Americans like Rick Henline suffer most.\"\n",
    "loc_results = loc_ner(example)\n",
    "med_results = med_ner(example)\n",
    "print(loc_results)\n",
    "print(med_results)"
   ]
  },
  {
   "cell_type": "code",
   "execution_count": null,
   "metadata": {
    "colab": {
     "base_uri": "https://localhost:8080/"
    },
    "id": "8BECY0rz7dQM",
    "outputId": "e1f3ae6a-8f00-4634-dd12-a2ea8de8fc02"
   },
   "outputs": [],
   "source": [
    "# Function to reconstruct entities\n",
    "import re\n",
    "def extract_target_entity(entities):\n",
    "    target_words = []\n",
    "    start_flag = True\n",
    "    disease =\"\"\n",
    "    for entity in entities:\n",
    "        if entity['score'] < 0.1:\n",
    "            continue\n",
    "        # Check if entity type matches the target type\n",
    "        if entity['entity']=='B-DISEASE_DISORDER':\n",
    "            if disease != \"\":\n",
    "                target_words.append(disease)\n",
    "            disease = entity['word'].lstrip('▁')\n",
    "        elif entity['entity']=='I-DISEASE_DISORDER':\n",
    "            if re.search(\"\\▁\", entity['word']):\n",
    "                #print(f\"found __{entity['word']}\")\n",
    "                disease = disease + \" \" + entity['word'].lstrip('▁')\n",
    "            else:\n",
    "                #print(f\"not found __{entity['word']}\")\n",
    "                disease = disease + entity['word'].lstrip('▁')\n",
    "        elif entity['entity'] =='B-DIAGNOSTIC_PROCEDURE':\n",
    "            disease = entity['word'].lstrip('▁')\n",
    "        elif entity['entity'] == 'I-DIAGNOSTIC_PROCEDURE':\n",
    "            if re.search(\"\\▁\", entity['word']):\n",
    "                #print(f\"found __{entity['word']}\")\n",
    "                disease = disease + \" \" + entity['word'].lstrip('▁')\n",
    "            else:\n",
    "                #print(f\"not found __{entity['word']}\")\n",
    "                disease = disease + entity['word'].lstrip('▁')\n",
    "        else:\n",
    "            start_flag = False\n",
    "            if disease != \"\":\n",
    "                target_words.append(disease)\n",
    "            disease = \"\"\n",
    "    if disease!=\"\":\n",
    "        target_words.append(disease)\n",
    "\n",
    "    # Combine captured words into a single string\n",
    "    return target_words\n",
    "\n",
    "# Extract target entity\n",
    "diseases = extract_target_entity(med_results)\n",
    "print(diseases)"
   ]
  },
  {
   "cell_type": "code",
   "execution_count": null,
   "metadata": {
    "id": "wJXizVKQ7dQM"
   },
   "outputs": [],
   "source": [
    "def lookup_disease_symptoms(disease, disease_table):\n",
    "    found_flag = False\n",
    "    for disease_name in disease_table.keys():\n",
    "        # Use regex to split by parentheses\n",
    "        #names = re.split(r'\\s*\\(|\\)\\s*', disease_name)\n",
    "        names = [name.strip() for name in re.split(r'\\s*\\(|\\)\\s*', disease_name) if name.strip()]\n",
    "\n",
    "        # Remove empty strings from the result\n",
    "        sub_names = [sub_name for sub_name in names if sub_name]\n",
    "        #print(sub_names)\n",
    "        if any(key.lower() in disease.lower() for key in sub_names):\n",
    "            found_flag = True\n",
    "            break\n",
    "    if not found_flag:\n",
    "        return None\n",
    "    return disease_name\n",
    "name = lookup_disease_symptoms(diseases[0], disease_table)"
   ]
  },
  {
   "cell_type": "code",
   "execution_count": null,
   "metadata": {
    "colab": {
     "base_uri": "https://localhost:8080/",
     "height": 52
    },
    "id": "O5-oXni_7dQN",
    "outputId": "6a99e85f-686d-433a-cf82-30f5604812c6"
   },
   "outputs": [],
   "source": [
    "from IPython.display import display, HTML\n",
    "def get_entities(location_words, diseases):\n",
    "    entities = []\n",
    "    loc_dict = {\"Location\": \"US\", \"color\": \"lightgreen\"}\n",
    "    disease_dict = {\"Disease\": \"\", \"color\": \"lightblue\"}\n",
    "    for disease in diseases:\n",
    "\n",
    "        # Find disease keywords\n",
    "\n",
    "        name = lookup_disease_symptoms(disease, disease_table)\n",
    "        if lookup_disease_symptoms(disease, disease_table) is None:\n",
    "            continue\n",
    "        else:\n",
    "            disease_dict[\"Symptom\"] = disease_table[name]\n",
    "            disease_dict[\"Name\"] = name\n",
    "        #if not any(disease.lower() in key.lower() for key in disease_table.keys()):\n",
    "        #    continue\n",
    "        disease_dict[\"Disease\"] = disease\n",
    "        entities.append(disease_dict)\n",
    "        # Default location to US\n",
    "        if len(location_words) == 0:\n",
    "            entities.append(loc_dict)\n",
    "        for location in location_words:\n",
    "            loc_dict[\"Location\"] = location\n",
    "            entities.append(loc_dict)\n",
    "    #print(f\"[ENTITIES]:{entities}\")\n",
    "    return entities\n",
    "\n",
    "# Function to highlight entities\n",
    "def highlight_entities(text, entities):\n",
    "    for entity in entities:\n",
    "        if 'Disease' in entity:\n",
    "            word = entity['Disease']\n",
    "        else:\n",
    "            word = entity['Location']\n",
    "        color = entity['color']\n",
    "        # Wrap word with a span tag with background color\n",
    "        text = text.replace(\n",
    "            word,\n",
    "            f\"<span style='background-color: {color}; padding: 2px;'>{word}</span>\"\n",
    "        )\n",
    "    # Display the highlighted text in JupyterLab\n",
    "    display(HTML(text))\n",
    "location_words = [entity['word'] for entity in loc_results if entity['entity'] == 'B-LOC']\n",
    "entities = get_entities(location_words, diseases)\n",
    "highlight_entities(example, entities)"
   ]
  },
  {
   "cell_type": "code",
   "execution_count": null,
   "metadata": {
    "colab": {
     "base_uri": "https://localhost:8080/",
     "height": 1000
    },
    "id": "YM8AvvVf7dQN",
    "outputId": "d3ddd48e-388e-4099-9db6-ac8aa03ae722"
   },
   "outputs": [],
   "source": [
    "headlines_lst = []\n",
    "descriptions_lst = []\n",
    "diseases_lst = []\n",
    "entities_lst = []\n",
    "for a in articles:\n",
    "    ### parsing from title\n",
    "    if (a['title'] == \"[Removed]\") | (a['title'] is None):\n",
    "        continue\n",
    "    loc_results = loc_ner(a['title'])\n",
    "    med_results = med_ner(a['title'])\n",
    "    diseases=extract_target_entity(med_results)\n",
    "    location_words = [entity['word'] for entity in loc_results if entity['entity'] == 'B-LOC']\n",
    "    entities = get_entities(location_words, diseases)\n",
    "    if len(entities) == 0:\n",
    "        continue\n",
    "    #print(\"#######\")\n",
    "    entities[0]['title'] = a['title']\n",
    "    entities[0]['PublishAt'] = a['publishedAt']\n",
    "    entities[0]['url'] = a['url']\n",
    "    #print(entities)\n",
    "    #print(\"[PublishAt]:\")\n",
    "    #print(a['publishedAt'])\n",
    "    #print(f\"[TITLE]:\")\n",
    "    highlight_entities(a['title'], entities)\n",
    "    entities_lst.append(entities)\n",
    "    ### parsing from description\n",
    "    if (a['description'] == \"[Removed]\") | (a['description'] is None):\n",
    "        continue\n",
    "    loc_results = loc_ner(a['description'])\n",
    "    med_results = med_ner(a['description'])\n",
    "    diseases=extract_target_entity(med_results)\n",
    "    location_words = [entity['word'] for entity in loc_results if entity['entity'] == 'B-LOC']\n",
    "    entities = get_entities(location_words, diseases)\n",
    "    if len(entities) == 0:\n",
    "        continue\n",
    "    #print(entities)\n",
    "    #print(f\"[DESCRIPTION]:\")\n",
    "    highlight_entities(a['description'], entities)\n",
    "    #print(\"[URL]:\")\n",
    "    #print(a['url'])\n",
    "    entities_lst.append(entities)\n",
    "    headlines_lst.append(a[\"title\"])\n",
    "    descriptions_lst.append(a[\"description\"])\n",
    "    diseases_lst.append(entities[0][\"Disease\"])"
   ]
  },
  {
   "cell_type": "markdown",
   "metadata": {
    "id": "Fwp3xJYfLoea"
   },
   "source": [
    "# Dataset evaluation\n",
    "## Headlines"
   ]
  },
  {
   "cell_type": "code",
   "execution_count": null,
   "metadata": {
    "id": "2U4QfVHD7dQN"
   },
   "outputs": [],
   "source": [
    "from datasets import Dataset\n",
    "import numpy as np\n",
    "\n",
    "n_datapoints = len(descriptions_lst)\n",
    "\n",
    "instructions_lst_np = np.array([\"You are a doctor trying to determine what disease outbreak may be occuring based on a news headline. You will be given a headline, and you have to say your prediction of what the disease is\" for _ in range(n_datapoints)])\n",
    "descriptions_lst_np = np.array(headlines_lst)\n",
    "diseases_lst_np = np.array(diseases_lst)\n",
    "\n",
    "permutator = np.random.permutation(n_datapoints)\n",
    "\n",
    "shuffled_instructions = instructions_lst_np[permutator]\n",
    "shuffled_descriptions = descriptions_lst_np[permutator]\n",
    "shuffled_diseases = diseases_lst_np[permutator]\n",
    "\n",
    "train_instructions = shuffled_instructions[:int(n_datapoints * 0.8)]\n",
    "train_descriptions = shuffled_descriptions[:int(n_datapoints * 0.8)]\n",
    "train_diseases = shuffled_diseases[:int(n_datapoints * 0.8)]\n",
    "\n",
    "eval_instructions = shuffled_instructions[int(n_datapoints * 0.8):]\n",
    "eval_descriptions = shuffled_descriptions[int(n_datapoints * 0.8):]\n",
    "eval_diseases = shuffled_diseases[int(n_datapoints * 0.8):]\n",
    "\n",
    "train_dataset_dict = {\n",
    "    \"instruction\": train_instructions,\n",
    "    \"input\": train_descriptions,\n",
    "    \"output\": train_diseases\n",
    "}\n",
    "eval_dataset_dict = {\n",
    "    \"instruction\": eval_instructions,\n",
    "    \"input\": eval_descriptions,\n",
    "    \"output\": eval_diseases\n",
    "}\n",
    "\n",
    "train_headline_dataset = Dataset.from_dict(train_dataset_dict)\n",
    "eval_headline_dataset = Dataset.from_dict(eval_dataset_dict)"
   ]
  },
  {
   "cell_type": "markdown",
   "metadata": {
    "id": "spcTmA6D7dQN"
   },
   "source": [
    "# show the current diseases on headlines"
   ]
  },
  {
   "cell_type": "code",
   "execution_count": null,
   "metadata": {
    "colab": {
     "base_uri": "https://localhost:8080/",
     "height": 410
    },
    "id": "4LCmO2lN7dQN",
    "outputId": "00e3eb53-55bf-45cf-e8a1-a8d18734f308"
   },
   "outputs": [],
   "source": [
    "import numpy as np\n",
    "from sklearn.feature_extraction.text import TfidfVectorizer\n",
    "from sklearn.decomposition import PCA\n",
    "import matplotlib.pyplot as plt\n",
    "\n",
    "data=entities_lst\n",
    "#new_symptom = 'running nose, fever and cough'\n",
    "diseases_lst = [entry[0]['Name'] for entry in data]\n",
    "diseases_lst = np.unique(diseases_lst)\n",
    "symptoms_lst = [disease_table[disease] for disease in diseases_lst[:10]]\n",
    "#symptoms_lst = np.append(symptoms_lst, new_symptom)\n",
    "\n",
    "vectorizer = TfidfVectorizer()\n",
    "tfidf_matrix = vectorizer.fit_transform(symptoms_lst)\n",
    "\n",
    "pca_transformer = PCA(n_components=2)\n",
    "reduced_coords = pca_transformer.fit_transform(tfidf_matrix.toarray())\n",
    "\n",
    "plt.figure(figsize=(4, 4))\n",
    "for i, disease in enumerate(diseases_lst[:10]):\n",
    "    plt.scatter(reduced_coords[i, 0], reduced_coords[i, 1], label=disease, alpha=0.7)\n",
    "#new_symptom_coords = reduced_coords[-1]  # Get the last coordinate for the new symptom\n",
    "#plt.scatter(new_symptom_coords[0], new_symptom_coords[1], color='red', label=new_symptom, alpha=0.7)\n",
    "\n",
    "plt.legend(\n",
    "    loc='center left',\n",
    "    bbox_to_anchor=(1, 0.5),  # Anchor legend box outside the plot\n",
    "    title=\"Diseases\",\n",
    "    fontsize=9,\n",
    "    title_fontsize=10\n",
    ")\n",
    "\n",
    "plt.title(\"Cosine Similarity of Diseases based on Symptoms\")\n",
    "plt.xlabel(\"PCA Component 1\")\n",
    "plt.ylabel(\"PCA Component 2\")\n",
    "plt.grid(True)\n",
    "plt.show()"
   ]
  },
  {
   "cell_type": "markdown",
   "metadata": {
    "id": "cBxxLvyN7dQW"
   },
   "source": [
    "# Find closest diseases on the headlines"
   ]
  },
  {
   "cell_type": "code",
   "execution_count": null,
   "metadata": {
    "id": "RQnKdpdU7dQW"
   },
   "outputs": [],
   "source": [
    "from sklearn.metrics.pairwise import cosine_similarity\n",
    "def find_similiar_disease(query):\n",
    "\n",
    "    new_symptom_vector = vectorizer.transform([query])  # Transform new symptom\n",
    "\n",
    "    # Calculate cosine similarities\n",
    "    similarities = cosine_similarity(new_symptom_vector, tfidf_matrix).flatten()\n",
    "\n",
    "    # Find the closest disease\n",
    "    closest_disease_index = similarities.argmax()\n",
    "    \n",
    "    if max(similarities) < 0.5:\n",
    "        return None\n",
    "    closest_disease = diseases_lst[closest_disease_index]\n",
    "\n",
    "    # Find the URL\n",
    "    url = None\n",
    "    title = None\n",
    "    publish_time = None\n",
    "    for entry in entities_lst:\n",
    "        if entry[0].get('Name') == closest_disease:\n",
    "            title = entry[0].get('title')\n",
    "            publish_time = entry[0].get('PublishAt')\n",
    "            url = entry[0].get('url')\n",
    "            break\n",
    "    reference_text = f\"\\n\\nYou are likely to have {closest_disease}.\\nFrom recent news: {title}, published at: {publish_time}\\nMore information: {url}\"\n",
    "\n",
    "    # Print results\n",
    "    #print(\"Cosine Similarities:\", dict(zip(diseases_lst, similarities)))\n",
    "    return reference_text\n"
   ]
  },
  {
   "cell_type": "markdown",
   "metadata": {
    "id": "nBKXlG9SMYpN"
   },
   "source": [
    "## Integrated conversations from Icliniq"
   ]
  },
  {
   "cell_type": "code",
   "execution_count": null,
   "metadata": {
    "colab": {
     "base_uri": "https://localhost:8080/"
    },
    "id": "b8V68U36BD9n",
    "outputId": "9c425634-e82a-47c7-f576-14290e86b0d0"
   },
   "outputs": [],
   "source": [
    "n_datapoints = 100\n",
    "# Read the JSON file\n",
    "with open('iCliniq.json', 'r') as file:\n",
    "    icliniq = json.load(file)\n",
    "icliniq_input = []\n",
    "icliniq_output = []\n",
    "# Access the `input` key from each dictionary\n",
    "for entry in icliniq[:n_datapoints]:\n",
    "    icliniq_input.append(entry['input'])\n",
    "    res = find_similiar_disease(entry['input'])\n",
    "    if res is not None:\n",
    "        res = entry['answer_icliniq']+res\n",
    "    else:\n",
    "        res = entry['answer_icliniq']\n",
    "    icliniq_output.append(res)\n",
    "icliniq_instructions_lst_np = np.array([\"If you are a doctor, please answer the medical questions based on the patient's description.\" for _ in range(n_datapoints)])\n",
    "icliniq_descriptions_lst_np = np.array(icliniq_input)\n",
    "icliniq_diseases_lst_np = np.array(icliniq_output)\n",
    "\n",
    "icliniq_eval_dataset_dict = {\n",
    "    \"instruction\": icliniq_instructions_lst_np,\n",
    "    \"input\": icliniq_descriptions_lst_np,\n",
    "    \"output\": icliniq_diseases_lst_np\n",
    "}\n",
    "\n",
    "#train_icliniq_dataset = Dataset.from_dict(icliniq_train_dataset_dict)\n",
    "eval_icliniq_dataset = Dataset.from_dict(icliniq_eval_dataset_dict)"
   ]
  },
  {
   "cell_type": "markdown",
   "metadata": {
    "id": "g5ubQtdV7dQO"
   },
   "source": [
    "# Intergration with ChatDoctor"
   ]
  },
  {
   "cell_type": "code",
   "execution_count": null,
   "metadata": {
    "id": "0q5qLOdLsuPd"
   },
   "outputs": [],
   "source": [
    "import torch\n",
    "torch.cuda.empty_cache()\n",
    "device = torch.device('cuda' if torch.cuda.is_available() else 'cpu')"
   ]
  },
  {
   "cell_type": "code",
   "execution_count": null,
   "metadata": {
    "id": "Lmv6CV2T7dQO"
   },
   "outputs": [],
   "source": [
    "from datasets import load_dataset, load_from_disk\n",
    "\n",
    "dataset = load_from_disk(\"patients_query_sampled/\")\n",
    "\n",
    "train_conversation_dataset = dataset['train']\n",
    "eval_conversation_dataset = dataset['test']"
   ]
  },
  {
   "cell_type": "markdown",
   "metadata": {
    "id": "shz8Xdv-yRgf"
   },
   "source": [
    "### 2. Load Base Model"
   ]
  },
  {
   "cell_type": "markdown",
   "metadata": {
    "id": "MJ-5idQwzvg-"
   },
   "source": [
    "Let's now load Mistral - mistralai/Mistral-7B-v0.1 - using 4-bit quantization!"
   ]
  },
  {
   "cell_type": "code",
   "execution_count": null,
   "metadata": {
    "colab": {
     "referenced_widgets": [
      "45524c98039a46d5b7745ad7cb638d2f",
      "157048e8b2f64d9da2ac16b3dc06eb09",
      "c0200d2d175e42b9be28e79f0a164e34"
     ]
    },
    "id": "E0Nl5mWL0k2T",
    "outputId": "47b6b01d-e9f2-4b70-919c-17ae64993843",
    "scrolled": true
   },
   "outputs": [],
   "source": [
    "import torch\n",
    "from transformers import AutoTokenizer, AutoModelForCausalLM, BitsAndBytesConfig\n",
    "\n",
    "base_model_id = \"mistralai/Mistral-7B-v0.1\"\n",
    "bnb_config = BitsAndBytesConfig(\n",
    "    load_in_4bit=True,\n",
    "    bnb_4bit_use_double_quant=True,\n",
    "    bnb_4bit_quant_type=\"nf4\",\n",
    "    bnb_4bit_compute_dtype=torch.bfloat16\n",
    ")\n",
    "\n",
    "model = AutoModelForCausalLM.from_pretrained(base_model_id, quantization_config=bnb_config, resume_download=True)"
   ]
  },
  {
   "cell_type": "markdown",
   "metadata": {
    "id": "UjNdXolqyRgf"
   },
   "source": [
    "### 3. Tokenization\n",
    "\n",
    "Set up the tokenizer. Add padding on the left as it [makes training use less memory](https://ai.stackexchange.com/questions/41485/while-fine-tuning-a-decoder-only-llm-like-llama-on-chat-dataset-what-kind-of-pa).\n",
    "\n",
    "\n",
    "For `model_max_length`, it's helpful to get a distribution of your data lengths. Let's first tokenize without the truncation/padding, so we can get a length distribution."
   ]
  },
  {
   "cell_type": "code",
   "execution_count": null,
   "metadata": {
    "id": "haSUDD9HyRgf"
   },
   "outputs": [],
   "source": [
    "tokenizer = AutoTokenizer.from_pretrained(\n",
    "    base_model_id,\n",
    "    padding_side=\"left\",\n",
    "    add_eos_token=True,\n",
    "    add_bos_token=True,\n",
    ")\n",
    "tokenizer.pad_token = tokenizer.eos_token"
   ]
  },
  {
   "cell_type": "code",
   "execution_count": null,
   "metadata": {
    "id": "pAXGc9aD7dQP"
   },
   "outputs": [],
   "source": [
    "#Functions to format prompts\n",
    "\n",
    "def headline_formatting_func(example):\n",
    "    text = f\"The following is a headline about a disease outbreak and what that disease is: \\nHeadline: {example['input']} \\nDisease: {example['output']}\"\n",
    "    return text\n",
    "def headline_generate_and_tokenize_prompt(prompt):\n",
    "    return tokenizer(headline_formatting_func(prompt))\n",
    "\n",
    "def conversation_formatting_func(example):\n",
    "    text = f\"The following is a doctor's opinion on a person's query: \\nPatient query: {example['input']} \\nDoctor opinion: {example['output']}\"\n",
    "    return text\n",
    "def conversation_generate_and_tokenize_prompt(prompt):\n",
    "    return tokenizer(conversation_formatting_func(prompt))\n",
    "\n",
    "def integrate_formatting_func(example):\n",
    "    text = f\"The following is doctor's suggestions with search of alert outbreak in the region: \\nPatient query: {example['input']} \\nDoctor opinion: {example['output']}\"\n",
    "    return text\n",
    "def integrate_generate_and_tokenize_prompt(prompt):\n",
    "    return tokenizer(integrate_formatting_func(prompt))"
   ]
  },
  {
   "cell_type": "markdown",
   "metadata": {
    "id": "WHnKLcq4yRgg"
   },
   "source": [
    "Reformat the prompt and tokenize each sample:"
   ]
  },
  {
   "cell_type": "code",
   "execution_count": null,
   "metadata": {
    "colab": {
     "base_uri": "https://localhost:8080/",
     "height": 214,
     "referenced_widgets": [
      "b724831dacda4cd69b42b24b2b7870ff",
      "ceae18128c1242cd8089289704d80d5e",
      "7995150321154be4a1f656983a412d32",
      "5d2bd5645cde4c6f99768d48b16fe910",
      "16e608e97d8946ef9ab2f1d400430c9f",
      "cfdcbf422def4b0788773d6421b2bd36",
      "47d2d35f66014c35b6cbbdba04a460f8",
      "e83663901ccc48abb5bfe52158c9efd3",
      "01f4d5d9049940b5974a18c62afc2a29",
      "eb1af5d4eea34857932209907dd2eacb",
      "b7b931de766c440e877fa53a4719326f",
      "73e69bbf161d4104b609adff5b403874",
      "2bd40ef67b4c494aaa84143096f3d837",
      "61e6b57a451c4b13939285372c08f96e",
      "033b204f2c524b57816c37680764c738",
      "da13222ff54c4cb283a80a1159778538",
      "cc6d8caee4e94650b97e4e96de6e5496",
      "ef872889878c48d28d6bb8e5c230996f",
      "311988ff72794da596c2e9bcb42d5e33",
      "1171f256425f4695b702fbad2d7ca11b",
      "a782047417534298a9ea2f077f0d2578",
      "83d77bba2ca64368946b0139565381f7",
      "1c41af4b0e89476193220ce0e2ebc7a3",
      "55af32add77f4c70aefa4bae1cd5483d",
      "226ad985c5a84a599f999bca6a67bc7a",
      "2b732eeac86d495883bc58ce86362f9b",
      "2fbd5daebb334741b5c6991ba66213d9",
      "da2353da0e32451bbf164c397423191d",
      "12e26fca54674eacba6c970f02f7267a",
      "cf8c11a880cb46e4b3ac1276e0c6c82f",
      "1e64974714a04b8a8c2f2988256e18b8",
      "878a40f4b8754eca983ac9b7973c4b7b",
      "9a1761c414cc4c42bbf1dccbaf5872e0",
      "348617f99aca42f4b466699d46a71bae",
      "16c83b4f445f4954a1ca1e7f622cb44a",
      "75cc310d17704a45a38eb3703c15f8d8",
      "19f3fd15c25e4c47853e432cac7315c3",
      "4af81b06836840db822a47b741bffc6a",
      "1b6e6bab709045ceb80a9b599eb17a49",
      "2804155f9e954e66babd7b25121ba0df",
      "6de88fc8b6d64e4cac4976892c3ae490",
      "33ba5833ab1c4dbc9889e31154bcdce3",
      "ac201a325feb436991953cba23fc09c8",
      "f4eac588a3084aed80aadd46dc5e2878",
      "c4e153ebddb14b29932bb338580bc260",
      "3a07ecc4762a4a49ba31f2879f83841e",
      "504be8c19cfb47d7aca7a4011c745fd6",
      "f6a266e906a543528b154f0a967d2ba5",
      "6affa522e4ac49bf9c19323995e10879",
      "f823321c40eb4c74bee53f3f19ab933b",
      "140cd406e25f48489e794e53a365cd5f",
      "515aae790f7c4a2d9e7ab75c63c02fa7",
      "4d2d68373b304f4eac33a7e037c8896b",
      "23cd6500405244e1b17dd052ee4d1260",
      "bfee9fdb617f4a8f8e326ef110d5414e"
     ]
    },
    "id": "BVzJHlir7dQS",
    "outputId": "af9c9247-b130-4298-dc6f-00be1b1412c7"
   },
   "outputs": [],
   "source": [
    "tokenized_train_headline_dataset = train_headline_dataset.map(headline_generate_and_tokenize_prompt)\n",
    "tokenized_eval_headline_dataset = eval_headline_dataset.map(headline_generate_and_tokenize_prompt)\n",
    "\n",
    "tokenized_train_conversation_dataset = train_conversation_dataset.map(conversation_generate_and_tokenize_prompt)\n",
    "tokenized_val_conversation_dataset = eval_conversation_dataset.map(conversation_generate_and_tokenize_prompt)\n",
    "\n",
    "#tokenized_train_icliniq_dataset = train_icliniq_dataset.map(integrate_generate_and_tokenize_prompt)\n",
    "tokenized_val_icliniq_dataset = eval_icliniq_dataset.map(integrate_generate_and_tokenize_prompt)"
   ]
  },
  {
   "cell_type": "code",
   "execution_count": null,
   "metadata": {
    "id": "S3iLAwLh3m19"
   },
   "outputs": [],
   "source": [
    "from datasets import concatenate_datasets\n",
    "\n",
    "#Combine conversation and headline datasets\n",
    "n_headline_train_datapoints = len(tokenized_train_headline_dataset)\n",
    "n_conversation_train_datapoints = len(tokenized_train_conversation_dataset)\n",
    "\n",
    "tokenized_train_overall_dataset = concatenate_datasets([tokenized_train_headline_dataset for _ in range(max(1, n_conversation_train_datapoints // n_headline_train_datapoints))] + [tokenized_train_conversation_dataset])\n",
    "tokenized_val_overall_dataset = concatenate_datasets([tokenized_eval_headline_dataset for _ in range(max(1, n_conversation_train_datapoints // n_headline_train_datapoints))] + [tokenized_val_conversation_dataset])"
   ]
  },
  {
   "cell_type": "markdown",
   "metadata": {
    "id": "AapDoyfAyRgi"
   },
   "source": [
    "### 4. Set Up LoRA"
   ]
  },
  {
   "cell_type": "markdown",
   "metadata": {
    "id": "Mp2gMi1ZzGET"
   },
   "source": [
    "Now, to start our fine-tuning, we have to apply some preprocessing to the model to prepare it for training. For that use the `prepare_model_for_kbit_training` method from PEFT."
   ]
  },
  {
   "cell_type": "code",
   "execution_count": null,
   "metadata": {
    "id": "a9EUEDAl0ss3"
   },
   "outputs": [],
   "source": [
    "from peft import prepare_model_for_kbit_training\n",
    "\n",
    "model.gradient_checkpointing_enable()\n",
    "model = prepare_model_for_kbit_training(model)"
   ]
  },
  {
   "cell_type": "code",
   "execution_count": null,
   "metadata": {
    "id": "gkIcwsSU01EB"
   },
   "outputs": [],
   "source": [
    "def print_trainable_parameters(model):\n",
    "    \"\"\"\n",
    "    Prints the number of trainable parameters in the model.\n",
    "    \"\"\"\n",
    "    trainable_params = 0\n",
    "    all_param = 0\n",
    "    for _, param in model.named_parameters():\n",
    "        all_param += param.numel()\n",
    "        if param.requires_grad:\n",
    "            trainable_params += param.numel()\n",
    "    print(\n",
    "        f\"trainable params: {trainable_params} || all params: {all_param} || trainable%: {100 * trainable_params / all_param}\"\n",
    "    )"
   ]
  },
  {
   "cell_type": "markdown",
   "metadata": {
    "id": "cUYEpEK-yRgj"
   },
   "source": [
    "Let's print the model to examine its layers, as we will apply QLoRA to all the linear layers of the model. Those layers are `q_proj`, `k_proj`, `v_proj`, `o_proj`, `gate_proj`, `up_proj`, `down_proj`, and `lm_head`."
   ]
  },
  {
   "cell_type": "markdown",
   "metadata": {
    "id": "I6mTLuQJyRgj"
   },
   "source": [
    "Here we define the LoRA config.\n",
    "\n",
    "`r` is the rank of the low-rank matrix used in the adapters, which thus controls the number of parameters trained. A higher rank will allow for more expressivity, but there is a compute tradeoff.\n",
    "\n",
    "`alpha` is the scaling factor for the learned weights. The weight matrix is scaled by `alpha/r`, and thus a higher value for `alpha` assigns more weight to the LoRA activations.\n",
    "\n",
    "The values used in the QLoRA paper were `r=64` and `lora_alpha=16`, and these are said to generalize well, but we will use `r=32` and `lora_alpha=64` so that we have more emphasis on the new fine-tuned data while also reducing computational complexity."
   ]
  },
  {
   "cell_type": "code",
   "execution_count": null,
   "metadata": {
    "id": "Ybeyl20n3dYH",
    "outputId": "6a16c182-04d9-4812-ae81-502a8fe364d0"
   },
   "outputs": [],
   "source": [
    "from peft import LoraConfig, get_peft_model\n",
    "\n",
    "config = LoraConfig(\n",
    "    r=32,\n",
    "    lora_alpha=64,\n",
    "    target_modules=[\n",
    "        \"q_proj\",\n",
    "        \"k_proj\",\n",
    "        \"v_proj\",\n",
    "        \"o_proj\",\n",
    "        \"gate_proj\",\n",
    "        \"up_proj\",\n",
    "        \"down_proj\",\n",
    "        \"lm_head\",\n",
    "    ],\n",
    "    bias=\"none\",\n",
    "    lora_dropout=0.05,  # Conventional\n",
    "    task_type=\"CAUSAL_LM\",\n",
    ")\n",
    "\n",
    "model = get_peft_model(model, config)\n",
    "print_trainable_parameters(model)"
   ]
  },
  {
   "cell_type": "markdown",
   "metadata": {
    "id": "X_FHi_VLyRgn"
   },
   "source": [
    "See how the model looks different now, with the LoRA adapters added:"
   ]
  },
  {
   "cell_type": "markdown",
   "metadata": {
    "id": "05H5MIfjyRgc"
   },
   "source": [
    "### Accelerator\n",
    "\n",
    "Set up the Accelerator. I'm not sure if we really need this for a QLoRA given its [description](https://huggingface.co/docs/accelerate/v0.19.0/en/usage_guides/fsdp) (I have to read more about it) but it seems it can't hurt, and it's helpful to have the code for future reference. You can always comment out the accelerator if you want to try without."
   ]
  },
  {
   "cell_type": "code",
   "execution_count": null,
   "metadata": {
    "id": "TEzYBadkyRgd",
    "outputId": "c413f72f-8609-4165-e376-30b037c861a3"
   },
   "outputs": [],
   "source": [
    "from accelerate import FullyShardedDataParallelPlugin, Accelerator\n",
    "from torch.distributed.fsdp.fully_sharded_data_parallel import FullOptimStateDictConfig, FullStateDictConfig\n",
    "\n",
    "fsdp_plugin = FullyShardedDataParallelPlugin(\n",
    "    state_dict_config=FullStateDictConfig(offload_to_cpu=True, rank0_only=False),\n",
    "    optim_state_dict_config=FullOptimStateDictConfig(offload_to_cpu=True, rank0_only=False),\n",
    ")\n",
    "\n",
    "accelerator = Accelerator(fsdp_plugin=fsdp_plugin)"
   ]
  },
  {
   "cell_type": "code",
   "execution_count": null,
   "metadata": {
    "id": "yxSbpKQSLY6B"
   },
   "outputs": [],
   "source": [
    "model = accelerator.prepare_model(model).cpu()"
   ]
  },
  {
   "cell_type": "code",
   "execution_count": null,
   "metadata": {
    "id": "65DNQfeY7dQV"
   },
   "outputs": [],
   "source": [
    "#Create multiple versions of the model to finetune on different information\n",
    "import copy\n",
    "\n",
    "overall_model = copy.deepcopy(model).cpu()"
   ]
  },
  {
   "cell_type": "markdown",
   "metadata": {
    "id": "_0MOtwf3zdZp"
   },
   "source": [
    "### 5. Run Training!"
   ]
  },
  {
   "cell_type": "code",
   "execution_count": null,
   "metadata": {
    "id": "jq0nX33BmfaC",
    "outputId": "c4d492ad-99a6-4f10-a378-21984b964eaa"
   },
   "outputs": [],
   "source": [
    "import transformers\n",
    "from datetime import datetime"
   ]
  },
  {
   "cell_type": "code",
   "execution_count": null,
   "metadata": {},
   "outputs": [],
   "source": [
    "#Finetine the model on the overall dataset\n",
    "\n",
    "project = \"overall-finetune-adjusted\"\n",
    "base_model_name = \"mistral\"\n",
    "run_name = base_model_name + \"-\" + project\n",
    "output_dir = \"./\" + run_name\n",
    "\n",
    "overall_model = overall_model.to(device)\n",
    "\n",
    "overall_trainer = transformers.Trainer(\n",
    "    model=overall_model,\n",
    "    train_dataset=tokenized_train_overall_dataset,\n",
    "    eval_dataset=tokenized_val_overall_dataset,\n",
    "    args=transformers.TrainingArguments(\n",
    "        output_dir=output_dir,\n",
    "        warmup_steps=1,\n",
    "        per_device_train_batch_size=4,\n",
    "        gradient_accumulation_steps=1,\n",
    "        gradient_checkpointing=True,\n",
    "        max_steps=500,\n",
    "        learning_rate=2.5e-4, # Want a small lr for finetuning\n",
    "        #bf16=True,\n",
    "        optim=\"paged_adamw_8bit\",\n",
    "        logging_steps=25,              # When to start reporting loss\n",
    "        logging_dir=\"./logs\",        # Directory for storing logs\n",
    "        save_strategy=\"steps\",       # Save the model checkpoint every logging step\n",
    "        save_steps=25,                # Save checkpoints every 50 steps\n",
    "        evaluation_strategy=\"steps\", # Evaluate the model every logging step\n",
    "        eval_steps=25,               # Evaluate and save checkpoints every 50 steps\n",
    "        do_eval=True,                # Perform evaluation at the end of training\n",
    "    ),\n",
    "    data_collator=transformers.DataCollatorForLanguageModeling(tokenizer, mlm=False),\n",
    ")\n",
    "\n",
    "overall_model.config.use_cache = True  # silence the warnings. Please re-enable for inference!\n",
    "overall_trainer.train(resume_from_checkpoint=False)\n",
    "\n",
    "overall_model = overall_model.cpu()"
   ]
  },
  {
   "cell_type": "markdown",
   "metadata": {
    "id": "U2UGNIMMsuP5"
   },
   "source": [
    "### Inference"
   ]
  },
  {
   "cell_type": "code",
   "execution_count": null,
   "metadata": {
    "colab": {
     "referenced_widgets": [
      "fb8230fb86884aa6be318e2d03a88af2",
      "af6fb742de5f44009af0d25c25f8efe7",
      "2366c13e47654557abb1de445f78fee0"
     ]
    },
    "id": "SKSnF016yRgp",
    "outputId": "bce5209d-90da-4117-c6ac-cda9f3cb3422"
   },
   "outputs": [],
   "source": [
    "import torch\n",
    "from transformers import AutoTokenizer, AutoModelForCausalLM, BitsAndBytesConfig\n",
    "\n",
    "base_model_id = \"mistralai/Mistral-7B-v0.1\"\n",
    "bnb_config = BitsAndBytesConfig(\n",
    "    load_in_4bit=True,\n",
    "    bnb_4bit_use_double_quant=True,\n",
    "    bnb_4bit_quant_type=\"nf4\",\n",
    "    bnb_4bit_compute_dtype=torch.bfloat16\n",
    ")\n",
    "\n",
    "base_model = AutoModelForCausalLM.from_pretrained(\n",
    "    base_model_id,  # Mistral, same as before\n",
    "    quantization_config=bnb_config,  # Same quantization config as before\n",
    "    device_map=\"auto\",\n",
    "    trust_remote_code=True,\n",
    "    use_auth_token=True\n",
    ")\n",
    "\n",
    "tokenizer = AutoTokenizer.from_pretrained(base_model_id, add_bos_token=True, trust_remote_code=True)"
   ]
  },
  {
   "cell_type": "markdown",
   "metadata": {
    "id": "_BxOhAiqyRgp"
   },
   "source": [
    "Now load the QLoRA adapter from the appropriate checkpoint directory, i.e. the best performing model checkpoint:"
   ]
  },
  {
   "cell_type": "code",
   "execution_count": null,
   "metadata": {
    "id": "GwsiqhWuyRgp"
   },
   "outputs": [],
   "source": [
    "from peft import PeftModel\n",
    "\n",
    "ft_model = PeftModel.from_pretrained(base_model, \"mistral-chat-doctor-finetune/checkpoint-500/\")"
   ]
  },
  {
   "cell_type": "markdown",
   "metadata": {
    "id": "lX39ibolyRgp"
   },
   "source": [
    "and run your inference!"
   ]
  },
  {
   "cell_type": "code",
   "execution_count": null,
   "metadata": {
    "id": "LuyhlWFqsuP9",
    "outputId": "b24a8dbf-566d-4e1b-b6c2-86a91946d2e0"
   },
   "outputs": [],
   "source": [
    "print(\"Doc chat inference:\")\n",
    "print(\"===================================================================================\")\n",
    "query = \" hi doc, my bmi is 28 what to do?\"\n",
    "eval_prompt = \"\"\"Patient's Query: {} \\n###\\n\\n\"\"\".format(query)\n",
    "model_input = tokenizer(eval_prompt, return_tensors=\"pt\").to(\"cuda\")\n",
    "# ft_model.eval()\n",
    "output = ft_model.generate(input_ids=model_input[\"input_ids\"].to(device),\n",
    "                           attention_mask=model_input[\"attention_mask\"],\n",
    "                           max_new_tokens=100, repetition_penalty=1.17)\n",
    "# with torch.no_grad():\n",
    "\n",
    "print(tokenizer.decode(output[0], skip_special_tokens=True))"
   ]
  },
  {
   "cell_type": "markdown",
   "metadata": {
    "id": "lkRR9fuuZI30"
   },
   "source": [
    "# Chat Doctor Next response"
   ]
  },
  {
   "cell_type": "code",
   "execution_count": null,
   "metadata": {
    "id": "U-FnDUyasuP_"
   },
   "outputs": [],
   "source": [
    "def respond(query):\n",
    "    eval_prompt = \"\"\"Patient's Query:\\n\\n {} ###\\n\\n\"\"\".format(query)\n",
    "    model_input = tokenizer(eval_prompt, return_tensors=\"pt\").to(\"cuda\")\n",
    "    output = ft_model.generate(input_ids=model_input[\"input_ids\"].to(device),\n",
    "                           attention_mask=model_input[\"attention_mask\"],\n",
    "                           max_new_tokens=125, repetition_penalty=1.15)\n",
    "    result = tokenizer.decode(output[0], skip_special_tokens=True).replace(eval_prompt, \"\")\n",
    "    res = find_similiar_disease(query)\n",
    "    print(res)\n",
    "    if res is not None:\n",
    "        result = result + res\n",
    "    return result"
   ]
  },
  {
   "cell_type": "code",
   "execution_count": null,
   "metadata": {
    "id": "UBzrpkBQsuP_",
    "outputId": "b592ff51-00e3-4a59-db8e-bf37280fd78c"
   },
   "outputs": [],
   "source": [
    "import random\n",
    "import gradio as gr\n",
    "\n",
    "def doc(message, history):\n",
    "    return respond(message)\n",
    "\n",
    "demo = gr.ChatInterface(doc)\n",
    "\n",
    "demo.launch(share=True)"
   ]
  },
  {
   "cell_type": "markdown",
   "metadata": {
    "id": "n2p03VsQ7dQX"
   },
   "source": [
    "#Score model"
   ]
  },
  {
   "cell_type": "code",
   "execution_count": null,
   "metadata": {
    "id": "sqPaH84s7dQX"
   },
   "outputs": [],
   "source": [
    "import evaluate"
   ]
  },
  {
   "cell_type": "code",
   "execution_count": null,
   "metadata": {
    "colab": {
     "base_uri": "https://localhost:8080/",
     "height": 176
    },
    "id": "Jftv0UkRsuQA",
    "outputId": "e7777464-8346-4a1e-a64e-376152bf47a1"
   },
   "outputs": [],
   "source": [
    "def evaluate_by_metric(outputs, reference_texts, evaluation_metric):\n",
    "    value = evaluation_metric.compute(predictions=outputs, reference=reference_texts, lang=\"en\")\n",
    "    return value\n",
    "bertscore=evaluate.load(\"bertscore\")"
   ]
  },
  {
   "cell_type": "markdown",
   "metadata": {},
   "source": [
    "### evaluation for integrated model"
   ]
  },
  {
   "cell_type": "code",
   "execution_count": null,
   "metadata": {},
   "outputs": [],
   "source": [
    "overall_model = overall_model.to(device)"
   ]
  },
  {
   "cell_type": "code",
   "execution_count": null,
   "metadata": {
    "id": "mM1cFLkU7dQX",
    "outputId": "5da78b24-d4cf-4fd6-b1ff-00325bde4955"
   },
   "outputs": [],
   "source": [
    "decoded_outputs = []\n",
    "reference_texts = []\n",
    "\n",
    "for i in range(len(tokenized_val_conversation_dataset)):\n",
    "    if (i % 10 == 0):\n",
    "        print(f\"{i}/{len(tokenized_val_conversation_dataset)}\")\n",
    "    current_sample = tokenized_val_conversation_dataset[i]\n",
    "    eval_prompt = torch.tensor(current_sample[\"input_ids\"])[None, :].to(device)\n",
    "    eval_reference = current_sample[\"output\"]\n",
    "    eval_attention = torch.tensor(current_sample[\"attention_mask\"])[None, :].to(device)\n",
    "    output = overall_model.generate(input_ids=eval_prompt,\n",
    "                           attention_mask=eval_attention,\n",
    "                           max_new_tokens=100, repetition_penalty=1.17, pad_token_id=tokenizer.eos_token_id)\n",
    "\n",
    "    decoded_output = tokenizer.decode(output[0], skip_special_tokens=True)\n",
    "    reference_text = current_sample[\"output\"]\n",
    "\n",
    "    decoded_outputs.append(decoded_output)\n",
    "    reference_texts.append(reference_text)\n",
    "\n",
    "scores = bertscore.compute(predictions=decoded_outputs, references=reference_texts, lang=\"en\")\n",
    "print(f\"Overall Model on Conversation Data\")\n",
    "print(f\"Precision: {np.mean(scores['precision'])}\")\n",
    "print(f\"Recall: {np.mean(scores['recall'])}\")\n",
    "print(f\"F1: {np.mean(scores['f1'])}\")\n",
    "\n",
    "cluster_scores = scores\n",
    "cluster_outputs = decoded_outputs\n",
    "cluster_references = reference_texts"
   ]
  },
  {
   "cell_type": "code",
   "execution_count": null,
   "metadata": {
    "id": "MW5ueuP77dQY"
   },
   "outputs": [],
   "source": [
    "all_prompts = []\n",
    "decoded_outputs = []\n",
    "reference_texts = []\n",
    "\n",
    "for i in range(len(tokenized_eval_headline_dataset)):\n",
    "    current_sample = tokenized_eval_headline_dataset[i]\n",
    "    eval_prompt = torch.tensor(current_sample[\"input_ids\"])[None, :].to(device)\n",
    "    eval_reference = current_sample[\"output\"]\n",
    "    eval_attention = torch.tensor(current_sample[\"attention_mask\"])[None, :].to(device)\n",
    "    output = overall_model.generate(input_ids=eval_prompt,\n",
    "                           attention_mask=eval_attention,\n",
    "                           max_new_tokens=100, repetition_penalty=1.17, pad_token_id=tokenizer.eos_token_id)\n",
    "\n",
    "    decoded_output = tokenizer.decode(output[0], skip_special_tokens=True)\n",
    "    reference_text = current_sample[\"output\"]#tokenizer.decode(current_sample[\"labels\"], skip_special_tokens=True)\n",
    "\n",
    "    all_prompts.append(eval_prompt)\n",
    "    decoded_outputs.append(decoded_output)\n",
    "    reference_texts.append(reference_text)\n",
    "\n",
    "scores = bertscore.compute(predictions=decoded_outputs, references=reference_texts, lang=\"en\")\n",
    "print(f\"Overall Model on Headline Data\")\n",
    "print(f\"Precision: {np.mean(scores['precision'])}\")\n",
    "print(f\"Recall: {np.mean(scores['recall'])}\")\n",
    "print(f\"F1: {np.mean(scores['f1'])}\")"
   ]
  },
  {
   "cell_type": "code",
   "execution_count": null,
   "metadata": {},
   "outputs": [],
   "source": [
    "overall_model = overall_model.cpu()"
   ]
  }
 ],
 "metadata": {
  "accelerator": "GPU",
  "colab": {
   "gpuType": "T4",
   "provenance": [],
   "toc_visible": true
  },
  "gpuClass": "standard",
  "kernelspec": {
   "display_name": "CSCI_ML4H",
   "language": "python",
   "name": "csci_ml4h"
  },
  "language_info": {
   "codemirror_mode": {
    "name": "ipython",
    "version": 3
   },
   "file_extension": ".py",
   "mimetype": "text/x-python",
   "name": "python",
   "nbconvert_exporter": "python",
   "pygments_lexer": "ipython3",
   "version": "3.9.18"
  },
  "widgets": {
   "application/vnd.jupyter.widget-state+json": {
    "01f4d5d9049940b5974a18c62afc2a29": {
     "model_module": "@jupyter-widgets/controls",
     "model_module_version": "1.5.0",
     "model_name": "ProgressStyleModel",
     "state": {
      "_model_module": "@jupyter-widgets/controls",
      "_model_module_version": "1.5.0",
      "_model_name": "ProgressStyleModel",
      "_view_count": null,
      "_view_module": "@jupyter-widgets/base",
      "_view_module_version": "1.2.0",
      "_view_name": "StyleView",
      "bar_color": null,
      "description_width": ""
     }
    },
    "033b204f2c524b57816c37680764c738": {
     "model_module": "@jupyter-widgets/controls",
     "model_module_version": "1.5.0",
     "model_name": "HTMLModel",
     "state": {
      "_dom_classes": [],
      "_model_module": "@jupyter-widgets/controls",
      "_model_module_version": "1.5.0",
      "_model_name": "HTMLModel",
      "_view_count": null,
      "_view_module": "@jupyter-widgets/controls",
      "_view_module_version": "1.5.0",
      "_view_name": "HTMLView",
      "description": "",
      "description_tooltip": null,
      "layout": "IPY_MODEL_a782047417534298a9ea2f077f0d2578",
      "placeholder": "​",
      "style": "IPY_MODEL_83d77bba2ca64368946b0139565381f7",
      "value": " 4500/4500 [00:11&lt;00:00, 911.90 examples/s]"
     }
    },
    "1171f256425f4695b702fbad2d7ca11b": {
     "model_module": "@jupyter-widgets/controls",
     "model_module_version": "1.5.0",
     "model_name": "ProgressStyleModel",
     "state": {
      "_model_module": "@jupyter-widgets/controls",
      "_model_module_version": "1.5.0",
      "_model_name": "ProgressStyleModel",
      "_view_count": null,
      "_view_module": "@jupyter-widgets/base",
      "_view_module_version": "1.2.0",
      "_view_name": "StyleView",
      "bar_color": null,
      "description_width": ""
     }
    },
    "12e26fca54674eacba6c970f02f7267a": {
     "model_module": "@jupyter-widgets/controls",
     "model_module_version": "1.5.0",
     "model_name": "DescriptionStyleModel",
     "state": {
      "_model_module": "@jupyter-widgets/controls",
      "_model_module_version": "1.5.0",
      "_model_name": "DescriptionStyleModel",
      "_view_count": null,
      "_view_module": "@jupyter-widgets/base",
      "_view_module_version": "1.2.0",
      "_view_name": "StyleView",
      "description_width": ""
     }
    },
    "140cd406e25f48489e794e53a365cd5f": {
     "model_module": "@jupyter-widgets/controls",
     "model_module_version": "1.5.0",
     "model_name": "DescriptionStyleModel",
     "state": {
      "_model_module": "@jupyter-widgets/controls",
      "_model_module_version": "1.5.0",
      "_model_name": "DescriptionStyleModel",
      "_view_count": null,
      "_view_module": "@jupyter-widgets/base",
      "_view_module_version": "1.2.0",
      "_view_name": "StyleView",
      "description_width": ""
     }
    },
    "16c83b4f445f4954a1ca1e7f622cb44a": {
     "model_module": "@jupyter-widgets/controls",
     "model_module_version": "1.5.0",
     "model_name": "HTMLModel",
     "state": {
      "_dom_classes": [],
      "_model_module": "@jupyter-widgets/controls",
      "_model_module_version": "1.5.0",
      "_model_name": "HTMLModel",
      "_view_count": null,
      "_view_module": "@jupyter-widgets/controls",
      "_view_module_version": "1.5.0",
      "_view_name": "HTMLView",
      "description": "",
      "description_tooltip": null,
      "layout": "IPY_MODEL_1b6e6bab709045ceb80a9b599eb17a49",
      "placeholder": "​",
      "style": "IPY_MODEL_2804155f9e954e66babd7b25121ba0df",
      "value": "Map: 100%"
     }
    },
    "16e608e97d8946ef9ab2f1d400430c9f": {
     "model_module": "@jupyter-widgets/base",
     "model_module_version": "1.2.0",
     "model_name": "LayoutModel",
     "state": {
      "_model_module": "@jupyter-widgets/base",
      "_model_module_version": "1.2.0",
      "_model_name": "LayoutModel",
      "_view_count": null,
      "_view_module": "@jupyter-widgets/base",
      "_view_module_version": "1.2.0",
      "_view_name": "LayoutView",
      "align_content": null,
      "align_items": null,
      "align_self": null,
      "border": null,
      "bottom": null,
      "display": null,
      "flex": null,
      "flex_flow": null,
      "grid_area": null,
      "grid_auto_columns": null,
      "grid_auto_flow": null,
      "grid_auto_rows": null,
      "grid_column": null,
      "grid_gap": null,
      "grid_row": null,
      "grid_template_areas": null,
      "grid_template_columns": null,
      "grid_template_rows": null,
      "height": null,
      "justify_content": null,
      "justify_items": null,
      "left": null,
      "margin": null,
      "max_height": null,
      "max_width": null,
      "min_height": null,
      "min_width": null,
      "object_fit": null,
      "object_position": null,
      "order": null,
      "overflow": null,
      "overflow_x": null,
      "overflow_y": null,
      "padding": null,
      "right": null,
      "top": null,
      "visibility": null,
      "width": null
     }
    },
    "19f3fd15c25e4c47853e432cac7315c3": {
     "model_module": "@jupyter-widgets/controls",
     "model_module_version": "1.5.0",
     "model_name": "HTMLModel",
     "state": {
      "_dom_classes": [],
      "_model_module": "@jupyter-widgets/controls",
      "_model_module_version": "1.5.0",
      "_model_name": "HTMLModel",
      "_view_count": null,
      "_view_module": "@jupyter-widgets/controls",
      "_view_module_version": "1.5.0",
      "_view_name": "HTMLView",
      "description": "",
      "description_tooltip": null,
      "layout": "IPY_MODEL_ac201a325feb436991953cba23fc09c8",
      "placeholder": "​",
      "style": "IPY_MODEL_f4eac588a3084aed80aadd46dc5e2878",
      "value": " 40/40 [00:00&lt;00:00, 455.60 examples/s]"
     }
    },
    "1b6e6bab709045ceb80a9b599eb17a49": {
     "model_module": "@jupyter-widgets/base",
     "model_module_version": "1.2.0",
     "model_name": "LayoutModel",
     "state": {
      "_model_module": "@jupyter-widgets/base",
      "_model_module_version": "1.2.0",
      "_model_name": "LayoutModel",
      "_view_count": null,
      "_view_module": "@jupyter-widgets/base",
      "_view_module_version": "1.2.0",
      "_view_name": "LayoutView",
      "align_content": null,
      "align_items": null,
      "align_self": null,
      "border": null,
      "bottom": null,
      "display": null,
      "flex": null,
      "flex_flow": null,
      "grid_area": null,
      "grid_auto_columns": null,
      "grid_auto_flow": null,
      "grid_auto_rows": null,
      "grid_column": null,
      "grid_gap": null,
      "grid_row": null,
      "grid_template_areas": null,
      "grid_template_columns": null,
      "grid_template_rows": null,
      "height": null,
      "justify_content": null,
      "justify_items": null,
      "left": null,
      "margin": null,
      "max_height": null,
      "max_width": null,
      "min_height": null,
      "min_width": null,
      "object_fit": null,
      "object_position": null,
      "order": null,
      "overflow": null,
      "overflow_x": null,
      "overflow_y": null,
      "padding": null,
      "right": null,
      "top": null,
      "visibility": null,
      "width": null
     }
    },
    "1c41af4b0e89476193220ce0e2ebc7a3": {
     "model_module": "@jupyter-widgets/controls",
     "model_module_version": "1.5.0",
     "model_name": "HBoxModel",
     "state": {
      "_dom_classes": [],
      "_model_module": "@jupyter-widgets/controls",
      "_model_module_version": "1.5.0",
      "_model_name": "HBoxModel",
      "_view_count": null,
      "_view_module": "@jupyter-widgets/controls",
      "_view_module_version": "1.5.0",
      "_view_name": "HBoxView",
      "box_style": "",
      "children": [
       "IPY_MODEL_55af32add77f4c70aefa4bae1cd5483d",
       "IPY_MODEL_226ad985c5a84a599f999bca6a67bc7a",
       "IPY_MODEL_2b732eeac86d495883bc58ce86362f9b"
      ],
      "layout": "IPY_MODEL_2fbd5daebb334741b5c6991ba66213d9"
     }
    },
    "1e64974714a04b8a8c2f2988256e18b8": {
     "model_module": "@jupyter-widgets/controls",
     "model_module_version": "1.5.0",
     "model_name": "ProgressStyleModel",
     "state": {
      "_model_module": "@jupyter-widgets/controls",
      "_model_module_version": "1.5.0",
      "_model_name": "ProgressStyleModel",
      "_view_count": null,
      "_view_module": "@jupyter-widgets/base",
      "_view_module_version": "1.2.0",
      "_view_name": "StyleView",
      "bar_color": null,
      "description_width": ""
     }
    },
    "226ad985c5a84a599f999bca6a67bc7a": {
     "model_module": "@jupyter-widgets/controls",
     "model_module_version": "1.5.0",
     "model_name": "FloatProgressModel",
     "state": {
      "_dom_classes": [],
      "_model_module": "@jupyter-widgets/controls",
      "_model_module_version": "1.5.0",
      "_model_name": "FloatProgressModel",
      "_view_count": null,
      "_view_module": "@jupyter-widgets/controls",
      "_view_module_version": "1.5.0",
      "_view_name": "ProgressView",
      "bar_style": "success",
      "description": "",
      "description_tooltip": null,
      "layout": "IPY_MODEL_cf8c11a880cb46e4b3ac1276e0c6c82f",
      "max": 500,
      "min": 0,
      "orientation": "horizontal",
      "style": "IPY_MODEL_1e64974714a04b8a8c2f2988256e18b8",
      "value": 500
     }
    },
    "23cd6500405244e1b17dd052ee4d1260": {
     "model_module": "@jupyter-widgets/base",
     "model_module_version": "1.2.0",
     "model_name": "LayoutModel",
     "state": {
      "_model_module": "@jupyter-widgets/base",
      "_model_module_version": "1.2.0",
      "_model_name": "LayoutModel",
      "_view_count": null,
      "_view_module": "@jupyter-widgets/base",
      "_view_module_version": "1.2.0",
      "_view_name": "LayoutView",
      "align_content": null,
      "align_items": null,
      "align_self": null,
      "border": null,
      "bottom": null,
      "display": null,
      "flex": null,
      "flex_flow": null,
      "grid_area": null,
      "grid_auto_columns": null,
      "grid_auto_flow": null,
      "grid_auto_rows": null,
      "grid_column": null,
      "grid_gap": null,
      "grid_row": null,
      "grid_template_areas": null,
      "grid_template_columns": null,
      "grid_template_rows": null,
      "height": null,
      "justify_content": null,
      "justify_items": null,
      "left": null,
      "margin": null,
      "max_height": null,
      "max_width": null,
      "min_height": null,
      "min_width": null,
      "object_fit": null,
      "object_position": null,
      "order": null,
      "overflow": null,
      "overflow_x": null,
      "overflow_y": null,
      "padding": null,
      "right": null,
      "top": null,
      "visibility": null,
      "width": null
     }
    },
    "2804155f9e954e66babd7b25121ba0df": {
     "model_module": "@jupyter-widgets/controls",
     "model_module_version": "1.5.0",
     "model_name": "DescriptionStyleModel",
     "state": {
      "_model_module": "@jupyter-widgets/controls",
      "_model_module_version": "1.5.0",
      "_model_name": "DescriptionStyleModel",
      "_view_count": null,
      "_view_module": "@jupyter-widgets/base",
      "_view_module_version": "1.2.0",
      "_view_name": "StyleView",
      "description_width": ""
     }
    },
    "2b732eeac86d495883bc58ce86362f9b": {
     "model_module": "@jupyter-widgets/controls",
     "model_module_version": "1.5.0",
     "model_name": "HTMLModel",
     "state": {
      "_dom_classes": [],
      "_model_module": "@jupyter-widgets/controls",
      "_model_module_version": "1.5.0",
      "_model_name": "HTMLModel",
      "_view_count": null,
      "_view_module": "@jupyter-widgets/controls",
      "_view_module_version": "1.5.0",
      "_view_name": "HTMLView",
      "description": "",
      "description_tooltip": null,
      "layout": "IPY_MODEL_878a40f4b8754eca983ac9b7973c4b7b",
      "placeholder": "​",
      "style": "IPY_MODEL_9a1761c414cc4c42bbf1dccbaf5872e0",
      "value": " 500/500 [00:00&lt;00:00, 901.22 examples/s]"
     }
    },
    "2bd40ef67b4c494aaa84143096f3d837": {
     "model_module": "@jupyter-widgets/controls",
     "model_module_version": "1.5.0",
     "model_name": "HTMLModel",
     "state": {
      "_dom_classes": [],
      "_model_module": "@jupyter-widgets/controls",
      "_model_module_version": "1.5.0",
      "_model_name": "HTMLModel",
      "_view_count": null,
      "_view_module": "@jupyter-widgets/controls",
      "_view_module_version": "1.5.0",
      "_view_name": "HTMLView",
      "description": "",
      "description_tooltip": null,
      "layout": "IPY_MODEL_cc6d8caee4e94650b97e4e96de6e5496",
      "placeholder": "​",
      "style": "IPY_MODEL_ef872889878c48d28d6bb8e5c230996f",
      "value": "Map: 100%"
     }
    },
    "2fbd5daebb334741b5c6991ba66213d9": {
     "model_module": "@jupyter-widgets/base",
     "model_module_version": "1.2.0",
     "model_name": "LayoutModel",
     "state": {
      "_model_module": "@jupyter-widgets/base",
      "_model_module_version": "1.2.0",
      "_model_name": "LayoutModel",
      "_view_count": null,
      "_view_module": "@jupyter-widgets/base",
      "_view_module_version": "1.2.0",
      "_view_name": "LayoutView",
      "align_content": null,
      "align_items": null,
      "align_self": null,
      "border": null,
      "bottom": null,
      "display": null,
      "flex": null,
      "flex_flow": null,
      "grid_area": null,
      "grid_auto_columns": null,
      "grid_auto_flow": null,
      "grid_auto_rows": null,
      "grid_column": null,
      "grid_gap": null,
      "grid_row": null,
      "grid_template_areas": null,
      "grid_template_columns": null,
      "grid_template_rows": null,
      "height": null,
      "justify_content": null,
      "justify_items": null,
      "left": null,
      "margin": null,
      "max_height": null,
      "max_width": null,
      "min_height": null,
      "min_width": null,
      "object_fit": null,
      "object_position": null,
      "order": null,
      "overflow": null,
      "overflow_x": null,
      "overflow_y": null,
      "padding": null,
      "right": null,
      "top": null,
      "visibility": null,
      "width": null
     }
    },
    "311988ff72794da596c2e9bcb42d5e33": {
     "model_module": "@jupyter-widgets/base",
     "model_module_version": "1.2.0",
     "model_name": "LayoutModel",
     "state": {
      "_model_module": "@jupyter-widgets/base",
      "_model_module_version": "1.2.0",
      "_model_name": "LayoutModel",
      "_view_count": null,
      "_view_module": "@jupyter-widgets/base",
      "_view_module_version": "1.2.0",
      "_view_name": "LayoutView",
      "align_content": null,
      "align_items": null,
      "align_self": null,
      "border": null,
      "bottom": null,
      "display": null,
      "flex": null,
      "flex_flow": null,
      "grid_area": null,
      "grid_auto_columns": null,
      "grid_auto_flow": null,
      "grid_auto_rows": null,
      "grid_column": null,
      "grid_gap": null,
      "grid_row": null,
      "grid_template_areas": null,
      "grid_template_columns": null,
      "grid_template_rows": null,
      "height": null,
      "justify_content": null,
      "justify_items": null,
      "left": null,
      "margin": null,
      "max_height": null,
      "max_width": null,
      "min_height": null,
      "min_width": null,
      "object_fit": null,
      "object_position": null,
      "order": null,
      "overflow": null,
      "overflow_x": null,
      "overflow_y": null,
      "padding": null,
      "right": null,
      "top": null,
      "visibility": null,
      "width": null
     }
    },
    "33ba5833ab1c4dbc9889e31154bcdce3": {
     "model_module": "@jupyter-widgets/controls",
     "model_module_version": "1.5.0",
     "model_name": "ProgressStyleModel",
     "state": {
      "_model_module": "@jupyter-widgets/controls",
      "_model_module_version": "1.5.0",
      "_model_name": "ProgressStyleModel",
      "_view_count": null,
      "_view_module": "@jupyter-widgets/base",
      "_view_module_version": "1.2.0",
      "_view_name": "StyleView",
      "bar_color": null,
      "description_width": ""
     }
    },
    "348617f99aca42f4b466699d46a71bae": {
     "model_module": "@jupyter-widgets/controls",
     "model_module_version": "1.5.0",
     "model_name": "HBoxModel",
     "state": {
      "_dom_classes": [],
      "_model_module": "@jupyter-widgets/controls",
      "_model_module_version": "1.5.0",
      "_model_name": "HBoxModel",
      "_view_count": null,
      "_view_module": "@jupyter-widgets/controls",
      "_view_module_version": "1.5.0",
      "_view_name": "HBoxView",
      "box_style": "",
      "children": [
       "IPY_MODEL_16c83b4f445f4954a1ca1e7f622cb44a",
       "IPY_MODEL_75cc310d17704a45a38eb3703c15f8d8",
       "IPY_MODEL_19f3fd15c25e4c47853e432cac7315c3"
      ],
      "layout": "IPY_MODEL_4af81b06836840db822a47b741bffc6a"
     }
    },
    "3a07ecc4762a4a49ba31f2879f83841e": {
     "model_module": "@jupyter-widgets/controls",
     "model_module_version": "1.5.0",
     "model_name": "HTMLModel",
     "state": {
      "_dom_classes": [],
      "_model_module": "@jupyter-widgets/controls",
      "_model_module_version": "1.5.0",
      "_model_name": "HTMLModel",
      "_view_count": null,
      "_view_module": "@jupyter-widgets/controls",
      "_view_module_version": "1.5.0",
      "_view_name": "HTMLView",
      "description": "",
      "description_tooltip": null,
      "layout": "IPY_MODEL_f823321c40eb4c74bee53f3f19ab933b",
      "placeholder": "​",
      "style": "IPY_MODEL_140cd406e25f48489e794e53a365cd5f",
      "value": "Map: 100%"
     }
    },
    "47d2d35f66014c35b6cbbdba04a460f8": {
     "model_module": "@jupyter-widgets/controls",
     "model_module_version": "1.5.0",
     "model_name": "DescriptionStyleModel",
     "state": {
      "_model_module": "@jupyter-widgets/controls",
      "_model_module_version": "1.5.0",
      "_model_name": "DescriptionStyleModel",
      "_view_count": null,
      "_view_module": "@jupyter-widgets/base",
      "_view_module_version": "1.2.0",
      "_view_name": "StyleView",
      "description_width": ""
     }
    },
    "4af81b06836840db822a47b741bffc6a": {
     "model_module": "@jupyter-widgets/base",
     "model_module_version": "1.2.0",
     "model_name": "LayoutModel",
     "state": {
      "_model_module": "@jupyter-widgets/base",
      "_model_module_version": "1.2.0",
      "_model_name": "LayoutModel",
      "_view_count": null,
      "_view_module": "@jupyter-widgets/base",
      "_view_module_version": "1.2.0",
      "_view_name": "LayoutView",
      "align_content": null,
      "align_items": null,
      "align_self": null,
      "border": null,
      "bottom": null,
      "display": null,
      "flex": null,
      "flex_flow": null,
      "grid_area": null,
      "grid_auto_columns": null,
      "grid_auto_flow": null,
      "grid_auto_rows": null,
      "grid_column": null,
      "grid_gap": null,
      "grid_row": null,
      "grid_template_areas": null,
      "grid_template_columns": null,
      "grid_template_rows": null,
      "height": null,
      "justify_content": null,
      "justify_items": null,
      "left": null,
      "margin": null,
      "max_height": null,
      "max_width": null,
      "min_height": null,
      "min_width": null,
      "object_fit": null,
      "object_position": null,
      "order": null,
      "overflow": null,
      "overflow_x": null,
      "overflow_y": null,
      "padding": null,
      "right": null,
      "top": null,
      "visibility": null,
      "width": null
     }
    },
    "4d2d68373b304f4eac33a7e037c8896b": {
     "model_module": "@jupyter-widgets/controls",
     "model_module_version": "1.5.0",
     "model_name": "ProgressStyleModel",
     "state": {
      "_model_module": "@jupyter-widgets/controls",
      "_model_module_version": "1.5.0",
      "_model_name": "ProgressStyleModel",
      "_view_count": null,
      "_view_module": "@jupyter-widgets/base",
      "_view_module_version": "1.2.0",
      "_view_name": "StyleView",
      "bar_color": null,
      "description_width": ""
     }
    },
    "504be8c19cfb47d7aca7a4011c745fd6": {
     "model_module": "@jupyter-widgets/controls",
     "model_module_version": "1.5.0",
     "model_name": "FloatProgressModel",
     "state": {
      "_dom_classes": [],
      "_model_module": "@jupyter-widgets/controls",
      "_model_module_version": "1.5.0",
      "_model_name": "FloatProgressModel",
      "_view_count": null,
      "_view_module": "@jupyter-widgets/controls",
      "_view_module_version": "1.5.0",
      "_view_name": "ProgressView",
      "bar_style": "success",
      "description": "",
      "description_tooltip": null,
      "layout": "IPY_MODEL_515aae790f7c4a2d9e7ab75c63c02fa7",
      "max": 10,
      "min": 0,
      "orientation": "horizontal",
      "style": "IPY_MODEL_4d2d68373b304f4eac33a7e037c8896b",
      "value": 10
     }
    },
    "515aae790f7c4a2d9e7ab75c63c02fa7": {
     "model_module": "@jupyter-widgets/base",
     "model_module_version": "1.2.0",
     "model_name": "LayoutModel",
     "state": {
      "_model_module": "@jupyter-widgets/base",
      "_model_module_version": "1.2.0",
      "_model_name": "LayoutModel",
      "_view_count": null,
      "_view_module": "@jupyter-widgets/base",
      "_view_module_version": "1.2.0",
      "_view_name": "LayoutView",
      "align_content": null,
      "align_items": null,
      "align_self": null,
      "border": null,
      "bottom": null,
      "display": null,
      "flex": null,
      "flex_flow": null,
      "grid_area": null,
      "grid_auto_columns": null,
      "grid_auto_flow": null,
      "grid_auto_rows": null,
      "grid_column": null,
      "grid_gap": null,
      "grid_row": null,
      "grid_template_areas": null,
      "grid_template_columns": null,
      "grid_template_rows": null,
      "height": null,
      "justify_content": null,
      "justify_items": null,
      "left": null,
      "margin": null,
      "max_height": null,
      "max_width": null,
      "min_height": null,
      "min_width": null,
      "object_fit": null,
      "object_position": null,
      "order": null,
      "overflow": null,
      "overflow_x": null,
      "overflow_y": null,
      "padding": null,
      "right": null,
      "top": null,
      "visibility": null,
      "width": null
     }
    },
    "55af32add77f4c70aefa4bae1cd5483d": {
     "model_module": "@jupyter-widgets/controls",
     "model_module_version": "1.5.0",
     "model_name": "HTMLModel",
     "state": {
      "_dom_classes": [],
      "_model_module": "@jupyter-widgets/controls",
      "_model_module_version": "1.5.0",
      "_model_name": "HTMLModel",
      "_view_count": null,
      "_view_module": "@jupyter-widgets/controls",
      "_view_module_version": "1.5.0",
      "_view_name": "HTMLView",
      "description": "",
      "description_tooltip": null,
      "layout": "IPY_MODEL_da2353da0e32451bbf164c397423191d",
      "placeholder": "​",
      "style": "IPY_MODEL_12e26fca54674eacba6c970f02f7267a",
      "value": "Map: 100%"
     }
    },
    "5d2bd5645cde4c6f99768d48b16fe910": {
     "model_module": "@jupyter-widgets/controls",
     "model_module_version": "1.5.0",
     "model_name": "HTMLModel",
     "state": {
      "_dom_classes": [],
      "_model_module": "@jupyter-widgets/controls",
      "_model_module_version": "1.5.0",
      "_model_name": "HTMLModel",
      "_view_count": null,
      "_view_module": "@jupyter-widgets/controls",
      "_view_module_version": "1.5.0",
      "_view_name": "HTMLView",
      "description": "",
      "description_tooltip": null,
      "layout": "IPY_MODEL_eb1af5d4eea34857932209907dd2eacb",
      "placeholder": "​",
      "style": "IPY_MODEL_b7b931de766c440e877fa53a4719326f",
      "value": " 1/1 [00:00&lt;00:00,  9.91 examples/s]"
     }
    },
    "61e6b57a451c4b13939285372c08f96e": {
     "model_module": "@jupyter-widgets/controls",
     "model_module_version": "1.5.0",
     "model_name": "FloatProgressModel",
     "state": {
      "_dom_classes": [],
      "_model_module": "@jupyter-widgets/controls",
      "_model_module_version": "1.5.0",
      "_model_name": "FloatProgressModel",
      "_view_count": null,
      "_view_module": "@jupyter-widgets/controls",
      "_view_module_version": "1.5.0",
      "_view_name": "ProgressView",
      "bar_style": "success",
      "description": "",
      "description_tooltip": null,
      "layout": "IPY_MODEL_311988ff72794da596c2e9bcb42d5e33",
      "max": 4500,
      "min": 0,
      "orientation": "horizontal",
      "style": "IPY_MODEL_1171f256425f4695b702fbad2d7ca11b",
      "value": 4500
     }
    },
    "6affa522e4ac49bf9c19323995e10879": {
     "model_module": "@jupyter-widgets/base",
     "model_module_version": "1.2.0",
     "model_name": "LayoutModel",
     "state": {
      "_model_module": "@jupyter-widgets/base",
      "_model_module_version": "1.2.0",
      "_model_name": "LayoutModel",
      "_view_count": null,
      "_view_module": "@jupyter-widgets/base",
      "_view_module_version": "1.2.0",
      "_view_name": "LayoutView",
      "align_content": null,
      "align_items": null,
      "align_self": null,
      "border": null,
      "bottom": null,
      "display": null,
      "flex": null,
      "flex_flow": null,
      "grid_area": null,
      "grid_auto_columns": null,
      "grid_auto_flow": null,
      "grid_auto_rows": null,
      "grid_column": null,
      "grid_gap": null,
      "grid_row": null,
      "grid_template_areas": null,
      "grid_template_columns": null,
      "grid_template_rows": null,
      "height": null,
      "justify_content": null,
      "justify_items": null,
      "left": null,
      "margin": null,
      "max_height": null,
      "max_width": null,
      "min_height": null,
      "min_width": null,
      "object_fit": null,
      "object_position": null,
      "order": null,
      "overflow": null,
      "overflow_x": null,
      "overflow_y": null,
      "padding": null,
      "right": null,
      "top": null,
      "visibility": null,
      "width": null
     }
    },
    "6de88fc8b6d64e4cac4976892c3ae490": {
     "model_module": "@jupyter-widgets/base",
     "model_module_version": "1.2.0",
     "model_name": "LayoutModel",
     "state": {
      "_model_module": "@jupyter-widgets/base",
      "_model_module_version": "1.2.0",
      "_model_name": "LayoutModel",
      "_view_count": null,
      "_view_module": "@jupyter-widgets/base",
      "_view_module_version": "1.2.0",
      "_view_name": "LayoutView",
      "align_content": null,
      "align_items": null,
      "align_self": null,
      "border": null,
      "bottom": null,
      "display": null,
      "flex": null,
      "flex_flow": null,
      "grid_area": null,
      "grid_auto_columns": null,
      "grid_auto_flow": null,
      "grid_auto_rows": null,
      "grid_column": null,
      "grid_gap": null,
      "grid_row": null,
      "grid_template_areas": null,
      "grid_template_columns": null,
      "grid_template_rows": null,
      "height": null,
      "justify_content": null,
      "justify_items": null,
      "left": null,
      "margin": null,
      "max_height": null,
      "max_width": null,
      "min_height": null,
      "min_width": null,
      "object_fit": null,
      "object_position": null,
      "order": null,
      "overflow": null,
      "overflow_x": null,
      "overflow_y": null,
      "padding": null,
      "right": null,
      "top": null,
      "visibility": null,
      "width": null
     }
    },
    "73e69bbf161d4104b609adff5b403874": {
     "model_module": "@jupyter-widgets/controls",
     "model_module_version": "1.5.0",
     "model_name": "HBoxModel",
     "state": {
      "_dom_classes": [],
      "_model_module": "@jupyter-widgets/controls",
      "_model_module_version": "1.5.0",
      "_model_name": "HBoxModel",
      "_view_count": null,
      "_view_module": "@jupyter-widgets/controls",
      "_view_module_version": "1.5.0",
      "_view_name": "HBoxView",
      "box_style": "",
      "children": [
       "IPY_MODEL_2bd40ef67b4c494aaa84143096f3d837",
       "IPY_MODEL_61e6b57a451c4b13939285372c08f96e",
       "IPY_MODEL_033b204f2c524b57816c37680764c738"
      ],
      "layout": "IPY_MODEL_da13222ff54c4cb283a80a1159778538"
     }
    },
    "75cc310d17704a45a38eb3703c15f8d8": {
     "model_module": "@jupyter-widgets/controls",
     "model_module_version": "1.5.0",
     "model_name": "FloatProgressModel",
     "state": {
      "_dom_classes": [],
      "_model_module": "@jupyter-widgets/controls",
      "_model_module_version": "1.5.0",
      "_model_name": "FloatProgressModel",
      "_view_count": null,
      "_view_module": "@jupyter-widgets/controls",
      "_view_module_version": "1.5.0",
      "_view_name": "ProgressView",
      "bar_style": "success",
      "description": "",
      "description_tooltip": null,
      "layout": "IPY_MODEL_6de88fc8b6d64e4cac4976892c3ae490",
      "max": 40,
      "min": 0,
      "orientation": "horizontal",
      "style": "IPY_MODEL_33ba5833ab1c4dbc9889e31154bcdce3",
      "value": 40
     }
    },
    "7995150321154be4a1f656983a412d32": {
     "model_module": "@jupyter-widgets/controls",
     "model_module_version": "1.5.0",
     "model_name": "FloatProgressModel",
     "state": {
      "_dom_classes": [],
      "_model_module": "@jupyter-widgets/controls",
      "_model_module_version": "1.5.0",
      "_model_name": "FloatProgressModel",
      "_view_count": null,
      "_view_module": "@jupyter-widgets/controls",
      "_view_module_version": "1.5.0",
      "_view_name": "ProgressView",
      "bar_style": "success",
      "description": "",
      "description_tooltip": null,
      "layout": "IPY_MODEL_e83663901ccc48abb5bfe52158c9efd3",
      "max": 1,
      "min": 0,
      "orientation": "horizontal",
      "style": "IPY_MODEL_01f4d5d9049940b5974a18c62afc2a29",
      "value": 1
     }
    },
    "83d77bba2ca64368946b0139565381f7": {
     "model_module": "@jupyter-widgets/controls",
     "model_module_version": "1.5.0",
     "model_name": "DescriptionStyleModel",
     "state": {
      "_model_module": "@jupyter-widgets/controls",
      "_model_module_version": "1.5.0",
      "_model_name": "DescriptionStyleModel",
      "_view_count": null,
      "_view_module": "@jupyter-widgets/base",
      "_view_module_version": "1.2.0",
      "_view_name": "StyleView",
      "description_width": ""
     }
    },
    "878a40f4b8754eca983ac9b7973c4b7b": {
     "model_module": "@jupyter-widgets/base",
     "model_module_version": "1.2.0",
     "model_name": "LayoutModel",
     "state": {
      "_model_module": "@jupyter-widgets/base",
      "_model_module_version": "1.2.0",
      "_model_name": "LayoutModel",
      "_view_count": null,
      "_view_module": "@jupyter-widgets/base",
      "_view_module_version": "1.2.0",
      "_view_name": "LayoutView",
      "align_content": null,
      "align_items": null,
      "align_self": null,
      "border": null,
      "bottom": null,
      "display": null,
      "flex": null,
      "flex_flow": null,
      "grid_area": null,
      "grid_auto_columns": null,
      "grid_auto_flow": null,
      "grid_auto_rows": null,
      "grid_column": null,
      "grid_gap": null,
      "grid_row": null,
      "grid_template_areas": null,
      "grid_template_columns": null,
      "grid_template_rows": null,
      "height": null,
      "justify_content": null,
      "justify_items": null,
      "left": null,
      "margin": null,
      "max_height": null,
      "max_width": null,
      "min_height": null,
      "min_width": null,
      "object_fit": null,
      "object_position": null,
      "order": null,
      "overflow": null,
      "overflow_x": null,
      "overflow_y": null,
      "padding": null,
      "right": null,
      "top": null,
      "visibility": null,
      "width": null
     }
    },
    "9a1761c414cc4c42bbf1dccbaf5872e0": {
     "model_module": "@jupyter-widgets/controls",
     "model_module_version": "1.5.0",
     "model_name": "DescriptionStyleModel",
     "state": {
      "_model_module": "@jupyter-widgets/controls",
      "_model_module_version": "1.5.0",
      "_model_name": "DescriptionStyleModel",
      "_view_count": null,
      "_view_module": "@jupyter-widgets/base",
      "_view_module_version": "1.2.0",
      "_view_name": "StyleView",
      "description_width": ""
     }
    },
    "a782047417534298a9ea2f077f0d2578": {
     "model_module": "@jupyter-widgets/base",
     "model_module_version": "1.2.0",
     "model_name": "LayoutModel",
     "state": {
      "_model_module": "@jupyter-widgets/base",
      "_model_module_version": "1.2.0",
      "_model_name": "LayoutModel",
      "_view_count": null,
      "_view_module": "@jupyter-widgets/base",
      "_view_module_version": "1.2.0",
      "_view_name": "LayoutView",
      "align_content": null,
      "align_items": null,
      "align_self": null,
      "border": null,
      "bottom": null,
      "display": null,
      "flex": null,
      "flex_flow": null,
      "grid_area": null,
      "grid_auto_columns": null,
      "grid_auto_flow": null,
      "grid_auto_rows": null,
      "grid_column": null,
      "grid_gap": null,
      "grid_row": null,
      "grid_template_areas": null,
      "grid_template_columns": null,
      "grid_template_rows": null,
      "height": null,
      "justify_content": null,
      "justify_items": null,
      "left": null,
      "margin": null,
      "max_height": null,
      "max_width": null,
      "min_height": null,
      "min_width": null,
      "object_fit": null,
      "object_position": null,
      "order": null,
      "overflow": null,
      "overflow_x": null,
      "overflow_y": null,
      "padding": null,
      "right": null,
      "top": null,
      "visibility": null,
      "width": null
     }
    },
    "ac201a325feb436991953cba23fc09c8": {
     "model_module": "@jupyter-widgets/base",
     "model_module_version": "1.2.0",
     "model_name": "LayoutModel",
     "state": {
      "_model_module": "@jupyter-widgets/base",
      "_model_module_version": "1.2.0",
      "_model_name": "LayoutModel",
      "_view_count": null,
      "_view_module": "@jupyter-widgets/base",
      "_view_module_version": "1.2.0",
      "_view_name": "LayoutView",
      "align_content": null,
      "align_items": null,
      "align_self": null,
      "border": null,
      "bottom": null,
      "display": null,
      "flex": null,
      "flex_flow": null,
      "grid_area": null,
      "grid_auto_columns": null,
      "grid_auto_flow": null,
      "grid_auto_rows": null,
      "grid_column": null,
      "grid_gap": null,
      "grid_row": null,
      "grid_template_areas": null,
      "grid_template_columns": null,
      "grid_template_rows": null,
      "height": null,
      "justify_content": null,
      "justify_items": null,
      "left": null,
      "margin": null,
      "max_height": null,
      "max_width": null,
      "min_height": null,
      "min_width": null,
      "object_fit": null,
      "object_position": null,
      "order": null,
      "overflow": null,
      "overflow_x": null,
      "overflow_y": null,
      "padding": null,
      "right": null,
      "top": null,
      "visibility": null,
      "width": null
     }
    },
    "b724831dacda4cd69b42b24b2b7870ff": {
     "model_module": "@jupyter-widgets/controls",
     "model_module_version": "1.5.0",
     "model_name": "HBoxModel",
     "state": {
      "_dom_classes": [],
      "_model_module": "@jupyter-widgets/controls",
      "_model_module_version": "1.5.0",
      "_model_name": "HBoxModel",
      "_view_count": null,
      "_view_module": "@jupyter-widgets/controls",
      "_view_module_version": "1.5.0",
      "_view_name": "HBoxView",
      "box_style": "",
      "children": [
       "IPY_MODEL_ceae18128c1242cd8089289704d80d5e",
       "IPY_MODEL_7995150321154be4a1f656983a412d32",
       "IPY_MODEL_5d2bd5645cde4c6f99768d48b16fe910"
      ],
      "layout": "IPY_MODEL_16e608e97d8946ef9ab2f1d400430c9f"
     }
    },
    "b7b931de766c440e877fa53a4719326f": {
     "model_module": "@jupyter-widgets/controls",
     "model_module_version": "1.5.0",
     "model_name": "DescriptionStyleModel",
     "state": {
      "_model_module": "@jupyter-widgets/controls",
      "_model_module_version": "1.5.0",
      "_model_name": "DescriptionStyleModel",
      "_view_count": null,
      "_view_module": "@jupyter-widgets/base",
      "_view_module_version": "1.2.0",
      "_view_name": "StyleView",
      "description_width": ""
     }
    },
    "bfee9fdb617f4a8f8e326ef110d5414e": {
     "model_module": "@jupyter-widgets/controls",
     "model_module_version": "1.5.0",
     "model_name": "DescriptionStyleModel",
     "state": {
      "_model_module": "@jupyter-widgets/controls",
      "_model_module_version": "1.5.0",
      "_model_name": "DescriptionStyleModel",
      "_view_count": null,
      "_view_module": "@jupyter-widgets/base",
      "_view_module_version": "1.2.0",
      "_view_name": "StyleView",
      "description_width": ""
     }
    },
    "c4e153ebddb14b29932bb338580bc260": {
     "model_module": "@jupyter-widgets/controls",
     "model_module_version": "1.5.0",
     "model_name": "HBoxModel",
     "state": {
      "_dom_classes": [],
      "_model_module": "@jupyter-widgets/controls",
      "_model_module_version": "1.5.0",
      "_model_name": "HBoxModel",
      "_view_count": null,
      "_view_module": "@jupyter-widgets/controls",
      "_view_module_version": "1.5.0",
      "_view_name": "HBoxView",
      "box_style": "",
      "children": [
       "IPY_MODEL_3a07ecc4762a4a49ba31f2879f83841e",
       "IPY_MODEL_504be8c19cfb47d7aca7a4011c745fd6",
       "IPY_MODEL_f6a266e906a543528b154f0a967d2ba5"
      ],
      "layout": "IPY_MODEL_6affa522e4ac49bf9c19323995e10879"
     }
    },
    "cc6d8caee4e94650b97e4e96de6e5496": {
     "model_module": "@jupyter-widgets/base",
     "model_module_version": "1.2.0",
     "model_name": "LayoutModel",
     "state": {
      "_model_module": "@jupyter-widgets/base",
      "_model_module_version": "1.2.0",
      "_model_name": "LayoutModel",
      "_view_count": null,
      "_view_module": "@jupyter-widgets/base",
      "_view_module_version": "1.2.0",
      "_view_name": "LayoutView",
      "align_content": null,
      "align_items": null,
      "align_self": null,
      "border": null,
      "bottom": null,
      "display": null,
      "flex": null,
      "flex_flow": null,
      "grid_area": null,
      "grid_auto_columns": null,
      "grid_auto_flow": null,
      "grid_auto_rows": null,
      "grid_column": null,
      "grid_gap": null,
      "grid_row": null,
      "grid_template_areas": null,
      "grid_template_columns": null,
      "grid_template_rows": null,
      "height": null,
      "justify_content": null,
      "justify_items": null,
      "left": null,
      "margin": null,
      "max_height": null,
      "max_width": null,
      "min_height": null,
      "min_width": null,
      "object_fit": null,
      "object_position": null,
      "order": null,
      "overflow": null,
      "overflow_x": null,
      "overflow_y": null,
      "padding": null,
      "right": null,
      "top": null,
      "visibility": null,
      "width": null
     }
    },
    "ceae18128c1242cd8089289704d80d5e": {
     "model_module": "@jupyter-widgets/controls",
     "model_module_version": "1.5.0",
     "model_name": "HTMLModel",
     "state": {
      "_dom_classes": [],
      "_model_module": "@jupyter-widgets/controls",
      "_model_module_version": "1.5.0",
      "_model_name": "HTMLModel",
      "_view_count": null,
      "_view_module": "@jupyter-widgets/controls",
      "_view_module_version": "1.5.0",
      "_view_name": "HTMLView",
      "description": "",
      "description_tooltip": null,
      "layout": "IPY_MODEL_cfdcbf422def4b0788773d6421b2bd36",
      "placeholder": "​",
      "style": "IPY_MODEL_47d2d35f66014c35b6cbbdba04a460f8",
      "value": "Map: 100%"
     }
    },
    "cf8c11a880cb46e4b3ac1276e0c6c82f": {
     "model_module": "@jupyter-widgets/base",
     "model_module_version": "1.2.0",
     "model_name": "LayoutModel",
     "state": {
      "_model_module": "@jupyter-widgets/base",
      "_model_module_version": "1.2.0",
      "_model_name": "LayoutModel",
      "_view_count": null,
      "_view_module": "@jupyter-widgets/base",
      "_view_module_version": "1.2.0",
      "_view_name": "LayoutView",
      "align_content": null,
      "align_items": null,
      "align_self": null,
      "border": null,
      "bottom": null,
      "display": null,
      "flex": null,
      "flex_flow": null,
      "grid_area": null,
      "grid_auto_columns": null,
      "grid_auto_flow": null,
      "grid_auto_rows": null,
      "grid_column": null,
      "grid_gap": null,
      "grid_row": null,
      "grid_template_areas": null,
      "grid_template_columns": null,
      "grid_template_rows": null,
      "height": null,
      "justify_content": null,
      "justify_items": null,
      "left": null,
      "margin": null,
      "max_height": null,
      "max_width": null,
      "min_height": null,
      "min_width": null,
      "object_fit": null,
      "object_position": null,
      "order": null,
      "overflow": null,
      "overflow_x": null,
      "overflow_y": null,
      "padding": null,
      "right": null,
      "top": null,
      "visibility": null,
      "width": null
     }
    },
    "cfdcbf422def4b0788773d6421b2bd36": {
     "model_module": "@jupyter-widgets/base",
     "model_module_version": "1.2.0",
     "model_name": "LayoutModel",
     "state": {
      "_model_module": "@jupyter-widgets/base",
      "_model_module_version": "1.2.0",
      "_model_name": "LayoutModel",
      "_view_count": null,
      "_view_module": "@jupyter-widgets/base",
      "_view_module_version": "1.2.0",
      "_view_name": "LayoutView",
      "align_content": null,
      "align_items": null,
      "align_self": null,
      "border": null,
      "bottom": null,
      "display": null,
      "flex": null,
      "flex_flow": null,
      "grid_area": null,
      "grid_auto_columns": null,
      "grid_auto_flow": null,
      "grid_auto_rows": null,
      "grid_column": null,
      "grid_gap": null,
      "grid_row": null,
      "grid_template_areas": null,
      "grid_template_columns": null,
      "grid_template_rows": null,
      "height": null,
      "justify_content": null,
      "justify_items": null,
      "left": null,
      "margin": null,
      "max_height": null,
      "max_width": null,
      "min_height": null,
      "min_width": null,
      "object_fit": null,
      "object_position": null,
      "order": null,
      "overflow": null,
      "overflow_x": null,
      "overflow_y": null,
      "padding": null,
      "right": null,
      "top": null,
      "visibility": null,
      "width": null
     }
    },
    "da13222ff54c4cb283a80a1159778538": {
     "model_module": "@jupyter-widgets/base",
     "model_module_version": "1.2.0",
     "model_name": "LayoutModel",
     "state": {
      "_model_module": "@jupyter-widgets/base",
      "_model_module_version": "1.2.0",
      "_model_name": "LayoutModel",
      "_view_count": null,
      "_view_module": "@jupyter-widgets/base",
      "_view_module_version": "1.2.0",
      "_view_name": "LayoutView",
      "align_content": null,
      "align_items": null,
      "align_self": null,
      "border": null,
      "bottom": null,
      "display": null,
      "flex": null,
      "flex_flow": null,
      "grid_area": null,
      "grid_auto_columns": null,
      "grid_auto_flow": null,
      "grid_auto_rows": null,
      "grid_column": null,
      "grid_gap": null,
      "grid_row": null,
      "grid_template_areas": null,
      "grid_template_columns": null,
      "grid_template_rows": null,
      "height": null,
      "justify_content": null,
      "justify_items": null,
      "left": null,
      "margin": null,
      "max_height": null,
      "max_width": null,
      "min_height": null,
      "min_width": null,
      "object_fit": null,
      "object_position": null,
      "order": null,
      "overflow": null,
      "overflow_x": null,
      "overflow_y": null,
      "padding": null,
      "right": null,
      "top": null,
      "visibility": null,
      "width": null
     }
    },
    "da2353da0e32451bbf164c397423191d": {
     "model_module": "@jupyter-widgets/base",
     "model_module_version": "1.2.0",
     "model_name": "LayoutModel",
     "state": {
      "_model_module": "@jupyter-widgets/base",
      "_model_module_version": "1.2.0",
      "_model_name": "LayoutModel",
      "_view_count": null,
      "_view_module": "@jupyter-widgets/base",
      "_view_module_version": "1.2.0",
      "_view_name": "LayoutView",
      "align_content": null,
      "align_items": null,
      "align_self": null,
      "border": null,
      "bottom": null,
      "display": null,
      "flex": null,
      "flex_flow": null,
      "grid_area": null,
      "grid_auto_columns": null,
      "grid_auto_flow": null,
      "grid_auto_rows": null,
      "grid_column": null,
      "grid_gap": null,
      "grid_row": null,
      "grid_template_areas": null,
      "grid_template_columns": null,
      "grid_template_rows": null,
      "height": null,
      "justify_content": null,
      "justify_items": null,
      "left": null,
      "margin": null,
      "max_height": null,
      "max_width": null,
      "min_height": null,
      "min_width": null,
      "object_fit": null,
      "object_position": null,
      "order": null,
      "overflow": null,
      "overflow_x": null,
      "overflow_y": null,
      "padding": null,
      "right": null,
      "top": null,
      "visibility": null,
      "width": null
     }
    },
    "e83663901ccc48abb5bfe52158c9efd3": {
     "model_module": "@jupyter-widgets/base",
     "model_module_version": "1.2.0",
     "model_name": "LayoutModel",
     "state": {
      "_model_module": "@jupyter-widgets/base",
      "_model_module_version": "1.2.0",
      "_model_name": "LayoutModel",
      "_view_count": null,
      "_view_module": "@jupyter-widgets/base",
      "_view_module_version": "1.2.0",
      "_view_name": "LayoutView",
      "align_content": null,
      "align_items": null,
      "align_self": null,
      "border": null,
      "bottom": null,
      "display": null,
      "flex": null,
      "flex_flow": null,
      "grid_area": null,
      "grid_auto_columns": null,
      "grid_auto_flow": null,
      "grid_auto_rows": null,
      "grid_column": null,
      "grid_gap": null,
      "grid_row": null,
      "grid_template_areas": null,
      "grid_template_columns": null,
      "grid_template_rows": null,
      "height": null,
      "justify_content": null,
      "justify_items": null,
      "left": null,
      "margin": null,
      "max_height": null,
      "max_width": null,
      "min_height": null,
      "min_width": null,
      "object_fit": null,
      "object_position": null,
      "order": null,
      "overflow": null,
      "overflow_x": null,
      "overflow_y": null,
      "padding": null,
      "right": null,
      "top": null,
      "visibility": null,
      "width": null
     }
    },
    "eb1af5d4eea34857932209907dd2eacb": {
     "model_module": "@jupyter-widgets/base",
     "model_module_version": "1.2.0",
     "model_name": "LayoutModel",
     "state": {
      "_model_module": "@jupyter-widgets/base",
      "_model_module_version": "1.2.0",
      "_model_name": "LayoutModel",
      "_view_count": null,
      "_view_module": "@jupyter-widgets/base",
      "_view_module_version": "1.2.0",
      "_view_name": "LayoutView",
      "align_content": null,
      "align_items": null,
      "align_self": null,
      "border": null,
      "bottom": null,
      "display": null,
      "flex": null,
      "flex_flow": null,
      "grid_area": null,
      "grid_auto_columns": null,
      "grid_auto_flow": null,
      "grid_auto_rows": null,
      "grid_column": null,
      "grid_gap": null,
      "grid_row": null,
      "grid_template_areas": null,
      "grid_template_columns": null,
      "grid_template_rows": null,
      "height": null,
      "justify_content": null,
      "justify_items": null,
      "left": null,
      "margin": null,
      "max_height": null,
      "max_width": null,
      "min_height": null,
      "min_width": null,
      "object_fit": null,
      "object_position": null,
      "order": null,
      "overflow": null,
      "overflow_x": null,
      "overflow_y": null,
      "padding": null,
      "right": null,
      "top": null,
      "visibility": null,
      "width": null
     }
    },
    "ef872889878c48d28d6bb8e5c230996f": {
     "model_module": "@jupyter-widgets/controls",
     "model_module_version": "1.5.0",
     "model_name": "DescriptionStyleModel",
     "state": {
      "_model_module": "@jupyter-widgets/controls",
      "_model_module_version": "1.5.0",
      "_model_name": "DescriptionStyleModel",
      "_view_count": null,
      "_view_module": "@jupyter-widgets/base",
      "_view_module_version": "1.2.0",
      "_view_name": "StyleView",
      "description_width": ""
     }
    },
    "f4eac588a3084aed80aadd46dc5e2878": {
     "model_module": "@jupyter-widgets/controls",
     "model_module_version": "1.5.0",
     "model_name": "DescriptionStyleModel",
     "state": {
      "_model_module": "@jupyter-widgets/controls",
      "_model_module_version": "1.5.0",
      "_model_name": "DescriptionStyleModel",
      "_view_count": null,
      "_view_module": "@jupyter-widgets/base",
      "_view_module_version": "1.2.0",
      "_view_name": "StyleView",
      "description_width": ""
     }
    },
    "f6a266e906a543528b154f0a967d2ba5": {
     "model_module": "@jupyter-widgets/controls",
     "model_module_version": "1.5.0",
     "model_name": "HTMLModel",
     "state": {
      "_dom_classes": [],
      "_model_module": "@jupyter-widgets/controls",
      "_model_module_version": "1.5.0",
      "_model_name": "HTMLModel",
      "_view_count": null,
      "_view_module": "@jupyter-widgets/controls",
      "_view_module_version": "1.5.0",
      "_view_name": "HTMLView",
      "description": "",
      "description_tooltip": null,
      "layout": "IPY_MODEL_23cd6500405244e1b17dd052ee4d1260",
      "placeholder": "​",
      "style": "IPY_MODEL_bfee9fdb617f4a8f8e326ef110d5414e",
      "value": " 10/10 [00:00&lt;00:00, 229.33 examples/s]"
     }
    },
    "f823321c40eb4c74bee53f3f19ab933b": {
     "model_module": "@jupyter-widgets/base",
     "model_module_version": "1.2.0",
     "model_name": "LayoutModel",
     "state": {
      "_model_module": "@jupyter-widgets/base",
      "_model_module_version": "1.2.0",
      "_model_name": "LayoutModel",
      "_view_count": null,
      "_view_module": "@jupyter-widgets/base",
      "_view_module_version": "1.2.0",
      "_view_name": "LayoutView",
      "align_content": null,
      "align_items": null,
      "align_self": null,
      "border": null,
      "bottom": null,
      "display": null,
      "flex": null,
      "flex_flow": null,
      "grid_area": null,
      "grid_auto_columns": null,
      "grid_auto_flow": null,
      "grid_auto_rows": null,
      "grid_column": null,
      "grid_gap": null,
      "grid_row": null,
      "grid_template_areas": null,
      "grid_template_columns": null,
      "grid_template_rows": null,
      "height": null,
      "justify_content": null,
      "justify_items": null,
      "left": null,
      "margin": null,
      "max_height": null,
      "max_width": null,
      "min_height": null,
      "min_width": null,
      "object_fit": null,
      "object_position": null,
      "order": null,
      "overflow": null,
      "overflow_x": null,
      "overflow_y": null,
      "padding": null,
      "right": null,
      "top": null,
      "visibility": null,
      "width": null
     }
    }
   }
  }
 },
 "nbformat": 4,
 "nbformat_minor": 4
}
