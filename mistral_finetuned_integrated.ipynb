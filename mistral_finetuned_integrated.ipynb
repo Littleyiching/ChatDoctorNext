{
 "cells": [
  {
   "cell_type": "markdown",
   "metadata": {
    "id": "kUTC05DY7dQH"
   },
   "source": [
    "# Install Libraries"
   ]
  },
  {
   "cell_type": "code",
   "execution_count": null,
   "metadata": {
    "id": "GIyaC_3u7dQJ",
    "outputId": "04fc5a92-9896-4a79-8686-e7e3762bc28d"
   },
   "outputs": [
    {
     "name": "stdout",
     "output_type": "stream",
     "text": [
      "Defaulting to user installation because normal site-packages is not writeable\n",
      "Requirement already satisfied: requests in /users/6/frens013/.local/lib/python3.9/site-packages (2.32.3)\n",
      "Requirement already satisfied: charset-normalizer<4,>=2 in /common/software/install/manual/pytorch/2.1.2-pyclustertend/lib/python3.9/site-packages (from requests) (3.3.2)\n",
      "Requirement already satisfied: idna<4,>=2.5 in /common/software/install/manual/pytorch/2.1.2-pyclustertend/lib/python3.9/site-packages (from requests) (3.6)\n",
      "Requirement already satisfied: urllib3<3,>=1.21.1 in /common/software/install/manual/pytorch/2.1.2-pyclustertend/lib/python3.9/site-packages (from requests) (2.2.1)\n",
      "Requirement already satisfied: certifi>=2017.4.17 in /common/software/install/manual/pytorch/2.1.2-pyclustertend/lib/python3.9/site-packages (from requests) (2024.2.2)\n",
      "Note: you may need to restart the kernel to use updated packages.\n"
     ]
    }
   ],
   "source": [
    "pip install -U requests"
   ]
  },
  {
   "cell_type": "code",
   "execution_count": null,
   "metadata": {
    "id": "7HF5EhNn7dQK",
    "outputId": "52e50177-dc50-42e4-e8d1-f6a48d2e885e"
   },
   "outputs": [
    {
     "name": "stdout",
     "output_type": "stream",
     "text": [
      "Defaulting to user installation because normal site-packages is not writeable\n",
      "Requirement already satisfied: bitsandbytes in /users/6/frens013/.local/lib/python3.9/site-packages (0.44.1)\n",
      "Requirement already satisfied: torch in /common/software/install/manual/pytorch/2.1.2-pyclustertend/lib/python3.9/site-packages (from bitsandbytes) (2.1.2)\n",
      "Requirement already satisfied: numpy in /common/software/install/manual/pytorch/2.1.2-pyclustertend/lib/python3.9/site-packages (from bitsandbytes) (1.24.3)\n",
      "Requirement already satisfied: filelock in /common/software/install/manual/pytorch/2.1.2-pyclustertend/lib/python3.9/site-packages (from torch->bitsandbytes) (3.13.1)\n",
      "Requirement already satisfied: typing-extensions in /users/6/frens013/.local/lib/python3.9/site-packages (from torch->bitsandbytes) (4.12.2)\n",
      "Requirement already satisfied: sympy in /common/software/install/manual/pytorch/2.1.2-pyclustertend/lib/python3.9/site-packages (from torch->bitsandbytes) (1.12)\n",
      "Requirement already satisfied: networkx in /common/software/install/manual/pytorch/2.1.2-pyclustertend/lib/python3.9/site-packages (from torch->bitsandbytes) (3.1)\n",
      "Requirement already satisfied: jinja2 in /common/software/install/manual/pytorch/2.1.2-pyclustertend/lib/python3.9/site-packages (from torch->bitsandbytes) (3.1.3)\n",
      "Requirement already satisfied: fsspec in /common/software/install/manual/pytorch/2.1.2-pyclustertend/lib/python3.9/site-packages (from torch->bitsandbytes) (2024.3.1)\n",
      "Requirement already satisfied: MarkupSafe>=2.0 in /common/software/install/manual/pytorch/2.1.2-pyclustertend/lib/python3.9/site-packages (from jinja2->torch->bitsandbytes) (2.1.5)\n",
      "Requirement already satisfied: mpmath>=0.19 in /common/software/install/manual/pytorch/2.1.2-pyclustertend/lib/python3.9/site-packages (from sympy->torch->bitsandbytes) (1.3.0)\n",
      "Note: you may need to restart the kernel to use updated packages.\n"
     ]
    }
   ],
   "source": [
    "pip install -U bitsandbytes"
   ]
  },
  {
   "cell_type": "code",
   "execution_count": null,
   "metadata": {
    "id": "vSZIt5Y_7dQK",
    "outputId": "397080a7-95b4-4347-dfcd-c9cc2393a0c3"
   },
   "outputs": [
    {
     "name": "stdout",
     "output_type": "stream",
     "text": [
      "Defaulting to user installation because normal site-packages is not writeable\n",
      "Collecting git+https://github.com/huggingface/transformers.git\n",
      "  Cloning https://github.com/huggingface/transformers.git to /tmp/pip-req-build-71hebemy\n",
      "  Running command git clone --filter=blob:none --quiet https://github.com/huggingface/transformers.git /tmp/pip-req-build-71hebemy\n",
      "  Resolved https://github.com/huggingface/transformers.git to commit 7a7f27697ad17d4ff03dbe203095be8b71759b55\n",
      "  Installing build dependencies ... \u001b[?25ldone\n",
      "\u001b[?25h  Getting requirements to build wheel ... \u001b[?25ldone\n",
      "\u001b[?25h  Preparing metadata (pyproject.toml) ... \u001b[?25ldone\n",
      "\u001b[?25hRequirement already satisfied: filelock in /common/software/install/manual/pytorch/2.1.2-pyclustertend/lib/python3.9/site-packages (from transformers==4.47.0.dev0) (3.13.1)\n",
      "Requirement already satisfied: huggingface-hub<1.0,>=0.24.0 in /users/6/frens013/.local/lib/python3.9/site-packages (from transformers==4.47.0.dev0) (0.26.2)\n",
      "Requirement already satisfied: numpy>=1.17 in /common/software/install/manual/pytorch/2.1.2-pyclustertend/lib/python3.9/site-packages (from transformers==4.47.0.dev0) (1.24.3)\n",
      "Requirement already satisfied: packaging>=20.0 in /common/software/install/manual/pytorch/2.1.2-pyclustertend/lib/python3.9/site-packages (from transformers==4.47.0.dev0) (23.2)\n",
      "Requirement already satisfied: pyyaml>=5.1 in /common/software/install/manual/pytorch/2.1.2-pyclustertend/lib/python3.9/site-packages (from transformers==4.47.0.dev0) (6.0.1)\n",
      "Requirement already satisfied: regex!=2019.12.17 in /users/6/frens013/.local/lib/python3.9/site-packages (from transformers==4.47.0.dev0) (2024.9.11)\n",
      "Requirement already satisfied: requests in /users/6/frens013/.local/lib/python3.9/site-packages (from transformers==4.47.0.dev0) (2.32.3)\n",
      "Requirement already satisfied: tokenizers<0.21,>=0.20 in /users/6/frens013/.local/lib/python3.9/site-packages (from transformers==4.47.0.dev0) (0.20.1)\n",
      "Requirement already satisfied: safetensors>=0.4.1 in /users/6/frens013/.local/lib/python3.9/site-packages (from transformers==4.47.0.dev0) (0.4.5)\n",
      "Requirement already satisfied: tqdm>=4.27 in /users/6/frens013/.local/lib/python3.9/site-packages (from transformers==4.47.0.dev0) (4.66.6)\n",
      "Requirement already satisfied: fsspec>=2023.5.0 in /common/software/install/manual/pytorch/2.1.2-pyclustertend/lib/python3.9/site-packages (from huggingface-hub<1.0,>=0.24.0->transformers==4.47.0.dev0) (2024.3.1)\n",
      "Requirement already satisfied: typing-extensions>=3.7.4.3 in /users/6/frens013/.local/lib/python3.9/site-packages (from huggingface-hub<1.0,>=0.24.0->transformers==4.47.0.dev0) (4.12.2)\n",
      "Requirement already satisfied: charset-normalizer<4,>=2 in /common/software/install/manual/pytorch/2.1.2-pyclustertend/lib/python3.9/site-packages (from requests->transformers==4.47.0.dev0) (3.3.2)\n",
      "Requirement already satisfied: idna<4,>=2.5 in /common/software/install/manual/pytorch/2.1.2-pyclustertend/lib/python3.9/site-packages (from requests->transformers==4.47.0.dev0) (3.6)\n",
      "Requirement already satisfied: urllib3<3,>=1.21.1 in /common/software/install/manual/pytorch/2.1.2-pyclustertend/lib/python3.9/site-packages (from requests->transformers==4.47.0.dev0) (2.2.1)\n",
      "Requirement already satisfied: certifi>=2017.4.17 in /common/software/install/manual/pytorch/2.1.2-pyclustertend/lib/python3.9/site-packages (from requests->transformers==4.47.0.dev0) (2024.2.2)\n",
      "Note: you may need to restart the kernel to use updated packages.\n"
     ]
    }
   ],
   "source": [
    "pip install -U git+https://github.com/huggingface/transformers.git"
   ]
  },
  {
   "cell_type": "code",
   "execution_count": null,
   "metadata": {
    "id": "dUvRNpCt7dQK",
    "outputId": "f355fc44-72d4-4bef-c4c5-f65da91ad57c"
   },
   "outputs": [
    {
     "name": "stdout",
     "output_type": "stream",
     "text": [
      "Defaulting to user installation because normal site-packages is not writeable\n",
      "Collecting git+https://github.com/huggingface/peft.git\n",
      "  Cloning https://github.com/huggingface/peft.git to /tmp/pip-req-build-_wl3cs2p\n",
      "  Running command git clone --filter=blob:none --quiet https://github.com/huggingface/peft.git /tmp/pip-req-build-_wl3cs2p\n",
      "  Resolved https://github.com/huggingface/peft.git to commit 3f9ce553e21569e21269b5ba91d7390f7229199a\n",
      "  Installing build dependencies ... \u001b[?25ldone\n",
      "\u001b[?25h  Getting requirements to build wheel ... \u001b[?25ldone\n",
      "\u001b[?25h  Preparing metadata (pyproject.toml) ... \u001b[?25ldone\n",
      "\u001b[?25hRequirement already satisfied: numpy>=1.17 in /common/software/install/manual/pytorch/2.1.2-pyclustertend/lib/python3.9/site-packages (from peft==0.13.3.dev0) (1.24.3)\n",
      "Requirement already satisfied: packaging>=20.0 in /common/software/install/manual/pytorch/2.1.2-pyclustertend/lib/python3.9/site-packages (from peft==0.13.3.dev0) (23.2)\n",
      "Requirement already satisfied: psutil in /common/software/install/manual/pytorch/2.1.2-pyclustertend/lib/python3.9/site-packages (from peft==0.13.3.dev0) (5.9.8)\n",
      "Requirement already satisfied: pyyaml in /common/software/install/manual/pytorch/2.1.2-pyclustertend/lib/python3.9/site-packages (from peft==0.13.3.dev0) (6.0.1)\n",
      "Requirement already satisfied: torch>=1.13.0 in /common/software/install/manual/pytorch/2.1.2-pyclustertend/lib/python3.9/site-packages (from peft==0.13.3.dev0) (2.1.2)\n",
      "Requirement already satisfied: transformers in /users/6/frens013/.local/lib/python3.9/site-packages (from peft==0.13.3.dev0) (4.47.0.dev0)\n",
      "Requirement already satisfied: tqdm in /users/6/frens013/.local/lib/python3.9/site-packages (from peft==0.13.3.dev0) (4.66.6)\n",
      "Requirement already satisfied: accelerate>=0.21.0 in /users/6/frens013/.local/lib/python3.9/site-packages (from peft==0.13.3.dev0) (1.2.0.dev0)\n",
      "Requirement already satisfied: safetensors in /users/6/frens013/.local/lib/python3.9/site-packages (from peft==0.13.3.dev0) (0.4.5)\n",
      "Requirement already satisfied: huggingface_hub>=0.25.0 in /users/6/frens013/.local/lib/python3.9/site-packages (from peft==0.13.3.dev0) (0.26.2)\n",
      "Requirement already satisfied: filelock in /common/software/install/manual/pytorch/2.1.2-pyclustertend/lib/python3.9/site-packages (from huggingface_hub>=0.25.0->peft==0.13.3.dev0) (3.13.1)\n",
      "Requirement already satisfied: fsspec>=2023.5.0 in /common/software/install/manual/pytorch/2.1.2-pyclustertend/lib/python3.9/site-packages (from huggingface_hub>=0.25.0->peft==0.13.3.dev0) (2024.3.1)\n",
      "Requirement already satisfied: requests in /users/6/frens013/.local/lib/python3.9/site-packages (from huggingface_hub>=0.25.0->peft==0.13.3.dev0) (2.32.3)\n",
      "Requirement already satisfied: typing-extensions>=3.7.4.3 in /users/6/frens013/.local/lib/python3.9/site-packages (from huggingface_hub>=0.25.0->peft==0.13.3.dev0) (4.12.2)\n",
      "Requirement already satisfied: sympy in /common/software/install/manual/pytorch/2.1.2-pyclustertend/lib/python3.9/site-packages (from torch>=1.13.0->peft==0.13.3.dev0) (1.12)\n",
      "Requirement already satisfied: networkx in /common/software/install/manual/pytorch/2.1.2-pyclustertend/lib/python3.9/site-packages (from torch>=1.13.0->peft==0.13.3.dev0) (3.1)\n",
      "Requirement already satisfied: jinja2 in /common/software/install/manual/pytorch/2.1.2-pyclustertend/lib/python3.9/site-packages (from torch>=1.13.0->peft==0.13.3.dev0) (3.1.3)\n",
      "Requirement already satisfied: regex!=2019.12.17 in /users/6/frens013/.local/lib/python3.9/site-packages (from transformers->peft==0.13.3.dev0) (2024.9.11)\n",
      "Requirement already satisfied: tokenizers<0.21,>=0.20 in /users/6/frens013/.local/lib/python3.9/site-packages (from transformers->peft==0.13.3.dev0) (0.20.1)\n",
      "Requirement already satisfied: MarkupSafe>=2.0 in /common/software/install/manual/pytorch/2.1.2-pyclustertend/lib/python3.9/site-packages (from jinja2->torch>=1.13.0->peft==0.13.3.dev0) (2.1.5)\n",
      "Requirement already satisfied: charset-normalizer<4,>=2 in /common/software/install/manual/pytorch/2.1.2-pyclustertend/lib/python3.9/site-packages (from requests->huggingface_hub>=0.25.0->peft==0.13.3.dev0) (3.3.2)\n",
      "Requirement already satisfied: idna<4,>=2.5 in /common/software/install/manual/pytorch/2.1.2-pyclustertend/lib/python3.9/site-packages (from requests->huggingface_hub>=0.25.0->peft==0.13.3.dev0) (3.6)\n",
      "Requirement already satisfied: urllib3<3,>=1.21.1 in /common/software/install/manual/pytorch/2.1.2-pyclustertend/lib/python3.9/site-packages (from requests->huggingface_hub>=0.25.0->peft==0.13.3.dev0) (2.2.1)\n",
      "Requirement already satisfied: certifi>=2017.4.17 in /common/software/install/manual/pytorch/2.1.2-pyclustertend/lib/python3.9/site-packages (from requests->huggingface_hub>=0.25.0->peft==0.13.3.dev0) (2024.2.2)\n",
      "Requirement already satisfied: mpmath>=0.19 in /common/software/install/manual/pytorch/2.1.2-pyclustertend/lib/python3.9/site-packages (from sympy->torch>=1.13.0->peft==0.13.3.dev0) (1.3.0)\n",
      "Note: you may need to restart the kernel to use updated packages.\n"
     ]
    }
   ],
   "source": [
    "pip install -U git+https://github.com/huggingface/peft.git"
   ]
  },
  {
   "cell_type": "code",
   "execution_count": null,
   "metadata": {
    "id": "9oTyes_a7dQK",
    "outputId": "706c022e-260a-4497-b366-a49ca498ced4"
   },
   "outputs": [
    {
     "name": "stdout",
     "output_type": "stream",
     "text": [
      "Defaulting to user installation because normal site-packages is not writeable\n",
      "Collecting git+https://github.com/huggingface/accelerate.git\n",
      "  Cloning https://github.com/huggingface/accelerate.git to /tmp/pip-req-build-_jqslh9u\n",
      "  Running command git clone --filter=blob:none --quiet https://github.com/huggingface/accelerate.git /tmp/pip-req-build-_jqslh9u\n",
      "  Resolved https://github.com/huggingface/accelerate.git to commit 60461ff7c479b9ea60757ec18279ad3cf84d29cb\n",
      "  Installing build dependencies ... \u001b[?25ldone\n",
      "\u001b[?25h  Getting requirements to build wheel ... \u001b[?25ldone\n",
      "\u001b[?25h  Preparing metadata (pyproject.toml) ... \u001b[?25ldone\n",
      "\u001b[?25hRequirement already satisfied: numpy<3.0.0,>=1.17 in /common/software/install/manual/pytorch/2.1.2-pyclustertend/lib/python3.9/site-packages (from accelerate==1.2.0.dev0) (1.24.3)\n",
      "Requirement already satisfied: packaging>=20.0 in /common/software/install/manual/pytorch/2.1.2-pyclustertend/lib/python3.9/site-packages (from accelerate==1.2.0.dev0) (23.2)\n",
      "Requirement already satisfied: psutil in /common/software/install/manual/pytorch/2.1.2-pyclustertend/lib/python3.9/site-packages (from accelerate==1.2.0.dev0) (5.9.8)\n",
      "Requirement already satisfied: pyyaml in /common/software/install/manual/pytorch/2.1.2-pyclustertend/lib/python3.9/site-packages (from accelerate==1.2.0.dev0) (6.0.1)\n",
      "Requirement already satisfied: torch>=1.10.0 in /common/software/install/manual/pytorch/2.1.2-pyclustertend/lib/python3.9/site-packages (from accelerate==1.2.0.dev0) (2.1.2)\n",
      "Requirement already satisfied: huggingface_hub>=0.21.0 in /users/6/frens013/.local/lib/python3.9/site-packages (from accelerate==1.2.0.dev0) (0.26.2)\n",
      "Requirement already satisfied: safetensors>=0.4.3 in /users/6/frens013/.local/lib/python3.9/site-packages (from accelerate==1.2.0.dev0) (0.4.5)\n",
      "Requirement already satisfied: filelock in /common/software/install/manual/pytorch/2.1.2-pyclustertend/lib/python3.9/site-packages (from huggingface_hub>=0.21.0->accelerate==1.2.0.dev0) (3.13.1)\n",
      "Requirement already satisfied: fsspec>=2023.5.0 in /common/software/install/manual/pytorch/2.1.2-pyclustertend/lib/python3.9/site-packages (from huggingface_hub>=0.21.0->accelerate==1.2.0.dev0) (2024.3.1)\n",
      "Requirement already satisfied: requests in /users/6/frens013/.local/lib/python3.9/site-packages (from huggingface_hub>=0.21.0->accelerate==1.2.0.dev0) (2.32.3)\n",
      "Requirement already satisfied: tqdm>=4.42.1 in /users/6/frens013/.local/lib/python3.9/site-packages (from huggingface_hub>=0.21.0->accelerate==1.2.0.dev0) (4.66.6)\n",
      "Requirement already satisfied: typing-extensions>=3.7.4.3 in /users/6/frens013/.local/lib/python3.9/site-packages (from huggingface_hub>=0.21.0->accelerate==1.2.0.dev0) (4.12.2)\n",
      "Requirement already satisfied: sympy in /common/software/install/manual/pytorch/2.1.2-pyclustertend/lib/python3.9/site-packages (from torch>=1.10.0->accelerate==1.2.0.dev0) (1.12)\n",
      "Requirement already satisfied: networkx in /common/software/install/manual/pytorch/2.1.2-pyclustertend/lib/python3.9/site-packages (from torch>=1.10.0->accelerate==1.2.0.dev0) (3.1)\n",
      "Requirement already satisfied: jinja2 in /common/software/install/manual/pytorch/2.1.2-pyclustertend/lib/python3.9/site-packages (from torch>=1.10.0->accelerate==1.2.0.dev0) (3.1.3)\n",
      "Requirement already satisfied: MarkupSafe>=2.0 in /common/software/install/manual/pytorch/2.1.2-pyclustertend/lib/python3.9/site-packages (from jinja2->torch>=1.10.0->accelerate==1.2.0.dev0) (2.1.5)\n",
      "Requirement already satisfied: charset-normalizer<4,>=2 in /common/software/install/manual/pytorch/2.1.2-pyclustertend/lib/python3.9/site-packages (from requests->huggingface_hub>=0.21.0->accelerate==1.2.0.dev0) (3.3.2)\n",
      "Requirement already satisfied: idna<4,>=2.5 in /common/software/install/manual/pytorch/2.1.2-pyclustertend/lib/python3.9/site-packages (from requests->huggingface_hub>=0.21.0->accelerate==1.2.0.dev0) (3.6)\n",
      "Requirement already satisfied: urllib3<3,>=1.21.1 in /common/software/install/manual/pytorch/2.1.2-pyclustertend/lib/python3.9/site-packages (from requests->huggingface_hub>=0.21.0->accelerate==1.2.0.dev0) (2.2.1)\n",
      "Requirement already satisfied: certifi>=2017.4.17 in /common/software/install/manual/pytorch/2.1.2-pyclustertend/lib/python3.9/site-packages (from requests->huggingface_hub>=0.21.0->accelerate==1.2.0.dev0) (2024.2.2)\n",
      "Requirement already satisfied: mpmath>=0.19 in /common/software/install/manual/pytorch/2.1.2-pyclustertend/lib/python3.9/site-packages (from sympy->torch>=1.10.0->accelerate==1.2.0.dev0) (1.3.0)\n",
      "Note: you may need to restart the kernel to use updated packages.\n"
     ]
    }
   ],
   "source": [
    "pip install -U git+https://github.com/huggingface/accelerate.git"
   ]
  },
  {
   "cell_type": "code",
   "execution_count": null,
   "metadata": {
    "id": "VVpR2EuS7dQL",
    "outputId": "5805b3ce-8ffd-414d-afe4-be1057cb368b"
   },
   "outputs": [
    {
     "name": "stdout",
     "output_type": "stream",
     "text": [
      "Defaulting to user installation because normal site-packages is not writeable\n",
      "Requirement already satisfied: datasets in /users/6/frens013/.local/lib/python3.9/site-packages (3.1.0)\n",
      "Requirement already satisfied: filelock in /common/software/install/manual/pytorch/2.1.2-pyclustertend/lib/python3.9/site-packages (from datasets) (3.13.1)\n",
      "Requirement already satisfied: numpy>=1.17 in /common/software/install/manual/pytorch/2.1.2-pyclustertend/lib/python3.9/site-packages (from datasets) (1.24.3)\n",
      "Requirement already satisfied: pyarrow>=15.0.0 in /users/6/frens013/.local/lib/python3.9/site-packages (from datasets) (18.0.0)\n",
      "Requirement already satisfied: dill<0.3.9,>=0.3.0 in /users/6/frens013/.local/lib/python3.9/site-packages (from datasets) (0.3.8)\n",
      "Requirement already satisfied: pandas in /common/software/install/manual/pytorch/2.1.2-pyclustertend/lib/python3.9/site-packages (from datasets) (1.5.3)\n",
      "Requirement already satisfied: requests>=2.32.2 in /users/6/frens013/.local/lib/python3.9/site-packages (from datasets) (2.32.3)\n",
      "Requirement already satisfied: tqdm>=4.66.3 in /users/6/frens013/.local/lib/python3.9/site-packages (from datasets) (4.66.6)\n",
      "Requirement already satisfied: xxhash in /users/6/frens013/.local/lib/python3.9/site-packages (from datasets) (3.5.0)\n",
      "Requirement already satisfied: multiprocess<0.70.17 in /users/6/frens013/.local/lib/python3.9/site-packages (from datasets) (0.70.16)\n",
      "Requirement already satisfied: fsspec<=2024.9.0,>=2023.1.0 in /common/software/install/manual/pytorch/2.1.2-pyclustertend/lib/python3.9/site-packages (from fsspec[http]<=2024.9.0,>=2023.1.0->datasets) (2024.3.1)\n",
      "Requirement already satisfied: aiohttp in /common/software/install/manual/pytorch/2.1.2-pyclustertend/lib/python3.9/site-packages (from datasets) (3.9.3)\n",
      "Requirement already satisfied: huggingface-hub>=0.23.0 in /users/6/frens013/.local/lib/python3.9/site-packages (from datasets) (0.26.2)\n",
      "Requirement already satisfied: packaging in /common/software/install/manual/pytorch/2.1.2-pyclustertend/lib/python3.9/site-packages (from datasets) (23.2)\n",
      "Requirement already satisfied: pyyaml>=5.1 in /common/software/install/manual/pytorch/2.1.2-pyclustertend/lib/python3.9/site-packages (from datasets) (6.0.1)\n",
      "Requirement already satisfied: aiosignal>=1.1.2 in /common/software/install/manual/pytorch/2.1.2-pyclustertend/lib/python3.9/site-packages (from aiohttp->datasets) (1.3.1)\n",
      "Requirement already satisfied: attrs>=17.3.0 in /common/software/install/manual/pytorch/2.1.2-pyclustertend/lib/python3.9/site-packages (from aiohttp->datasets) (23.2.0)\n",
      "Requirement already satisfied: frozenlist>=1.1.1 in /common/software/install/manual/pytorch/2.1.2-pyclustertend/lib/python3.9/site-packages (from aiohttp->datasets) (1.4.1)\n",
      "Requirement already satisfied: multidict<7.0,>=4.5 in /common/software/install/manual/pytorch/2.1.2-pyclustertend/lib/python3.9/site-packages (from aiohttp->datasets) (6.0.5)\n",
      "Requirement already satisfied: yarl<2.0,>=1.0 in /common/software/install/manual/pytorch/2.1.2-pyclustertend/lib/python3.9/site-packages (from aiohttp->datasets) (1.9.4)\n",
      "Requirement already satisfied: async-timeout<5.0,>=4.0 in /common/software/install/manual/pytorch/2.1.2-pyclustertend/lib/python3.9/site-packages (from aiohttp->datasets) (4.0.3)\n",
      "Requirement already satisfied: typing-extensions>=3.7.4.3 in /users/6/frens013/.local/lib/python3.9/site-packages (from huggingface-hub>=0.23.0->datasets) (4.12.2)\n",
      "Requirement already satisfied: charset-normalizer<4,>=2 in /common/software/install/manual/pytorch/2.1.2-pyclustertend/lib/python3.9/site-packages (from requests>=2.32.2->datasets) (3.3.2)\n",
      "Requirement already satisfied: idna<4,>=2.5 in /common/software/install/manual/pytorch/2.1.2-pyclustertend/lib/python3.9/site-packages (from requests>=2.32.2->datasets) (3.6)\n",
      "Requirement already satisfied: urllib3<3,>=1.21.1 in /common/software/install/manual/pytorch/2.1.2-pyclustertend/lib/python3.9/site-packages (from requests>=2.32.2->datasets) (2.2.1)\n",
      "Requirement already satisfied: certifi>=2017.4.17 in /common/software/install/manual/pytorch/2.1.2-pyclustertend/lib/python3.9/site-packages (from requests>=2.32.2->datasets) (2024.2.2)\n",
      "Requirement already satisfied: python-dateutil>=2.8.1 in /common/software/install/manual/pytorch/2.1.2-pyclustertend/lib/python3.9/site-packages (from pandas->datasets) (2.8.2)\n",
      "Requirement already satisfied: pytz>=2020.1 in /common/software/install/manual/pytorch/2.1.2-pyclustertend/lib/python3.9/site-packages (from pandas->datasets) (2024.1)\n",
      "Requirement already satisfied: six>=1.5 in /common/software/install/manual/pytorch/2.1.2-pyclustertend/lib/python3.9/site-packages (from python-dateutil>=2.8.1->pandas->datasets) (1.16.0)\n",
      "Note: you may need to restart the kernel to use updated packages.\n"
     ]
    }
   ],
   "source": [
    "pip install -U datasets"
   ]
  },
  {
   "cell_type": "code",
   "execution_count": null,
   "metadata": {
    "id": "eOMGFZGQ7dQL",
    "outputId": "3eeadd95-b024-40dd-9d40-e10dce3ba0fe"
   },
   "outputs": [
    {
     "name": "stdout",
     "output_type": "stream",
     "text": [
      "Defaulting to user installation because normal site-packages is not writeable\n",
      "Requirement already satisfied: scipy in /users/6/frens013/.local/lib/python3.9/site-packages (1.13.1)\n",
      "Requirement already satisfied: numpy<2.3,>=1.22.4 in /common/software/install/manual/pytorch/2.1.2-pyclustertend/lib/python3.9/site-packages (from scipy) (1.24.3)\n",
      "Note: you may need to restart the kernel to use updated packages.\n"
     ]
    }
   ],
   "source": [
    "pip install -U scipy"
   ]
  },
  {
   "cell_type": "code",
   "execution_count": null,
   "metadata": {
    "id": "jqgxxwzM7dQL",
    "outputId": "fffb837e-b301-4635-dcbf-fed282197999"
   },
   "outputs": [
    {
     "name": "stdout",
     "output_type": "stream",
     "text": [
      "Defaulting to user installation because normal site-packages is not writeable\n",
      "Requirement already satisfied: ipywidgets in /users/6/frens013/.local/lib/python3.9/site-packages (8.1.5)\n",
      "Requirement already satisfied: comm>=0.1.3 in /common/software/install/manual/pytorch/2.1.2-pyclustertend/lib/python3.9/site-packages (from ipywidgets) (0.2.1)\n",
      "Requirement already satisfied: ipython>=6.1.0 in /common/software/install/manual/pytorch/2.1.2-pyclustertend/lib/python3.9/site-packages (from ipywidgets) (8.18.1)\n",
      "Requirement already satisfied: traitlets>=4.3.1 in /common/software/install/manual/pytorch/2.1.2-pyclustertend/lib/python3.9/site-packages (from ipywidgets) (5.14.1)\n",
      "Requirement already satisfied: widgetsnbextension~=4.0.12 in /users/6/frens013/.local/lib/python3.9/site-packages (from ipywidgets) (4.0.13)\n",
      "Requirement already satisfied: jupyterlab-widgets~=3.0.12 in /users/6/frens013/.local/lib/python3.9/site-packages (from ipywidgets) (3.0.13)\n",
      "Requirement already satisfied: decorator in /common/software/install/manual/pytorch/2.1.2-pyclustertend/lib/python3.9/site-packages (from ipython>=6.1.0->ipywidgets) (5.1.1)\n",
      "Requirement already satisfied: jedi>=0.16 in /common/software/install/manual/pytorch/2.1.2-pyclustertend/lib/python3.9/site-packages (from ipython>=6.1.0->ipywidgets) (0.19.1)\n",
      "Requirement already satisfied: matplotlib-inline in /common/software/install/manual/pytorch/2.1.2-pyclustertend/lib/python3.9/site-packages (from ipython>=6.1.0->ipywidgets) (0.1.6)\n",
      "Requirement already satisfied: prompt-toolkit<3.1.0,>=3.0.41 in /common/software/install/manual/pytorch/2.1.2-pyclustertend/lib/python3.9/site-packages (from ipython>=6.1.0->ipywidgets) (3.0.42)\n",
      "Requirement already satisfied: pygments>=2.4.0 in /common/software/install/manual/pytorch/2.1.2-pyclustertend/lib/python3.9/site-packages (from ipython>=6.1.0->ipywidgets) (2.17.2)\n",
      "Requirement already satisfied: stack-data in /common/software/install/manual/pytorch/2.1.2-pyclustertend/lib/python3.9/site-packages (from ipython>=6.1.0->ipywidgets) (0.6.2)\n",
      "Requirement already satisfied: typing-extensions in /users/6/frens013/.local/lib/python3.9/site-packages (from ipython>=6.1.0->ipywidgets) (4.12.2)\n",
      "Requirement already satisfied: exceptiongroup in /common/software/install/manual/pytorch/2.1.2-pyclustertend/lib/python3.9/site-packages (from ipython>=6.1.0->ipywidgets) (1.2.0)\n",
      "Requirement already satisfied: pexpect>4.3 in /common/software/install/manual/pytorch/2.1.2-pyclustertend/lib/python3.9/site-packages (from ipython>=6.1.0->ipywidgets) (4.9.0)\n",
      "Requirement already satisfied: parso<0.9.0,>=0.8.3 in /common/software/install/manual/pytorch/2.1.2-pyclustertend/lib/python3.9/site-packages (from jedi>=0.16->ipython>=6.1.0->ipywidgets) (0.8.3)\n",
      "Requirement already satisfied: ptyprocess>=0.5 in /common/software/install/manual/pytorch/2.1.2-pyclustertend/lib/python3.9/site-packages (from pexpect>4.3->ipython>=6.1.0->ipywidgets) (0.7.0)\n",
      "Requirement already satisfied: wcwidth in /common/software/install/manual/pytorch/2.1.2-pyclustertend/lib/python3.9/site-packages (from prompt-toolkit<3.1.0,>=3.0.41->ipython>=6.1.0->ipywidgets) (0.2.13)\n",
      "Requirement already satisfied: executing>=1.2.0 in /common/software/install/manual/pytorch/2.1.2-pyclustertend/lib/python3.9/site-packages (from stack-data->ipython>=6.1.0->ipywidgets) (2.0.1)\n",
      "Requirement already satisfied: asttokens>=2.1.0 in /common/software/install/manual/pytorch/2.1.2-pyclustertend/lib/python3.9/site-packages (from stack-data->ipython>=6.1.0->ipywidgets) (2.4.1)\n",
      "Requirement already satisfied: pure-eval in /common/software/install/manual/pytorch/2.1.2-pyclustertend/lib/python3.9/site-packages (from stack-data->ipython>=6.1.0->ipywidgets) (0.2.2)\n",
      "Requirement already satisfied: six>=1.12.0 in /common/software/install/manual/pytorch/2.1.2-pyclustertend/lib/python3.9/site-packages (from asttokens>=2.1.0->stack-data->ipython>=6.1.0->ipywidgets) (1.16.0)\n",
      "Note: you may need to restart the kernel to use updated packages.\n"
     ]
    }
   ],
   "source": [
    "pip install -U ipywidgets"
   ]
  },
  {
   "cell_type": "code",
   "execution_count": null,
   "metadata": {
    "id": "_f_9AX5y7dQL",
    "outputId": "f4d39098-792b-4822-e34f-a1ff7dade86c"
   },
   "outputs": [
    {
     "name": "stdout",
     "output_type": "stream",
     "text": [
      "Defaulting to user installation because normal site-packages is not writeable\n",
      "Requirement already satisfied: matplotlib in /users/6/frens013/.local/lib/python3.9/site-packages (3.9.3)\n",
      "Requirement already satisfied: contourpy>=1.0.1 in /common/software/install/manual/pytorch/2.1.2-pyclustertend/lib/python3.9/site-packages (from matplotlib) (1.2.0)\n",
      "Requirement already satisfied: cycler>=0.10 in /common/software/install/manual/pytorch/2.1.2-pyclustertend/lib/python3.9/site-packages (from matplotlib) (0.12.1)\n",
      "Requirement already satisfied: fonttools>=4.22.0 in /common/software/install/manual/pytorch/2.1.2-pyclustertend/lib/python3.9/site-packages (from matplotlib) (4.49.0)\n",
      "Requirement already satisfied: kiwisolver>=1.3.1 in /common/software/install/manual/pytorch/2.1.2-pyclustertend/lib/python3.9/site-packages (from matplotlib) (1.4.5)\n",
      "Requirement already satisfied: numpy>=1.23 in /common/software/install/manual/pytorch/2.1.2-pyclustertend/lib/python3.9/site-packages (from matplotlib) (1.24.3)\n",
      "Requirement already satisfied: packaging>=20.0 in /common/software/install/manual/pytorch/2.1.2-pyclustertend/lib/python3.9/site-packages (from matplotlib) (23.2)\n",
      "Requirement already satisfied: pillow>=8 in /common/software/install/manual/pytorch/2.1.2-pyclustertend/lib/python3.9/site-packages (from matplotlib) (10.2.0)\n",
      "Requirement already satisfied: pyparsing>=2.3.1 in /common/software/install/manual/pytorch/2.1.2-pyclustertend/lib/python3.9/site-packages (from matplotlib) (3.1.1)\n",
      "Requirement already satisfied: python-dateutil>=2.7 in /common/software/install/manual/pytorch/2.1.2-pyclustertend/lib/python3.9/site-packages (from matplotlib) (2.8.2)\n",
      "Requirement already satisfied: importlib-resources>=3.2.0 in /common/software/install/manual/pytorch/2.1.2-pyclustertend/lib/python3.9/site-packages (from matplotlib) (6.1.2)\n",
      "Requirement already satisfied: zipp>=3.1.0 in /common/software/install/manual/pytorch/2.1.2-pyclustertend/lib/python3.9/site-packages (from importlib-resources>=3.2.0->matplotlib) (3.17.0)\n",
      "Requirement already satisfied: six>=1.5 in /common/software/install/manual/pytorch/2.1.2-pyclustertend/lib/python3.9/site-packages (from python-dateutil>=2.7->matplotlib) (1.16.0)\n",
      "Note: you may need to restart the kernel to use updated packages.\n"
     ]
    }
   ],
   "source": [
    "pip install -U matplotlib"
   ]
  },
  {
   "cell_type": "code",
   "execution_count": null,
   "metadata": {
    "id": "qoLZMTHt7dQL",
    "outputId": "3751e817-66c0-436c-dbea-56a602381739"
   },
   "outputs": [
    {
     "name": "stdout",
     "output_type": "stream",
     "text": [
      "Defaulting to user installation because normal site-packages is not writeable\n",
      "Requirement already satisfied: newsapi-python in /users/6/frens013/.local/lib/python3.9/site-packages (0.2.7)\n",
      "Requirement already satisfied: requests<3.0.0 in /users/6/frens013/.local/lib/python3.9/site-packages (from newsapi-python) (2.32.3)\n",
      "Requirement already satisfied: charset-normalizer<4,>=2 in /common/software/install/manual/pytorch/2.1.2-pyclustertend/lib/python3.9/site-packages (from requests<3.0.0->newsapi-python) (3.3.2)\n",
      "Requirement already satisfied: idna<4,>=2.5 in /common/software/install/manual/pytorch/2.1.2-pyclustertend/lib/python3.9/site-packages (from requests<3.0.0->newsapi-python) (3.6)\n",
      "Requirement already satisfied: urllib3<3,>=1.21.1 in /common/software/install/manual/pytorch/2.1.2-pyclustertend/lib/python3.9/site-packages (from requests<3.0.0->newsapi-python) (2.2.1)\n",
      "Requirement already satisfied: certifi>=2017.4.17 in /common/software/install/manual/pytorch/2.1.2-pyclustertend/lib/python3.9/site-packages (from requests<3.0.0->newsapi-python) (2024.2.2)\n",
      "Note: you may need to restart the kernel to use updated packages.\n"
     ]
    }
   ],
   "source": [
    "pip install newsapi-python"
   ]
  },
  {
   "cell_type": "markdown",
   "metadata": {
    "id": "6aK001mp7dQL"
   },
   "source": [
    "# Load Disease Table"
   ]
  },
  {
   "cell_type": "code",
   "execution_count": 1,
   "metadata": {
    "id": "k1txvCVt7dQL"
   },
   "outputs": [],
   "source": [
    "import json\n",
    "with open('diseases.json', 'r') as f:\n",
    "    # Load the JSON data from the file\n",
    "    disease_table = json.load(f)"
   ]
  },
  {
   "cell_type": "markdown",
   "metadata": {
    "id": "2Zj6vSxI7dQM"
   },
   "source": [
    "# Query API"
   ]
  },
  {
   "cell_type": "code",
   "execution_count": 2,
   "metadata": {
    "id": "phbSdR1G7dQM"
   },
   "outputs": [],
   "source": [
    "import requests\n",
    "filter_key = ['whooping', 'Fever', 'mpox', 'coli']\n",
    "url = f\"https://newsapi.org/v2/top-headlines?country=us&category=health&pageSize=100&apiKey=38a5c18e23b04ed387b8c60f83bf0b37\"\n",
    "response = requests.get(url)\n",
    "if response.status_code == 200:\n",
    "    articles = response.json().get(\"articles\", [])\n",
    "    #print(articles)\n",
    "else:\n",
    "    print(f\"Error: {response.status_code}, {response.text}\")\n",
    "\n",
    "for id in filter_key:\n",
    "    url = f\"https://newsapi.org/v2/everything?q={id}&language=en&apiKey=38a5c18e23b04ed387b8c60f83bf0b37\"\n",
    "    response = requests.get(url)\n",
    "    if response.status_code == 200:\n",
    "        articles.extend(response.json().get(\"articles\", []))\n",
    "        #print(response.json().get(\"articles\"))\n",
    "    else:\n",
    "        print(f\"Error: {response.status_code}, {response.text}\")"
   ]
  },
  {
   "cell_type": "markdown",
   "metadata": {
    "id": "ZHNsST1T7dQM"
   },
   "source": [
    "# NER for disease/location keywords"
   ]
  },
  {
   "cell_type": "code",
   "execution_count": 3,
   "metadata": {
    "colab": {
     "base_uri": "https://localhost:8080/"
    },
    "id": "ejgqyLKB7dQM",
    "outputId": "672e60f0-ed04-4f29-ceb2-bf6d979cbaca"
   },
   "outputs": [
    {
     "name": "stderr",
     "output_type": "stream",
     "text": [
      "2024-12-03 13:22:14.380273: I tensorflow/core/platform/cpu_feature_guard.cc:210] This TensorFlow binary is optimized to use available CPU instructions in performance-critical operations.\n",
      "To enable the following instructions: AVX2 FMA, in other operations, rebuild TensorFlow with the appropriate compiler flags.\n",
      "Some weights of the model checkpoint at dslim/bert-base-NER were not used when initializing BertForTokenClassification: ['bert.pooler.dense.bias', 'bert.pooler.dense.weight']\n",
      "- This IS expected if you are initializing BertForTokenClassification from the checkpoint of a model trained on another task or with another architecture (e.g. initializing a BertForSequenceClassification model from a BertForPreTraining model).\n",
      "- This IS NOT expected if you are initializing BertForTokenClassification from the checkpoint of a model that you expect to be exactly identical (initializing a BertForSequenceClassification model from a BertForSequenceClassification model).\n",
      "Device set to use cuda:0\n",
      "Device set to use cuda:0\n",
      "Asking to truncate to max_length but no maximum length is provided and the model has no predefined maximum length. Default to no truncation.\n"
     ]
    },
    {
     "name": "stdout",
     "output_type": "stream",
     "text": [
      "[{'entity': 'B-MISC', 'score': 0.99930394, 'index': 24, 'word': 'Americans', 'start': 107, 'end': 116}, {'entity': 'B-PER', 'score': 0.9997677, 'index': 26, 'word': 'Rick', 'start': 122, 'end': 126}, {'entity': 'I-PER', 'score': 0.9995826, 'index': 27, 'word': 'He', 'start': 127, 'end': 129}, {'entity': 'I-PER', 'score': 0.97837, 'index': 28, 'word': '##n', 'start': 129, 'end': 130}, {'entity': 'I-PER', 'score': 0.97271055, 'index': 29, 'word': '##line', 'start': 130, 'end': 134}]\n",
      "[{'entity': 'B-DETAILED_DESCRIPTION', 'score': 0.13359478, 'index': 1, 'word': '▁Long', 'start': 0, 'end': 4}, {'entity': 'I-DISEASE_DISORDER', 'score': 0.10011833, 'index': 3, 'word': 'VID', 'start': 7, 'end': 10}, {'entity': 'I-DETAILED_DESCRIPTION', 'score': 0.2096163, 'index': 22, 'word': '▁income', 'start': 99, 'end': 106}]\n"
     ]
    }
   ],
   "source": [
    "from transformers import AutoTokenizer, AutoModelForTokenClassification\n",
    "from transformers import pipeline\n",
    "\n",
    "tokenizer = AutoTokenizer.from_pretrained(\"dslim/bert-base-NER\")\n",
    "model = AutoModelForTokenClassification.from_pretrained(\"dslim/bert-base-NER\")\n",
    "\n",
    "loc_ner = pipeline(\"ner\", model=model, tokenizer=tokenizer)\n",
    "med_ner = pipeline(\"token-classification\", model=\"blaze999/Medical-NER\")\n",
    "example = \"Long COVID can strike anyone, rich or poor, but a growing body of evidence suggests poor and middle income Americans like Rick Henline suffer most.\"\n",
    "loc_results = loc_ner(example)\n",
    "med_results = med_ner(example)\n",
    "print(loc_results)\n",
    "print(med_results)"
   ]
  },
  {
   "cell_type": "code",
   "execution_count": 4,
   "metadata": {
    "colab": {
     "base_uri": "https://localhost:8080/"
    },
    "id": "8BECY0rz7dQM",
    "outputId": "e1f3ae6a-8f00-4634-dd12-a2ea8de8fc02"
   },
   "outputs": [
    {
     "name": "stdout",
     "output_type": "stream",
     "text": [
      "['VID']\n"
     ]
    }
   ],
   "source": [
    "# Function to reconstruct entities\n",
    "import re\n",
    "def extract_target_entity(entities):\n",
    "    target_words = []\n",
    "    start_flag = True\n",
    "    disease =\"\"\n",
    "    for entity in entities:\n",
    "        if entity['score'] < 0.1:\n",
    "            continue\n",
    "        # Check if entity type matches the target type\n",
    "        if entity['entity']=='B-DISEASE_DISORDER':\n",
    "            if disease != \"\":\n",
    "                target_words.append(disease)\n",
    "            disease = entity['word'].lstrip('▁')\n",
    "        elif entity['entity']=='I-DISEASE_DISORDER':\n",
    "            if re.search(\"\\▁\", entity['word']):\n",
    "                #print(f\"found __{entity['word']}\")\n",
    "                disease = disease + \" \" + entity['word'].lstrip('▁')\n",
    "            else:\n",
    "                #print(f\"not found __{entity['word']}\")\n",
    "                disease = disease + entity['word'].lstrip('▁')\n",
    "        elif entity['entity'] =='B-DIAGNOSTIC_PROCEDURE':\n",
    "            disease = entity['word'].lstrip('▁')\n",
    "        elif entity['entity'] == 'I-DIAGNOSTIC_PROCEDURE':\n",
    "            if re.search(\"\\▁\", entity['word']):\n",
    "                #print(f\"found __{entity['word']}\")\n",
    "                disease = disease + \" \" + entity['word'].lstrip('▁')\n",
    "            else:\n",
    "                #print(f\"not found __{entity['word']}\")\n",
    "                disease = disease + entity['word'].lstrip('▁')\n",
    "        else:\n",
    "            start_flag = False\n",
    "            if disease != \"\":\n",
    "                target_words.append(disease)\n",
    "            disease = \"\"\n",
    "    if disease!=\"\":\n",
    "        target_words.append(disease)\n",
    "\n",
    "    # Combine captured words into a single string\n",
    "    return target_words\n",
    "\n",
    "# Extract target entity\n",
    "diseases = extract_target_entity(med_results)\n",
    "print(diseases)"
   ]
  },
  {
   "cell_type": "code",
   "execution_count": 5,
   "metadata": {
    "id": "wJXizVKQ7dQM"
   },
   "outputs": [],
   "source": [
    "def lookup_disease_symptoms(disease, disease_table):\n",
    "    found_flag = False\n",
    "    for disease_name in disease_table.keys():\n",
    "        # Use regex to split by parentheses\n",
    "        #names = re.split(r'\\s*\\(|\\)\\s*', disease_name)\n",
    "        names = [name.strip() for name in re.split(r'\\s*\\(|\\)\\s*', disease_name) if name.strip()]\n",
    "\n",
    "        # Remove empty strings from the result\n",
    "        sub_names = [sub_name for sub_name in names if sub_name]\n",
    "        #print(sub_names)\n",
    "        if any(key.lower() in disease.lower() for key in sub_names):\n",
    "            found_flag = True\n",
    "            break\n",
    "    if not found_flag:\n",
    "        return None\n",
    "    return disease_name\n",
    "name = lookup_disease_symptoms(diseases[0], disease_table)"
   ]
  },
  {
   "cell_type": "code",
   "execution_count": 6,
   "metadata": {
    "colab": {
     "base_uri": "https://localhost:8080/",
     "height": 52
    },
    "id": "O5-oXni_7dQN",
    "outputId": "6a99e85f-686d-433a-cf82-30f5604812c6"
   },
   "outputs": [
    {
     "data": {
      "text/html": [
       "Long CO<span style='background-color: lightblue; padding: 2px;'>VID</span> can strike anyone, rich or poor, but a growing body of evidence suggests poor and middle income Americans like Rick Henline suffer most."
      ],
      "text/plain": [
       "<IPython.core.display.HTML object>"
      ]
     },
     "metadata": {},
     "output_type": "display_data"
    }
   ],
   "source": [
    "from IPython.display import display, HTML\n",
    "def get_entities(location_words, diseases):\n",
    "    entities = []\n",
    "    loc_dict = {\"Location\": \"US\", \"color\": \"lightgreen\"}\n",
    "    disease_dict = {\"Disease\": \"\", \"color\": \"lightblue\"}\n",
    "    for disease in diseases:\n",
    "\n",
    "        # Find disease keywords\n",
    "\n",
    "        name = lookup_disease_symptoms(disease, disease_table)\n",
    "        if lookup_disease_symptoms(disease, disease_table) is None:\n",
    "            continue\n",
    "        else:\n",
    "            disease_dict[\"Symptom\"] = disease_table[name]\n",
    "            disease_dict[\"Name\"] = name\n",
    "        #if not any(disease.lower() in key.lower() for key in disease_table.keys()):\n",
    "        #    continue\n",
    "        disease_dict[\"Disease\"] = disease\n",
    "        entities.append(disease_dict)\n",
    "        # Default location to US\n",
    "        if len(location_words) == 0:\n",
    "            entities.append(loc_dict)\n",
    "        for location in location_words:\n",
    "            loc_dict[\"Location\"] = location\n",
    "            entities.append(loc_dict)\n",
    "    #print(f\"[ENTITIES]:{entities}\")\n",
    "    return entities\n",
    "\n",
    "# Function to highlight entities\n",
    "def highlight_entities(text, entities):\n",
    "    for entity in entities:\n",
    "        if 'Disease' in entity:\n",
    "            word = entity['Disease']\n",
    "        else:\n",
    "            word = entity['Location']\n",
    "        color = entity['color']\n",
    "        # Wrap word with a span tag with background color\n",
    "        text = text.replace(\n",
    "            word,\n",
    "            f\"<span style='background-color: {color}; padding: 2px;'>{word}</span>\"\n",
    "        )\n",
    "    # Display the highlighted text in JupyterLab\n",
    "    display(HTML(text))\n",
    "location_words = [entity['word'] for entity in loc_results if entity['entity'] == 'B-LOC']\n",
    "entities = get_entities(location_words, diseases)\n",
    "highlight_entities(example, entities)"
   ]
  },
  {
   "cell_type": "code",
   "execution_count": 7,
   "metadata": {
    "colab": {
     "base_uri": "https://localhost:8080/",
     "height": 1000
    },
    "id": "YM8AvvVf7dQN",
    "outputId": "d3ddd48e-388e-4099-9db6-ac8aa03ae722"
   },
   "outputs": [
    {
     "name": "stderr",
     "output_type": "stream",
     "text": [
      "You seem to be using the pipelines sequentially on GPU. In order to maximize efficiency please use a dataset\n"
     ]
    },
    {
     "data": {
      "text/html": [
       "Scientists confront a mystery: Why have <span style='background-color: lightgreen; padding: 2px;'>U</span>.S. <span style='background-color: lightblue; padding: 2px;'>bird flu</span> cases been so mild? - STAT"
      ],
      "text/plain": [
       "<IPython.core.display.HTML object>"
      ]
     },
     "metadata": {},
     "output_type": "display_data"
    },
    {
     "data": {
      "text/html": [
       "The H5N1 <span style='background-color: lightblue; padding: 2px;'><span style='background-color: lightblue; padding: 2px;'>bird flu</span></span> outbreak in the <span style='background-color: lightgreen; padding: 2px;'><span style='background-color: lightgreen; padding: 2px;'>U</span></span>.S. has so far been shockingly mild. Researchers have some theories as to why."
      ],
      "text/plain": [
       "<IPython.core.display.HTML object>"
      ]
     },
     "metadata": {},
     "output_type": "display_data"
    },
    {
     "data": {
      "text/html": [
       "Zoo Experiment Finds 1 in 5 Animals Test Positive For <span style='background-color: lightblue; padding: 2px;'>COVID</span>-19 Virus - ScienceAlert"
      ],
      "text/plain": [
       "<IPython.core.display.HTML object>"
      ]
     },
     "metadata": {},
     "output_type": "display_data"
    },
    {
     "data": {
      "text/html": [
       "A new paper provides a stark reminder that the virus responsible for COVID-19 is still spreading, with 9 animals out of 47 testing positive for <span style='background-color: lightblue; padding: 2px;'><span style='background-color: lightblue; padding: 2px;'>SARS</span></span>-CoV-2 at a zoo in <span style='background-color: lightgreen; padding: 2px;'><span style='background-color: lightgreen; padding: 2px;'>Brazil</span></span>."
      ],
      "text/plain": [
       "<IPython.core.display.HTML object>"
      ]
     },
     "metadata": {},
     "output_type": "display_data"
    },
    {
     "data": {
      "text/html": [
       "<span style='background-color: lightgreen; padding: 2px;'>California</span> teacher dies of <span style='background-color: lightblue; padding: 2px;'>rabies</span> after animal bites her in classroom - SFGATE"
      ],
      "text/plain": [
       "<IPython.core.display.HTML object>"
      ]
     },
     "metadata": {},
     "output_type": "display_data"
    },
    {
     "data": {
      "text/html": [
       "<span style='background-color: lightgreen; padding: 2px;'>South</span> Australia experiencing 'massive' <span style='background-color: lightblue; padding: 2px;'>whooping cough</span> wave with numbers 13 times higher than last year"
      ],
      "text/plain": [
       "<IPython.core.display.HTML object>"
      ]
     },
     "metadata": {},
     "output_type": "display_data"
    },
    {
     "data": {
      "text/html": [
       "<span style='background-color: lightgreen; padding: 2px;'>South</span> Australia is currently experiencing a <span style='background-color: lightblue; padding: 2px;'>whooping cough</span> wave, with the number of reported cases already climbing to 1,349."
      ],
      "text/plain": [
       "<IPython.core.display.HTML object>"
      ]
     },
     "metadata": {},
     "output_type": "display_data"
    },
    {
     "data": {
      "text/html": [
       "Doctor on E. coli outbreaks, whooping cough, bird flu and <span style='background-color: lightblue; padding: 2px;'><span style='background-color: lightblue; padding: 2px;'><span style='background-color: lightblue; padding: 2px;'><span style='background-color: lightblue; padding: 2px;'>mpox</span></span></span></span>"
      ],
      "text/plain": [
       "<IPython.core.display.HTML object>"
      ]
     },
     "metadata": {},
     "output_type": "display_data"
    },
    {
     "data": {
      "text/html": [
       "<span style='background-color: lightblue; padding: 2px;'>Whooping cough vaccine</span> urged for children"
      ],
      "text/plain": [
       "<IPython.core.display.HTML object>"
      ]
     },
     "metadata": {},
     "output_type": "display_data"
    },
    {
     "data": {
      "text/html": [
       "<p>The Ministry of Public Health is encouraging people, especially children and those in physical contact with them, to get vaccinated against <strong><span style='background-color: lightblue; padding: 2px;'>whooping cough</span></strong>, after it started spreading in a <span style='background-color: lightgreen; padding: 2px;'>Bangkok</span> school.</p>"
      ],
      "text/plain": [
       "<IPython.core.display.HTML object>"
      ]
     },
     "metadata": {},
     "output_type": "display_data"
    },
    {
     "data": {
      "text/html": [
       "Doctors urge Australians to get vaccinated amid <span style='background-color: lightblue; padding: 2px;'>whooping cough</span> epidemic"
      ],
      "text/plain": [
       "<IPython.core.display.HTML object>"
      ]
     },
     "metadata": {},
     "output_type": "display_data"
    },
    {
     "data": {
      "text/html": [
       "Cases of <span style='background-color: lightblue; padding: 2px;'>whooping cough</span> in <span style='background-color: lightgreen; padding: 2px;'>Australia</span> this year have surpassed 40,000 as vaccination rates decline."
      ],
      "text/plain": [
       "<IPython.core.display.HTML object>"
      ]
     },
     "metadata": {},
     "output_type": "display_data"
    },
    {
     "data": {
      "text/html": [
       "New nasal vaccine shows promise in curbing <span style='background-color: lightblue; padding: 2px;'>whooping cough</span> spread"
      ],
      "text/plain": [
       "<IPython.core.display.HTML object>"
      ]
     },
     "metadata": {},
     "output_type": "display_data"
    },
    {
     "data": {
      "text/html": [
       "A new nasal <span style='background-color: lightblue; padding: 2px;'>whooping cough</span> vaccine showed an ability to prevent both infection and transmission of the disease in mice. Current vaccines offer treatment but fail to halt transmission of the bacteria that cause the disease."
      ],
      "text/plain": [
       "<IPython.core.display.HTML object>"
      ]
     },
     "metadata": {},
     "output_type": "display_data"
    },
    {
     "data": {
      "text/html": [
       "Case of <span style='background-color: lightblue; padding: 2px;'>whooping cough</span> confirmed on flight from Whitehorse to <span style='background-color: lightgreen; padding: 2px;'><span style='background-color: lightgreen; padding: 2px;'>Vancouver</span></span>"
      ],
      "text/plain": [
       "<IPython.core.display.HTML object>"
      ]
     },
     "metadata": {},
     "output_type": "display_data"
    },
    {
     "data": {
      "text/html": [
       "Yukon says its Communicable Disease Control and the territory's chief medical officer have confirmed a case of <span style='background-color: lightblue; padding: 2px;'>whooping cough</span> on a flight from Whitehorse to <span style='background-color: lightgreen; padding: 2px;'><span style='background-color: lightgreen; padding: 2px;'><span style='background-color: lightgreen; padding: 2px;'>Vancouver</span></span></span> earlier this month."
      ],
      "text/plain": [
       "<IPython.core.display.HTML object>"
      ]
     },
     "metadata": {},
     "output_type": "display_data"
    },
    {
     "data": {
      "text/html": [
       "Doctors call on parents to vaccinate children against <span style='background-color: lightblue; padding: 2px;'>whooping cough</span> as cases soar"
      ],
      "text/plain": [
       "<IPython.core.display.HTML object>"
      ]
     },
     "metadata": {},
     "output_type": "display_data"
    },
    {
     "data": {
      "text/html": [
       "The <span style='background-color: lightgreen; padding: 2px;'>UK</span> is no longer offering <span style='background-color: lightblue; padding: 2px;'>COVID</span> vaccines to pregnant women – here’s why that might be a bad idea"
      ],
      "text/plain": [
       "<IPython.core.display.HTML object>"
      ]
     },
     "metadata": {},
     "output_type": "display_data"
    },
    {
     "data": {
      "text/html": [
       "From spring 2025, pregnant women will no longer be eligible for free <span style='background-color: lightblue; padding: 2px;'>COVID vaccines</span> in the <span style='background-color: lightgreen; padding: 2px;'>UK</span>."
      ],
      "text/plain": [
       "<IPython.core.display.HTML object>"
      ]
     },
     "metadata": {},
     "output_type": "display_data"
    },
    {
     "data": {
      "text/html": [
       "<span style='background-color: lightblue; padding: 2px;'>Whooping cough</span> claims 12 lives in <span style='background-color: lightgreen; padding: 2px;'>Czech</span> Republic so far this year"
      ],
      "text/plain": [
       "<IPython.core.display.HTML object>"
      ]
     },
     "metadata": {},
     "output_type": "display_data"
    },
    {
     "data": {
      "text/html": [
       "PRAGUE, Nov. 4 (Xinhua) -- Twelve people have died from whooping cough, or <span style='background-color: lightblue; padding: 2px;'><span style='background-color: lightblue; padding: 2px;'>pertussis</span></span>, in the Czech Republic so far this year, according to the State Health Institute (SZU). Read full story"
      ],
      "text/plain": [
       "<IPython.core.display.HTML object>"
      ]
     },
     "metadata": {},
     "output_type": "display_data"
    },
    {
     "data": {
      "text/html": [
       "Respiratory illness on the rise: Doctors urge vigilance for whooping cough, <span style='background-color: lightblue; padding: 2px;'><span style='background-color: lightblue; padding: 2px;'>walking pneumonia</span></span>"
      ],
      "text/plain": [
       "<IPython.core.display.HTML object>"
      ]
     },
     "metadata": {},
     "output_type": "display_data"
    },
    {
     "data": {
      "text/html": [
       "Doctors and health officials are warning <span style='background-color: lightgreen; padding: 2px;'><span style='background-color: lightgreen; padding: 2px;'>San</span></span> Diego residents about rising cases of whooping cough and walking<span style='background-color: lightblue; padding: 2px;'><span style='background-color: lightblue; padding: 2px;'> pneumonia</span></span>, especially among young children."
      ],
      "text/plain": [
       "<IPython.core.display.HTML object>"
      ]
     },
     "metadata": {},
     "output_type": "display_data"
    },
    {
     "data": {
      "text/html": [
       "<span style='background-color: lightblue; padding: 2px;'>Whooping cough vaccine</span> numbers down in pregnant women amid huge surge in cases"
      ],
      "text/plain": [
       "<IPython.core.display.HTML object>"
      ]
     },
     "metadata": {},
     "output_type": "display_data"
    },
    {
     "data": {
      "text/html": [
       "Data shows 37 babies under six months have been admitted to <span style='background-color: lightgreen; padding: 2px;'>Queensland</span> hospitals with <span style='background-color: lightblue; padding: 2px;'>whooping cough</span> in 2024, compared to just 14 in all of 2023."
      ],
      "text/plain": [
       "<IPython.core.display.HTML object>"
      ]
     },
     "metadata": {},
     "output_type": "display_data"
    },
    {
     "data": {
      "text/html": [
       "Nasal vaccine may cut <span style='background-color: lightblue; padding: 2px;'>whooping cough</span> spread"
      ],
      "text/plain": [
       "<IPython.core.display.HTML object>"
      ]
     },
     "metadata": {},
     "output_type": "display_data"
    },
    {
     "data": {
      "text/html": [
       "Climate change plays a role in global rise of <span style='background-color: lightblue; padding: 2px;'>dengue fever</span>"
      ],
      "text/plain": [
       "<IPython.core.display.HTML object>"
      ]
     },
     "metadata": {},
     "output_type": "display_data"
    },
    {
     "data": {
      "text/html": [
       "Is It COVID, <span style='background-color: lightblue; padding: 2px;'><span style='background-color: lightblue; padding: 2px;'>Flu</span></span> or Allergies? How to Detect What's Making You Sick"
      ],
      "text/plain": [
       "<IPython.core.display.HTML object>"
      ]
     },
     "metadata": {},
     "output_type": "display_data"
    },
    {
     "data": {
      "text/html": [
       "Symptoms of viruses like COVID and <span style='background-color: lightblue; padding: 2px;'><span style='background-color: lightblue; padding: 2px;'>flu</span></span> overlap with each other, but there are ways you can narrow it down to get the treatment you need."
      ],
      "text/plain": [
       "<IPython.core.display.HTML object>"
      ]
     },
     "metadata": {},
     "output_type": "display_data"
    },
    {
     "data": {
      "text/html": [
       "Some hospitals seeing increase in RSV, 'walking <span style='background-color: lightblue; padding: 2px;'><span style='background-color: lightblue; padding: 2px;'>pneumonia</span></span>'"
      ],
      "text/plain": [
       "<IPython.core.display.HTML object>"
      ]
     },
     "metadata": {},
     "output_type": "display_data"
    },
    {
     "data": {
      "text/html": [
       "Some hospitals in the <span style='background-color: lightgreen; padding: 2px;'><span style='background-color: lightgreen; padding: 2px;'>U</span></span>.S. are seeing an increase in cases of RSV and so-called \"walking<span style='background-color: lightblue; padding: 2px;'><span style='background-color: lightblue; padding: 2px;'> pneumonia</span></span>.\" Here's what you need to know."
      ],
      "text/plain": [
       "<IPython.core.display.HTML object>"
      ]
     },
     "metadata": {},
     "output_type": "display_data"
    },
    {
     "data": {
      "text/html": [
       "<span style='background-color: lightgreen; padding: 2px;'>US</span> reports first case of emerging <span style='background-color: lightblue; padding: 2px;'>mpox</span> strain"
      ],
      "text/plain": [
       "<IPython.core.display.HTML object>"
      ]
     },
     "metadata": {},
     "output_type": "display_data"
    },
    {
     "data": {
      "text/html": [
       "What are the symptoms of foodborne illnesses like <span style='background-color: lightblue; padding: 2px;'>E. coli</span>? What to know amid a new carrot recall."
      ],
      "text/plain": [
       "<IPython.core.display.HTML object>"
      ]
     },
     "metadata": {},
     "output_type": "display_data"
    },
    {
     "data": {
      "text/html": [
       "It’s Safe to Get the COVID-19 and <span style='background-color: lightblue; padding: 2px;'><span style='background-color: lightblue; padding: 2px;'>Flu</span></span> Shots at the Same Time"
      ],
      "text/plain": [
       "<IPython.core.display.HTML object>"
      ]
     },
     "metadata": {},
     "output_type": "display_data"
    },
    {
     "data": {
      "text/html": [
       "Infant dead in <span style='background-color: lightblue; padding: 2px;'>listeria</span> outbreak tied to ready-to-eat meat and poultry brand: CDC"
      ],
      "text/plain": [
       "<IPython.core.display.HTML object>"
      ]
     },
     "metadata": {},
     "output_type": "display_data"
    },
    {
     "data": {
      "text/html": [
       "As of Friday, 11 people have been infected in four states in a <span style='background-color: lightblue; padding: 2px;'>listeria</span> outbreak linked to Yu Shang Food ready-to-eat meat and poultry products, the CDC said."
      ],
      "text/plain": [
       "<IPython.core.display.HTML object>"
      ]
     },
     "metadata": {},
     "output_type": "display_data"
    },
    {
     "data": {
      "text/html": [
       "<span style='background-color: lightgreen; padding: 2px;'>Canada</span>’s First Human Case of <span style='background-color: lightblue; padding: 2px;'>H5 Bird Flu</span> Leaves Teen in Critical Condition"
      ],
      "text/plain": [
       "<IPython.core.display.HTML object>"
      ]
     },
     "metadata": {},
     "output_type": "display_data"
    },
    {
     "data": {
      "text/html": [
       "What Are the Symptoms of <span style='background-color: lightblue; padding: 2px;'>Bird Flu</span>?"
      ],
      "text/plain": [
       "<IPython.core.display.HTML object>"
      ]
     },
     "metadata": {},
     "output_type": "display_data"
    },
    {
     "data": {
      "text/html": [
       "Bird flu has sickened 55 people in the <span style='background-color: lightgreen; padding: 2px;'><span style='background-color: lightgreen; padding: 2px;'><span style='background-color: lightgreen; padding: 2px;'><span style='background-color: lightgreen; padding: 2px;'>U</span></span></span></span>.S. this year. Here's what to know about the symptoms of H5N1 avian influenza, or <span style='background-color: lightblue; padding: 2px;'><span style='background-color: lightblue; padding: 2px;'><span style='background-color: lightblue; padding: 2px;'><span style='background-color: lightblue; padding: 2px;'>bird flu</span></span></span></span>."
      ],
      "text/plain": [
       "<IPython.core.display.HTML object>"
      ]
     },
     "metadata": {},
     "output_type": "display_data"
    },
    {
     "data": {
      "text/html": [
       "<span style='background-color: lightblue; padding: 2px;'>Bird Flu</span> Has Infected Two Young People. Here’s Why Experts Are Concerned"
      ],
      "text/plain": [
       "<IPython.core.display.HTML object>"
      ]
     },
     "metadata": {},
     "output_type": "display_data"
    },
    {
     "data": {
      "text/html": [
       "Canada’s first human case of <span style='background-color: lightblue; padding: 2px;'>bird flu</span> has left a teenager in critical condition as human infections continue to emerge in the western <span style='background-color: lightgreen; padding: 2px;'><span style='background-color: lightgreen; padding: 2px;'>U</span></span>.S."
      ],
      "text/plain": [
       "<IPython.core.display.HTML object>"
      ]
     },
     "metadata": {},
     "output_type": "display_data"
    },
    {
     "data": {
      "text/html": [
       "Deadly <span style='background-color: lightblue; padding: 2px;'>E. coli</span> outbreak linked to organic carrots sold in multiple states"
      ],
      "text/plain": [
       "<IPython.core.display.HTML object>"
      ]
     },
     "metadata": {},
     "output_type": "display_data"
    },
    {
     "data": {
      "text/html": [
       "Walking<span style='background-color: lightblue; padding: 2px;'> Pneumonia</span> is Surging in Young Kids. Here's What to Know"
      ],
      "text/plain": [
       "<IPython.core.display.HTML object>"
      ]
     },
     "metadata": {},
     "output_type": "display_data"
    },
    {
     "data": {
      "text/html": [
       "Milder cases of <span style='background-color: lightblue; padding: 2px;'><span style='background-color: lightblue; padding: 2px;'>pneumonia</span></span>, dubbed “walking <span style='background-color: lightblue; padding: 2px;'><span style='background-color: lightblue; padding: 2px;'>pneumonia</span></span>,” are on the rise in young children this year"
      ],
      "text/plain": [
       "<IPython.core.display.HTML object>"
      ]
     },
     "metadata": {},
     "output_type": "display_data"
    },
    {
     "data": {
      "text/html": [
       "The McDonald's<span style='background-color: lightblue; padding: 2px;'> E. coli</span> outbreak has now sickened more than 100 people"
      ],
      "text/plain": [
       "<IPython.core.display.HTML object>"
      ]
     },
     "metadata": {},
     "output_type": "display_data"
    },
    {
     "data": {
      "text/html": [
       "The number of <span style='background-color: lightblue; padding: 2px;'>E. coli</span> cases linked to onions used by McDonald’s has cracked 100. The Food and Drug Administration said in an update that the number of people sickened by the fast food bacteria outbreak has climbed from 90 to 104.Read more..."
      ],
      "text/plain": [
       "<IPython.core.display.HTML object>"
      ]
     },
     "metadata": {},
     "output_type": "display_data"
    },
    {
     "data": {
      "text/html": [
       "More than 72,000 pounds of meat products are being recalled in a deadly, multi-state <span style='background-color: lightblue; padding: 2px;'>listeria</span> outbreak"
      ],
      "text/plain": [
       "<IPython.core.display.HTML object>"
      ]
     },
     "metadata": {},
     "output_type": "display_data"
    },
    {
     "data": {
      "text/html": [
       "A <span style='background-color: lightblue; padding: 2px;'>listeria</span> outbreak linked to ready-to-eat meat and poultry products has left one infant dead and least 11 people sick, federal regulators are reporting.Read more..."
      ],
      "text/plain": [
       "<IPython.core.display.HTML object>"
      ]
     },
     "metadata": {},
     "output_type": "display_data"
    },
    {
     "data": {
      "text/html": [
       "Dozens of organic carrot brands got recalled in a fatal <span style='background-color: lightblue; padding: 2px;'>E. coli</span> outbreak"
      ],
      "text/plain": [
       "<IPython.core.display.HTML object>"
      ]
     },
     "metadata": {},
     "output_type": "display_data"
    },
    {
     "data": {
      "text/html": [
       "An <span style='background-color: lightblue; padding: 2px;'>E. coli</span> outbreak linked to organic carrots has left one person dead and least 39 people sick, federal regulators are reporting.Read more..."
      ],
      "text/plain": [
       "<IPython.core.display.HTML object>"
      ]
     },
     "metadata": {},
     "output_type": "display_data"
    },
    {
     "data": {
      "text/html": [
       "A more severe strain of <span style='background-color: lightblue; padding: 2px;'>mpox</span> has been detected in the <span style='background-color: lightgreen; padding: 2px;'>U</span>.S. for the first time"
      ],
      "text/plain": [
       "<IPython.core.display.HTML object>"
      ]
     },
     "metadata": {},
     "output_type": "display_data"
    },
    {
     "data": {
      "text/html": [
       "The patient was traveling from <span style='background-color: lightgreen; padding: 2px;'>East</span> Africa, where the <span style='background-color: lightblue; padding: 2px;'>mpox disease</span> is endemic. The CDC says the strain does not present a high risk to the general population."
      ],
      "text/plain": [
       "<IPython.core.display.HTML object>"
      ]
     },
     "metadata": {},
     "output_type": "display_data"
    },
    {
     "data": {
      "text/html": [
       "More Severe <span style='background-color: lightblue; padding: 2px;'>Mpox</span> Variant Found in the <span style='background-color: lightgreen; padding: 2px;'>U</span>.S. for the First Time. Here’s What We Know"
      ],
      "text/plain": [
       "<IPython.core.display.HTML object>"
      ]
     },
     "metadata": {},
     "output_type": "display_data"
    },
    {
     "data": {
      "text/html": [
       "New strain of <span style='background-color: lightblue; padding: 2px;'>mpox</span> reported in Bay Area, believed to be 1st confirmed case in <span style='background-color: lightgreen; padding: 2px;'><span style='background-color: lightgreen; padding: 2px;'>US</span></span>"
      ],
      "text/plain": [
       "<IPython.core.display.HTML object>"
      ]
     },
     "metadata": {},
     "output_type": "display_data"
    },
    {
     "data": {
      "text/html": [
       "<span style='background-color: lightgreen; padding: 2px;'>US</span> reports first case of emerging <span style='background-color: lightblue; padding: 2px;'>mpox</span> strain"
      ],
      "text/plain": [
       "<IPython.core.display.HTML object>"
      ]
     },
     "metadata": {},
     "output_type": "display_data"
    },
    {
     "data": {
      "text/html": [
       "WHO says mpox remains public health emergency of international concern"
      ],
      "text/plain": [
       "<IPython.core.display.HTML object>"
      ]
     },
     "metadata": {},
     "output_type": "display_data"
    },
    {
     "data": {
      "text/html": [
       "Fifth person with <span style='background-color: lightblue; padding: 2px;'>mpox</span> confirmed in <span style='background-color: lightgreen; padding: 2px;'>England</span>"
      ],
      "text/plain": [
       "<IPython.core.display.HTML object>"
      ]
     },
     "metadata": {},
     "output_type": "display_data"
    },
    {
     "data": {
      "text/html": [
       "Two new cases of more spreadable<span style='background-color: lightblue; padding: 2px;'> mpox</span> found in <span style='background-color: lightgreen; padding: 2px;'>UK</span>"
      ],
      "text/plain": [
       "<IPython.core.display.HTML object>"
      ]
     },
     "metadata": {},
     "output_type": "display_data"
    },
    {
     "data": {
      "text/html": [
       "<span style='background-color: lightgreen; padding: 2px;'>US</span> reports first known case of new strain of <span style='background-color: lightblue; padding: 2px;'>mpox</span>"
      ],
      "text/plain": [
       "<IPython.core.display.HTML object>"
      ]
     },
     "metadata": {},
     "output_type": "display_data"
    },
    {
     "data": {
      "text/html": [
       "Gay men have been cautious about<span style='background-color: lightblue; padding: 2px;'> mpox</span>. Will a second Donald Trump term set them back?"
      ],
      "text/plain": [
       "<IPython.core.display.HTML object>"
      ]
     },
     "metadata": {},
     "output_type": "display_data"
    },
    {
     "data": {
      "text/html": [
       "Gay men may be more trusting of medicine than other groups, but the incoming Trump Administration will need more than their willingness to continue combating<span style='background-color: lightblue; padding: 2px;'> mpox</span>."
      ],
      "text/plain": [
       "<IPython.core.display.HTML object>"
      ]
     },
     "metadata": {},
     "output_type": "display_data"
    },
    {
     "data": {
      "text/html": [
       "First Case of <span style='background-color: lightblue; padding: 2px;'>Mpox</span> Detected in <span style='background-color: lightgreen; padding: 2px;'>Canada</span>"
      ],
      "text/plain": [
       "<IPython.core.display.HTML object>"
      ]
     },
     "metadata": {},
     "output_type": "display_data"
    },
    {
     "data": {
      "text/html": [
       "MOSCOW (Sputnik) - The first case of <span style='background-color: lightblue; padding: 2px;'>mpox</span>, also known as monkeypox, has been detected in the central Canadian province of <span style='background-color: lightgreen; padding: 2px;'>Manitoba</span>, according to a statement published on the local government's website."
      ],
      "text/plain": [
       "<IPython.core.display.HTML object>"
      ]
     },
     "metadata": {},
     "output_type": "display_data"
    },
    {
     "data": {
      "text/html": [
       "Doctor on E. coli outbreaks, whooping cough, bird flu and <span style='background-color: lightblue; padding: 2px;'><span style='background-color: lightblue; padding: 2px;'><span style='background-color: lightblue; padding: 2px;'><span style='background-color: lightblue; padding: 2px;'>mpox</span></span></span></span>"
      ],
      "text/plain": [
       "<IPython.core.display.HTML object>"
      ]
     },
     "metadata": {},
     "output_type": "display_data"
    },
    {
     "data": {
      "text/html": [
       "<span style='background-color: lightgreen; padding: 2px;'>U</span>.S. confirms first case of more aggressive strain of <span style='background-color: lightblue; padding: 2px;'>mpox</span>"
      ],
      "text/plain": [
       "<IPython.core.display.HTML object>"
      ]
     },
     "metadata": {},
     "output_type": "display_data"
    },
    {
     "data": {
      "text/html": [
       "The <span style='background-color: lightgreen; padding: 2px;'>U</span>.S. has reported its first case of a more aggressive strain of mpox. The WHO declared the virus' spread a public health emergency in August."
      ],
      "text/plain": [
       "<IPython.core.display.HTML object>"
      ]
     },
     "metadata": {},
     "output_type": "display_data"
    },
    {
     "data": {
      "text/html": [
       "More Severe <span style='background-color: lightblue; padding: 2px;'>Mpox</span> Strain Appears in <span style='background-color: lightgreen; padding: 2px;'>US</span>: What We Know"
      ],
      "text/plain": [
       "<IPython.core.display.HTML object>"
      ]
     },
     "metadata": {},
     "output_type": "display_data"
    },
    {
     "data": {
      "text/html": [
       "Optical biosensor rapidly detects <span style='background-color: lightblue; padding: 2px;'>mpox virus</span>"
      ],
      "text/plain": [
       "<IPython.core.display.HTML object>"
      ]
     },
     "metadata": {},
     "output_type": "display_data"
    },
    {
     "data": {
      "text/html": [
       "Researchers have developed an optical biosensor that detects the virus that causes <span style='background-color: lightblue; padding: 2px;'>mpox</span>. The technology could make diagnosis much faster and cost-effective as the disease continues to spread worldwide."
      ],
      "text/plain": [
       "<IPython.core.display.HTML object>"
      ]
     },
     "metadata": {},
     "output_type": "display_data"
    },
    {
     "data": {
      "text/html": [
       "Health officials report first case of new form of <span style='background-color: lightblue; padding: 2px;'>mpox</span> in <span style='background-color: lightgreen; padding: 2px;'>US</span>"
      ],
      "text/plain": [
       "<IPython.core.display.HTML object>"
      ]
     },
     "metadata": {},
     "output_type": "display_data"
    },
    {
     "data": {
      "text/html": [
       "NEW YORK — Health officials said Saturday they have confirmed the first U.S. case of a new form of <span style='background-color: lightblue; padding: 2px;'>mpox</span> that was first seen in eastern Congo. \n",
       "\n",
       "\n",
       "The person had traveled to eastern Africa and was treated in <span style='background-color: lightgreen; padding: 2px;'><span style='background-color: lightgreen; padding: 2px;'><span style='background-color: lightgreen; padding: 2px;'><span style='background-color: lightgreen; padding: 2px;'>Northern</span></span></span></span> California upon return, according to the Cal…"
      ],
      "text/plain": [
       "<IPython.core.display.HTML object>"
      ]
     },
     "metadata": {},
     "output_type": "display_data"
    },
    {
     "data": {
      "text/html": [
       "Vaccine doses allocated for 9 African countries hardest hit by <span style='background-color: lightblue; padding: 2px;'>mpox</span>"
      ],
      "text/plain": [
       "<IPython.core.display.HTML object>"
      ]
     },
     "metadata": {},
     "output_type": "display_data"
    },
    {
     "data": {
      "text/html": [
       "How Severe Is the <span style='background-color: lightblue; padding: 2px;'>Mpox</span> Strain Confirmed in <span style='background-color: lightgreen; padding: 2px;'>California</span>?"
      ],
      "text/plain": [
       "<IPython.core.display.HTML object>"
      ]
     },
     "metadata": {},
     "output_type": "display_data"
    },
    {
     "data": {
      "text/html": [
       "<span style='background-color: lightblue; padding: 2px;'>Mpox</span> Cases Plateau in Congo's <span style='background-color: lightgreen; padding: 2px;'><span style='background-color: lightgreen; padding: 2px;'>Epic</span></span>enter But Rise in Other Countries"
      ],
      "text/plain": [
       "<IPython.core.display.HTML object>"
      ]
     },
     "metadata": {},
     "output_type": "display_data"
    },
    {
     "data": {
      "text/html": [
       "Congo reported fewer than 100 <span style='background-color: lightblue; padding: 2px;'>mpox</span> cases last week, down from nearly 400 in July but infections have risen in Burundi and <span style='background-color: lightgreen; padding: 2px;'><span style='background-color: lightgreen; padding: 2px;'><span style='background-color: lightgreen; padding: 2px;'><span style='background-color: lightgreen; padding: 2px;'>Uganda</span></span></span></span>."
      ],
      "text/plain": [
       "<IPython.core.display.HTML object>"
      ]
     },
     "metadata": {},
     "output_type": "display_data"
    },
    {
     "data": {
      "text/html": [
       "Potential single-dose <span style='background-color: lightblue; padding: 2px;'>smallpox</span> and mpox vaccine moves forward"
      ],
      "text/plain": [
       "<IPython.core.display.HTML object>"
      ]
     },
     "metadata": {},
     "output_type": "display_data"
    },
    {
     "data": {
      "text/html": [
       "An FDA-approved vaccine for smallpox and <span style='background-color: lightblue; padding: 2px;'><span style='background-color: lightblue; padding: 2px;'>mpox</span></span> is effective but causes side effects. The other requires multiple doses. An experimental single-dose vaccine uses the horsepox virus to harness the benefits of both strategies."
      ],
      "text/plain": [
       "<IPython.core.display.HTML object>"
      ]
     },
     "metadata": {},
     "output_type": "display_data"
    },
    {
     "data": {
      "text/html": [
       "<span style='background-color: lightblue; padding: 2px;'>Mpox</span> cases in <span style='background-color: lightgreen; padding: 2px;'>Congo</span> may be stabilizing, but more vaccines needed to stamp out virus"
      ],
      "text/plain": [
       "<IPython.core.display.HTML object>"
      ]
     },
     "metadata": {},
     "output_type": "display_data"
    },
    {
     "data": {
      "text/html": [
       "Goma, <span style='background-color: lightgreen; padding: 2px;'><span style='background-color: lightgreen; padding: 2px;'><span style='background-color: lightgreen; padding: 2px;'>Congo</span></span></span> — Some health officials say mpox cases in <span style='background-color: lightgreen; padding: 2px;'><span style='background-color: lightgreen; padding: 2px;'><span style='background-color: lightgreen; padding: 2px;'>Congo</span></span></span> appear to be “stabilizing” — a possible sign that the main epidemic for which the World Health Organization made a global emergency declaration in August might be on the decline.  \n",
       "\n",
       "\n",
       "In recent weeks,…"
      ],
      "text/plain": [
       "<IPython.core.display.HTML object>"
      ]
     },
     "metadata": {},
     "output_type": "display_data"
    },
    {
     "data": {
      "text/html": [
       "<span style='background-color: lightblue; padding: 2px;'>Mpox</span>: <span style='background-color: lightgreen; padding: 2px;'>US</span> reports first clade Ib case as campaigners call for cheaper tests"
      ],
      "text/plain": [
       "<IPython.core.display.HTML object>"
      ]
     },
     "metadata": {},
     "output_type": "display_data"
    },
    {
     "data": {
      "text/html": [
       "<span style='background-color: lightblue; padding: 2px;'>Mpox</span>: <span style='background-color: lightgreen; padding: 2px;'>UK</span> reports new case of clade Ib infection"
      ],
      "text/plain": [
       "<IPython.core.display.HTML object>"
      ]
     },
     "metadata": {},
     "output_type": "display_data"
    },
    {
     "data": {
      "text/html": [
       "<span style='background-color: lightgreen; padding: 2px;'>Africa</span> CDC endorses first locally made <span style='background-color: lightblue; padding: 2px;'>mpox</span> test"
      ],
      "text/plain": [
       "<IPython.core.display.HTML object>"
      ]
     },
     "metadata": {},
     "output_type": "display_data"
    },
    {
     "data": {
      "text/html": [
       "The African Union’s health watchdog announced on Thursday that it has endorsed an <span style='background-color: lightblue; padding: 2px;'>mpox</span> test from <span style='background-color: lightgreen; padding: 2px;'>Morocco</span>, describing it as a “major milestone” in efforts to combat the outbreak on the continent. The announcement comes three months after the Africa Centres for…"
      ],
      "text/plain": [
       "<IPython.core.display.HTML object>"
      ]
     },
     "metadata": {},
     "output_type": "display_data"
    },
    {
     "data": {
      "text/html": [
       "WHO: 2 UK <span style='background-color: lightblue; padding: 2px;'>mpox</span> cases first local transmissions in <span style='background-color: lightgreen; padding: 2px;'><span style='background-color: lightgreen; padding: 2px;'>Europe</span></span>"
      ],
      "text/plain": [
       "<IPython.core.display.HTML object>"
      ]
     },
     "metadata": {},
     "output_type": "display_data"
    },
    {
     "data": {
      "text/html": [
       "Stopping<span style='background-color: lightblue; padding: 2px;'> mpox</span>: wild meat markets are a root cause and must be made safer"
      ],
      "text/plain": [
       "<IPython.core.display.HTML object>"
      ]
     },
     "metadata": {},
     "output_type": "display_data"
    },
    {
     "data": {
      "text/html": [
       "Strategies to beat a disease outbreak like <span style='background-color: lightblue; padding: 2px;'>mpox</span> must start with the root causes."
      ],
      "text/plain": [
       "<IPython.core.display.HTML object>"
      ]
     },
     "metadata": {},
     "output_type": "display_data"
    },
    {
     "data": {
      "text/html": [
       "Red Cross warns as <span style='background-color: lightblue; padding: 2px;'>Mpox</span> cases hit 108"
      ],
      "text/plain": [
       "<IPython.core.display.HTML object>"
      ]
     },
     "metadata": {},
     "output_type": "display_data"
    },
    {
     "data": {
      "text/html": [
       "The Director of Health and Care at the <span style='background-color: lightgreen; padding: 2px;'>Nigeria</span>n Red Cross, Dr Mannir Jega, has said <span style='background-color: lightgreen; padding: 2px;'>Nigeria</span> is grappling with a rising number of <span style='background-color: lightblue; padding: 2px;'>Mpox</span> cases, with 108 confirmed cases reported across 27 states. Speaking at a training programme for health workers drawn from 15 …"
      ],
      "text/plain": [
       "<IPython.core.display.HTML object>"
      ]
     },
     "metadata": {},
     "output_type": "display_data"
    },
    {
     "data": {
      "text/html": [
       "US health officials report first case of new form of <span style='background-color: lightblue; padding: 2px;'>mpox</span> in man who visited <span style='background-color: lightgreen; padding: 2px;'><span style='background-color: lightgreen; padding: 2px;'>Africa</span></span>"
      ],
      "text/plain": [
       "<IPython.core.display.HTML object>"
      ]
     },
     "metadata": {},
     "output_type": "display_data"
    },
    {
     "data": {
      "text/html": [
       "Health officials in the United States said tonight they have confirmed the first U.S. case of a new form of <span style='background-color: lightblue; padding: 2px;'>mpox</span> that was first seen in eastern <span style='background-color: lightgreen; padding: 2px;'><span style='background-color: lightgreen; padding: 2px;'><span style='background-color: lightgreen; padding: 2px;'>Congo</span></span></span>."
      ],
      "text/plain": [
       "<IPython.core.display.HTML object>"
      ]
     },
     "metadata": {},
     "output_type": "display_data"
    },
    {
     "data": {
      "text/html": [
       "World News in Brief: <span style='background-color: lightblue; padding: 2px;'>Mpox</span> update, Haiti violence, deadly strikes in Ukraine, <span style='background-color: lightgreen; padding: 2px;'><span style='background-color: lightgreen; padding: 2px;'><span style='background-color: lightgreen; padding: 2px;'>Pakistan</span></span></span> attack condemned"
      ],
      "text/plain": [
       "<IPython.core.display.HTML object>"
      ]
     },
     "metadata": {},
     "output_type": "display_data"
    },
    {
     "data": {
      "text/html": [
       "The mpox outbreak continues to constitute a public health emergency of international concern, the World Health Organization (WHO) said in a statement on Friday following the conclusion of a meeting of its emergency committee convened in <span style='background-color: lightgreen; padding: 2px;'>Geneva</span>."
      ],
      "text/plain": [
       "<IPython.core.display.HTML object>"
      ]
     },
     "metadata": {},
     "output_type": "display_data"
    },
    {
     "data": {
      "text/html": [
       "New case of <span style='background-color: lightblue; padding: 2px;'>mpox</span> detected in <span style='background-color: lightgreen; padding: 2px;'>UK</span>"
      ],
      "text/plain": [
       "<IPython.core.display.HTML object>"
      ]
     },
     "metadata": {},
     "output_type": "display_data"
    },
    {
     "data": {
      "text/html": [
       "Another case of the new strain of <span style='background-color: lightblue; padding: 2px;'>mpox</span> has been detected in the <span style='background-color: lightgreen; padding: 2px;'>UK</span>, health officials have said."
      ],
      "text/plain": [
       "<IPython.core.display.HTML object>"
      ]
     },
     "metadata": {},
     "output_type": "display_data"
    },
    {
     "data": {
      "text/html": [
       "WHO, Africa CDC strengthen <span style='background-color: lightblue; padding: 2px;'>Mpox</span> vaccination in <span style='background-color: lightgreen; padding: 2px;'>Nigeria</span>, 16 other countries"
      ],
      "text/plain": [
       "<IPython.core.display.HTML object>"
      ]
     },
     "metadata": {},
     "output_type": "display_data"
    },
    {
     "data": {
      "text/html": [
       "<span style='background-color: lightgreen; padding: 2px;'>UK</span> confirms two new <span style='background-color: lightblue; padding: 2px;'>mpox</span> cases"
      ],
      "text/plain": [
       "<IPython.core.display.HTML object>"
      ]
     },
     "metadata": {},
     "output_type": "display_data"
    },
    {
     "data": {
      "text/html": [
       "The UK Health Security Agency has confirmed two additional cases of Clade Ib <span style='background-color: lightblue; padding: 2px;'>mpox</span>, bringing the total number of cases in the country to three. These new infections have been traced to household contacts of the initial case, emphasising the virus’s potential f…"
      ],
      "text/plain": [
       "<IPython.core.display.HTML object>"
      ]
     },
     "metadata": {},
     "output_type": "display_data"
    },
    {
     "data": {
      "text/html": [
       "<span style='background-color: lightgreen; padding: 2px;'>UK</span> reports two additional cases of deadly new <span style='background-color: lightblue; padding: 2px;'>mpox</span> variant"
      ],
      "text/plain": [
       "<IPython.core.display.HTML object>"
      ]
     },
     "metadata": {},
     "output_type": "display_data"
    },
    {
     "data": {
      "text/html": [
       "<span style='background-color: lightgreen; padding: 2px;'>UK</span> cases of deadly new <span style='background-color: lightblue; padding: 2px;'>mpox</span> variant rise to 4"
      ],
      "text/plain": [
       "<IPython.core.display.HTML object>"
      ]
     },
     "metadata": {},
     "output_type": "display_data"
    },
    {
     "data": {
      "text/html": [
       "WHO says <span style='background-color: lightblue; padding: 2px;'>mpox</span> cases in <span style='background-color: lightgreen; padding: 2px;'>Congo</span>'s epicenter where the new variant was detected may be 'plateauing'"
      ],
      "text/plain": [
       "<IPython.core.display.HTML object>"
      ]
     },
     "metadata": {},
     "output_type": "display_data"
    },
    {
     "data": {
      "text/html": [
       "The World Health Organization says <span style='background-color: lightblue; padding: 2px;'>mpox</span> cases in the region of Congo where a new and more infectious variant was first detected appear to be “plateauing,” even as the virus continues to increase in other regions of the country, as well as in <span style='background-color: lightgreen; padding: 2px;'><span style='background-color: lightgreen; padding: 2px;'>B</span></span>urundi an..."
      ],
      "text/plain": [
       "<IPython.core.display.HTML object>"
      ]
     },
     "metadata": {},
     "output_type": "display_data"
    },
    {
     "data": {
      "text/html": [
       "Health advocates press Cepheid for cheaper <span style='background-color: lightblue; padding: 2px;'>mpox</span> tests"
      ],
      "text/plain": [
       "<IPython.core.display.HTML object>"
      ]
     },
     "metadata": {},
     "output_type": "display_data"
    },
    {
     "data": {
      "text/html": [
       "Health advocates press Cepheid for cheaper <span style='background-color: lightblue; padding: 2px;'>mpox</span> tests"
      ],
      "text/plain": [
       "<IPython.core.display.HTML object>"
      ]
     },
     "metadata": {},
     "output_type": "display_data"
    },
    {
     "data": {
      "text/html": [
       "<span style='background-color: lightgreen; padding: 2px;'>US</span> health officials report 1st case of new form of <span style='background-color: lightblue; padding: 2px;'>mpox</span> in a traveler"
      ],
      "text/plain": [
       "<IPython.core.display.HTML object>"
      ]
     },
     "metadata": {},
     "output_type": "display_data"
    },
    {
     "data": {
      "text/html": [
       "Health officials say they have confirmed the first U.S. case of a new form of <span style='background-color: lightblue; padding: 2px;'>mpox</span> that was first seen in eastern <span style='background-color: lightgreen; padding: 2px;'><span style='background-color: lightgreen; padding: 2px;'>Congo</span></span>"
      ],
      "text/plain": [
       "<IPython.core.display.HTML object>"
      ]
     },
     "metadata": {},
     "output_type": "display_data"
    },
    {
     "data": {
      "text/html": [
       "More Severe <span style='background-color: lightblue; padding: 2px;'>Mpox</span> Strain Appears in <span style='background-color: lightgreen; padding: 2px;'>US</span>: What We Know"
      ],
      "text/plain": [
       "<IPython.core.display.HTML object>"
      ]
     },
     "metadata": {},
     "output_type": "display_data"
    },
    {
     "data": {
      "text/html": [
       "The <span style='background-color: lightgreen; padding: 2px;'><span style='background-color: lightgreen; padding: 2px;'><span style='background-color: lightgreen; padding: 2px;'><span style='background-color: lightgreen; padding: 2px;'>California</span></span></span></span> Department of Health confirmed on Saturday the first case of clade I mpox in the United States.\n",
       "Where Is the Case?\n",
       "The first confirmed case of clade I mpox is in <span style='background-color: lightgreen; padding: 2px;'><span style='background-color: lightgreen; padding: 2px;'><span style='background-color: lightgreen; padding: 2px;'><span style='background-color: lightgreen; padding: 2px;'>California</span></span></span></span> after the health department conducted laboratory testing on the individ…"
      ],
      "text/plain": [
       "<IPython.core.display.HTML object>"
      ]
     },
     "metadata": {},
     "output_type": "display_data"
    },
    {
     "data": {
      "text/html": [
       "How Severe Is the <span style='background-color: lightblue; padding: 2px;'>Mpox</span> Strain Confirmed in <span style='background-color: lightgreen; padding: 2px;'>California</span>?"
      ],
      "text/plain": [
       "<IPython.core.display.HTML object>"
      ]
     },
     "metadata": {},
     "output_type": "display_data"
    },
    {
     "data": {
      "text/html": [
       "Suspected <span style='background-color: lightblue; padding: 2px;'>mpox</span> patient tests negative"
      ],
      "text/plain": [
       "<IPython.core.display.HTML object>"
      ]
     },
     "metadata": {},
     "output_type": "display_data"
    },
    {
     "data": {
      "text/html": [
       "A suspected mpox patient in Trichy has tested negative for the virus after fleeing from a hospital. The man from Sharjah was initially screened due to symptoms resembling mpox but was later found to have <span style='background-color: lightblue; padding: 2px;'><span style='background-color: lightblue; padding: 2px;'><span style='background-color: lightblue; padding: 2px;'>chickenpox</span></span></span>. Health officials confirm there is no danger…"
      ],
      "text/plain": [
       "<IPython.core.display.HTML object>"
      ]
     },
     "metadata": {},
     "output_type": "display_data"
    },
    {
     "data": {
      "text/html": [
       "<span style='background-color: lightblue; padding: 2px;'>Mpox vaccine</span> doses divvied up for 9 African countries"
      ],
      "text/plain": [
       "<IPython.core.display.HTML object>"
      ]
     },
     "metadata": {},
     "output_type": "display_data"
    },
    {
     "data": {
      "text/html": [
       "An initial 899,000 vaccine doses have been allocated for nine countries across <span style='background-color: lightgreen; padding: 2px;'>Africa</span> that have been hit hard by the current <span style='background-color: lightblue; padding: 2px;'>mpox</span> surge, the WHO and other health organizations say."
      ],
      "text/plain": [
       "<IPython.core.display.HTML object>"
      ]
     },
     "metadata": {},
     "output_type": "display_data"
    },
    {
     "data": {
      "text/html": [
       "Health advocates press Cepheid for cheaper <span style='background-color: lightblue; padding: 2px;'>mpox</span> tests"
      ],
      "text/plain": [
       "<IPython.core.display.HTML object>"
      ]
     },
     "metadata": {},
     "output_type": "display_data"
    },
    {
     "data": {
      "text/html": [
       "By Jennifer Rigby\n",
       "LONDON (Reuters) - Global health advocates have written to the makers of a key mpox diagnostic test to call for its price to be cut from around $20 per test to $5, to help tackle low testing rates in poorer countries badly hit by the virus.\n",
       "…"
      ],
      "text/plain": [
       "<IPython.core.display.HTML object>"
      ]
     },
     "metadata": {},
     "output_type": "display_data"
    },
    {
     "data": {
      "text/html": [
       "<span style='background-color: lightblue; padding: 2px;'>Mpox</span> cases in <span style='background-color: lightgreen; padding: 2px;'>Congo</span> may be stabilizing. Experts say more vaccines are needed to stamp out virus"
      ],
      "text/plain": [
       "<IPython.core.display.HTML object>"
      ]
     },
     "metadata": {},
     "output_type": "display_data"
    },
    {
     "data": {
      "text/html": [
       "Some health officials say <span style='background-color: lightblue; padding: 2px;'>mpox</span> cases in <span style='background-color: lightgreen; padding: 2px;'>Congo</span> appear to be “stabilizing.”"
      ],
      "text/plain": [
       "<IPython.core.display.HTML object>"
      ]
     },
     "metadata": {},
     "output_type": "display_data"
    },
    {
     "data": {
      "text/html": [
       "<span style='background-color: lightblue; padding: 2px;'>Mpox</span> Cases Plateau in Congo's <span style='background-color: lightgreen; padding: 2px;'><span style='background-color: lightgreen; padding: 2px;'>Epic</span></span>enter But Rise in Other Countries"
      ],
      "text/plain": [
       "<IPython.core.display.HTML object>"
      ]
     },
     "metadata": {},
     "output_type": "display_data"
    },
    {
     "data": {
      "text/html": [
       "The World Health Organization (WHO) has noted signs of stabilization in <span style='background-color: lightblue; padding: 2px;'>mpox</span> cases in the South Kivu region of the <span style='background-color: lightgreen; padding: 2px;'><span style='background-color: lightgreen; padding: 2px;'>Congo</span></span>, where a more infectious variant of the virus was first detected.\n",
       "Despite a rise in cases in other areas, WHO reported Monday that the epi…"
      ],
      "text/plain": [
       "<IPython.core.display.HTML object>"
      ]
     },
     "metadata": {},
     "output_type": "display_data"
    },
    {
     "data": {
      "text/html": [
       "The McDonald’s <span style='background-color: lightblue; padding: 2px;'>E. Coli</span> Outbreak Was Worse Than We Thought"
      ],
      "text/plain": [
       "<IPython.core.display.HTML object>"
      ]
     },
     "metadata": {},
     "output_type": "display_data"
    },
    {
     "data": {
      "text/html": [
       "People in at least 14 states caught a nasty strain of <span style='background-color: lightblue; padding: 2px;'>E. coli</span> from tainted onions used in McDonald's Quarter Pounders, though the immediate danger has likely now passed."
      ],
      "text/plain": [
       "<IPython.core.display.HTML object>"
      ]
     },
     "metadata": {},
     "output_type": "display_data"
    },
    {
     "data": {
      "text/html": [
       "More than 100,000 pounds of ground beef are recalled for possibly having <span style='background-color: lightblue; padding: 2px;'>E. coli</span>"
      ],
      "text/plain": [
       "<IPython.core.display.HTML object>"
      ]
     },
     "metadata": {},
     "output_type": "display_data"
    },
    {
     "data": {
      "text/html": [
       "McDonald's is reportedly spending $100 million to help lure customers back after the <span style='background-color: lightblue; padding: 2px;'>E. coli</span> outbreak"
      ],
      "text/plain": [
       "<IPython.core.display.HTML object>"
      ]
     },
     "metadata": {},
     "output_type": "display_data"
    },
    {
     "data": {
      "text/html": [
       "Deadly <span style='background-color: lightblue; padding: 2px;'>E. coli</span> outbreak linked to organic carrots sold in multiple states"
      ],
      "text/plain": [
       "<IPython.core.display.HTML object>"
      ]
     },
     "metadata": {},
     "output_type": "display_data"
    },
    {
     "data": {
      "text/html": [
       "What are the symptoms of foodborne illnesses like <span style='background-color: lightblue; padding: 2px;'>E. coli</span>? What to know amid a new carrot recall."
      ],
      "text/plain": [
       "<IPython.core.display.HTML object>"
      ]
     },
     "metadata": {},
     "output_type": "display_data"
    },
    {
     "data": {
      "text/html": [
       "<span style='background-color: lightblue; padding: 2px;'>E. Coli</span> Outbreak Linked to Organic Carrots Sold in 18 <span style='background-color: lightgreen; padding: 2px;'>States</span>"
      ],
      "text/plain": [
       "<IPython.core.display.HTML object>"
      ]
     },
     "metadata": {},
     "output_type": "display_data"
    },
    {
     "data": {
      "text/html": [
       "More than 160,000 pounds of ground beef are being recalled nationwide in an <span style='background-color: lightblue; padding: 2px;'>E. coli</span> outbreak"
      ],
      "text/plain": [
       "<IPython.core.display.HTML object>"
      ]
     },
     "metadata": {},
     "output_type": "display_data"
    },
    {
     "data": {
      "text/html": [
       "<span style='background-color: lightblue; padding: 2px;'>E. Coli</span> Outbreak Across At Least 18 States Causes Organic Carrot Recall"
      ],
      "text/plain": [
       "<IPython.core.display.HTML object>"
      ]
     },
     "metadata": {},
     "output_type": "display_data"
    },
    {
     "data": {
      "text/html": [
       "<span style='background-color: lightblue; padding: 2px;'>E. coli</span> outbreak linked to carrots reaches <span style='background-color: lightgreen; padding: 2px;'>North</span> Carolina: See which brands are recalled"
      ],
      "text/plain": [
       "<IPython.core.display.HTML object>"
      ]
     },
     "metadata": {},
     "output_type": "display_data"
    },
    {
     "data": {
      "text/html": [
       "Dozens of organic carrot brands got recalled in a fatal <span style='background-color: lightblue; padding: 2px;'>E. coli</span> outbreak"
      ],
      "text/plain": [
       "<IPython.core.display.HTML object>"
      ]
     },
     "metadata": {},
     "output_type": "display_data"
    },
    {
     "data": {
      "text/html": [
       "An <span style='background-color: lightblue; padding: 2px;'>E. coli</span> outbreak linked to organic carrots has left one person dead and least 39 people sick, federal regulators are reporting.Read more..."
      ],
      "text/plain": [
       "<IPython.core.display.HTML object>"
      ]
     },
     "metadata": {},
     "output_type": "display_data"
    },
    {
     "data": {
      "text/html": [
       "More than 160,000 pounds of ground beef are being recalled nationwide in an <span style='background-color: lightblue; padding: 2px;'>E. coli</span> outbreak"
      ],
      "text/plain": [
       "<IPython.core.display.HTML object>"
      ]
     },
     "metadata": {},
     "output_type": "display_data"
    },
    {
     "data": {
      "text/html": [
       "Raw Milk Batch Recalled In <span style='background-color: lightgreen; padding: 2px;'>California</span> Over <span style='background-color: lightblue; padding: 2px;'>Bird Flu Contamination</span>: Here's What to Know"
      ],
      "text/plain": [
       "<IPython.core.display.HTML object>"
      ]
     },
     "metadata": {},
     "output_type": "display_data"
    },
    {
     "data": {
      "text/html": [
       "The McDonald's<span style='background-color: lightblue; padding: 2px;'> E. coli</span> outbreak has now sickened more than 100 people"
      ],
      "text/plain": [
       "<IPython.core.display.HTML object>"
      ]
     },
     "metadata": {},
     "output_type": "display_data"
    },
    {
     "data": {
      "text/html": [
       "The number of <span style='background-color: lightblue; padding: 2px;'>E. coli</span> cases linked to onions used by McDonald’s has cracked 100. The Food and Drug Administration said in an update that the number of people sickened by the fast food bacteria outbreak has climbed from 90 to 104.Read more..."
      ],
      "text/plain": [
       "<IPython.core.display.HTML object>"
      ]
     },
     "metadata": {},
     "output_type": "display_data"
    },
    {
     "data": {
      "text/html": [
       "Deadly <span style='background-color: lightblue; padding: 2px;'>E. Coli</span> Outbreak Linked To Carrots Sold At Major Chains: Here’s What To Know"
      ],
      "text/plain": [
       "<IPython.core.display.HTML object>"
      ]
     },
     "metadata": {},
     "output_type": "display_data"
    },
    {
     "data": {
      "text/html": [
       "The carrot recall comes after an <span style='background-color: lightblue; padding: 2px;'>E. coli</span> outbreak linked to slivered onions in McDonald’s Quarter Pounder hamburgers last month."
      ],
      "text/plain": [
       "<IPython.core.display.HTML object>"
      ]
     },
     "metadata": {},
     "output_type": "display_data"
    },
    {
     "data": {
      "text/html": [
       "4 More <span style='background-color: lightblue; padding: 2px;'>E. Coli</span> Cases Reported Amid Nationwide Recall Of Wolverine Packing Co. Ground Beef"
      ],
      "text/plain": [
       "<IPython.core.display.HTML object>"
      ]
     },
     "metadata": {},
     "output_type": "display_data"
    },
    {
     "data": {
      "text/html": [
       "The outbreak is linked to the same <span style='background-color: lightblue; padding: 2px;'>E. Coli</span> strain that contaminated onions used by McDonalds and other fast food chains last month."
      ],
      "text/plain": [
       "<IPython.core.display.HTML object>"
      ]
     },
     "metadata": {},
     "output_type": "display_data"
    },
    {
     "data": {
      "text/html": [
       "More than 100,000 pounds of ground beef are recalled for possibly having <span style='background-color: lightblue; padding: 2px;'>E. coli</span>"
      ],
      "text/plain": [
       "<IPython.core.display.HTML object>"
      ]
     },
     "metadata": {},
     "output_type": "display_data"
    },
    {
     "data": {
      "text/html": [
       "More than 100,000 pounds of ground beef are recalled for possibly having <span style='background-color: lightblue; padding: 2px;'>E. coli</span>\n",
       "More than 100,000 pounds of ground beef are being recalled due to possibly being contaminated with <span style='background-color: lightblue; padding: 2px;'>E. coli</span>, the <span style='background-color: lightgreen; padding: 2px;'>U</span>.S. government said this week.\n",
       "Detroit-based Wolverine Packing Co…"
      ],
      "text/plain": [
       "<IPython.core.display.HTML object>"
      ]
     },
     "metadata": {},
     "output_type": "display_data"
    },
    {
     "data": {
      "text/html": [
       "McDonald's <span style='background-color: lightblue; padding: 2px;'>E. coli</span> outbreak has sickened more than 100 people"
      ],
      "text/plain": [
       "<IPython.core.display.HTML object>"
      ]
     },
     "metadata": {},
     "output_type": "display_data"
    },
    {
     "data": {
      "text/html": [
       "Ground beef recalled from restaurants over <span style='background-color: lightblue; padding: 2px;'>E. coli contamination</span>"
      ],
      "text/plain": [
       "<IPython.core.display.HTML object>"
      ]
     },
     "metadata": {},
     "output_type": "display_data"
    },
    {
     "data": {
      "text/html": [
       "A Michigan-based meat packer is recalling more than 167,000 pounds of ground beef over concerns that it may be contaminated with <span style='background-color: lightblue; padding: 2px;'>E. coli</span>.\n",
       "Wolverine Packing Co., based in Detroit, shipped dozens of products containing ground beef to restaurants across the <span style='background-color: lightgreen; padding: 2px;'><span style='background-color: lightgreen; padding: 2px;'>U</span></span>.S.…"
      ],
      "text/plain": [
       "<IPython.core.display.HTML object>"
      ]
     },
     "metadata": {},
     "output_type": "display_data"
    },
    {
     "data": {
      "text/html": [
       "39 sickened, 15 hospitalized in <span style='background-color: lightblue; padding: 2px;'>E. coli</span> outbreak linked to organic carrots"
      ],
      "text/plain": [
       "<IPython.core.display.HTML object>"
      ]
     },
     "metadata": {},
     "output_type": "display_data"
    },
    {
     "data": {
      "text/html": [
       "<span style='background-color: lightgreen; padding: 2px;'>U</span>.S. health officials are investigating an outbreak of <span style='background-color: lightblue; padding: 2px;'>E. coli</span> tied to now-recalled organic whole bagged carrots and baby carrots from Grimmway Farms."
      ],
      "text/plain": [
       "<IPython.core.display.HTML object>"
      ]
     },
     "metadata": {},
     "output_type": "display_data"
    },
    {
     "data": {
      "text/html": [
       "<span style='background-color: lightblue; padding: 2px;'>E. coli</span> in the gut may fuel a 'chain reaction' leading to Parkinson's, early study suggests"
      ],
      "text/plain": [
       "<IPython.core.display.HTML object>"
      ]
     },
     "metadata": {},
     "output_type": "display_data"
    },
    {
     "data": {
      "text/html": [
       "McDonald's is investing $100 million to bring customers back after <span style='background-color: lightblue; padding: 2px;'>E. coli</span> outbreak"
      ],
      "text/plain": [
       "<IPython.core.display.HTML object>"
      ]
     },
     "metadata": {},
     "output_type": "display_data"
    },
    {
     "data": {
      "text/html": [
       "McDonald's is investing $100 million to bring customers back to stores after an outbreak of <span style='background-color: lightblue; padding: 2px;'>E. coli</span> food poisoning tied to onions on the fast-food giant's Quarter Pounder hamburgers.\n",
       "The investments include $65 million that will go directly to the hardest-hit…"
      ],
      "text/plain": [
       "<IPython.core.display.HTML object>"
      ]
     },
     "metadata": {},
     "output_type": "display_data"
    },
    {
     "data": {
      "text/html": [
       "McDonald’s invests $100-million to bring customers back after <span style='background-color: lightblue; padding: 2px;'>E. coli</span> outbreak"
      ],
      "text/plain": [
       "<IPython.core.display.HTML object>"
      ]
     },
     "metadata": {},
     "output_type": "display_data"
    },
    {
     "data": {
      "text/html": [
       "McDonald’s is investing $100 million to bring customers back to stores after an outbreak of <span style='background-color: lightblue; padding: 2px;'>E. coli</span> food poisoning tied to onions on the fast-food giant’s Quarter Pounder hamburgers. \n",
       "The investments include $65 million that will go directly to the hardest-hi…"
      ],
      "text/plain": [
       "<IPython.core.display.HTML object>"
      ]
     },
     "metadata": {},
     "output_type": "display_data"
    },
    {
     "data": {
      "text/html": [
       "McDonald’s is investing $100 million to bring customers back after <span style='background-color: lightblue; padding: 2px;'>E. coli</span> outbreak"
      ],
      "text/plain": [
       "<IPython.core.display.HTML object>"
      ]
     },
     "metadata": {},
     "output_type": "display_data"
    },
    {
     "data": {
      "text/html": [
       "McDonald’s is investing $100 million to bring customers back to stores after an outbreak of <span style='background-color: lightblue; padding: 2px;'>E. coli</span> food poisoning tied to onions on the fast-food giant’s Quarter Pounder hamburgers.\n",
       "The investments include $65 million that will go directly to the hardest-hit…"
      ],
      "text/plain": [
       "<IPython.core.display.HTML object>"
      ]
     },
     "metadata": {},
     "output_type": "display_data"
    },
    {
     "data": {
      "text/html": [
       "Over 160,000 pounds of ground beef recalled due to <span style='background-color: lightblue; padding: 2px;'>E. coli</span> risk"
      ],
      "text/plain": [
       "<IPython.core.display.HTML object>"
      ]
     },
     "metadata": {},
     "output_type": "display_data"
    },
    {
     "data": {
      "text/html": [
       "About 167,000 pounds of both fresh and frozen ground beef products have been recalled over possible <span style='background-color: lightblue; padding: 2px;'>E. coli</span> contamination, according to the the <span style='background-color: lightgreen; padding: 2px;'>U</span>.S."
      ],
      "text/plain": [
       "<IPython.core.display.HTML object>"
      ]
     },
     "metadata": {},
     "output_type": "display_data"
    },
    {
     "data": {
      "text/html": [
       "Carrots sold at Trader Joe's and Wegmans recalled due to possible <span style='background-color: lightblue; padding: 2px;'>E. coli contamination</span>"
      ],
      "text/plain": [
       "<IPython.core.display.HTML object>"
      ]
     },
     "metadata": {},
     "output_type": "display_data"
    },
    {
     "data": {
      "text/html": [
       "Scared of <span style='background-color: lightblue; padding: 2px;'>E. Coli</span>? Donald Trump Should Terrify You."
      ],
      "text/plain": [
       "<IPython.core.display.HTML object>"
      ]
     },
     "metadata": {},
     "output_type": "display_data"
    },
    {
     "data": {
      "text/html": [
       "Tom Colicchio\n",
       "\n",
       "\n",
       "\n",
       "During his presidency, Donald Trump worked to deregulate our food safety laws—a deadly idea—and he has promised to roll back more protections if he is elected again.\r\n",
       "\n",
       "\r\n",
       "\n",
       "\n",
       "The post Scared of <span style='background-color: lightblue; padding: 2px;'>E. Coli</span>? Donald Trump Should Terrify You. appeared …"
      ],
      "text/plain": [
       "<IPython.core.display.HTML object>"
      ]
     },
     "metadata": {},
     "output_type": "display_data"
    },
    {
     "data": {
      "text/html": [
       "What does and doesn't kill<span style='background-color: lightblue; padding: 2px;'> E. coli</span>? What to know amid multiple outbreaks"
      ],
      "text/plain": [
       "<IPython.core.display.HTML object>"
      ]
     },
     "metadata": {},
     "output_type": "display_data"
    },
    {
     "data": {
      "text/html": [
       "<span style='background-color: lightblue; padding: 2px;'>E. coli</span> outbreaks in food are making headlines, prompting questions about how to stay safe from the bacteria that can cause sickness."
      ],
      "text/plain": [
       "<IPython.core.display.HTML object>"
      ]
     },
     "metadata": {},
     "output_type": "display_data"
    },
    {
     "data": {
      "text/html": [
       "<span style='background-color: lightblue; padding: 2px;'>E. coli</span> outbreak in several states linked to organic carrots"
      ],
      "text/plain": [
       "<IPython.core.display.HTML object>"
      ]
     },
     "metadata": {},
     "output_type": "display_data"
    },
    {
     "data": {
      "text/html": [
       "Health officials are investigating an outbreak of <span style='background-color: lightblue; padding: 2px;'>E. coli</span> in multiple states that is linked to organic carrots sold under a number of different brands. The CDC says 39 illnesses have been reported. Meg Oliver has details on what you should look out for."
      ],
      "text/plain": [
       "<IPython.core.display.HTML object>"
      ]
     },
     "metadata": {},
     "output_type": "display_data"
    },
    {
     "data": {
      "text/html": [
       "McDonald's is investing $100 million to bring customers back after <span style='background-color: lightblue; padding: 2px;'>E. coli</span> outbreak"
      ],
      "text/plain": [
       "<IPython.core.display.HTML object>"
      ]
     },
     "metadata": {},
     "output_type": "display_data"
    },
    {
     "data": {
      "text/html": [
       "McDonald's is investing $100 million to bring customers back to stores after an outbreak of <span style='background-color: lightblue; padding: 2px;'>E. coli</span> food poisoning tied to onions on the fast-food giant's..."
      ],
      "text/plain": [
       "<IPython.core.display.HTML object>"
      ]
     },
     "metadata": {},
     "output_type": "display_data"
    },
    {
     "data": {
      "text/html": [
       "His son's brain was damaged by <span style='background-color: lightblue; padding: 2px;'>E. coli</span>. Now someone is exploiting their story to sell a questionable product"
      ],
      "text/plain": [
       "<IPython.core.display.HTML object>"
      ]
     },
     "metadata": {},
     "output_type": "display_data"
    },
    {
     "data": {
      "text/html": [
       "<span style='background-color: lightblue; padding: 2px;'>Bird flu</span> is detected in raw milk sold in <span style='background-color: lightgreen; padding: 2px;'>California</span> stores"
      ],
      "text/plain": [
       "<IPython.core.display.HTML object>"
      ]
     },
     "metadata": {},
     "output_type": "display_data"
    },
    {
     "data": {
      "text/html": [
       "Whole Foods items recalled in connection to Grimmway Farms carrots over <span style='background-color: lightblue; padding: 2px;'>E. coli</span> concerns"
      ],
      "text/plain": [
       "<IPython.core.display.HTML object>"
      ]
     },
     "metadata": {},
     "output_type": "display_data"
    },
    {
     "data": {
      "text/html": [
       "Organic carrots recalled in <span style='background-color: lightgreen; padding: 2px;'>US</span> after deadly <span style='background-color: lightblue; padding: 2px;'>E. coli</span> outbreak"
      ],
      "text/plain": [
       "<IPython.core.display.HTML object>"
      ]
     },
     "metadata": {},
     "output_type": "display_data"
    },
    {
     "data": {
      "text/html": [
       "Organic carrots recalled after <span style='background-color: lightblue; padding: 2px;'>E. coli</span> outbreak leads to 1 death"
      ],
      "text/plain": [
       "<IPython.core.display.HTML object>"
      ]
     },
     "metadata": {},
     "output_type": "display_data"
    },
    {
     "data": {
      "text/html": [
       "Multiple brands of bagged organic carrots have been linked to at least 40 <span style='background-color: lightblue; padding: 2px;'>E. coli</span> cases and one death. The organic carrots grown by Grimmway Farms are no longer on grocery store shelves but they could still be in your fridge. The California-based producer sup…"
      ],
      "text/plain": [
       "<IPython.core.display.HTML object>"
      ]
     },
     "metadata": {},
     "output_type": "display_data"
    },
    {
     "data": {
      "text/html": [
       "Organic carrots recalled after <span style='background-color: lightblue; padding: 2px;'>E. coli</span> outbreak. These are the brands impacted."
      ],
      "text/plain": [
       "<IPython.core.display.HTML object>"
      ]
     },
     "metadata": {},
     "output_type": "display_data"
    },
    {
     "data": {
      "text/html": [
       "Doctor on E. coli outbreaks, whooping cough, bird flu and <span style='background-color: lightblue; padding: 2px;'><span style='background-color: lightblue; padding: 2px;'><span style='background-color: lightblue; padding: 2px;'><span style='background-color: lightblue; padding: 2px;'>mpox</span></span></span></span>"
      ],
      "text/plain": [
       "<IPython.core.display.HTML object>"
      ]
     },
     "metadata": {},
     "output_type": "display_data"
    },
    {
     "data": {
      "text/html": [
       "Organic carrots recalled after <span style='background-color: lightblue; padding: 2px;'>E. coli</span> outbreak. These are the brands impacted."
      ],
      "text/plain": [
       "<IPython.core.display.HTML object>"
      ]
     },
     "metadata": {},
     "output_type": "display_data"
    },
    {
     "data": {
      "text/html": [
       "Carrot recall announced in connection to <span style='background-color: lightblue; padding: 2px;'>E. coli</span> outbreak: See list of affected products"
      ],
      "text/plain": [
       "<IPython.core.display.HTML object>"
      ]
     },
     "metadata": {},
     "output_type": "display_data"
    },
    {
     "data": {
      "text/html": [
       "<span style='background-color: lightblue; padding: 2px;'>E. coli</span> outbreak linked to organic carrots sickens people in 18 states"
      ],
      "text/plain": [
       "<IPython.core.display.HTML object>"
      ]
     },
     "metadata": {},
     "output_type": "display_data"
    },
    {
     "data": {
      "text/html": [
       "Grimmway Farms recalled an array of its organic whole and baby carrots over concerns of an <span style='background-color: lightblue; padding: 2px;'>E. coli</span> outbreak. Recalled carrots were sold at retailers such as Walmart, Whole Foods and Trader Joe's."
      ],
      "text/plain": [
       "<IPython.core.display.HTML object>"
      ]
     },
     "metadata": {},
     "output_type": "display_data"
    },
    {
     "data": {
      "text/html": [
       "<span style='background-color: lightblue; padding: 2px;'>Bird Flu</span> Detected In Batch Of Raw Milk Sold In <span style='background-color: lightgreen; padding: 2px;'>California</span>"
      ],
      "text/plain": [
       "<IPython.core.display.HTML object>"
      ]
     },
     "metadata": {},
     "output_type": "display_data"
    },
    {
     "data": {
      "text/html": [
       "A Carrot Recall Has Been Linked to a Deadly <span style='background-color: lightblue; padding: 2px;'>E. Coli</span> Outbreak Across <span style='background-color: lightgreen; padding: 2px;'>Multiple</span> States"
      ],
      "text/plain": [
       "<IPython.core.display.HTML object>"
      ]
     },
     "metadata": {},
     "output_type": "display_data"
    },
    {
     "data": {
      "text/html": [
       "Whole, baby carrots recalled by a <span style='background-color: lightgreen; padding: 2px;'>Baker</span>sfield farm after dozens fall ill to <span style='background-color: lightblue; padding: 2px;'>E. coli infections</span>"
      ],
      "text/plain": [
       "<IPython.core.display.HTML object>"
      ]
     },
     "metadata": {},
     "output_type": "display_data"
    },
    {
     "data": {
      "text/html": [
       "<span style='background-color: lightblue; padding: 2px;'>E. coli</span> outbreak linked to organic carrots sold at Trader Joe’s and Whole Foods"
      ],
      "text/plain": [
       "<IPython.core.display.HTML object>"
      ]
     },
     "metadata": {},
     "output_type": "display_data"
    },
    {
     "data": {
      "text/html": [
       "Over 167,000 Pounds of Ground Beef Recalled Due to Possible <span style='background-color: lightblue; padding: 2px;'>E. Coli Contamination</span>"
      ],
      "text/plain": [
       "<IPython.core.display.HTML object>"
      ]
     },
     "metadata": {},
     "output_type": "display_data"
    },
    {
     "data": {
      "text/html": [
       "Enterococcus helps <span style='background-color: lightblue; padding: 2px;'>E. coli</span> 'armor up' in dog, poultry co-infections"
      ],
      "text/plain": [
       "<IPython.core.display.HTML object>"
      ]
     },
     "metadata": {},
     "output_type": "display_data"
    },
    {
     "data": {
      "text/html": [
       "A new study finds that two subtypes of pathogenic Escherichia coli (E. coli) produce five to 16 times more protective capsular 'slime' when Enterococcus faecalis (EF) is present. The finding could lead to targeted therapies for E. coli infections specific to …"
      ],
      "text/plain": [
       "<IPython.core.display.HTML object>"
      ]
     },
     "metadata": {},
     "output_type": "display_data"
    }
   ],
   "source": [
    "headlines_lst = []\n",
    "descriptions_lst = []\n",
    "diseases_lst = []\n",
    "headlines_list = []\n",
    "for a in articles:\n",
    "    ### parsing from title\n",
    "    if (a['title'] == \"[Removed]\") | (a['title'] is None):\n",
    "        continue\n",
    "    loc_results = loc_ner(a['title'])\n",
    "    med_results = med_ner(a['title'])\n",
    "    diseases=extract_target_entity(med_results)\n",
    "    location_words = [entity['word'] for entity in loc_results if entity['entity'] == 'B-LOC']\n",
    "    entities = get_entities(location_words, diseases)\n",
    "    if len(entities) == 0:\n",
    "        continue\n",
    "    #print(\"#######\")\n",
    "    entities[0]['title'] = a['title']\n",
    "    entities[0]['PublishAt'] = a['publishedAt']\n",
    "    entities[0]['url'] = a['url']\n",
    "    #print(entities)\n",
    "    #print(\"[PublishAt]:\")\n",
    "    #print(a['publishedAt'])\n",
    "    #print(f\"[TITLE]:\")\n",
    "    highlight_entities(a['title'], entities)\n",
    "    headlines_list.append(entities)\n",
    "    ### parsing from description\n",
    "    if (a['description'] == \"[Removed]\") | (a['description'] is None):\n",
    "        continue\n",
    "    loc_results = loc_ner(a['description'])\n",
    "    med_results = med_ner(a['description'])\n",
    "    diseases=extract_target_entity(med_results)\n",
    "    location_words = [entity['word'] for entity in loc_results if entity['entity'] == 'B-LOC']\n",
    "    entities = get_entities(location_words, diseases)\n",
    "    if len(entities) == 0:\n",
    "        continue\n",
    "    #print(entities)\n",
    "    #print(f\"[DESCRIPTION]:\")\n",
    "    highlight_entities(a['description'], entities)\n",
    "    #print(\"[URL]:\")\n",
    "    #print(a['url'])\n",
    "    headlines_list.append(entities)\n",
    "    headlines_lst.append(a[\"title\"])\n",
    "    descriptions_lst.append(a[\"description\"])\n",
    "    diseases_lst.append(entities[0][\"Disease\"])"
   ]
  },
  {
   "cell_type": "markdown",
   "metadata": {
    "id": "Fwp3xJYfLoea"
   },
   "source": [
    "# Dataset evaluation\n",
    "## Headlines"
   ]
  },
  {
   "cell_type": "code",
   "execution_count": 8,
   "metadata": {
    "id": "2U4QfVHD7dQN"
   },
   "outputs": [],
   "source": [
    "from datasets import Dataset\n",
    "import numpy as np\n",
    "\n",
    "n_datapoints = len(descriptions_lst)\n",
    "\n",
    "instructions_lst_np = np.array([\"You are a doctor trying to determine what disease outbreak may be occuring based on a news headline. You will be given a headline, and you have to say your prediction of what the disease is\" for _ in range(n_datapoints)])\n",
    "descriptions_lst_np = np.array(headlines_lst)\n",
    "diseases_lst_np = np.array(diseases_lst)\n",
    "\n",
    "permutator = np.random.permutation(n_datapoints)\n",
    "\n",
    "shuffled_instructions = instructions_lst_np[permutator]\n",
    "shuffled_descriptions = descriptions_lst_np[permutator]\n",
    "shuffled_diseases = diseases_lst_np[permutator]\n",
    "\n",
    "train_instructions = shuffled_instructions[:int(n_datapoints * 0.8)]\n",
    "train_descriptions = shuffled_descriptions[:int(n_datapoints * 0.8)]\n",
    "train_diseases = shuffled_diseases[:int(n_datapoints * 0.8)]\n",
    "\n",
    "eval_instructions = shuffled_instructions[int(n_datapoints * 0.8):]\n",
    "eval_descriptions = shuffled_descriptions[int(n_datapoints * 0.8):]\n",
    "eval_diseases = shuffled_diseases[int(n_datapoints * 0.8):]\n",
    "\n",
    "train_dataset_dict = {\n",
    "    \"instruction\": train_instructions,\n",
    "    \"input\": train_descriptions,\n",
    "    \"output\": train_diseases\n",
    "}\n",
    "eval_dataset_dict = {\n",
    "    \"instruction\": eval_instructions,\n",
    "    \"input\": eval_descriptions,\n",
    "    \"output\": eval_diseases\n",
    "}\n",
    "\n",
    "train_headline_dataset = Dataset.from_dict(train_dataset_dict)\n",
    "eval_headline_dataset = Dataset.from_dict(eval_dataset_dict)"
   ]
  },
  {
   "cell_type": "markdown",
   "metadata": {
    "id": "spcTmA6D7dQN"
   },
   "source": [
    "# show the current diseases on headlines"
   ]
  },
  {
   "cell_type": "code",
   "execution_count": 9,
   "metadata": {
    "colab": {
     "base_uri": "https://localhost:8080/",
     "height": 410
    },
    "id": "4LCmO2lN7dQN",
    "outputId": "00e3eb53-55bf-45cf-e8a1-a8d18734f308"
   },
   "outputs": [
    {
     "data": {
      "image/png": "[encoded data removed]",
      "text/plain": [
       "<Figure size 400x400 with 1 Axes>"
      ]
     },
     "metadata": {},
     "output_type": "display_data"
    }
   ],
   "source": [
    "import numpy as np\n",
    "from sklearn.feature_extraction.text import TfidfVectorizer\n",
    "from sklearn.decomposition import PCA\n",
    "import matplotlib.pyplot as plt\n",
    "\n",
    "data=headlines_list\n",
    "#new_symptom = 'running nose, fever and cough'\n",
    "diseases_lst = [entry[0]['Name'] for entry in data]\n",
    "diseases_lst = np.unique(diseases_lst)\n",
    "symptoms_lst = [disease_table[disease] for disease in diseases_lst[:10]]\n",
    "#symptoms_lst = np.append(symptoms_lst, new_symptom)\n",
    "\n",
    "vectorizer = TfidfVectorizer()\n",
    "tfidf_matrix = vectorizer.fit_transform(symptoms_lst)\n",
    "\n",
    "pca_transformer = PCA(n_components=2)\n",
    "reduced_coords = pca_transformer.fit_transform(tfidf_matrix.toarray())\n",
    "\n",
    "plt.figure(figsize=(4, 4))\n",
    "for i, disease in enumerate(diseases_lst[:10]):\n",
    "    plt.scatter(reduced_coords[i, 0], reduced_coords[i, 1], label=disease, alpha=0.7)\n",
    "#new_symptom_coords = reduced_coords[-1]  # Get the last coordinate for the new symptom\n",
    "#plt.scatter(new_symptom_coords[0], new_symptom_coords[1], color='red', label=new_symptom, alpha=0.7)\n",
    "\n",
    "plt.legend(\n",
    "    loc='center left',\n",
    "    bbox_to_anchor=(1, 0.5),  # Anchor legend box outside the plot\n",
    "    title=\"Diseases\",\n",
    "    fontsize=9,\n",
    "    title_fontsize=10\n",
    ")\n",
    "\n",
    "plt.title(\"Cosine Similarity of Diseases based on Symptoms\")\n",
    "plt.xlabel(\"PCA Component 1\")\n",
    "plt.ylabel(\"PCA Component 2\")\n",
    "plt.grid(True)\n",
    "plt.show()"
   ]
  },
  {
   "cell_type": "markdown",
   "metadata": {
    "id": "cBxxLvyN7dQW"
   },
   "source": [
    "# Find closest diseases on the headlines"
   ]
  },
  {
   "cell_type": "code",
   "execution_count": 10,
   "metadata": {
    "id": "RQnKdpdU7dQW"
   },
   "outputs": [],
   "source": [
    "from sklearn.metrics.pairwise import cosine_similarity\n",
    "def find_similiar_disease(query):\n",
    "\n",
    "    new_symptom_vector = vectorizer.transform([query])  # Transform new symptom\n",
    "\n",
    "    # Calculate cosine similarities\n",
    "    similarities = cosine_similarity(new_symptom_vector, tfidf_matrix).flatten()\n",
    "\n",
    "    # Find the closest disease\n",
    "    closest_disease_index = similarities.argmax()\n",
    "    \n",
    "    if max(similarities) < 0.5:\n",
    "        return None\n",
    "    closest_disease = diseases_lst[closest_disease_index]\n",
    "\n",
    "    # Find the URL\n",
    "    url = None\n",
    "    title = None\n",
    "    publish_time = None\n",
    "    for entry in headlines_list:\n",
    "        if entry[0].get('Name') == closest_disease:\n",
    "            title = entry[0].get('title')\n",
    "            publish_time = entry[0].get('PublishAt')\n",
    "            url = entry[0].get('url')\n",
    "            break\n",
    "    reference_text = f\"\\n\\nYou are likely to have {closest_disease}.\\nFrom recent news: {title}, published at: {publish_time}\\nMore information: {url}\"\n",
    "\n",
    "    # Print results\n",
    "    #print(\"Cosine Similarities:\", dict(zip(diseases_lst, similarities)))\n",
    "    return reference_text\n"
   ]
  },
  {
   "cell_type": "markdown",
   "metadata": {
    "id": "nBKXlG9SMYpN"
   },
   "source": [
    "## Integrated conversations from Icliniq"
   ]
  },
  {
   "cell_type": "code",
   "execution_count": 11,
   "metadata": {
    "colab": {
     "base_uri": "https://localhost:8080/"
    },
    "id": "b8V68U36BD9n",
    "outputId": "9c425634-e82a-47c7-f576-14290e86b0d0"
   },
   "outputs": [],
   "source": [
    "n_datapoints = 100\n",
    "# Read the JSON file\n",
    "with open('iCliniq.json', 'r') as file:\n",
    "    icliniq = json.load(file)\n",
    "icliniq_input = []\n",
    "icliniq_output = []\n",
    "# Access the `input` key from each dictionary\n",
    "for entry in icliniq[:n_datapoints]:\n",
    "    icliniq_input.append(entry['input'])\n",
    "    res = find_similiar_disease(entry['input'])\n",
    "    if res is not None:\n",
    "        res = entry['answer_icliniq']+res\n",
    "    else:\n",
    "        res = entry['answer_icliniq']\n",
    "    icliniq_output.append(res)\n",
    "icliniq_instructions_lst_np = np.array([\"If you are a doctor, please answer the medical questions based on the patient's description.\" for _ in range(n_datapoints)])\n",
    "icliniq_descriptions_lst_np = np.array(icliniq_input)\n",
    "icliniq_diseases_lst_np = np.array(icliniq_output)\n",
    "\n",
    "icliniq_eval_dataset_dict = {\n",
    "    \"instruction\": icliniq_instructions_lst_np,\n",
    "    \"input\": icliniq_descriptions_lst_np,\n",
    "    \"output\": icliniq_diseases_lst_np\n",
    "}\n",
    "\n",
    "#train_icliniq_dataset = Dataset.from_dict(icliniq_train_dataset_dict)\n",
    "eval_icliniq_dataset = Dataset.from_dict(icliniq_eval_dataset_dict)"
   ]
  },
  {
   "cell_type": "markdown",
   "metadata": {
    "id": "g5ubQtdV7dQO"
   },
   "source": [
    "# Intergration with ChatDoctor"
   ]
  },
  {
   "cell_type": "code",
   "execution_count": 12,
   "metadata": {
    "id": "0q5qLOdLsuPd"
   },
   "outputs": [],
   "source": [
    "import torch\n",
    "torch.cuda.empty_cache()\n",
    "device = torch.device('cuda' if torch.cuda.is_available() else 'cpu')"
   ]
  },
  {
   "cell_type": "code",
   "execution_count": 13,
   "metadata": {
    "id": "Lmv6CV2T7dQO"
   },
   "outputs": [],
   "source": [
    "from datasets import load_dataset, load_from_disk\n",
    "\n",
    "dataset = load_from_disk(\"patients_query_sampled/\")\n",
    "\n",
    "train_conversation_dataset = dataset['train']\n",
    "eval_conversation_dataset = dataset['test']"
   ]
  },
  {
   "cell_type": "markdown",
   "metadata": {
    "id": "shz8Xdv-yRgf"
   },
   "source": [
    "### 2. Load Base Model"
   ]
  },
  {
   "cell_type": "markdown",
   "metadata": {
    "id": "MJ-5idQwzvg-"
   },
   "source": [
    "Let's now load Mistral - mistralai/Mistral-7B-v0.1 - using 4-bit quantization!"
   ]
  },
  {
   "cell_type": "code",
   "execution_count": 14,
   "metadata": {
    "colab": {
     "referenced_widgets": [
      "45524c98039a46d5b7745ad7cb638d2f",
      "157048e8b2f64d9da2ac16b3dc06eb09",
      "c0200d2d175e42b9be28e79f0a164e34"
     ]
    },
    "id": "E0Nl5mWL0k2T",
    "outputId": "47b6b01d-e9f2-4b70-919c-17ae64993843",
    "scrolled": true
   },
   "outputs": [
    {
     "name": "stderr",
     "output_type": "stream",
     "text": [
      "/research/m323170/PyEnv/nlp_hw2/lib64/python3.11/site-packages/huggingface_hub/file_download.py:797: FutureWarning: `resume_download` is deprecated and will be removed in version 1.0.0. Downloads always resume when possible. If you want to force a new download, use `force_download=True`.\n",
      "  warnings.warn(\n",
      "`low_cpu_mem_usage` was None, now default to True since model is quantized.\n"
     ]
    },
    {
     "data": {
      "application/vnd.jupyter.widget-view+json": {
       "model_id": "47d9597968de44ff996efb692e5c5a3e",
       "version_major": 2,
       "version_minor": 0
      },
      "text/plain": [
       "Loading checkpoint shards:   0%|          | 0/2 [00:00<?, ?it/s]"
      ]
     },
     "metadata": {},
     "output_type": "display_data"
    }
   ],
   "source": [
    "import torch\n",
    "from transformers import AutoTokenizer, AutoModelForCausalLM, BitsAndBytesConfig\n",
    "\n",
    "base_model_id = \"mistralai/Mistral-7B-v0.1\"\n",
    "bnb_config = BitsAndBytesConfig(\n",
    "    load_in_4bit=True,\n",
    "    bnb_4bit_use_double_quant=True,\n",
    "    bnb_4bit_quant_type=\"nf4\",\n",
    "    bnb_4bit_compute_dtype=torch.bfloat16\n",
    ")\n",
    "\n",
    "model = AutoModelForCausalLM.from_pretrained(base_model_id, quantization_config=bnb_config, resume_download=True)"
   ]
  },
  {
   "cell_type": "markdown",
   "metadata": {
    "id": "UjNdXolqyRgf"
   },
   "source": [
    "### 3. Tokenization\n",
    "\n",
    "Set up the tokenizer. Add padding on the left as it [makes training use less memory](https://ai.stackexchange.com/questions/41485/while-fine-tuning-a-decoder-only-llm-like-llama-on-chat-dataset-what-kind-of-pa).\n",
    "\n",
    "\n",
    "For `model_max_length`, it's helpful to get a distribution of your data lengths. Let's first tokenize without the truncation/padding, so we can get a length distribution."
   ]
  },
  {
   "cell_type": "code",
   "execution_count": 15,
   "metadata": {
    "id": "haSUDD9HyRgf"
   },
   "outputs": [],
   "source": [
    "tokenizer = AutoTokenizer.from_pretrained(\n",
    "    base_model_id,\n",
    "    padding_side=\"left\",\n",
    "    add_eos_token=True,\n",
    "    add_bos_token=True,\n",
    ")\n",
    "tokenizer.pad_token = tokenizer.eos_token"
   ]
  },
  {
   "cell_type": "code",
   "execution_count": 16,
   "metadata": {
    "id": "pAXGc9aD7dQP"
   },
   "outputs": [],
   "source": [
    "def headline_formatting_func(example):\n",
    "    text = f\"### The following is a headline about a disease outbreak and what that disease is: \\n### Headline: {example['input']} \\n### Disease: {example['output']}\"\n",
    "    return text\n",
    "def headline_generate_and_tokenize_prompt(prompt):\n",
    "    return tokenizer(headline_formatting_func(prompt))\n",
    "\n",
    "def conversation_formatting_func(example):\n",
    "    text = f\"### The following is a doctor's opinion on a person's query: \\n### Patient query: {example['input']} \\n### Doctor opinion: {example['output']}\"\n",
    "    return text\n",
    "def conversation_generate_and_tokenize_prompt(prompt):\n",
    "    return tokenizer(conversation_formatting_func(prompt))\n",
    "\n",
    "def integrate_formatting_func(example):\n",
    "    text = f\"### The following is doctor's suggestions with search of alert outbreak in the region: \\n### Patient query: {example['input']} \\n### Doctor opinion: {example['output']}\"\n",
    "    return text\n",
    "def integrate_generate_and_tokenize_prompt(prompt):\n",
    "    return tokenizer(integrate_formatting_func(prompt))\n",
    "#train_dataset[\"output\"]"
   ]
  },
  {
   "cell_type": "markdown",
   "metadata": {
    "id": "WHnKLcq4yRgg"
   },
   "source": [
    "Reformat the prompt and tokenize each sample:"
   ]
  },
  {
   "cell_type": "code",
   "execution_count": 17,
   "metadata": {
    "colab": {
     "base_uri": "https://localhost:8080/",
     "height": 214,
     "referenced_widgets": [
      "b724831dacda4cd69b42b24b2b7870ff",
      "ceae18128c1242cd8089289704d80d5e",
      "7995150321154be4a1f656983a412d32",
      "5d2bd5645cde4c6f99768d48b16fe910",
      "16e608e97d8946ef9ab2f1d400430c9f",
      "cfdcbf422def4b0788773d6421b2bd36",
      "47d2d35f66014c35b6cbbdba04a460f8",
      "e83663901ccc48abb5bfe52158c9efd3",
      "01f4d5d9049940b5974a18c62afc2a29",
      "eb1af5d4eea34857932209907dd2eacb",
      "b7b931de766c440e877fa53a4719326f",
      "73e69bbf161d4104b609adff5b403874",
      "2bd40ef67b4c494aaa84143096f3d837",
      "61e6b57a451c4b13939285372c08f96e",
      "033b204f2c524b57816c37680764c738",
      "da13222ff54c4cb283a80a1159778538",
      "cc6d8caee4e94650b97e4e96de6e5496",
      "ef872889878c48d28d6bb8e5c230996f",
      "311988ff72794da596c2e9bcb42d5e33",
      "1171f256425f4695b702fbad2d7ca11b",
      "a782047417534298a9ea2f077f0d2578",
      "83d77bba2ca64368946b0139565381f7",
      "1c41af4b0e89476193220ce0e2ebc7a3",
      "55af32add77f4c70aefa4bae1cd5483d",
      "226ad985c5a84a599f999bca6a67bc7a",
      "2b732eeac86d495883bc58ce86362f9b",
      "2fbd5daebb334741b5c6991ba66213d9",
      "da2353da0e32451bbf164c397423191d",
      "12e26fca54674eacba6c970f02f7267a",
      "cf8c11a880cb46e4b3ac1276e0c6c82f",
      "1e64974714a04b8a8c2f2988256e18b8",
      "878a40f4b8754eca983ac9b7973c4b7b",
      "9a1761c414cc4c42bbf1dccbaf5872e0",
      "348617f99aca42f4b466699d46a71bae",
      "16c83b4f445f4954a1ca1e7f622cb44a",
      "75cc310d17704a45a38eb3703c15f8d8",
      "19f3fd15c25e4c47853e432cac7315c3",
      "4af81b06836840db822a47b741bffc6a",
      "1b6e6bab709045ceb80a9b599eb17a49",
      "2804155f9e954e66babd7b25121ba0df",
      "6de88fc8b6d64e4cac4976892c3ae490",
      "33ba5833ab1c4dbc9889e31154bcdce3",
      "ac201a325feb436991953cba23fc09c8",
      "f4eac588a3084aed80aadd46dc5e2878",
      "c4e153ebddb14b29932bb338580bc260",
      "3a07ecc4762a4a49ba31f2879f83841e",
      "504be8c19cfb47d7aca7a4011c745fd6",
      "f6a266e906a543528b154f0a967d2ba5",
      "6affa522e4ac49bf9c19323995e10879",
      "f823321c40eb4c74bee53f3f19ab933b",
      "140cd406e25f48489e794e53a365cd5f",
      "515aae790f7c4a2d9e7ab75c63c02fa7",
      "4d2d68373b304f4eac33a7e037c8896b",
      "23cd6500405244e1b17dd052ee4d1260",
      "bfee9fdb617f4a8f8e326ef110d5414e"
     ]
    },
    "id": "BVzJHlir7dQS",
    "outputId": "af9c9247-b130-4298-dc6f-00be1b1412c7"
   },
   "outputs": [
    {
     "data": {
      "application/vnd.jupyter.widget-view+json": {
       "model_id": "b02c6e1ebdde41f987393acfa07afd8e",
       "version_major": 2,
       "version_minor": 0
      },
      "text/plain": [
       "Map:   0%|          | 0/51 [00:00<?, ? examples/s]"
      ]
     },
     "metadata": {},
     "output_type": "display_data"
    },
    {
     "data": {
      "application/vnd.jupyter.widget-view+json": {
       "model_id": "e7ed7dd2ea674739a30999da076a089c",
       "version_major": 2,
       "version_minor": 0
      },
      "text/plain": [
       "Map:   0%|          | 0/13 [00:00<?, ? examples/s]"
      ]
     },
     "metadata": {},
     "output_type": "display_data"
    },
    {
     "data": {
      "application/vnd.jupyter.widget-view+json": {
       "model_id": "7c612c9c13da4b58bda3ee95ba7c0b85",
       "version_major": 2,
       "version_minor": 0
      },
      "text/plain": [
       "Map:   0%|          | 0/100 [00:00<?, ? examples/s]"
      ]
     },
     "metadata": {},
     "output_type": "display_data"
    }
   ],
   "source": [
    "tokenized_train_headline_dataset = train_headline_dataset.map(headline_generate_and_tokenize_prompt)\n",
    "tokenized_eval_headline_dataset = eval_headline_dataset.map(headline_generate_and_tokenize_prompt)\n",
    "\n",
    "tokenized_train_conversation_dataset = train_conversation_dataset.map(conversation_generate_and_tokenize_prompt)\n",
    "tokenized_val_conversation_dataset = eval_conversation_dataset.map(conversation_generate_and_tokenize_prompt)\n",
    "\n",
    "#tokenized_train_icliniq_dataset = train_icliniq_dataset.map(integrate_generate_and_tokenize_prompt)\n",
    "tokenized_val_icliniq_dataset = eval_icliniq_dataset.map(integrate_generate_and_tokenize_prompt)"
   ]
  },
  {
   "cell_type": "code",
   "execution_count": 27,
   "metadata": {
    "id": "S3iLAwLh3m19"
   },
   "outputs": [],
   "source": [
    "\n",
    "from datasets import concatenate_datasets\n",
    "\n",
    "n_headline_train_datapoints = len(tokenized_train_headline_dataset)\n",
    "n_conversation_train_datapoints = len(tokenized_train_conversation_dataset)\n",
    "\n",
    "tokenized_train_overall_dataset = concatenate_datasets([tokenized_train_headline_dataset for _ in range(max(1, n_conversation_train_datapoints // n_headline_train_datapoints))] + [tokenized_train_conversation_dataset])\n",
    "tokenized_val_overall_dataset = concatenate_datasets([tokenized_eval_headline_dataset for _ in range(max(1, n_conversation_train_datapoints // n_headline_train_datapoints))] + [tokenized_val_conversation_dataset])\n"
   ]
  },
  {
   "cell_type": "code",
   "execution_count": 19,
   "metadata": {
    "id": "MsuHLGHL7dQT",
    "outputId": "3b28f599-95c8-4fc1-f12b-6b25bd916e32"
   },
   "outputs": [],
   "source": [
    "#len(tokenized_train_overall_dataset)"
   ]
  },
  {
   "cell_type": "code",
   "execution_count": 20,
   "metadata": {
    "id": "Nj9fhIHE7dQT",
    "outputId": "0646e5e3-972b-4ee0-d562-7d69a53393de"
   },
   "outputs": [],
   "source": [
    "#n_conversation_train_datapoints // n_conversation_train_datapoints"
   ]
  },
  {
   "cell_type": "markdown",
   "metadata": {
    "id": "AapDoyfAyRgi"
   },
   "source": [
    "### 4. Set Up LoRA"
   ]
  },
  {
   "cell_type": "markdown",
   "metadata": {
    "id": "Mp2gMi1ZzGET"
   },
   "source": [
    "Now, to start our fine-tuning, we have to apply some preprocessing to the model to prepare it for training. For that use the `prepare_model_for_kbit_training` method from PEFT."
   ]
  },
  {
   "cell_type": "code",
   "execution_count": 21,
   "metadata": {
    "id": "a9EUEDAl0ss3"
   },
   "outputs": [],
   "source": [
    "from peft import prepare_model_for_kbit_training\n",
    "\n",
    "model.gradient_checkpointing_enable()\n",
    "model = prepare_model_for_kbit_training(model)"
   ]
  },
  {
   "cell_type": "code",
   "execution_count": 22,
   "metadata": {
    "id": "gkIcwsSU01EB"
   },
   "outputs": [],
   "source": [
    "def print_trainable_parameters(model):\n",
    "    \"\"\"\n",
    "    Prints the number of trainable parameters in the model.\n",
    "    \"\"\"\n",
    "    trainable_params = 0\n",
    "    all_param = 0\n",
    "    for _, param in model.named_parameters():\n",
    "        all_param += param.numel()\n",
    "        if param.requires_grad:\n",
    "            trainable_params += param.numel()\n",
    "    print(\n",
    "        f\"trainable params: {trainable_params} || all params: {all_param} || trainable%: {100 * trainable_params / all_param}\"\n",
    "    )"
   ]
  },
  {
   "cell_type": "markdown",
   "metadata": {
    "id": "cUYEpEK-yRgj"
   },
   "source": [
    "Let's print the model to examine its layers, as we will apply QLoRA to all the linear layers of the model. Those layers are `q_proj`, `k_proj`, `v_proj`, `o_proj`, `gate_proj`, `up_proj`, `down_proj`, and `lm_head`."
   ]
  },
  {
   "cell_type": "markdown",
   "metadata": {
    "id": "I6mTLuQJyRgj"
   },
   "source": [
    "Here we define the LoRA config.\n",
    "\n",
    "`r` is the rank of the low-rank matrix used in the adapters, which thus controls the number of parameters trained. A higher rank will allow for more expressivity, but there is a compute tradeoff.\n",
    "\n",
    "`alpha` is the scaling factor for the learned weights. The weight matrix is scaled by `alpha/r`, and thus a higher value for `alpha` assigns more weight to the LoRA activations.\n",
    "\n",
    "The values used in the QLoRA paper were `r=64` and `lora_alpha=16`, and these are said to generalize well, but we will use `r=32` and `lora_alpha=64` so that we have more emphasis on the new fine-tuned data while also reducing computational complexity."
   ]
  },
  {
   "cell_type": "code",
   "execution_count": 23,
   "metadata": {
    "id": "Ybeyl20n3dYH",
    "outputId": "6a16c182-04d9-4812-ae81-502a8fe364d0"
   },
   "outputs": [
    {
     "name": "stdout",
     "output_type": "stream",
     "text": [
      "trainable params: 85041152 || all params: 3837112320 || trainable%: 2.2162799758751914\n"
     ]
    }
   ],
   "source": [
    "from peft import LoraConfig, get_peft_model\n",
    "\n",
    "config = LoraConfig(\n",
    "    r=32,\n",
    "    lora_alpha=64,\n",
    "    target_modules=[\n",
    "        \"q_proj\",\n",
    "        \"k_proj\",\n",
    "        \"v_proj\",\n",
    "        \"o_proj\",\n",
    "        \"gate_proj\",\n",
    "        \"up_proj\",\n",
    "        \"down_proj\",\n",
    "        \"lm_head\",\n",
    "    ],\n",
    "    bias=\"none\",\n",
    "    lora_dropout=0.05,  # Conventional\n",
    "    task_type=\"CAUSAL_LM\",\n",
    ")\n",
    "\n",
    "model = get_peft_model(model, config)\n",
    "print_trainable_parameters(model)"
   ]
  },
  {
   "cell_type": "markdown",
   "metadata": {
    "id": "X_FHi_VLyRgn"
   },
   "source": [
    "See how the model looks different now, with the LoRA adapters added:"
   ]
  },
  {
   "cell_type": "markdown",
   "metadata": {
    "id": "05H5MIfjyRgc"
   },
   "source": [
    "### Accelerator\n",
    "\n",
    "Set up the Accelerator. I'm not sure if we really need this for a QLoRA given its [description](https://huggingface.co/docs/accelerate/v0.19.0/en/usage_guides/fsdp) (I have to read more about it) but it seems it can't hurt, and it's helpful to have the code for future reference. You can always comment out the accelerator if you want to try without."
   ]
  },
  {
   "cell_type": "code",
   "execution_count": 24,
   "metadata": {
    "id": "TEzYBadkyRgd",
    "outputId": "c413f72f-8609-4165-e376-30b037c861a3"
   },
   "outputs": [
    {
     "name": "stderr",
     "output_type": "stream",
     "text": [
      "Detected kernel version 4.18.0, which is below the recommended minimum of 5.5.0; this can cause the process to hang. It is recommended to upgrade the kernel to the minimum version or higher.\n"
     ]
    }
   ],
   "source": [
    "from accelerate import FullyShardedDataParallelPlugin, Accelerator\n",
    "from torch.distributed.fsdp.fully_sharded_data_parallel import FullOptimStateDictConfig, FullStateDictConfig\n",
    "\n",
    "fsdp_plugin = FullyShardedDataParallelPlugin(\n",
    "    state_dict_config=FullStateDictConfig(offload_to_cpu=True, rank0_only=False),\n",
    "    optim_state_dict_config=FullOptimStateDictConfig(offload_to_cpu=True, rank0_only=False),\n",
    ")\n",
    "\n",
    "accelerator = Accelerator(fsdp_plugin=fsdp_plugin)"
   ]
  },
  {
   "cell_type": "code",
   "execution_count": 25,
   "metadata": {
    "id": "yxSbpKQSLY6B"
   },
   "outputs": [],
   "source": [
    "model = accelerator.prepare_model(model)"
   ]
  },
  {
   "cell_type": "code",
   "execution_count": 26,
   "metadata": {
    "id": "65DNQfeY7dQV"
   },
   "outputs": [],
   "source": [
    "import copy\n",
    "\n",
    "base_model = copy.deepcopy(model)\n",
    "conversation_model = copy.deepcopy(model)\n",
    "overall_model = copy.deepcopy(model)"
   ]
  },
  {
   "cell_type": "markdown",
   "metadata": {
    "id": "_0MOtwf3zdZp"
   },
   "source": [
    "### 5. Run Training!"
   ]
  },
  {
   "cell_type": "code",
   "execution_count": 28,
   "metadata": {
    "id": "jq0nX33BmfaC",
    "outputId": "c4d492ad-99a6-4f10-a378-21984b964eaa"
   },
   "outputs": [
    {
     "name": "stderr",
     "output_type": "stream",
     "text": [
      "/research/m323170/PyEnv/nlp_hw2/lib64/python3.11/site-packages/transformers/training_args.py:1570: FutureWarning: `evaluation_strategy` is deprecated and will be removed in version 4.46 of 🤗 Transformers. Use `eval_strategy` instead\n",
      "  warnings.warn(\n",
      "Detected kernel version 4.18.0, which is below the recommended minimum of 5.5.0; this can cause the process to hang. It is recommended to upgrade the kernel to the minimum version or higher.\n",
      "max_steps is given, it will override any value given in num_train_epochs\n",
      "\u001b[34m\u001b[1mwandb\u001b[0m: \u001b[33mWARNING\u001b[0m The `run_name` is currently set to the same value as `TrainingArguments.output_dir`. If this was not intended, please specify a different run name by setting the `TrainingArguments.run_name` parameter.\n",
      "\u001b[34m\u001b[1mwandb\u001b[0m: Using wandb-core as the SDK backend. Please refer to https://wandb.me/wandb-core for more information.\n",
      "\u001b[34m\u001b[1mwandb\u001b[0m: Currently logged in as: \u001b[33mho000199\u001b[0m (\u001b[33mho000199-univeristy-of-minnesota\u001b[0m). Use \u001b[1m`wandb login --relogin`\u001b[0m to force relogin\n"
     ]
    },
    {
     "data": {
      "text/html": [
       "Tracking run with wandb version 0.18.1"
      ],
      "text/plain": [
       "<IPython.core.display.HTML object>"
      ]
     },
     "metadata": {},
     "output_type": "display_data"
    },
    {
     "data": {
      "text/html": [
       "Run data is saved locally in <code>/research/m323170/Projects/mammography/notebook/ChatDoctorNext/wandb/run-20241203_132438-kfuk6a82</code>"
      ],
      "text/plain": [
       "<IPython.core.display.HTML object>"
      ]
     },
     "metadata": {},
     "output_type": "display_data"
    },
    {
     "data": {
      "text/html": [
       "Syncing run <strong><a href='https://wandb.ai/ho000199-univeristy-of-minnesota/huggingface/runs/kfuk6a82' target=\"_blank\">./mistral-chat-doctor-finetune</a></strong> to <a href='https://wandb.ai/ho000199-univeristy-of-minnesota/huggingface' target=\"_blank\">Weights & Biases</a> (<a href='https://wandb.me/run' target=\"_blank\">docs</a>)<br/>"
      ],
      "text/plain": [
       "<IPython.core.display.HTML object>"
      ]
     },
     "metadata": {},
     "output_type": "display_data"
    },
    {
     "data": {
      "text/html": [
       " View project at <a href='https://wandb.ai/ho000199-univeristy-of-minnesota/huggingface' target=\"_blank\">https://wandb.ai/ho000199-univeristy-of-minnesota/huggingface</a>"
      ],
      "text/plain": [
       "<IPython.core.display.HTML object>"
      ]
     },
     "metadata": {},
     "output_type": "display_data"
    },
    {
     "data": {
      "text/html": [
       " View run at <a href='https://wandb.ai/ho000199-univeristy-of-minnesota/huggingface/runs/kfuk6a82' target=\"_blank\">https://wandb.ai/ho000199-univeristy-of-minnesota/huggingface/runs/kfuk6a82</a>"
      ],
      "text/plain": [
       "<IPython.core.display.HTML object>"
      ]
     },
     "metadata": {},
     "output_type": "display_data"
    },
    {
     "name": "stderr",
     "output_type": "stream",
     "text": [
      "`use_cache=True` is incompatible with gradient checkpointing. Setting `use_cache=False`...\n"
     ]
    },
    {
     "data": {
      "text/html": [
       "\n",
       "    <div>\n",
       "      \n",
       "      <progress value='502' max='500' style='width:300px; height:20px; vertical-align: middle;'></progress>\n",
       "      [500/500 00:04, Epoch 0/1]\n",
       "    </div>\n",
       "    <table border=\"1\" class=\"dataframe\">\n",
       "  <thead>\n",
       " <tr style=\"text-align: left;\">\n",
       "      <th>Step</th>\n",
       "      <th>Training Loss</th>\n",
       "      <th>Validation Loss</th>\n",
       "    </tr>\n",
       "  </thead>\n",
       "  <tbody>\n",
       "  </tbody>\n",
       "</table><p>"
      ],
      "text/plain": [
       "<IPython.core.display.HTML object>"
      ]
     },
     "metadata": {},
     "output_type": "display_data"
    },
    {
     "name": "stderr",
     "output_type": "stream",
     "text": [
      "/research/m323170/PyEnv/nlp_hw2/lib64/python3.11/site-packages/peft/utils/save_and_load.py:228: UserWarning: Setting `save_embedding_layers` to `True` as embedding layers found in `target_modules`.\n",
      "  warnings.warn(\"Setting `save_embedding_layers` to `True` as embedding layers found in `target_modules`.\")\n",
      "/research/m323170/PyEnv/nlp_hw2/lib64/python3.11/site-packages/transformers/training_args.py:1570: FutureWarning: `evaluation_strategy` is deprecated and will be removed in version 4.46 of 🤗 Transformers. Use `eval_strategy` instead\n",
      "  warnings.warn(\n",
      "Detected kernel version 4.18.0, which is below the recommended minimum of 5.5.0; this can cause the process to hang. It is recommended to upgrade the kernel to the minimum version or higher.\n",
      "max_steps is given, it will override any value given in num_train_epochs\n"
     ]
    },
    {
     "data": {
      "text/html": [
       "\n",
       "    <div>\n",
       "      \n",
       "      <progress value='503' max='500' style='width:300px; height:20px; vertical-align: middle;'></progress>\n",
       "      [500/500 00:03, Epoch 0/1]\n",
       "    </div>\n",
       "    <table border=\"1\" class=\"dataframe\">\n",
       "  <thead>\n",
       " <tr style=\"text-align: left;\">\n",
       "      <th>Step</th>\n",
       "      <th>Training Loss</th>\n",
       "      <th>Validation Loss</th>\n",
       "    </tr>\n",
       "  </thead>\n",
       "  <tbody>\n",
       "  </tbody>\n",
       "</table><p>"
      ],
      "text/plain": [
       "<IPython.core.display.HTML object>"
      ]
     },
     "metadata": {},
     "output_type": "display_data"
    },
    {
     "name": "stderr",
     "output_type": "stream",
     "text": [
      "/research/m323170/PyEnv/nlp_hw2/lib64/python3.11/site-packages/peft/utils/save_and_load.py:228: UserWarning: Setting `save_embedding_layers` to `True` as embedding layers found in `target_modules`.\n",
      "  warnings.warn(\"Setting `save_embedding_layers` to `True` as embedding layers found in `target_modules`.\")\n"
     ]
    },
    {
     "data": {
      "text/plain": [
       "TrainOutput(global_step=503, training_loss=0.003195421359174057, metrics={'train_runtime': 6.6533, 'train_samples_per_second': 300.601, 'train_steps_per_second': 75.15, 'total_flos': 4.435510841121178e+16, 'train_loss': 0.003195421359174057, 'epoch': 0.4471111111111111})"
      ]
     },
     "execution_count": 28,
     "metadata": {},
     "output_type": "execute_result"
    }
   ],
   "source": [
    "import transformers\n",
    "from datetime import datetime\n",
    "\n",
    "project = \"chat-doctor-finetune\"\n",
    "base_model_name = \"mistral\"\n",
    "run_name = base_model_name + \"-\" + project\n",
    "output_dir = \"./\" + run_name\n",
    "\n",
    "overall_trainer = transformers.Trainer(\n",
    "    model=overall_model,\n",
    "    train_dataset=tokenized_train_overall_dataset,\n",
    "    eval_dataset=tokenized_val_overall_dataset,\n",
    "    args=transformers.TrainingArguments(\n",
    "        output_dir=output_dir,\n",
    "        warmup_steps=1,\n",
    "        per_device_train_batch_size=4,\n",
    "        gradient_accumulation_steps=1,\n",
    "        gradient_checkpointing=True,\n",
    "        max_steps=500,\n",
    "        learning_rate=2.5e-4, # Want a small lr for finetuning\n",
    "        #bf16=True,\n",
    "        optim=\"paged_adamw_8bit\",\n",
    "        logging_steps=25,              # When to start reporting loss\n",
    "        logging_dir=\"./logs\",        # Directory for storing logs\n",
    "        save_strategy=\"steps\",       # Save the model checkpoint every logging step\n",
    "        save_steps=25,                # Save checkpoints every 50 steps\n",
    "        evaluation_strategy=\"steps\", # Evaluate the model every logging step\n",
    "        eval_steps=25,               # Evaluate and save checkpoints every 50 steps\n",
    "        do_eval=True,                # Perform evaluation at the end of training\n",
    "    ),\n",
    "    data_collator=transformers.DataCollatorForLanguageModeling(tokenizer, mlm=False),\n",
    ")\n",
    "\n",
    "overall_model.config.use_cache = True  # silence the warnings. Please re-enable for inference!\n",
    "overall_trainer.train(resume_from_checkpoint=True)\n",
    "\n",
    "conversation_trainer = transformers.Trainer(\n",
    "    model=conversation_model,\n",
    "    train_dataset=tokenized_train_conversation_dataset,\n",
    "    eval_dataset=tokenized_val_conversation_dataset,\n",
    "    args=transformers.TrainingArguments(\n",
    "        output_dir=output_dir,\n",
    "        warmup_steps=1,\n",
    "        per_device_train_batch_size=4,\n",
    "        gradient_accumulation_steps=1,\n",
    "        gradient_checkpointing=True,\n",
    "        max_steps=500,\n",
    "        learning_rate=2.5e-4, # Want a small lr for finetuning\n",
    "        #bf16=True,\n",
    "        optim=\"paged_adamw_8bit\",\n",
    "        logging_steps=25,              # When to start reporting loss\n",
    "        logging_dir=\"./logs\",        # Directory for storing logs\n",
    "        save_strategy=\"steps\",       # Save the model checkpoint every logging step\n",
    "        save_steps=25,                # Save checkpoints every 50 steps\n",
    "        evaluation_strategy=\"steps\", # Evaluate the model every logging step\n",
    "        eval_steps=25,               # Evaluate and save checkpoints every 50 steps\n",
    "        do_eval=True,                # Perform evaluation at the end of training\n",
    "    ),\n",
    "    data_collator=transformers.DataCollatorForLanguageModeling(tokenizer, mlm=False),\n",
    ")\n",
    "\n",
    "model.config.use_cache = True  # silence the warnings. Please re-enable for inference!\n",
    "conversation_trainer.train(resume_from_checkpoint=True)"
   ]
  },
  {
   "cell_type": "markdown",
   "metadata": {
    "id": "U2UGNIMMsuP5"
   },
   "source": [
    "### Inference"
   ]
  },
  {
   "cell_type": "code",
   "execution_count": 29,
   "metadata": {
    "colab": {
     "referenced_widgets": [
      "fb8230fb86884aa6be318e2d03a88af2",
      "af6fb742de5f44009af0d25c25f8efe7",
      "2366c13e47654557abb1de445f78fee0"
     ]
    },
    "id": "SKSnF016yRgp",
    "outputId": "bce5209d-90da-4117-c6ac-cda9f3cb3422"
   },
   "outputs": [
    {
     "name": "stderr",
     "output_type": "stream",
     "text": [
      "/research/m323170/PyEnv/nlp_hw2/lib64/python3.11/site-packages/transformers/models/auto/auto_factory.py:471: FutureWarning: The `use_auth_token` argument is deprecated and will be removed in v5 of Transformers. Please use `token` instead.\n",
      "  warnings.warn(\n"
     ]
    },
    {
     "data": {
      "application/vnd.jupyter.widget-view+json": {
       "model_id": "3c5f3e2afacf4846a84cfb771c03d3d5",
       "version_major": 2,
       "version_minor": 0
      },
      "text/plain": [
       "Loading checkpoint shards:   0%|          | 0/2 [00:00<?, ?it/s]"
      ]
     },
     "metadata": {},
     "output_type": "display_data"
    }
   ],
   "source": [
    "import torch\n",
    "from transformers import AutoTokenizer, AutoModelForCausalLM, BitsAndBytesConfig\n",
    "\n",
    "base_model_id = \"mistralai/Mistral-7B-v0.1\"\n",
    "bnb_config = BitsAndBytesConfig(\n",
    "    load_in_4bit=True,\n",
    "    bnb_4bit_use_double_quant=True,\n",
    "    bnb_4bit_quant_type=\"nf4\",\n",
    "    bnb_4bit_compute_dtype=torch.bfloat16\n",
    ")\n",
    "\n",
    "base_model = AutoModelForCausalLM.from_pretrained(\n",
    "    base_model_id,  # Mistral, same as before\n",
    "    quantization_config=bnb_config,  # Same quantization config as before\n",
    "    device_map=\"auto\",\n",
    "    trust_remote_code=True,\n",
    "    use_auth_token=True\n",
    ")\n",
    "\n",
    "tokenizer = AutoTokenizer.from_pretrained(base_model_id, add_bos_token=True, trust_remote_code=True)"
   ]
  },
  {
   "cell_type": "markdown",
   "metadata": {
    "id": "_BxOhAiqyRgp"
   },
   "source": [
    "Now load the QLoRA adapter from the appropriate checkpoint directory, i.e. the best performing model checkpoint:"
   ]
  },
  {
   "cell_type": "code",
   "execution_count": 30,
   "metadata": {
    "id": "GwsiqhWuyRgp"
   },
   "outputs": [],
   "source": [
    "from peft import PeftModel\n",
    "\n",
    "ft_model = PeftModel.from_pretrained(base_model, \"mistral-chat-doctor-finetune/checkpoint-500/\")"
   ]
  },
  {
   "cell_type": "markdown",
   "metadata": {
    "id": "lX39ibolyRgp"
   },
   "source": [
    "and run your inference!"
   ]
  },
  {
   "cell_type": "code",
   "execution_count": 31,
   "metadata": {
    "id": "LuyhlWFqsuP9",
    "outputId": "b24a8dbf-566d-4e1b-b6c2-86a91946d2e0"
   },
   "outputs": [
    {
     "name": "stderr",
     "output_type": "stream",
     "text": [
      "Setting `pad_token_id` to `eos_token_id`:None for open-end generation.\n"
     ]
    },
    {
     "name": "stdout",
     "output_type": "stream",
     "text": [
      "Doc chat inference:\n",
      "===================================================================================\n",
      "Patient's Query:  hi doc, my bmi is 28 what to do? \n",
      "###\n",
      "\n",
      "### Doctor opinion: Hi, Thanks for writing in. Your BMI is 28 which means you are overweight and need to lose some weight. You can start by eating a healthy diet rich in fruits and vegetables and low fat dairy products. Avoid fried foods and junk food. Exercise regularly. Do brisk walking or jogging for at least half an hour daily. If you have any other health issues like diabetes or high blood pressure then please consult your doctor before starting exercise.\n"
     ]
    }
   ],
   "source": [
    "print(\"Doc chat inference:\")\n",
    "print(\"===================================================================================\")\n",
    "query = \" hi doc, my bmi is 28 what to do?\"\n",
    "eval_prompt = \"\"\"Patient's Query: {} \\n###\\n\\n\"\"\".format(query)\n",
    "model_input = tokenizer(eval_prompt, return_tensors=\"pt\").to(\"cuda\")\n",
    "# ft_model.eval()\n",
    "output = ft_model.generate(input_ids=model_input[\"input_ids\"].to(device),\n",
    "                           attention_mask=model_input[\"attention_mask\"],\n",
    "                           max_new_tokens=100, repetition_penalty=1.17)\n",
    "# with torch.no_grad():\n",
    "\n",
    "print(tokenizer.decode(output[0], skip_special_tokens=True))"
   ]
  },
  {
   "cell_type": "markdown",
   "metadata": {
    "id": "lkRR9fuuZI30"
   },
   "source": [
    "# Chat Doctor Next response"
   ]
  },
  {
   "cell_type": "code",
   "execution_count": 32,
   "metadata": {
    "id": "U-FnDUyasuP_"
   },
   "outputs": [],
   "source": [
    "def respond(query):\n",
    "    eval_prompt = \"\"\"Patient's Query:\\n\\n {} ###\\n\\n\"\"\".format(query)\n",
    "    model_input = tokenizer(eval_prompt, return_tensors=\"pt\").to(\"cuda\")\n",
    "    output = ft_model.generate(input_ids=model_input[\"input_ids\"].to(device),\n",
    "                           attention_mask=model_input[\"attention_mask\"],\n",
    "                           max_new_tokens=125, repetition_penalty=1.15)\n",
    "    result = tokenizer.decode(output[0], skip_special_tokens=True).replace(eval_prompt, \"\")\n",
    "    res = find_similiar_disease(query)\n",
    "    print(res)\n",
    "    if res is not None:\n",
    "        result = result + res\n",
    "    return result"
   ]
  },
  {
   "cell_type": "code",
   "execution_count": 33,
   "metadata": {
    "id": "UBzrpkBQsuP_",
    "outputId": "b592ff51-00e3-4a59-db8e-bf37280fd78c"
   },
   "outputs": [
    {
     "name": "stderr",
     "output_type": "stream",
     "text": [
      "/research/m323170/PyEnv/nlp_hw2/lib64/python3.11/site-packages/gradio/components/chatbot.py:231: UserWarning: The 'tuples' format for chatbot messages is deprecated and will be removed in a future version of Gradio. Please set type='messages' instead, which uses openai-style 'role' and 'content' keys.\n",
      "  warnings.warn(\n",
      "which: no node in (/research/m323170/PyEnv/nlp_hw2/bin:/home/m323170/.pyenv/shims:/home/m323170/.pyenv/bin:/home/m323170/.pyenv/plugins/pyenv-virtualenv/shims:/home/m323170/.pyenv/bin:/home/m323170/.local/bin:/home/m323170/bin:/usr/local/bin:/usr/bin:/usr/local/sbin:/usr/sbin:/opt/dell/srvadmin/sbin)\n"
     ]
    },
    {
     "name": "stdout",
     "output_type": "stream",
     "text": [
      "* Running on local URL:  http://127.0.0.1:7860\n",
      "\n",
      "Could not create share link. Please check your internet connection or our status page: https://status.gradio.app.\n"
     ]
    },
    {
     "name": "stderr",
     "output_type": "stream",
     "text": [
      "2024/12/03 13:25:35 [W] [service.go:132] login to server failed: dial tcp 44.237.78.176:7000: i/o timeout\n"
     ]
    },
    {
     "data": {
      "text/html": [
       "<div><iframe src=\"http://127.0.0.1:7860/\" width=\"100%\" height=\"500\" allow=\"autoplay; camera; microphone; clipboard-read; clipboard-write;\" frameborder=\"0\" allowfullscreen></iframe></div>"
      ],
      "text/plain": [
       "<IPython.core.display.HTML object>"
      ]
     },
     "metadata": {},
     "output_type": "display_data"
    },
    {
     "data": {
      "text/plain": []
     },
     "execution_count": 33,
     "metadata": {},
     "output_type": "execute_result"
    }
   ],
   "source": [
    "import random\n",
    "import gradio as gr\n",
    "\n",
    "def doc(message, history):\n",
    "    return respond(message)\n",
    "\n",
    "demo = gr.ChatInterface(doc)\n",
    "\n",
    "demo.launch(share=True)"
   ]
  },
  {
   "cell_type": "code",
   "execution_count": 34,
   "metadata": {
    "id": "n2p03VsQ7dQX"
   },
   "outputs": [],
   "source": [
    "#Score model"
   ]
  },
  {
   "cell_type": "code",
   "execution_count": 35,
   "metadata": {
    "id": "sqPaH84s7dQX"
   },
   "outputs": [],
   "source": [
    "import evaluate"
   ]
  },
  {
   "cell_type": "code",
   "execution_count": 36,
   "metadata": {
    "colab": {
     "base_uri": "https://localhost:8080/",
     "height": 176
    },
    "id": "Jftv0UkRsuQA",
    "outputId": "e7777464-8346-4a1e-a64e-376152bf47a1"
   },
   "outputs": [],
   "source": [
    "def evaluate_by_metric(outputs, reference_texts, evaluation_metric):\n",
    "    value = evaluation_metric.compute(predictions=outputs, reference=reference_texts, lang=\"en\")\n",
    "    return value\n",
    "bertscore=evaluate.load(\"bertscore\")"
   ]
  },
  {
   "cell_type": "markdown",
   "metadata": {},
   "source": [
    "### evaluation for integrated model"
   ]
  },
  {
   "cell_type": "code",
   "execution_count": 37,
   "metadata": {},
   "outputs": [
    {
     "data": {
      "text/plain": [
       "100"
      ]
     },
     "execution_count": 37,
     "metadata": {},
     "output_type": "execute_result"
    }
   ],
   "source": [
    "len(tokenized_val_icliniq_dataset)"
   ]
  },
  {
   "cell_type": "code",
   "execution_count": 48,
   "metadata": {},
   "outputs": [
    {
     "name": "stderr",
     "output_type": "stream",
     "text": [
      "Setting `pad_token_id` to `eos_token_id`:None for open-end generation.\n",
      "Setting `pad_token_id` to `eos_token_id`:None for open-end generation.\n"
     ]
    },
    {
     "name": "stdout",
     "output_type": "stream",
     "text": [
      "None\n"
     ]
    },
    {
     "name": "stderr",
     "output_type": "stream",
     "text": [
      "Setting `pad_token_id` to `eos_token_id`:None for open-end generation.\n"
     ]
    },
    {
     "name": "stdout",
     "output_type": "stream",
     "text": [
      "None\n"
     ]
    },
    {
     "name": "stderr",
     "output_type": "stream",
     "text": [
      "Setting `pad_token_id` to `eos_token_id`:None for open-end generation.\n"
     ]
    },
    {
     "name": "stdout",
     "output_type": "stream",
     "text": [
      "None\n"
     ]
    },
    {
     "name": "stderr",
     "output_type": "stream",
     "text": [
      "Setting `pad_token_id` to `eos_token_id`:None for open-end generation.\n"
     ]
    },
    {
     "name": "stdout",
     "output_type": "stream",
     "text": [
      "None\n"
     ]
    },
    {
     "name": "stderr",
     "output_type": "stream",
     "text": [
      "Setting `pad_token_id` to `eos_token_id`:None for open-end generation.\n"
     ]
    },
    {
     "name": "stdout",
     "output_type": "stream",
     "text": [
      "None\n"
     ]
    },
    {
     "name": "stderr",
     "output_type": "stream",
     "text": [
      "Setting `pad_token_id` to `eos_token_id`:None for open-end generation.\n"
     ]
    },
    {
     "name": "stdout",
     "output_type": "stream",
     "text": [
      "None\n"
     ]
    },
    {
     "name": "stderr",
     "output_type": "stream",
     "text": [
      "Setting `pad_token_id` to `eos_token_id`:None for open-end generation.\n"
     ]
    },
    {
     "name": "stdout",
     "output_type": "stream",
     "text": [
      "None\n"
     ]
    },
    {
     "name": "stderr",
     "output_type": "stream",
     "text": [
      "Setting `pad_token_id` to `eos_token_id`:None for open-end generation.\n"
     ]
    },
    {
     "name": "stdout",
     "output_type": "stream",
     "text": [
      "None\n"
     ]
    },
    {
     "name": "stderr",
     "output_type": "stream",
     "text": [
      "Setting `pad_token_id` to `eos_token_id`:None for open-end generation.\n"
     ]
    },
    {
     "name": "stdout",
     "output_type": "stream",
     "text": [
      "None\n"
     ]
    },
    {
     "name": "stderr",
     "output_type": "stream",
     "text": [
      "Setting `pad_token_id` to `eos_token_id`:None for open-end generation.\n"
     ]
    },
    {
     "name": "stdout",
     "output_type": "stream",
     "text": [
      "None\n"
     ]
    },
    {
     "name": "stderr",
     "output_type": "stream",
     "text": [
      "Setting `pad_token_id` to `eos_token_id`:None for open-end generation.\n"
     ]
    },
    {
     "name": "stdout",
     "output_type": "stream",
     "text": [
      "\n",
      "\n",
      "You are likely to have Dengue Fever.\n",
      "From recent news: Climate change plays a role in global rise of dengue fever, published at: 2024-11-23T13:47:53Z\n",
      "More information: https://www.npr.org/2024/11/23/nx-s1-5193356/climate-change-dengue-fever-mosquito-mexico-brazil\n"
     ]
    },
    {
     "name": "stderr",
     "output_type": "stream",
     "text": [
      "Setting `pad_token_id` to `eos_token_id`:None for open-end generation.\n"
     ]
    },
    {
     "name": "stdout",
     "output_type": "stream",
     "text": [
      "None\n"
     ]
    },
    {
     "name": "stderr",
     "output_type": "stream",
     "text": [
      "Setting `pad_token_id` to `eos_token_id`:None for open-end generation.\n"
     ]
    },
    {
     "name": "stdout",
     "output_type": "stream",
     "text": [
      "None\n"
     ]
    },
    {
     "name": "stderr",
     "output_type": "stream",
     "text": [
      "Setting `pad_token_id` to `eos_token_id`:None for open-end generation.\n"
     ]
    },
    {
     "name": "stdout",
     "output_type": "stream",
     "text": [
      "None\n"
     ]
    },
    {
     "name": "stderr",
     "output_type": "stream",
     "text": [
      "Setting `pad_token_id` to `eos_token_id`:None for open-end generation.\n"
     ]
    },
    {
     "name": "stdout",
     "output_type": "stream",
     "text": [
      "None\n"
     ]
    },
    {
     "name": "stderr",
     "output_type": "stream",
     "text": [
      "Setting `pad_token_id` to `eos_token_id`:None for open-end generation.\n"
     ]
    },
    {
     "name": "stdout",
     "output_type": "stream",
     "text": [
      "None\n"
     ]
    },
    {
     "name": "stderr",
     "output_type": "stream",
     "text": [
      "Setting `pad_token_id` to `eos_token_id`:None for open-end generation.\n"
     ]
    },
    {
     "name": "stdout",
     "output_type": "stream",
     "text": [
      "None\n"
     ]
    },
    {
     "name": "stderr",
     "output_type": "stream",
     "text": [
      "Setting `pad_token_id` to `eos_token_id`:None for open-end generation.\n"
     ]
    },
    {
     "name": "stdout",
     "output_type": "stream",
     "text": [
      "None\n"
     ]
    },
    {
     "name": "stderr",
     "output_type": "stream",
     "text": [
      "Setting `pad_token_id` to `eos_token_id`:None for open-end generation.\n"
     ]
    },
    {
     "name": "stdout",
     "output_type": "stream",
     "text": [
      "None\n"
     ]
    },
    {
     "name": "stderr",
     "output_type": "stream",
     "text": [
      "Setting `pad_token_id` to `eos_token_id`:None for open-end generation.\n"
     ]
    },
    {
     "name": "stdout",
     "output_type": "stream",
     "text": [
      "None\n"
     ]
    },
    {
     "name": "stderr",
     "output_type": "stream",
     "text": [
      "Setting `pad_token_id` to `eos_token_id`:None for open-end generation.\n"
     ]
    },
    {
     "name": "stdout",
     "output_type": "stream",
     "text": [
      "None\n"
     ]
    },
    {
     "name": "stderr",
     "output_type": "stream",
     "text": [
      "Setting `pad_token_id` to `eos_token_id`:None for open-end generation.\n"
     ]
    },
    {
     "name": "stdout",
     "output_type": "stream",
     "text": [
      "None\n"
     ]
    },
    {
     "name": "stderr",
     "output_type": "stream",
     "text": [
      "Setting `pad_token_id` to `eos_token_id`:None for open-end generation.\n"
     ]
    },
    {
     "name": "stdout",
     "output_type": "stream",
     "text": [
      "None\n"
     ]
    },
    {
     "name": "stderr",
     "output_type": "stream",
     "text": [
      "Setting `pad_token_id` to `eos_token_id`:None for open-end generation.\n"
     ]
    },
    {
     "name": "stdout",
     "output_type": "stream",
     "text": [
      "None\n"
     ]
    },
    {
     "name": "stderr",
     "output_type": "stream",
     "text": [
      "Setting `pad_token_id` to `eos_token_id`:None for open-end generation.\n"
     ]
    },
    {
     "name": "stdout",
     "output_type": "stream",
     "text": [
      "None\n"
     ]
    },
    {
     "name": "stderr",
     "output_type": "stream",
     "text": [
      "Setting `pad_token_id` to `eos_token_id`:None for open-end generation.\n"
     ]
    },
    {
     "name": "stdout",
     "output_type": "stream",
     "text": [
      "None\n"
     ]
    },
    {
     "name": "stderr",
     "output_type": "stream",
     "text": [
      "Setting `pad_token_id` to `eos_token_id`:None for open-end generation.\n"
     ]
    },
    {
     "name": "stdout",
     "output_type": "stream",
     "text": [
      "None\n"
     ]
    },
    {
     "name": "stderr",
     "output_type": "stream",
     "text": [
      "Setting `pad_token_id` to `eos_token_id`:None for open-end generation.\n"
     ]
    },
    {
     "name": "stdout",
     "output_type": "stream",
     "text": [
      "None\n"
     ]
    },
    {
     "name": "stderr",
     "output_type": "stream",
     "text": [
      "Setting `pad_token_id` to `eos_token_id`:None for open-end generation.\n"
     ]
    },
    {
     "name": "stdout",
     "output_type": "stream",
     "text": [
      "None\n"
     ]
    },
    {
     "name": "stderr",
     "output_type": "stream",
     "text": [
      "Setting `pad_token_id` to `eos_token_id`:None for open-end generation.\n"
     ]
    },
    {
     "name": "stdout",
     "output_type": "stream",
     "text": [
      "None\n"
     ]
    },
    {
     "name": "stderr",
     "output_type": "stream",
     "text": [
      "Setting `pad_token_id` to `eos_token_id`:None for open-end generation.\n"
     ]
    },
    {
     "name": "stdout",
     "output_type": "stream",
     "text": [
      "None\n"
     ]
    },
    {
     "name": "stderr",
     "output_type": "stream",
     "text": [
      "Setting `pad_token_id` to `eos_token_id`:None for open-end generation.\n"
     ]
    },
    {
     "name": "stdout",
     "output_type": "stream",
     "text": [
      "None\n"
     ]
    },
    {
     "name": "stderr",
     "output_type": "stream",
     "text": [
      "Setting `pad_token_id` to `eos_token_id`:None for open-end generation.\n"
     ]
    },
    {
     "name": "stdout",
     "output_type": "stream",
     "text": [
      "\n",
      "\n",
      "You are likely to have Pneumococcal Disease (Pneumonia).\n",
      "From recent news: Respiratory illness on the rise: Doctors urge vigilance for whooping cough, walking pneumonia, published at: 2024-11-19T01:59:51Z\n",
      "More information: https://www.kpbs.org/news/health/2024/11/18/respiratory-illness-on-the-rise-doctors-urge-vigilance-for-whooping-cough-walking-pneumonia\n"
     ]
    },
    {
     "name": "stderr",
     "output_type": "stream",
     "text": [
      "Setting `pad_token_id` to `eos_token_id`:None for open-end generation.\n"
     ]
    },
    {
     "name": "stdout",
     "output_type": "stream",
     "text": [
      "None\n"
     ]
    },
    {
     "name": "stderr",
     "output_type": "stream",
     "text": [
      "Setting `pad_token_id` to `eos_token_id`:None for open-end generation.\n"
     ]
    },
    {
     "name": "stdout",
     "output_type": "stream",
     "text": [
      "None\n"
     ]
    },
    {
     "name": "stderr",
     "output_type": "stream",
     "text": [
      "Setting `pad_token_id` to `eos_token_id`:None for open-end generation.\n"
     ]
    },
    {
     "name": "stdout",
     "output_type": "stream",
     "text": [
      "None\n"
     ]
    },
    {
     "name": "stderr",
     "output_type": "stream",
     "text": [
      "Setting `pad_token_id` to `eos_token_id`:None for open-end generation.\n"
     ]
    },
    {
     "name": "stdout",
     "output_type": "stream",
     "text": [
      "None\n"
     ]
    },
    {
     "name": "stderr",
     "output_type": "stream",
     "text": [
      "Setting `pad_token_id` to `eos_token_id`:None for open-end generation.\n"
     ]
    },
    {
     "name": "stdout",
     "output_type": "stream",
     "text": [
      "\n",
      "\n",
      "You are likely to have Dengue Fever.\n",
      "From recent news: Climate change plays a role in global rise of dengue fever, published at: 2024-11-23T13:47:53Z\n",
      "More information: https://www.npr.org/2024/11/23/nx-s1-5193356/climate-change-dengue-fever-mosquito-mexico-brazil\n"
     ]
    },
    {
     "name": "stderr",
     "output_type": "stream",
     "text": [
      "Setting `pad_token_id` to `eos_token_id`:None for open-end generation.\n"
     ]
    },
    {
     "name": "stdout",
     "output_type": "stream",
     "text": [
      "None\n"
     ]
    },
    {
     "name": "stderr",
     "output_type": "stream",
     "text": [
      "Setting `pad_token_id` to `eos_token_id`:None for open-end generation.\n"
     ]
    },
    {
     "name": "stdout",
     "output_type": "stream",
     "text": [
      "\n",
      "\n",
      "You are likely to have Dengue Fever.\n",
      "From recent news: Climate change plays a role in global rise of dengue fever, published at: 2024-11-23T13:47:53Z\n",
      "More information: https://www.npr.org/2024/11/23/nx-s1-5193356/climate-change-dengue-fever-mosquito-mexico-brazil\n"
     ]
    },
    {
     "name": "stderr",
     "output_type": "stream",
     "text": [
      "Setting `pad_token_id` to `eos_token_id`:None for open-end generation.\n"
     ]
    },
    {
     "name": "stdout",
     "output_type": "stream",
     "text": [
      "None\n"
     ]
    },
    {
     "name": "stderr",
     "output_type": "stream",
     "text": [
      "Setting `pad_token_id` to `eos_token_id`:None for open-end generation.\n"
     ]
    },
    {
     "name": "stdout",
     "output_type": "stream",
     "text": [
      "None\n"
     ]
    },
    {
     "name": "stderr",
     "output_type": "stream",
     "text": [
      "Setting `pad_token_id` to `eos_token_id`:None for open-end generation.\n"
     ]
    },
    {
     "name": "stdout",
     "output_type": "stream",
     "text": [
      "None\n"
     ]
    },
    {
     "name": "stderr",
     "output_type": "stream",
     "text": [
      "Setting `pad_token_id` to `eos_token_id`:None for open-end generation.\n"
     ]
    },
    {
     "name": "stdout",
     "output_type": "stream",
     "text": [
      "None\n"
     ]
    },
    {
     "name": "stderr",
     "output_type": "stream",
     "text": [
      "Setting `pad_token_id` to `eos_token_id`:None for open-end generation.\n"
     ]
    },
    {
     "name": "stdout",
     "output_type": "stream",
     "text": [
      "None\n"
     ]
    },
    {
     "name": "stderr",
     "output_type": "stream",
     "text": [
      "Setting `pad_token_id` to `eos_token_id`:None for open-end generation.\n"
     ]
    },
    {
     "name": "stdout",
     "output_type": "stream",
     "text": [
      "None\n"
     ]
    },
    {
     "name": "stderr",
     "output_type": "stream",
     "text": [
      "Setting `pad_token_id` to `eos_token_id`:None for open-end generation.\n"
     ]
    },
    {
     "name": "stdout",
     "output_type": "stream",
     "text": [
      "None\n"
     ]
    },
    {
     "name": "stderr",
     "output_type": "stream",
     "text": [
      "Setting `pad_token_id` to `eos_token_id`:None for open-end generation.\n"
     ]
    },
    {
     "name": "stdout",
     "output_type": "stream",
     "text": [
      "None\n"
     ]
    },
    {
     "name": "stderr",
     "output_type": "stream",
     "text": [
      "Setting `pad_token_id` to `eos_token_id`:None for open-end generation.\n"
     ]
    },
    {
     "name": "stdout",
     "output_type": "stream",
     "text": [
      "None\n"
     ]
    },
    {
     "name": "stderr",
     "output_type": "stream",
     "text": [
      "Setting `pad_token_id` to `eos_token_id`:None for open-end generation.\n"
     ]
    },
    {
     "name": "stdout",
     "output_type": "stream",
     "text": [
      "None\n"
     ]
    },
    {
     "name": "stderr",
     "output_type": "stream",
     "text": [
      "Setting `pad_token_id` to `eos_token_id`:None for open-end generation.\n"
     ]
    },
    {
     "name": "stdout",
     "output_type": "stream",
     "text": [
      "None\n"
     ]
    },
    {
     "name": "stderr",
     "output_type": "stream",
     "text": [
      "Setting `pad_token_id` to `eos_token_id`:None for open-end generation.\n"
     ]
    },
    {
     "name": "stdout",
     "output_type": "stream",
     "text": [
      "None\n"
     ]
    },
    {
     "name": "stderr",
     "output_type": "stream",
     "text": [
      "Setting `pad_token_id` to `eos_token_id`:None for open-end generation.\n"
     ]
    },
    {
     "name": "stdout",
     "output_type": "stream",
     "text": [
      "\n",
      "\n",
      "You are likely to have Dengue Fever.\n",
      "From recent news: Climate change plays a role in global rise of dengue fever, published at: 2024-11-23T13:47:53Z\n",
      "More information: https://www.npr.org/2024/11/23/nx-s1-5193356/climate-change-dengue-fever-mosquito-mexico-brazil\n"
     ]
    },
    {
     "name": "stderr",
     "output_type": "stream",
     "text": [
      "Setting `pad_token_id` to `eos_token_id`:None for open-end generation.\n"
     ]
    },
    {
     "name": "stdout",
     "output_type": "stream",
     "text": [
      "None\n"
     ]
    },
    {
     "name": "stderr",
     "output_type": "stream",
     "text": [
      "Setting `pad_token_id` to `eos_token_id`:None for open-end generation.\n"
     ]
    },
    {
     "name": "stdout",
     "output_type": "stream",
     "text": [
      "None\n"
     ]
    },
    {
     "name": "stderr",
     "output_type": "stream",
     "text": [
      "Setting `pad_token_id` to `eos_token_id`:None for open-end generation.\n"
     ]
    },
    {
     "name": "stdout",
     "output_type": "stream",
     "text": [
      "None\n"
     ]
    },
    {
     "name": "stderr",
     "output_type": "stream",
     "text": [
      "Setting `pad_token_id` to `eos_token_id`:None for open-end generation.\n"
     ]
    },
    {
     "name": "stdout",
     "output_type": "stream",
     "text": [
      "None\n"
     ]
    },
    {
     "name": "stderr",
     "output_type": "stream",
     "text": [
      "Setting `pad_token_id` to `eos_token_id`:None for open-end generation.\n"
     ]
    },
    {
     "name": "stdout",
     "output_type": "stream",
     "text": [
      "None\n"
     ]
    },
    {
     "name": "stderr",
     "output_type": "stream",
     "text": [
      "Setting `pad_token_id` to `eos_token_id`:None for open-end generation.\n"
     ]
    },
    {
     "name": "stdout",
     "output_type": "stream",
     "text": [
      "None\n"
     ]
    },
    {
     "name": "stderr",
     "output_type": "stream",
     "text": [
      "Setting `pad_token_id` to `eos_token_id`:None for open-end generation.\n"
     ]
    },
    {
     "name": "stdout",
     "output_type": "stream",
     "text": [
      "None\n"
     ]
    },
    {
     "name": "stderr",
     "output_type": "stream",
     "text": [
      "Setting `pad_token_id` to `eos_token_id`:None for open-end generation.\n"
     ]
    },
    {
     "name": "stdout",
     "output_type": "stream",
     "text": [
      "None\n"
     ]
    },
    {
     "name": "stderr",
     "output_type": "stream",
     "text": [
      "Setting `pad_token_id` to `eos_token_id`:None for open-end generation.\n"
     ]
    },
    {
     "name": "stdout",
     "output_type": "stream",
     "text": [
      "None\n"
     ]
    },
    {
     "name": "stderr",
     "output_type": "stream",
     "text": [
      "Setting `pad_token_id` to `eos_token_id`:None for open-end generation.\n"
     ]
    },
    {
     "name": "stdout",
     "output_type": "stream",
     "text": [
      "None\n"
     ]
    },
    {
     "name": "stderr",
     "output_type": "stream",
     "text": [
      "Setting `pad_token_id` to `eos_token_id`:None for open-end generation.\n"
     ]
    },
    {
     "name": "stdout",
     "output_type": "stream",
     "text": [
      "None\n"
     ]
    },
    {
     "name": "stderr",
     "output_type": "stream",
     "text": [
      "Setting `pad_token_id` to `eos_token_id`:None for open-end generation.\n"
     ]
    },
    {
     "name": "stdout",
     "output_type": "stream",
     "text": [
      "None\n"
     ]
    },
    {
     "name": "stderr",
     "output_type": "stream",
     "text": [
      "Setting `pad_token_id` to `eos_token_id`:None for open-end generation.\n"
     ]
    },
    {
     "name": "stdout",
     "output_type": "stream",
     "text": [
      "None\n"
     ]
    },
    {
     "name": "stderr",
     "output_type": "stream",
     "text": [
      "Setting `pad_token_id` to `eos_token_id`:None for open-end generation.\n"
     ]
    },
    {
     "name": "stdout",
     "output_type": "stream",
     "text": [
      "None\n"
     ]
    },
    {
     "name": "stderr",
     "output_type": "stream",
     "text": [
      "Setting `pad_token_id` to `eos_token_id`:None for open-end generation.\n"
     ]
    },
    {
     "name": "stdout",
     "output_type": "stream",
     "text": [
      "None\n"
     ]
    },
    {
     "name": "stderr",
     "output_type": "stream",
     "text": [
      "Setting `pad_token_id` to `eos_token_id`:None for open-end generation.\n"
     ]
    },
    {
     "name": "stdout",
     "output_type": "stream",
     "text": [
      "None\n"
     ]
    },
    {
     "name": "stderr",
     "output_type": "stream",
     "text": [
      "Setting `pad_token_id` to `eos_token_id`:None for open-end generation.\n"
     ]
    },
    {
     "name": "stdout",
     "output_type": "stream",
     "text": [
      "None\n"
     ]
    },
    {
     "name": "stderr",
     "output_type": "stream",
     "text": [
      "Setting `pad_token_id` to `eos_token_id`:None for open-end generation.\n"
     ]
    },
    {
     "name": "stdout",
     "output_type": "stream",
     "text": [
      "None\n"
     ]
    },
    {
     "name": "stderr",
     "output_type": "stream",
     "text": [
      "Setting `pad_token_id` to `eos_token_id`:None for open-end generation.\n"
     ]
    },
    {
     "name": "stdout",
     "output_type": "stream",
     "text": [
      "None\n"
     ]
    },
    {
     "name": "stderr",
     "output_type": "stream",
     "text": [
      "Setting `pad_token_id` to `eos_token_id`:None for open-end generation.\n"
     ]
    },
    {
     "name": "stdout",
     "output_type": "stream",
     "text": [
      "None\n"
     ]
    },
    {
     "name": "stderr",
     "output_type": "stream",
     "text": [
      "Setting `pad_token_id` to `eos_token_id`:None for open-end generation.\n"
     ]
    },
    {
     "name": "stdout",
     "output_type": "stream",
     "text": [
      "None\n"
     ]
    },
    {
     "name": "stderr",
     "output_type": "stream",
     "text": [
      "Setting `pad_token_id` to `eos_token_id`:None for open-end generation.\n"
     ]
    },
    {
     "name": "stdout",
     "output_type": "stream",
     "text": [
      "None\n"
     ]
    },
    {
     "name": "stderr",
     "output_type": "stream",
     "text": [
      "Setting `pad_token_id` to `eos_token_id`:None for open-end generation.\n"
     ]
    },
    {
     "name": "stdout",
     "output_type": "stream",
     "text": [
      "None\n"
     ]
    },
    {
     "name": "stderr",
     "output_type": "stream",
     "text": [
      "Setting `pad_token_id` to `eos_token_id`:None for open-end generation.\n"
     ]
    },
    {
     "name": "stdout",
     "output_type": "stream",
     "text": [
      "None\n"
     ]
    },
    {
     "name": "stderr",
     "output_type": "stream",
     "text": [
      "Setting `pad_token_id` to `eos_token_id`:None for open-end generation.\n"
     ]
    },
    {
     "name": "stdout",
     "output_type": "stream",
     "text": [
      "None\n"
     ]
    },
    {
     "name": "stderr",
     "output_type": "stream",
     "text": [
      "Setting `pad_token_id` to `eos_token_id`:None for open-end generation.\n"
     ]
    },
    {
     "name": "stdout",
     "output_type": "stream",
     "text": [
      "None\n"
     ]
    },
    {
     "name": "stderr",
     "output_type": "stream",
     "text": [
      "Setting `pad_token_id` to `eos_token_id`:None for open-end generation.\n"
     ]
    },
    {
     "name": "stdout",
     "output_type": "stream",
     "text": [
      "None\n"
     ]
    },
    {
     "name": "stderr",
     "output_type": "stream",
     "text": [
      "Setting `pad_token_id` to `eos_token_id`:None for open-end generation.\n"
     ]
    },
    {
     "name": "stdout",
     "output_type": "stream",
     "text": [
      "None\n"
     ]
    },
    {
     "name": "stderr",
     "output_type": "stream",
     "text": [
      "Setting `pad_token_id` to `eos_token_id`:None for open-end generation.\n"
     ]
    },
    {
     "name": "stdout",
     "output_type": "stream",
     "text": [
      "None\n"
     ]
    },
    {
     "name": "stderr",
     "output_type": "stream",
     "text": [
      "Setting `pad_token_id` to `eos_token_id`:None for open-end generation.\n"
     ]
    },
    {
     "name": "stdout",
     "output_type": "stream",
     "text": [
      "None\n"
     ]
    },
    {
     "name": "stderr",
     "output_type": "stream",
     "text": [
      "Setting `pad_token_id` to `eos_token_id`:None for open-end generation.\n"
     ]
    },
    {
     "name": "stdout",
     "output_type": "stream",
     "text": [
      "None\n"
     ]
    },
    {
     "name": "stderr",
     "output_type": "stream",
     "text": [
      "Setting `pad_token_id` to `eos_token_id`:None for open-end generation.\n"
     ]
    },
    {
     "name": "stdout",
     "output_type": "stream",
     "text": [
      "None\n"
     ]
    },
    {
     "name": "stderr",
     "output_type": "stream",
     "text": [
      "Setting `pad_token_id` to `eos_token_id`:None for open-end generation.\n"
     ]
    },
    {
     "name": "stdout",
     "output_type": "stream",
     "text": [
      "None\n"
     ]
    },
    {
     "name": "stderr",
     "output_type": "stream",
     "text": [
      "Setting `pad_token_id` to `eos_token_id`:None for open-end generation.\n"
     ]
    },
    {
     "name": "stdout",
     "output_type": "stream",
     "text": [
      "None\n"
     ]
    },
    {
     "name": "stderr",
     "output_type": "stream",
     "text": [
      "Setting `pad_token_id` to `eos_token_id`:None for open-end generation.\n"
     ]
    },
    {
     "name": "stdout",
     "output_type": "stream",
     "text": [
      "None\n"
     ]
    },
    {
     "name": "stderr",
     "output_type": "stream",
     "text": [
      "Setting `pad_token_id` to `eos_token_id`:None for open-end generation.\n"
     ]
    },
    {
     "name": "stdout",
     "output_type": "stream",
     "text": [
      "None\n"
     ]
    },
    {
     "name": "stderr",
     "output_type": "stream",
     "text": [
      "Setting `pad_token_id` to `eos_token_id`:None for open-end generation.\n"
     ]
    },
    {
     "name": "stdout",
     "output_type": "stream",
     "text": [
      "None\n"
     ]
    },
    {
     "name": "stderr",
     "output_type": "stream",
     "text": [
      "Setting `pad_token_id` to `eos_token_id`:None for open-end generation.\n"
     ]
    },
    {
     "name": "stdout",
     "output_type": "stream",
     "text": [
      "None\n"
     ]
    },
    {
     "name": "stderr",
     "output_type": "stream",
     "text": [
      "Setting `pad_token_id` to `eos_token_id`:None for open-end generation.\n"
     ]
    },
    {
     "name": "stdout",
     "output_type": "stream",
     "text": [
      "None\n"
     ]
    },
    {
     "name": "stderr",
     "output_type": "stream",
     "text": [
      "Setting `pad_token_id` to `eos_token_id`:None for open-end generation.\n"
     ]
    },
    {
     "name": "stdout",
     "output_type": "stream",
     "text": [
      "None\n"
     ]
    },
    {
     "name": "stderr",
     "output_type": "stream",
     "text": [
      "Setting `pad_token_id` to `eos_token_id`:None for open-end generation.\n"
     ]
    },
    {
     "name": "stdout",
     "output_type": "stream",
     "text": [
      "\n",
      "\n",
      "You are likely to have Dengue Fever.\n",
      "From recent news: Climate change plays a role in global rise of dengue fever, published at: 2024-11-23T13:47:53Z\n",
      "More information: https://www.npr.org/2024/11/23/nx-s1-5193356/climate-change-dengue-fever-mosquito-mexico-brazil\n"
     ]
    },
    {
     "name": "stderr",
     "output_type": "stream",
     "text": [
      "Setting `pad_token_id` to `eos_token_id`:None for open-end generation.\n"
     ]
    },
    {
     "name": "stdout",
     "output_type": "stream",
     "text": [
      "None\n"
     ]
    },
    {
     "name": "stderr",
     "output_type": "stream",
     "text": [
      "Setting `pad_token_id` to `eos_token_id`:None for open-end generation.\n"
     ]
    },
    {
     "name": "stdout",
     "output_type": "stream",
     "text": [
      "None\n"
     ]
    },
    {
     "name": "stderr",
     "output_type": "stream",
     "text": [
      "Setting `pad_token_id` to `eos_token_id`:None for open-end generation.\n"
     ]
    },
    {
     "name": "stdout",
     "output_type": "stream",
     "text": [
      "None\n"
     ]
    },
    {
     "name": "stderr",
     "output_type": "stream",
     "text": [
      "Setting `pad_token_id` to `eos_token_id`:None for open-end generation.\n"
     ]
    },
    {
     "name": "stdout",
     "output_type": "stream",
     "text": [
      "None\n"
     ]
    },
    {
     "name": "stderr",
     "output_type": "stream",
     "text": [
      "Setting `pad_token_id` to `eos_token_id`:None for open-end generation.\n"
     ]
    },
    {
     "name": "stdout",
     "output_type": "stream",
     "text": [
      "None\n",
      "None\n"
     ]
    },
    {
     "name": "stderr",
     "output_type": "stream",
     "text": [
      "Some weights of RobertaModel were not initialized from the model checkpoint at roberta-large and are newly initialized: ['roberta.pooler.dense.bias', 'roberta.pooler.dense.weight']\n",
      "You should probably TRAIN this model on a down-stream task to be able to use it for predictions and inference.\n"
     ]
    },
    {
     "name": "stdout",
     "output_type": "stream",
     "text": [
      "Baseline on Conversation\n",
      "Precision: 0.8363891381025315\n",
      "Recall: 0.8443140226602555\n",
      "F1: 0.8401932173967361\n"
     ]
    }
   ],
   "source": [
    "decoded_outputs = []\n",
    "reference_texts = []\n",
    "\n",
    "for i in range(len(tokenized_val_icliniq_dataset)):\n",
    "    current_sample = tokenized_val_icliniq_dataset[i]['input']\n",
    "    decoded_output = respond(current_sample)\n",
    "\n",
    "    #decoded_output = tokenizer.decode(output, skip_special_tokens=True)\n",
    "    reference_text = tokenized_val_icliniq_dataset[i][\"output\"]#tokenizer.decode(current_sample[\"labels\"], skip_special_tokens=True)\n",
    "\n",
    "    decoded_outputs.append(decoded_output)\n",
    "    reference_texts.append(reference_text)\n",
    "\n",
    "scores = bertscore.compute(predictions=decoded_outputs, references=reference_texts, lang=\"en\")\n",
    "print(f\"Comparison for integrated response\")\n",
    "print(f\"Precision: {np.mean(scores['precision'])}\")\n",
    "print(f\"Recall: {np.mean(scores['recall'])}\")\n",
    "print(f\"F1: {np.mean(scores['f1'])}\")"
   ]
  },
  {
   "cell_type": "code",
   "execution_count": 49,
   "metadata": {
    "id": "0dU1MvwI7dQX",
    "outputId": "cf2134d5-47da-4172-a1a2-1b056987696b"
   },
   "outputs": [
    {
     "ename": "KeyboardInterrupt",
     "evalue": "",
     "output_type": "error",
     "traceback": [
      "\u001b[0;31m---------------------------------------------------------------------------\u001b[0m",
      "\u001b[0;31mKeyboardInterrupt\u001b[0m                         Traceback (most recent call last)",
      "Cell \u001b[0;32mIn[49], line 10\u001b[0m\n\u001b[1;32m      8\u001b[0m eval_attention \u001b[38;5;241m=\u001b[39m torch\u001b[38;5;241m.\u001b[39mtensor(current_sample[\u001b[38;5;124m\"\u001b[39m\u001b[38;5;124mattention_mask\u001b[39m\u001b[38;5;124m\"\u001b[39m])[\u001b[38;5;28;01mNone\u001b[39;00m, :]\u001b[38;5;241m.\u001b[39mto(device)\n\u001b[1;32m      9\u001b[0m \u001b[38;5;66;03m#eval_attention = torch.tensor(attention_mask)\u001b[39;00m\n\u001b[0;32m---> 10\u001b[0m output \u001b[38;5;241m=\u001b[39m \u001b[43mbase_model\u001b[49m\u001b[38;5;241;43m.\u001b[39;49m\u001b[43mgenerate\u001b[49m\u001b[43m(\u001b[49m\u001b[43minput_ids\u001b[49m\u001b[38;5;241;43m=\u001b[39;49m\u001b[43meval_prompt\u001b[49m\u001b[43m,\u001b[49m\n\u001b[1;32m     11\u001b[0m \u001b[43m                       \u001b[49m\u001b[43mattention_mask\u001b[49m\u001b[38;5;241;43m=\u001b[39;49m\u001b[43meval_attention\u001b[49m\u001b[43m,\u001b[49m\n\u001b[1;32m     12\u001b[0m \u001b[43m                       \u001b[49m\u001b[43mmax_new_tokens\u001b[49m\u001b[38;5;241;43m=\u001b[39;49m\u001b[38;5;241;43m100\u001b[39;49m\u001b[43m,\u001b[49m\u001b[43m \u001b[49m\u001b[43mrepetition_penalty\u001b[49m\u001b[38;5;241;43m=\u001b[39;49m\u001b[38;5;241;43m1.17\u001b[39;49m\u001b[43m,\u001b[49m\u001b[43m \u001b[49m\u001b[43mpad_token_id\u001b[49m\u001b[38;5;241;43m=\u001b[39;49m\u001b[43mtokenizer\u001b[49m\u001b[38;5;241;43m.\u001b[39;49m\u001b[43meos_token_id\u001b[49m\u001b[43m)\u001b[49m\n\u001b[1;32m     13\u001b[0m \u001b[38;5;250m\u001b[39m\u001b[38;5;124;03m\"\"\"\u001b[39;00m\n\u001b[1;32m     14\u001b[0m \u001b[38;5;124;03moutput = ft_model.generate(input_ids=eval_prompt,\u001b[39;00m\n\u001b[1;32m     15\u001b[0m \u001b[38;5;124;03m                       attention_mask=eval_attention,\u001b[39;00m\n\u001b[1;32m     16\u001b[0m \u001b[38;5;124;03m                       max_new_tokens=100, repetition_penalty=1.17)\u001b[39;00m\n\u001b[1;32m     17\u001b[0m \u001b[38;5;124;03m\"\"\"\u001b[39;00m\n\u001b[1;32m     18\u001b[0m decoded_output \u001b[38;5;241m=\u001b[39m tokenizer\u001b[38;5;241m.\u001b[39mdecode(output[\u001b[38;5;241m0\u001b[39m], skip_special_tokens\u001b[38;5;241m=\u001b[39m\u001b[38;5;28;01mTrue\u001b[39;00m)\n",
      "File \u001b[0;32m/research/m323170/PyEnv/nlp_hw2/lib64/python3.11/site-packages/torch/utils/_contextlib.py:115\u001b[0m, in \u001b[0;36mcontext_decorator.<locals>.decorate_context\u001b[0;34m(*args, **kwargs)\u001b[0m\n\u001b[1;32m    112\u001b[0m \u001b[38;5;129m@functools\u001b[39m\u001b[38;5;241m.\u001b[39mwraps(func)\n\u001b[1;32m    113\u001b[0m \u001b[38;5;28;01mdef\u001b[39;00m \u001b[38;5;21mdecorate_context\u001b[39m(\u001b[38;5;241m*\u001b[39margs, \u001b[38;5;241m*\u001b[39m\u001b[38;5;241m*\u001b[39mkwargs):\n\u001b[1;32m    114\u001b[0m     \u001b[38;5;28;01mwith\u001b[39;00m ctx_factory():\n\u001b[0;32m--> 115\u001b[0m         \u001b[38;5;28;01mreturn\u001b[39;00m \u001b[43mfunc\u001b[49m\u001b[43m(\u001b[49m\u001b[38;5;241;43m*\u001b[39;49m\u001b[43margs\u001b[49m\u001b[43m,\u001b[49m\u001b[43m \u001b[49m\u001b[38;5;241;43m*\u001b[39;49m\u001b[38;5;241;43m*\u001b[39;49m\u001b[43mkwargs\u001b[49m\u001b[43m)\u001b[49m\n",
      "File \u001b[0;32m/research/m323170/PyEnv/nlp_hw2/lib64/python3.11/site-packages/transformers/generation/utils.py:2231\u001b[0m, in \u001b[0;36mGenerationMixin.generate\u001b[0;34m(self, inputs, generation_config, logits_processor, stopping_criteria, prefix_allowed_tokens_fn, synced_gpus, assistant_model, streamer, negative_prompt_ids, negative_prompt_attention_mask, **kwargs)\u001b[0m\n\u001b[1;32m   2223\u001b[0m     input_ids, model_kwargs \u001b[38;5;241m=\u001b[39m \u001b[38;5;28mself\u001b[39m\u001b[38;5;241m.\u001b[39m_expand_inputs_for_generation(\n\u001b[1;32m   2224\u001b[0m         input_ids\u001b[38;5;241m=\u001b[39minput_ids,\n\u001b[1;32m   2225\u001b[0m         expand_size\u001b[38;5;241m=\u001b[39mgeneration_config\u001b[38;5;241m.\u001b[39mnum_return_sequences,\n\u001b[1;32m   2226\u001b[0m         is_encoder_decoder\u001b[38;5;241m=\u001b[39m\u001b[38;5;28mself\u001b[39m\u001b[38;5;241m.\u001b[39mconfig\u001b[38;5;241m.\u001b[39mis_encoder_decoder,\n\u001b[1;32m   2227\u001b[0m         \u001b[38;5;241m*\u001b[39m\u001b[38;5;241m*\u001b[39mmodel_kwargs,\n\u001b[1;32m   2228\u001b[0m     )\n\u001b[1;32m   2230\u001b[0m     \u001b[38;5;66;03m# 12. run sample (it degenerates to greedy search when `generation_config.do_sample=False`)\u001b[39;00m\n\u001b[0;32m-> 2231\u001b[0m     result \u001b[38;5;241m=\u001b[39m \u001b[38;5;28;43mself\u001b[39;49m\u001b[38;5;241;43m.\u001b[39;49m\u001b[43m_sample\u001b[49m\u001b[43m(\u001b[49m\n\u001b[1;32m   2232\u001b[0m \u001b[43m        \u001b[49m\u001b[43minput_ids\u001b[49m\u001b[43m,\u001b[49m\n\u001b[1;32m   2233\u001b[0m \u001b[43m        \u001b[49m\u001b[43mlogits_processor\u001b[49m\u001b[38;5;241;43m=\u001b[39;49m\u001b[43mprepared_logits_processor\u001b[49m\u001b[43m,\u001b[49m\n\u001b[1;32m   2234\u001b[0m \u001b[43m        \u001b[49m\u001b[43mstopping_criteria\u001b[49m\u001b[38;5;241;43m=\u001b[39;49m\u001b[43mprepared_stopping_criteria\u001b[49m\u001b[43m,\u001b[49m\n\u001b[1;32m   2235\u001b[0m \u001b[43m        \u001b[49m\u001b[43mgeneration_config\u001b[49m\u001b[38;5;241;43m=\u001b[39;49m\u001b[43mgeneration_config\u001b[49m\u001b[43m,\u001b[49m\n\u001b[1;32m   2236\u001b[0m \u001b[43m        \u001b[49m\u001b[43msynced_gpus\u001b[49m\u001b[38;5;241;43m=\u001b[39;49m\u001b[43msynced_gpus\u001b[49m\u001b[43m,\u001b[49m\n\u001b[1;32m   2237\u001b[0m \u001b[43m        \u001b[49m\u001b[43mstreamer\u001b[49m\u001b[38;5;241;43m=\u001b[39;49m\u001b[43mstreamer\u001b[49m\u001b[43m,\u001b[49m\n\u001b[1;32m   2238\u001b[0m \u001b[43m        \u001b[49m\u001b[38;5;241;43m*\u001b[39;49m\u001b[38;5;241;43m*\u001b[39;49m\u001b[43mmodel_kwargs\u001b[49m\u001b[43m,\u001b[49m\n\u001b[1;32m   2239\u001b[0m \u001b[43m    \u001b[49m\u001b[43m)\u001b[49m\n\u001b[1;32m   2241\u001b[0m \u001b[38;5;28;01melif\u001b[39;00m generation_mode \u001b[38;5;129;01min\u001b[39;00m (GenerationMode\u001b[38;5;241m.\u001b[39mBEAM_SAMPLE, GenerationMode\u001b[38;5;241m.\u001b[39mBEAM_SEARCH):\n\u001b[1;32m   2242\u001b[0m     \u001b[38;5;66;03m# 11. prepare beam search scorer\u001b[39;00m\n\u001b[1;32m   2243\u001b[0m     beam_scorer \u001b[38;5;241m=\u001b[39m BeamSearchScorer(\n\u001b[1;32m   2244\u001b[0m         batch_size\u001b[38;5;241m=\u001b[39mbatch_size,\n\u001b[1;32m   2245\u001b[0m         num_beams\u001b[38;5;241m=\u001b[39mgeneration_config\u001b[38;5;241m.\u001b[39mnum_beams,\n\u001b[0;32m   (...)\u001b[0m\n\u001b[1;32m   2250\u001b[0m         max_length\u001b[38;5;241m=\u001b[39mgeneration_config\u001b[38;5;241m.\u001b[39mmax_length,\n\u001b[1;32m   2251\u001b[0m     )\n",
      "File \u001b[0;32m/research/m323170/PyEnv/nlp_hw2/lib64/python3.11/site-packages/transformers/generation/utils.py:3222\u001b[0m, in \u001b[0;36mGenerationMixin._sample\u001b[0;34m(self, input_ids, logits_processor, stopping_criteria, generation_config, synced_gpus, streamer, **model_kwargs)\u001b[0m\n\u001b[1;32m   3219\u001b[0m model_inputs\u001b[38;5;241m.\u001b[39mupdate({\u001b[38;5;124m\"\u001b[39m\u001b[38;5;124moutput_hidden_states\u001b[39m\u001b[38;5;124m\"\u001b[39m: output_hidden_states} \u001b[38;5;28;01mif\u001b[39;00m output_hidden_states \u001b[38;5;28;01melse\u001b[39;00m {})\n\u001b[1;32m   3221\u001b[0m \u001b[38;5;66;03m# forward pass to get next token\u001b[39;00m\n\u001b[0;32m-> 3222\u001b[0m outputs \u001b[38;5;241m=\u001b[39m \u001b[38;5;28;43mself\u001b[39;49m\u001b[43m(\u001b[49m\u001b[38;5;241;43m*\u001b[39;49m\u001b[38;5;241;43m*\u001b[39;49m\u001b[43mmodel_inputs\u001b[49m\u001b[43m,\u001b[49m\u001b[43m \u001b[49m\u001b[43mreturn_dict\u001b[49m\u001b[38;5;241;43m=\u001b[39;49m\u001b[38;5;28;43;01mTrue\u001b[39;49;00m\u001b[43m)\u001b[49m\n\u001b[1;32m   3224\u001b[0m \u001b[38;5;66;03m# synced_gpus: don't waste resources running the code we don't need; kwargs must be updated before skipping\u001b[39;00m\n\u001b[1;32m   3225\u001b[0m model_kwargs \u001b[38;5;241m=\u001b[39m \u001b[38;5;28mself\u001b[39m\u001b[38;5;241m.\u001b[39m_update_model_kwargs_for_generation(\n\u001b[1;32m   3226\u001b[0m     outputs,\n\u001b[1;32m   3227\u001b[0m     model_kwargs,\n\u001b[1;32m   3228\u001b[0m     is_encoder_decoder\u001b[38;5;241m=\u001b[39m\u001b[38;5;28mself\u001b[39m\u001b[38;5;241m.\u001b[39mconfig\u001b[38;5;241m.\u001b[39mis_encoder_decoder,\n\u001b[1;32m   3229\u001b[0m )\n",
      "File \u001b[0;32m/research/m323170/PyEnv/nlp_hw2/lib64/python3.11/site-packages/torch/nn/modules/module.py:1532\u001b[0m, in \u001b[0;36mModule._wrapped_call_impl\u001b[0;34m(self, *args, **kwargs)\u001b[0m\n\u001b[1;32m   1530\u001b[0m     \u001b[38;5;28;01mreturn\u001b[39;00m \u001b[38;5;28mself\u001b[39m\u001b[38;5;241m.\u001b[39m_compiled_call_impl(\u001b[38;5;241m*\u001b[39margs, \u001b[38;5;241m*\u001b[39m\u001b[38;5;241m*\u001b[39mkwargs)  \u001b[38;5;66;03m# type: ignore[misc]\u001b[39;00m\n\u001b[1;32m   1531\u001b[0m \u001b[38;5;28;01melse\u001b[39;00m:\n\u001b[0;32m-> 1532\u001b[0m     \u001b[38;5;28;01mreturn\u001b[39;00m \u001b[38;5;28;43mself\u001b[39;49m\u001b[38;5;241;43m.\u001b[39;49m\u001b[43m_call_impl\u001b[49m\u001b[43m(\u001b[49m\u001b[38;5;241;43m*\u001b[39;49m\u001b[43margs\u001b[49m\u001b[43m,\u001b[49m\u001b[43m \u001b[49m\u001b[38;5;241;43m*\u001b[39;49m\u001b[38;5;241;43m*\u001b[39;49m\u001b[43mkwargs\u001b[49m\u001b[43m)\u001b[49m\n",
      "File \u001b[0;32m/research/m323170/PyEnv/nlp_hw2/lib64/python3.11/site-packages/torch/nn/modules/module.py:1541\u001b[0m, in \u001b[0;36mModule._call_impl\u001b[0;34m(self, *args, **kwargs)\u001b[0m\n\u001b[1;32m   1536\u001b[0m \u001b[38;5;66;03m# If we don't have any hooks, we want to skip the rest of the logic in\u001b[39;00m\n\u001b[1;32m   1537\u001b[0m \u001b[38;5;66;03m# this function, and just call forward.\u001b[39;00m\n\u001b[1;32m   1538\u001b[0m \u001b[38;5;28;01mif\u001b[39;00m \u001b[38;5;129;01mnot\u001b[39;00m (\u001b[38;5;28mself\u001b[39m\u001b[38;5;241m.\u001b[39m_backward_hooks \u001b[38;5;129;01mor\u001b[39;00m \u001b[38;5;28mself\u001b[39m\u001b[38;5;241m.\u001b[39m_backward_pre_hooks \u001b[38;5;129;01mor\u001b[39;00m \u001b[38;5;28mself\u001b[39m\u001b[38;5;241m.\u001b[39m_forward_hooks \u001b[38;5;129;01mor\u001b[39;00m \u001b[38;5;28mself\u001b[39m\u001b[38;5;241m.\u001b[39m_forward_pre_hooks\n\u001b[1;32m   1539\u001b[0m         \u001b[38;5;129;01mor\u001b[39;00m _global_backward_pre_hooks \u001b[38;5;129;01mor\u001b[39;00m _global_backward_hooks\n\u001b[1;32m   1540\u001b[0m         \u001b[38;5;129;01mor\u001b[39;00m _global_forward_hooks \u001b[38;5;129;01mor\u001b[39;00m _global_forward_pre_hooks):\n\u001b[0;32m-> 1541\u001b[0m     \u001b[38;5;28;01mreturn\u001b[39;00m \u001b[43mforward_call\u001b[49m\u001b[43m(\u001b[49m\u001b[38;5;241;43m*\u001b[39;49m\u001b[43margs\u001b[49m\u001b[43m,\u001b[49m\u001b[43m \u001b[49m\u001b[38;5;241;43m*\u001b[39;49m\u001b[38;5;241;43m*\u001b[39;49m\u001b[43mkwargs\u001b[49m\u001b[43m)\u001b[49m\n\u001b[1;32m   1543\u001b[0m \u001b[38;5;28;01mtry\u001b[39;00m:\n\u001b[1;32m   1544\u001b[0m     result \u001b[38;5;241m=\u001b[39m \u001b[38;5;28;01mNone\u001b[39;00m\n",
      "File \u001b[0;32m/research/m323170/PyEnv/nlp_hw2/lib64/python3.11/site-packages/accelerate/hooks.py:170\u001b[0m, in \u001b[0;36madd_hook_to_module.<locals>.new_forward\u001b[0;34m(module, *args, **kwargs)\u001b[0m\n\u001b[1;32m    168\u001b[0m         output \u001b[38;5;241m=\u001b[39m module\u001b[38;5;241m.\u001b[39m_old_forward(\u001b[38;5;241m*\u001b[39margs, \u001b[38;5;241m*\u001b[39m\u001b[38;5;241m*\u001b[39mkwargs)\n\u001b[1;32m    169\u001b[0m \u001b[38;5;28;01melse\u001b[39;00m:\n\u001b[0;32m--> 170\u001b[0m     output \u001b[38;5;241m=\u001b[39m \u001b[43mmodule\u001b[49m\u001b[38;5;241;43m.\u001b[39;49m\u001b[43m_old_forward\u001b[49m\u001b[43m(\u001b[49m\u001b[38;5;241;43m*\u001b[39;49m\u001b[43margs\u001b[49m\u001b[43m,\u001b[49m\u001b[43m \u001b[49m\u001b[38;5;241;43m*\u001b[39;49m\u001b[38;5;241;43m*\u001b[39;49m\u001b[43mkwargs\u001b[49m\u001b[43m)\u001b[49m\n\u001b[1;32m    171\u001b[0m \u001b[38;5;28;01mreturn\u001b[39;00m module\u001b[38;5;241m.\u001b[39m_hf_hook\u001b[38;5;241m.\u001b[39mpost_forward(module, output)\n",
      "File \u001b[0;32m/research/m323170/PyEnv/nlp_hw2/lib64/python3.11/site-packages/transformers/models/mistral/modeling_mistral.py:1069\u001b[0m, in \u001b[0;36mMistralForCausalLM.forward\u001b[0;34m(self, input_ids, attention_mask, position_ids, past_key_values, inputs_embeds, labels, use_cache, output_attentions, output_hidden_states, return_dict, cache_position, num_logits_to_keep)\u001b[0m\n\u001b[1;32m   1066\u001b[0m return_dict \u001b[38;5;241m=\u001b[39m return_dict \u001b[38;5;28;01mif\u001b[39;00m return_dict \u001b[38;5;129;01mis\u001b[39;00m \u001b[38;5;129;01mnot\u001b[39;00m \u001b[38;5;28;01mNone\u001b[39;00m \u001b[38;5;28;01melse\u001b[39;00m \u001b[38;5;28mself\u001b[39m\u001b[38;5;241m.\u001b[39mconfig\u001b[38;5;241m.\u001b[39muse_return_dict\n\u001b[1;32m   1068\u001b[0m \u001b[38;5;66;03m# decoder outputs consists of (dec_features, layer_state, dec_hidden, dec_attn)\u001b[39;00m\n\u001b[0;32m-> 1069\u001b[0m outputs \u001b[38;5;241m=\u001b[39m \u001b[38;5;28;43mself\u001b[39;49m\u001b[38;5;241;43m.\u001b[39;49m\u001b[43mmodel\u001b[49m\u001b[43m(\u001b[49m\n\u001b[1;32m   1070\u001b[0m \u001b[43m    \u001b[49m\u001b[43minput_ids\u001b[49m\u001b[38;5;241;43m=\u001b[39;49m\u001b[43minput_ids\u001b[49m\u001b[43m,\u001b[49m\n\u001b[1;32m   1071\u001b[0m \u001b[43m    \u001b[49m\u001b[43mattention_mask\u001b[49m\u001b[38;5;241;43m=\u001b[39;49m\u001b[43mattention_mask\u001b[49m\u001b[43m,\u001b[49m\n\u001b[1;32m   1072\u001b[0m \u001b[43m    \u001b[49m\u001b[43mposition_ids\u001b[49m\u001b[38;5;241;43m=\u001b[39;49m\u001b[43mposition_ids\u001b[49m\u001b[43m,\u001b[49m\n\u001b[1;32m   1073\u001b[0m \u001b[43m    \u001b[49m\u001b[43mpast_key_values\u001b[49m\u001b[38;5;241;43m=\u001b[39;49m\u001b[43mpast_key_values\u001b[49m\u001b[43m,\u001b[49m\n\u001b[1;32m   1074\u001b[0m \u001b[43m    \u001b[49m\u001b[43minputs_embeds\u001b[49m\u001b[38;5;241;43m=\u001b[39;49m\u001b[43minputs_embeds\u001b[49m\u001b[43m,\u001b[49m\n\u001b[1;32m   1075\u001b[0m \u001b[43m    \u001b[49m\u001b[43muse_cache\u001b[49m\u001b[38;5;241;43m=\u001b[39;49m\u001b[43muse_cache\u001b[49m\u001b[43m,\u001b[49m\n\u001b[1;32m   1076\u001b[0m \u001b[43m    \u001b[49m\u001b[43moutput_attentions\u001b[49m\u001b[38;5;241;43m=\u001b[39;49m\u001b[43moutput_attentions\u001b[49m\u001b[43m,\u001b[49m\n\u001b[1;32m   1077\u001b[0m \u001b[43m    \u001b[49m\u001b[43moutput_hidden_states\u001b[49m\u001b[38;5;241;43m=\u001b[39;49m\u001b[43moutput_hidden_states\u001b[49m\u001b[43m,\u001b[49m\n\u001b[1;32m   1078\u001b[0m \u001b[43m    \u001b[49m\u001b[43mreturn_dict\u001b[49m\u001b[38;5;241;43m=\u001b[39;49m\u001b[43mreturn_dict\u001b[49m\u001b[43m,\u001b[49m\n\u001b[1;32m   1079\u001b[0m \u001b[43m    \u001b[49m\u001b[43mcache_position\u001b[49m\u001b[38;5;241;43m=\u001b[39;49m\u001b[43mcache_position\u001b[49m\u001b[43m,\u001b[49m\n\u001b[1;32m   1080\u001b[0m \u001b[43m\u001b[49m\u001b[43m)\u001b[49m\n\u001b[1;32m   1082\u001b[0m hidden_states \u001b[38;5;241m=\u001b[39m outputs[\u001b[38;5;241m0\u001b[39m]\n\u001b[1;32m   1083\u001b[0m \u001b[38;5;66;03m# Only compute necessary logits, and do not upcast them to float if we are not computing the loss\u001b[39;00m\n",
      "File \u001b[0;32m/research/m323170/PyEnv/nlp_hw2/lib64/python3.11/site-packages/torch/nn/modules/module.py:1532\u001b[0m, in \u001b[0;36mModule._wrapped_call_impl\u001b[0;34m(self, *args, **kwargs)\u001b[0m\n\u001b[1;32m   1530\u001b[0m     \u001b[38;5;28;01mreturn\u001b[39;00m \u001b[38;5;28mself\u001b[39m\u001b[38;5;241m.\u001b[39m_compiled_call_impl(\u001b[38;5;241m*\u001b[39margs, \u001b[38;5;241m*\u001b[39m\u001b[38;5;241m*\u001b[39mkwargs)  \u001b[38;5;66;03m# type: ignore[misc]\u001b[39;00m\n\u001b[1;32m   1531\u001b[0m \u001b[38;5;28;01melse\u001b[39;00m:\n\u001b[0;32m-> 1532\u001b[0m     \u001b[38;5;28;01mreturn\u001b[39;00m \u001b[38;5;28;43mself\u001b[39;49m\u001b[38;5;241;43m.\u001b[39;49m\u001b[43m_call_impl\u001b[49m\u001b[43m(\u001b[49m\u001b[38;5;241;43m*\u001b[39;49m\u001b[43margs\u001b[49m\u001b[43m,\u001b[49m\u001b[43m \u001b[49m\u001b[38;5;241;43m*\u001b[39;49m\u001b[38;5;241;43m*\u001b[39;49m\u001b[43mkwargs\u001b[49m\u001b[43m)\u001b[49m\n",
      "File \u001b[0;32m/research/m323170/PyEnv/nlp_hw2/lib64/python3.11/site-packages/torch/nn/modules/module.py:1541\u001b[0m, in \u001b[0;36mModule._call_impl\u001b[0;34m(self, *args, **kwargs)\u001b[0m\n\u001b[1;32m   1536\u001b[0m \u001b[38;5;66;03m# If we don't have any hooks, we want to skip the rest of the logic in\u001b[39;00m\n\u001b[1;32m   1537\u001b[0m \u001b[38;5;66;03m# this function, and just call forward.\u001b[39;00m\n\u001b[1;32m   1538\u001b[0m \u001b[38;5;28;01mif\u001b[39;00m \u001b[38;5;129;01mnot\u001b[39;00m (\u001b[38;5;28mself\u001b[39m\u001b[38;5;241m.\u001b[39m_backward_hooks \u001b[38;5;129;01mor\u001b[39;00m \u001b[38;5;28mself\u001b[39m\u001b[38;5;241m.\u001b[39m_backward_pre_hooks \u001b[38;5;129;01mor\u001b[39;00m \u001b[38;5;28mself\u001b[39m\u001b[38;5;241m.\u001b[39m_forward_hooks \u001b[38;5;129;01mor\u001b[39;00m \u001b[38;5;28mself\u001b[39m\u001b[38;5;241m.\u001b[39m_forward_pre_hooks\n\u001b[1;32m   1539\u001b[0m         \u001b[38;5;129;01mor\u001b[39;00m _global_backward_pre_hooks \u001b[38;5;129;01mor\u001b[39;00m _global_backward_hooks\n\u001b[1;32m   1540\u001b[0m         \u001b[38;5;129;01mor\u001b[39;00m _global_forward_hooks \u001b[38;5;129;01mor\u001b[39;00m _global_forward_pre_hooks):\n\u001b[0;32m-> 1541\u001b[0m     \u001b[38;5;28;01mreturn\u001b[39;00m \u001b[43mforward_call\u001b[49m\u001b[43m(\u001b[49m\u001b[38;5;241;43m*\u001b[39;49m\u001b[43margs\u001b[49m\u001b[43m,\u001b[49m\u001b[43m \u001b[49m\u001b[38;5;241;43m*\u001b[39;49m\u001b[38;5;241;43m*\u001b[39;49m\u001b[43mkwargs\u001b[49m\u001b[43m)\u001b[49m\n\u001b[1;32m   1543\u001b[0m \u001b[38;5;28;01mtry\u001b[39;00m:\n\u001b[1;32m   1544\u001b[0m     result \u001b[38;5;241m=\u001b[39m \u001b[38;5;28;01mNone\u001b[39;00m\n",
      "File \u001b[0;32m/research/m323170/PyEnv/nlp_hw2/lib64/python3.11/site-packages/accelerate/hooks.py:170\u001b[0m, in \u001b[0;36madd_hook_to_module.<locals>.new_forward\u001b[0;34m(module, *args, **kwargs)\u001b[0m\n\u001b[1;32m    168\u001b[0m         output \u001b[38;5;241m=\u001b[39m module\u001b[38;5;241m.\u001b[39m_old_forward(\u001b[38;5;241m*\u001b[39margs, \u001b[38;5;241m*\u001b[39m\u001b[38;5;241m*\u001b[39mkwargs)\n\u001b[1;32m    169\u001b[0m \u001b[38;5;28;01melse\u001b[39;00m:\n\u001b[0;32m--> 170\u001b[0m     output \u001b[38;5;241m=\u001b[39m \u001b[43mmodule\u001b[49m\u001b[38;5;241;43m.\u001b[39;49m\u001b[43m_old_forward\u001b[49m\u001b[43m(\u001b[49m\u001b[38;5;241;43m*\u001b[39;49m\u001b[43margs\u001b[49m\u001b[43m,\u001b[49m\u001b[43m \u001b[49m\u001b[38;5;241;43m*\u001b[39;49m\u001b[38;5;241;43m*\u001b[39;49m\u001b[43mkwargs\u001b[49m\u001b[43m)\u001b[49m\n\u001b[1;32m    171\u001b[0m \u001b[38;5;28;01mreturn\u001b[39;00m module\u001b[38;5;241m.\u001b[39m_hf_hook\u001b[38;5;241m.\u001b[39mpost_forward(module, output)\n",
      "File \u001b[0;32m/research/m323170/PyEnv/nlp_hw2/lib64/python3.11/site-packages/transformers/models/mistral/modeling_mistral.py:795\u001b[0m, in \u001b[0;36mMistralModel.forward\u001b[0;34m(self, input_ids, attention_mask, position_ids, past_key_values, inputs_embeds, use_cache, output_attentions, output_hidden_states, return_dict, cache_position)\u001b[0m\n\u001b[1;32m    784\u001b[0m     layer_outputs \u001b[38;5;241m=\u001b[39m \u001b[38;5;28mself\u001b[39m\u001b[38;5;241m.\u001b[39m_gradient_checkpointing_func(\n\u001b[1;32m    785\u001b[0m         decoder_layer\u001b[38;5;241m.\u001b[39m\u001b[38;5;21m__call__\u001b[39m,\n\u001b[1;32m    786\u001b[0m         hidden_states,\n\u001b[0;32m   (...)\u001b[0m\n\u001b[1;32m    792\u001b[0m         cache_position,\n\u001b[1;32m    793\u001b[0m     )\n\u001b[1;32m    794\u001b[0m \u001b[38;5;28;01melse\u001b[39;00m:\n\u001b[0;32m--> 795\u001b[0m     layer_outputs \u001b[38;5;241m=\u001b[39m \u001b[43mdecoder_layer\u001b[49m\u001b[43m(\u001b[49m\n\u001b[1;32m    796\u001b[0m \u001b[43m        \u001b[49m\u001b[43mhidden_states\u001b[49m\u001b[43m,\u001b[49m\n\u001b[1;32m    797\u001b[0m \u001b[43m        \u001b[49m\u001b[43mattention_mask\u001b[49m\u001b[38;5;241;43m=\u001b[39;49m\u001b[43mcausal_mask\u001b[49m\u001b[43m,\u001b[49m\n\u001b[1;32m    798\u001b[0m \u001b[43m        \u001b[49m\u001b[43mposition_ids\u001b[49m\u001b[38;5;241;43m=\u001b[39;49m\u001b[43mposition_ids\u001b[49m\u001b[43m,\u001b[49m\n\u001b[1;32m    799\u001b[0m \u001b[43m        \u001b[49m\u001b[43mpast_key_value\u001b[49m\u001b[38;5;241;43m=\u001b[39;49m\u001b[43mpast_key_values\u001b[49m\u001b[43m,\u001b[49m\n\u001b[1;32m    800\u001b[0m \u001b[43m        \u001b[49m\u001b[43moutput_attentions\u001b[49m\u001b[38;5;241;43m=\u001b[39;49m\u001b[43moutput_attentions\u001b[49m\u001b[43m,\u001b[49m\n\u001b[1;32m    801\u001b[0m \u001b[43m        \u001b[49m\u001b[43muse_cache\u001b[49m\u001b[38;5;241;43m=\u001b[39;49m\u001b[43muse_cache\u001b[49m\u001b[43m,\u001b[49m\n\u001b[1;32m    802\u001b[0m \u001b[43m        \u001b[49m\u001b[43mcache_position\u001b[49m\u001b[38;5;241;43m=\u001b[39;49m\u001b[43mcache_position\u001b[49m\u001b[43m,\u001b[49m\n\u001b[1;32m    803\u001b[0m \u001b[43m    \u001b[49m\u001b[43m)\u001b[49m\n\u001b[1;32m    805\u001b[0m hidden_states \u001b[38;5;241m=\u001b[39m layer_outputs[\u001b[38;5;241m0\u001b[39m]\n\u001b[1;32m    807\u001b[0m \u001b[38;5;28;01mif\u001b[39;00m use_cache:\n",
      "File \u001b[0;32m/research/m323170/PyEnv/nlp_hw2/lib64/python3.11/site-packages/torch/nn/modules/module.py:1532\u001b[0m, in \u001b[0;36mModule._wrapped_call_impl\u001b[0;34m(self, *args, **kwargs)\u001b[0m\n\u001b[1;32m   1530\u001b[0m     \u001b[38;5;28;01mreturn\u001b[39;00m \u001b[38;5;28mself\u001b[39m\u001b[38;5;241m.\u001b[39m_compiled_call_impl(\u001b[38;5;241m*\u001b[39margs, \u001b[38;5;241m*\u001b[39m\u001b[38;5;241m*\u001b[39mkwargs)  \u001b[38;5;66;03m# type: ignore[misc]\u001b[39;00m\n\u001b[1;32m   1531\u001b[0m \u001b[38;5;28;01melse\u001b[39;00m:\n\u001b[0;32m-> 1532\u001b[0m     \u001b[38;5;28;01mreturn\u001b[39;00m \u001b[38;5;28;43mself\u001b[39;49m\u001b[38;5;241;43m.\u001b[39;49m\u001b[43m_call_impl\u001b[49m\u001b[43m(\u001b[49m\u001b[38;5;241;43m*\u001b[39;49m\u001b[43margs\u001b[49m\u001b[43m,\u001b[49m\u001b[43m \u001b[49m\u001b[38;5;241;43m*\u001b[39;49m\u001b[38;5;241;43m*\u001b[39;49m\u001b[43mkwargs\u001b[49m\u001b[43m)\u001b[49m\n",
      "File \u001b[0;32m/research/m323170/PyEnv/nlp_hw2/lib64/python3.11/site-packages/torch/nn/modules/module.py:1541\u001b[0m, in \u001b[0;36mModule._call_impl\u001b[0;34m(self, *args, **kwargs)\u001b[0m\n\u001b[1;32m   1536\u001b[0m \u001b[38;5;66;03m# If we don't have any hooks, we want to skip the rest of the logic in\u001b[39;00m\n\u001b[1;32m   1537\u001b[0m \u001b[38;5;66;03m# this function, and just call forward.\u001b[39;00m\n\u001b[1;32m   1538\u001b[0m \u001b[38;5;28;01mif\u001b[39;00m \u001b[38;5;129;01mnot\u001b[39;00m (\u001b[38;5;28mself\u001b[39m\u001b[38;5;241m.\u001b[39m_backward_hooks \u001b[38;5;129;01mor\u001b[39;00m \u001b[38;5;28mself\u001b[39m\u001b[38;5;241m.\u001b[39m_backward_pre_hooks \u001b[38;5;129;01mor\u001b[39;00m \u001b[38;5;28mself\u001b[39m\u001b[38;5;241m.\u001b[39m_forward_hooks \u001b[38;5;129;01mor\u001b[39;00m \u001b[38;5;28mself\u001b[39m\u001b[38;5;241m.\u001b[39m_forward_pre_hooks\n\u001b[1;32m   1539\u001b[0m         \u001b[38;5;129;01mor\u001b[39;00m _global_backward_pre_hooks \u001b[38;5;129;01mor\u001b[39;00m _global_backward_hooks\n\u001b[1;32m   1540\u001b[0m         \u001b[38;5;129;01mor\u001b[39;00m _global_forward_hooks \u001b[38;5;129;01mor\u001b[39;00m _global_forward_pre_hooks):\n\u001b[0;32m-> 1541\u001b[0m     \u001b[38;5;28;01mreturn\u001b[39;00m \u001b[43mforward_call\u001b[49m\u001b[43m(\u001b[49m\u001b[38;5;241;43m*\u001b[39;49m\u001b[43margs\u001b[49m\u001b[43m,\u001b[49m\u001b[43m \u001b[49m\u001b[38;5;241;43m*\u001b[39;49m\u001b[38;5;241;43m*\u001b[39;49m\u001b[43mkwargs\u001b[49m\u001b[43m)\u001b[49m\n\u001b[1;32m   1543\u001b[0m \u001b[38;5;28;01mtry\u001b[39;00m:\n\u001b[1;32m   1544\u001b[0m     result \u001b[38;5;241m=\u001b[39m \u001b[38;5;28;01mNone\u001b[39;00m\n",
      "File \u001b[0;32m/research/m323170/PyEnv/nlp_hw2/lib64/python3.11/site-packages/accelerate/hooks.py:170\u001b[0m, in \u001b[0;36madd_hook_to_module.<locals>.new_forward\u001b[0;34m(module, *args, **kwargs)\u001b[0m\n\u001b[1;32m    168\u001b[0m         output \u001b[38;5;241m=\u001b[39m module\u001b[38;5;241m.\u001b[39m_old_forward(\u001b[38;5;241m*\u001b[39margs, \u001b[38;5;241m*\u001b[39m\u001b[38;5;241m*\u001b[39mkwargs)\n\u001b[1;32m    169\u001b[0m \u001b[38;5;28;01melse\u001b[39;00m:\n\u001b[0;32m--> 170\u001b[0m     output \u001b[38;5;241m=\u001b[39m \u001b[43mmodule\u001b[49m\u001b[38;5;241;43m.\u001b[39;49m\u001b[43m_old_forward\u001b[49m\u001b[43m(\u001b[49m\u001b[38;5;241;43m*\u001b[39;49m\u001b[43margs\u001b[49m\u001b[43m,\u001b[49m\u001b[43m \u001b[49m\u001b[38;5;241;43m*\u001b[39;49m\u001b[38;5;241;43m*\u001b[39;49m\u001b[43mkwargs\u001b[49m\u001b[43m)\u001b[49m\n\u001b[1;32m    171\u001b[0m \u001b[38;5;28;01mreturn\u001b[39;00m module\u001b[38;5;241m.\u001b[39m_hf_hook\u001b[38;5;241m.\u001b[39mpost_forward(module, output)\n",
      "File \u001b[0;32m/research/m323170/PyEnv/nlp_hw2/lib64/python3.11/site-packages/transformers/models/mistral/modeling_mistral.py:543\u001b[0m, in \u001b[0;36mMistralDecoderLayer.forward\u001b[0;34m(self, hidden_states, attention_mask, position_ids, past_key_value, output_attentions, use_cache, cache_position, **kwargs)\u001b[0m\n\u001b[1;32m    541\u001b[0m residual \u001b[38;5;241m=\u001b[39m hidden_states\n\u001b[1;32m    542\u001b[0m hidden_states \u001b[38;5;241m=\u001b[39m \u001b[38;5;28mself\u001b[39m\u001b[38;5;241m.\u001b[39mpost_attention_layernorm(hidden_states)\n\u001b[0;32m--> 543\u001b[0m hidden_states \u001b[38;5;241m=\u001b[39m \u001b[38;5;28;43mself\u001b[39;49m\u001b[38;5;241;43m.\u001b[39;49m\u001b[43mmlp\u001b[49m\u001b[43m(\u001b[49m\u001b[43mhidden_states\u001b[49m\u001b[43m)\u001b[49m\n\u001b[1;32m    544\u001b[0m hidden_states \u001b[38;5;241m=\u001b[39m residual \u001b[38;5;241m+\u001b[39m hidden_states\n\u001b[1;32m    546\u001b[0m outputs \u001b[38;5;241m=\u001b[39m (hidden_states,)\n",
      "File \u001b[0;32m/research/m323170/PyEnv/nlp_hw2/lib64/python3.11/site-packages/torch/nn/modules/module.py:1532\u001b[0m, in \u001b[0;36mModule._wrapped_call_impl\u001b[0;34m(self, *args, **kwargs)\u001b[0m\n\u001b[1;32m   1530\u001b[0m     \u001b[38;5;28;01mreturn\u001b[39;00m \u001b[38;5;28mself\u001b[39m\u001b[38;5;241m.\u001b[39m_compiled_call_impl(\u001b[38;5;241m*\u001b[39margs, \u001b[38;5;241m*\u001b[39m\u001b[38;5;241m*\u001b[39mkwargs)  \u001b[38;5;66;03m# type: ignore[misc]\u001b[39;00m\n\u001b[1;32m   1531\u001b[0m \u001b[38;5;28;01melse\u001b[39;00m:\n\u001b[0;32m-> 1532\u001b[0m     \u001b[38;5;28;01mreturn\u001b[39;00m \u001b[38;5;28;43mself\u001b[39;49m\u001b[38;5;241;43m.\u001b[39;49m\u001b[43m_call_impl\u001b[49m\u001b[43m(\u001b[49m\u001b[38;5;241;43m*\u001b[39;49m\u001b[43margs\u001b[49m\u001b[43m,\u001b[49m\u001b[43m \u001b[49m\u001b[38;5;241;43m*\u001b[39;49m\u001b[38;5;241;43m*\u001b[39;49m\u001b[43mkwargs\u001b[49m\u001b[43m)\u001b[49m\n",
      "File \u001b[0;32m/research/m323170/PyEnv/nlp_hw2/lib64/python3.11/site-packages/torch/nn/modules/module.py:1541\u001b[0m, in \u001b[0;36mModule._call_impl\u001b[0;34m(self, *args, **kwargs)\u001b[0m\n\u001b[1;32m   1536\u001b[0m \u001b[38;5;66;03m# If we don't have any hooks, we want to skip the rest of the logic in\u001b[39;00m\n\u001b[1;32m   1537\u001b[0m \u001b[38;5;66;03m# this function, and just call forward.\u001b[39;00m\n\u001b[1;32m   1538\u001b[0m \u001b[38;5;28;01mif\u001b[39;00m \u001b[38;5;129;01mnot\u001b[39;00m (\u001b[38;5;28mself\u001b[39m\u001b[38;5;241m.\u001b[39m_backward_hooks \u001b[38;5;129;01mor\u001b[39;00m \u001b[38;5;28mself\u001b[39m\u001b[38;5;241m.\u001b[39m_backward_pre_hooks \u001b[38;5;129;01mor\u001b[39;00m \u001b[38;5;28mself\u001b[39m\u001b[38;5;241m.\u001b[39m_forward_hooks \u001b[38;5;129;01mor\u001b[39;00m \u001b[38;5;28mself\u001b[39m\u001b[38;5;241m.\u001b[39m_forward_pre_hooks\n\u001b[1;32m   1539\u001b[0m         \u001b[38;5;129;01mor\u001b[39;00m _global_backward_pre_hooks \u001b[38;5;129;01mor\u001b[39;00m _global_backward_hooks\n\u001b[1;32m   1540\u001b[0m         \u001b[38;5;129;01mor\u001b[39;00m _global_forward_hooks \u001b[38;5;129;01mor\u001b[39;00m _global_forward_pre_hooks):\n\u001b[0;32m-> 1541\u001b[0m     \u001b[38;5;28;01mreturn\u001b[39;00m \u001b[43mforward_call\u001b[49m\u001b[43m(\u001b[49m\u001b[38;5;241;43m*\u001b[39;49m\u001b[43margs\u001b[49m\u001b[43m,\u001b[49m\u001b[43m \u001b[49m\u001b[38;5;241;43m*\u001b[39;49m\u001b[38;5;241;43m*\u001b[39;49m\u001b[43mkwargs\u001b[49m\u001b[43m)\u001b[49m\n\u001b[1;32m   1543\u001b[0m \u001b[38;5;28;01mtry\u001b[39;00m:\n\u001b[1;32m   1544\u001b[0m     result \u001b[38;5;241m=\u001b[39m \u001b[38;5;28;01mNone\u001b[39;00m\n",
      "File \u001b[0;32m/research/m323170/PyEnv/nlp_hw2/lib64/python3.11/site-packages/accelerate/hooks.py:170\u001b[0m, in \u001b[0;36madd_hook_to_module.<locals>.new_forward\u001b[0;34m(module, *args, **kwargs)\u001b[0m\n\u001b[1;32m    168\u001b[0m         output \u001b[38;5;241m=\u001b[39m module\u001b[38;5;241m.\u001b[39m_old_forward(\u001b[38;5;241m*\u001b[39margs, \u001b[38;5;241m*\u001b[39m\u001b[38;5;241m*\u001b[39mkwargs)\n\u001b[1;32m    169\u001b[0m \u001b[38;5;28;01melse\u001b[39;00m:\n\u001b[0;32m--> 170\u001b[0m     output \u001b[38;5;241m=\u001b[39m \u001b[43mmodule\u001b[49m\u001b[38;5;241;43m.\u001b[39;49m\u001b[43m_old_forward\u001b[49m\u001b[43m(\u001b[49m\u001b[38;5;241;43m*\u001b[39;49m\u001b[43margs\u001b[49m\u001b[43m,\u001b[49m\u001b[43m \u001b[49m\u001b[38;5;241;43m*\u001b[39;49m\u001b[38;5;241;43m*\u001b[39;49m\u001b[43mkwargs\u001b[49m\u001b[43m)\u001b[49m\n\u001b[1;32m    171\u001b[0m \u001b[38;5;28;01mreturn\u001b[39;00m module\u001b[38;5;241m.\u001b[39m_hf_hook\u001b[38;5;241m.\u001b[39mpost_forward(module, output)\n",
      "File \u001b[0;32m/research/m323170/PyEnv/nlp_hw2/lib64/python3.11/site-packages/transformers/models/mistral/modeling_mistral.py:160\u001b[0m, in \u001b[0;36mMistralMLP.forward\u001b[0;34m(self, hidden_state)\u001b[0m\n\u001b[1;32m    159\u001b[0m \u001b[38;5;28;01mdef\u001b[39;00m \u001b[38;5;21mforward\u001b[39m(\u001b[38;5;28mself\u001b[39m, hidden_state):\n\u001b[0;32m--> 160\u001b[0m     \u001b[38;5;28;01mreturn\u001b[39;00m \u001b[38;5;28mself\u001b[39m\u001b[38;5;241m.\u001b[39mdown_proj(\u001b[38;5;28mself\u001b[39m\u001b[38;5;241m.\u001b[39mact_fn(\u001b[38;5;28mself\u001b[39m\u001b[38;5;241m.\u001b[39mgate_proj(hidden_state)) \u001b[38;5;241m*\u001b[39m \u001b[38;5;28;43mself\u001b[39;49m\u001b[38;5;241;43m.\u001b[39;49m\u001b[43mup_proj\u001b[49m\u001b[43m(\u001b[49m\u001b[43mhidden_state\u001b[49m\u001b[43m)\u001b[49m)\n",
      "File \u001b[0;32m/research/m323170/PyEnv/nlp_hw2/lib64/python3.11/site-packages/torch/nn/modules/module.py:1532\u001b[0m, in \u001b[0;36mModule._wrapped_call_impl\u001b[0;34m(self, *args, **kwargs)\u001b[0m\n\u001b[1;32m   1530\u001b[0m     \u001b[38;5;28;01mreturn\u001b[39;00m \u001b[38;5;28mself\u001b[39m\u001b[38;5;241m.\u001b[39m_compiled_call_impl(\u001b[38;5;241m*\u001b[39margs, \u001b[38;5;241m*\u001b[39m\u001b[38;5;241m*\u001b[39mkwargs)  \u001b[38;5;66;03m# type: ignore[misc]\u001b[39;00m\n\u001b[1;32m   1531\u001b[0m \u001b[38;5;28;01melse\u001b[39;00m:\n\u001b[0;32m-> 1532\u001b[0m     \u001b[38;5;28;01mreturn\u001b[39;00m \u001b[38;5;28;43mself\u001b[39;49m\u001b[38;5;241;43m.\u001b[39;49m\u001b[43m_call_impl\u001b[49m\u001b[43m(\u001b[49m\u001b[38;5;241;43m*\u001b[39;49m\u001b[43margs\u001b[49m\u001b[43m,\u001b[49m\u001b[43m \u001b[49m\u001b[38;5;241;43m*\u001b[39;49m\u001b[38;5;241;43m*\u001b[39;49m\u001b[43mkwargs\u001b[49m\u001b[43m)\u001b[49m\n",
      "File \u001b[0;32m/research/m323170/PyEnv/nlp_hw2/lib64/python3.11/site-packages/torch/nn/modules/module.py:1541\u001b[0m, in \u001b[0;36mModule._call_impl\u001b[0;34m(self, *args, **kwargs)\u001b[0m\n\u001b[1;32m   1536\u001b[0m \u001b[38;5;66;03m# If we don't have any hooks, we want to skip the rest of the logic in\u001b[39;00m\n\u001b[1;32m   1537\u001b[0m \u001b[38;5;66;03m# this function, and just call forward.\u001b[39;00m\n\u001b[1;32m   1538\u001b[0m \u001b[38;5;28;01mif\u001b[39;00m \u001b[38;5;129;01mnot\u001b[39;00m (\u001b[38;5;28mself\u001b[39m\u001b[38;5;241m.\u001b[39m_backward_hooks \u001b[38;5;129;01mor\u001b[39;00m \u001b[38;5;28mself\u001b[39m\u001b[38;5;241m.\u001b[39m_backward_pre_hooks \u001b[38;5;129;01mor\u001b[39;00m \u001b[38;5;28mself\u001b[39m\u001b[38;5;241m.\u001b[39m_forward_hooks \u001b[38;5;129;01mor\u001b[39;00m \u001b[38;5;28mself\u001b[39m\u001b[38;5;241m.\u001b[39m_forward_pre_hooks\n\u001b[1;32m   1539\u001b[0m         \u001b[38;5;129;01mor\u001b[39;00m _global_backward_pre_hooks \u001b[38;5;129;01mor\u001b[39;00m _global_backward_hooks\n\u001b[1;32m   1540\u001b[0m         \u001b[38;5;129;01mor\u001b[39;00m _global_forward_hooks \u001b[38;5;129;01mor\u001b[39;00m _global_forward_pre_hooks):\n\u001b[0;32m-> 1541\u001b[0m     \u001b[38;5;28;01mreturn\u001b[39;00m \u001b[43mforward_call\u001b[49m\u001b[43m(\u001b[49m\u001b[38;5;241;43m*\u001b[39;49m\u001b[43margs\u001b[49m\u001b[43m,\u001b[49m\u001b[43m \u001b[49m\u001b[38;5;241;43m*\u001b[39;49m\u001b[38;5;241;43m*\u001b[39;49m\u001b[43mkwargs\u001b[49m\u001b[43m)\u001b[49m\n\u001b[1;32m   1543\u001b[0m \u001b[38;5;28;01mtry\u001b[39;00m:\n\u001b[1;32m   1544\u001b[0m     result \u001b[38;5;241m=\u001b[39m \u001b[38;5;28;01mNone\u001b[39;00m\n",
      "File \u001b[0;32m/research/m323170/PyEnv/nlp_hw2/lib64/python3.11/site-packages/peft/tuners/lora/bnb.py:493\u001b[0m, in \u001b[0;36mLinear4bit.forward\u001b[0;34m(self, x, *args, **kwargs)\u001b[0m\n\u001b[1;32m    490\u001b[0m     x \u001b[38;5;241m=\u001b[39m x\u001b[38;5;241m.\u001b[39mto(lora_A\u001b[38;5;241m.\u001b[39mweight\u001b[38;5;241m.\u001b[39mdtype)\n\u001b[1;32m    492\u001b[0m \u001b[38;5;28;01mif\u001b[39;00m \u001b[38;5;129;01mnot\u001b[39;00m \u001b[38;5;28mself\u001b[39m\u001b[38;5;241m.\u001b[39muse_dora[active_adapter]:\n\u001b[0;32m--> 493\u001b[0m     result \u001b[38;5;241m=\u001b[39m result \u001b[38;5;241m+\u001b[39m \u001b[43mlora_B\u001b[49m\u001b[43m(\u001b[49m\u001b[43mlora_A\u001b[49m\u001b[43m(\u001b[49m\u001b[43mdropout\u001b[49m\u001b[43m(\u001b[49m\u001b[43mx\u001b[49m\u001b[43m)\u001b[49m\u001b[43m)\u001b[49m\u001b[43m)\u001b[49m \u001b[38;5;241m*\u001b[39m scaling\n\u001b[1;32m    494\u001b[0m \u001b[38;5;28;01melse\u001b[39;00m:\n\u001b[1;32m    495\u001b[0m     \u001b[38;5;28;01mif\u001b[39;00m \u001b[38;5;28misinstance\u001b[39m(dropout, torch\u001b[38;5;241m.\u001b[39mnn\u001b[38;5;241m.\u001b[39mIdentity) \u001b[38;5;129;01mor\u001b[39;00m \u001b[38;5;129;01mnot\u001b[39;00m \u001b[38;5;28mself\u001b[39m\u001b[38;5;241m.\u001b[39mtraining:\n",
      "File \u001b[0;32m/research/m323170/PyEnv/nlp_hw2/lib64/python3.11/site-packages/torch/nn/modules/module.py:1532\u001b[0m, in \u001b[0;36mModule._wrapped_call_impl\u001b[0;34m(self, *args, **kwargs)\u001b[0m\n\u001b[1;32m   1530\u001b[0m     \u001b[38;5;28;01mreturn\u001b[39;00m \u001b[38;5;28mself\u001b[39m\u001b[38;5;241m.\u001b[39m_compiled_call_impl(\u001b[38;5;241m*\u001b[39margs, \u001b[38;5;241m*\u001b[39m\u001b[38;5;241m*\u001b[39mkwargs)  \u001b[38;5;66;03m# type: ignore[misc]\u001b[39;00m\n\u001b[1;32m   1531\u001b[0m \u001b[38;5;28;01melse\u001b[39;00m:\n\u001b[0;32m-> 1532\u001b[0m     \u001b[38;5;28;01mreturn\u001b[39;00m \u001b[38;5;28;43mself\u001b[39;49m\u001b[38;5;241;43m.\u001b[39;49m\u001b[43m_call_impl\u001b[49m\u001b[43m(\u001b[49m\u001b[38;5;241;43m*\u001b[39;49m\u001b[43margs\u001b[49m\u001b[43m,\u001b[49m\u001b[43m \u001b[49m\u001b[38;5;241;43m*\u001b[39;49m\u001b[38;5;241;43m*\u001b[39;49m\u001b[43mkwargs\u001b[49m\u001b[43m)\u001b[49m\n",
      "File \u001b[0;32m/research/m323170/PyEnv/nlp_hw2/lib64/python3.11/site-packages/torch/nn/modules/module.py:1541\u001b[0m, in \u001b[0;36mModule._call_impl\u001b[0;34m(self, *args, **kwargs)\u001b[0m\n\u001b[1;32m   1536\u001b[0m \u001b[38;5;66;03m# If we don't have any hooks, we want to skip the rest of the logic in\u001b[39;00m\n\u001b[1;32m   1537\u001b[0m \u001b[38;5;66;03m# this function, and just call forward.\u001b[39;00m\n\u001b[1;32m   1538\u001b[0m \u001b[38;5;28;01mif\u001b[39;00m \u001b[38;5;129;01mnot\u001b[39;00m (\u001b[38;5;28mself\u001b[39m\u001b[38;5;241m.\u001b[39m_backward_hooks \u001b[38;5;129;01mor\u001b[39;00m \u001b[38;5;28mself\u001b[39m\u001b[38;5;241m.\u001b[39m_backward_pre_hooks \u001b[38;5;129;01mor\u001b[39;00m \u001b[38;5;28mself\u001b[39m\u001b[38;5;241m.\u001b[39m_forward_hooks \u001b[38;5;129;01mor\u001b[39;00m \u001b[38;5;28mself\u001b[39m\u001b[38;5;241m.\u001b[39m_forward_pre_hooks\n\u001b[1;32m   1539\u001b[0m         \u001b[38;5;129;01mor\u001b[39;00m _global_backward_pre_hooks \u001b[38;5;129;01mor\u001b[39;00m _global_backward_hooks\n\u001b[1;32m   1540\u001b[0m         \u001b[38;5;129;01mor\u001b[39;00m _global_forward_hooks \u001b[38;5;129;01mor\u001b[39;00m _global_forward_pre_hooks):\n\u001b[0;32m-> 1541\u001b[0m     \u001b[38;5;28;01mreturn\u001b[39;00m \u001b[43mforward_call\u001b[49m\u001b[43m(\u001b[49m\u001b[38;5;241;43m*\u001b[39;49m\u001b[43margs\u001b[49m\u001b[43m,\u001b[49m\u001b[43m \u001b[49m\u001b[38;5;241;43m*\u001b[39;49m\u001b[38;5;241;43m*\u001b[39;49m\u001b[43mkwargs\u001b[49m\u001b[43m)\u001b[49m\n\u001b[1;32m   1543\u001b[0m \u001b[38;5;28;01mtry\u001b[39;00m:\n\u001b[1;32m   1544\u001b[0m     result \u001b[38;5;241m=\u001b[39m \u001b[38;5;28;01mNone\u001b[39;00m\n",
      "File \u001b[0;32m/research/m323170/PyEnv/nlp_hw2/lib64/python3.11/site-packages/torch/nn/modules/linear.py:116\u001b[0m, in \u001b[0;36mLinear.forward\u001b[0;34m(self, input)\u001b[0m\n\u001b[1;32m    115\u001b[0m \u001b[38;5;28;01mdef\u001b[39;00m \u001b[38;5;21mforward\u001b[39m(\u001b[38;5;28mself\u001b[39m, \u001b[38;5;28minput\u001b[39m: Tensor) \u001b[38;5;241m-\u001b[39m\u001b[38;5;241m>\u001b[39m Tensor:\n\u001b[0;32m--> 116\u001b[0m     \u001b[38;5;28;01mreturn\u001b[39;00m \u001b[43mF\u001b[49m\u001b[38;5;241;43m.\u001b[39;49m\u001b[43mlinear\u001b[49m\u001b[43m(\u001b[49m\u001b[38;5;28;43minput\u001b[39;49m\u001b[43m,\u001b[49m\u001b[43m \u001b[49m\u001b[38;5;28;43mself\u001b[39;49m\u001b[38;5;241;43m.\u001b[39;49m\u001b[43mweight\u001b[49m\u001b[43m,\u001b[49m\u001b[43m \u001b[49m\u001b[38;5;28;43mself\u001b[39;49m\u001b[38;5;241;43m.\u001b[39;49m\u001b[43mbias\u001b[49m\u001b[43m)\u001b[49m\n",
      "\u001b[0;31mKeyboardInterrupt\u001b[0m: "
     ]
    }
   ],
   "source": [
    "decoded_outputs = []\n",
    "reference_texts = []\n",
    "\n",
    "for i in range(len(tokenized_val_conversation_dataset)):\n",
    "    current_sample = tokenized_val_conversation_dataset[i]\n",
    "    eval_prompt = torch.tensor(current_sample[\"input_ids\"])[None, :].to(device)\n",
    "    eval_reference = current_sample[\"output\"]\n",
    "    eval_attention = torch.tensor(current_sample[\"attention_mask\"])[None, :].to(device)\n",
    "    #eval_attention = torch.tensor(attention_mask)\n",
    "    output = base_model.generate(input_ids=eval_prompt,\n",
    "                           attention_mask=eval_attention,\n",
    "                           max_new_tokens=100, repetition_penalty=1.17, pad_token_id=tokenizer.eos_token_id)\n",
    "    \"\"\"\n",
    "    output = ft_model.generate(input_ids=eval_prompt,\n",
    "                           attention_mask=eval_attention,\n",
    "                           max_new_tokens=100, repetition_penalty=1.17)\n",
    "    \"\"\"\n",
    "    decoded_output = tokenizer.decode(output[0], skip_special_tokens=True)\n",
    "    reference_text = current_sample[\"output\"]#tokenizer.decode(current_sample[\"labels\"], skip_special_tokens=True)\n",
    "\n",
    "    decoded_outputs.append(decoded_output)\n",
    "    reference_texts.append(reference_text)\n",
    "\n",
    "scores = bertscore.compute(predictions=decoded_outputs, references=reference_texts, lang=\"en\")\n",
    "print(f\"Baseline on Conversation\")\n",
    "print(f\"Precision: {np.mean(scores['precision'])}\")\n",
    "print(f\"Recall: {np.mean(scores['recall'])}\")\n",
    "print(f\"F1: {np.mean(scores['f1'])}\")"
   ]
  },
  {
   "cell_type": "code",
   "execution_count": null,
   "metadata": {
    "id": "trTi2bcx7dQX",
    "outputId": "16a2d8fa-31fc-409c-dba4-d843d3ef354d"
   },
   "outputs": [
    {
     "name": "stdout",
     "output_type": "stream",
     "text": [
      "Baseline on Headlines\n",
      "Precision: 0.7933565924564997\n",
      "Recall: 0.8840732574462891\n",
      "F1: 0.8361337582270304\n"
     ]
    }
   ],
   "source": [
    "decoded_outputs = []\n",
    "reference_texts = []\n",
    "\n",
    "for i in range(len(tokenized_eval_headline_dataset)):\n",
    "    current_sample = tokenized_eval_headline_dataset[i]\n",
    "    eval_prompt = torch.tensor(current_sample[\"input_ids\"])[None, :].to(device)\n",
    "    eval_reference = current_sample[\"output\"]\n",
    "    eval_attention = torch.tensor(current_sample[\"attention_mask\"])[None, :].to(device)\n",
    "    #eval_attention = torch.tensor(attention_mask)\n",
    "    output = base_model.generate(input_ids=eval_prompt,\n",
    "                           attention_mask=eval_attention,\n",
    "                           max_new_tokens=100, repetition_penalty=1.17, pad_token_id=tokenizer.eos_token_id)\n",
    "    \"\"\"\n",
    "    output = ft_model.generate(input_ids=eval_prompt,\n",
    "                           attention_mask=eval_attention,\n",
    "                           max_new_tokens=100, repetition_penalty=1.17)\n",
    "    \"\"\"\n",
    "    decoded_output = tokenizer.decode(output[0], skip_special_tokens=True)\n",
    "    reference_text = current_sample[\"output\"]#tokenizer.decode(current_sample[\"labels\"], skip_special_tokens=True)\n",
    "\n",
    "    decoded_outputs.append(decoded_output)\n",
    "    reference_texts.append(reference_text)\n",
    "\n",
    "scores = bertscore.compute(predictions=decoded_outputs, references=reference_texts, lang=\"en\")\n",
    "print(f\"Baseline on Headlines\")\n",
    "print(f\"Precision: {np.mean(scores['precision'])}\")\n",
    "print(f\"Recall: {np.mean(scores['recall'])}\")\n",
    "print(f\"F1: {np.mean(scores['f1'])}\")"
   ]
  },
  {
   "cell_type": "code",
   "execution_count": null,
   "metadata": {
    "id": "p3eoqaIC7dQX",
    "outputId": "1375b6dc-7b37-489d-c320-26abf81509f9"
   },
   "outputs": [
    {
     "name": "stderr",
     "output_type": "stream",
     "text": [
      "/common/software/install/manual/pytorch/2.1.2-pyclustertend/lib/python3.9/site-packages/torch/utils/checkpoint.py:61: UserWarning: None of the inputs have requires_grad=True. Gradients will be None\n",
      "  warnings.warn(\n"
     ]
    },
    {
     "name": "stdout",
     "output_type": "stream",
     "text": [
      "Conversation on Conversation\n",
      "Precision: 0.8844679328203201\n",
      "Recall: 0.9590369582176208\n",
      "F1: 0.9200962260961533\n"
     ]
    }
   ],
   "source": [
    "decoded_outputs = []\n",
    "reference_texts = []\n",
    "\n",
    "for i in range(len(tokenized_val_conversation_dataset)):\n",
    "    current_sample = tokenized_val_conversation_dataset[i]\n",
    "    eval_prompt = torch.tensor(current_sample[\"input_ids\"])[None, :].to(device)\n",
    "    eval_reference = current_sample[\"output\"]\n",
    "    eval_attention = torch.tensor(current_sample[\"attention_mask\"])[None, :].to(device)\n",
    "    #eval_attention = torch.tensor(attention_mask)\n",
    "    output = conversation_model.generate(input_ids=eval_prompt,\n",
    "                           attention_mask=eval_attention,\n",
    "                           max_new_tokens=100, repetition_penalty=1.17, pad_token_id=tokenizer.eos_token_id)\n",
    "    \"\"\"\n",
    "    output = ft_model.generate(input_ids=eval_prompt,\n",
    "                           attention_mask=eval_attention,\n",
    "                           max_new_tokens=100, repetition_penalty=1.17)\n",
    "    \"\"\"\n",
    "    decoded_output = tokenizer.decode(output[0], skip_special_tokens=True)\n",
    "    reference_text = current_sample[\"output\"]#tokenizer.decode(current_sample[\"labels\"], skip_special_tokens=True)\n",
    "\n",
    "    decoded_outputs.append(decoded_output)\n",
    "    reference_texts.append(reference_text)\n",
    "\n",
    "scores = bertscore.compute(predictions=decoded_outputs, references=reference_texts, lang=\"en\")\n",
    "print(f\"Conversation on Conversation\")\n",
    "print(f\"Precision: {np.mean(scores['precision'])}\")\n",
    "print(f\"Recall: {np.mean(scores['recall'])}\")\n",
    "print(f\"F1: {np.mean(scores['f1'])}\")"
   ]
  },
  {
   "cell_type": "code",
   "execution_count": null,
   "metadata": {
    "id": "ULyRxMwp7dQX",
    "outputId": "d0bf72db-c192-4f03-92ca-ce0fe9b1a7c1"
   },
   "outputs": [
    {
     "name": "stdout",
     "output_type": "stream",
     "text": [
      "Conversation on Headline\n",
      "Precision: 0.7933565924564997\n",
      "Recall: 0.8840732574462891\n",
      "F1: 0.8361337582270304\n"
     ]
    }
   ],
   "source": [
    "decoded_outputs = []\n",
    "reference_texts = []\n",
    "\n",
    "for i in range(len(tokenized_eval_headline_dataset)):\n",
    "    current_sample = tokenized_eval_headline_dataset[i]\n",
    "    eval_prompt = torch.tensor(current_sample[\"input_ids\"])[None, :].to(device)\n",
    "    eval_reference = current_sample[\"output\"]\n",
    "    eval_attention = torch.tensor(current_sample[\"attention_mask\"])[None, :].to(device)\n",
    "    #eval_attention = torch.tensor(attention_mask)\n",
    "    output = conversation_model.generate(input_ids=eval_prompt,\n",
    "                           attention_mask=eval_attention,\n",
    "                           max_new_tokens=100, repetition_penalty=1.17, pad_token_id=tokenizer.eos_token_id)\n",
    "    \"\"\"\n",
    "    output = ft_model.generate(input_ids=eval_prompt,\n",
    "                           attention_mask=eval_attention,\n",
    "                           max_new_tokens=100, repetition_penalty=1.17)\n",
    "    \"\"\"\n",
    "    decoded_output = tokenizer.decode(output[0], skip_special_tokens=True)\n",
    "    reference_text = current_sample[\"output\"]#tokenizer.decode(current_sample[\"labels\"], skip_special_tokens=True)\n",
    "\n",
    "    decoded_outputs.append(decoded_output)\n",
    "    reference_texts.append(reference_text)\n",
    "\n",
    "scores = bertscore.compute(predictions=decoded_outputs, references=reference_texts, lang=\"en\")\n",
    "print(f\"Conversation on Headline\")\n",
    "print(f\"Precision: {np.mean(scores['precision'])}\")\n",
    "print(f\"Recall: {np.mean(scores['recall'])}\")\n",
    "print(f\"F1: {np.mean(scores['f1'])}\")"
   ]
  },
  {
   "cell_type": "code",
   "execution_count": null,
   "metadata": {
    "id": "mM1cFLkU7dQX",
    "outputId": "5da78b24-d4cf-4fd6-b1ff-00325bde4955"
   },
   "outputs": [
    {
     "ename": "SyntaxError",
     "evalue": "f-string: unmatched '[' (871152604.py, line 26)",
     "output_type": "error",
     "traceback": [
      "\u001b[0;36m  Cell \u001b[0;32mIn[68], line 26\u001b[0;36m\u001b[0m\n\u001b[0;31m    print(f\"Precision: {np.mean(scores[\"precision\"])}\")\u001b[0m\n\u001b[0m                                        ^\u001b[0m\n\u001b[0;31mSyntaxError\u001b[0m\u001b[0;31m:\u001b[0m f-string: unmatched '['\n"
     ]
    }
   ],
   "source": [
    "decoded_outputs = []\n",
    "reference_texts = []\n",
    "\n",
    "for i in range(len(tokenized_val_conversation_dataset)):\n",
    "    current_sample = tokenized_val_conversation_dataset[i]\n",
    "    eval_prompt = torch.tensor(current_sample[\"input_ids\"])[None, :].to(device)\n",
    "    eval_reference = current_sample[\"output\"]\n",
    "    eval_attention = torch.tensor(current_sample[\"attention_mask\"])[None, :].to(device)\n",
    "    #eval_attention = torch.tensor(attention_mask)\n",
    "    output = overall_model.generate(input_ids=eval_prompt,\n",
    "                           attention_mask=eval_attention,\n",
    "                           max_new_tokens=100, repetition_penalty=1.17, pad_token_id=tokenizer.eos_token_id)\n",
    "    \"\"\"\n",
    "    output = ft_model.generate(input_ids=eval_prompt,\n",
    "                           attention_mask=eval_attention,\n",
    "                           max_new_tokens=100, repetition_penalty=1.17)\n",
    "    \"\"\"\n",
    "    decoded_output = tokenizer.decode(output[0], skip_special_tokens=True)\n",
    "    reference_text = current_sample[\"output\"]#tokenizer.decode(current_sample[\"labels\"], skip_special_tokens=True)\n",
    "\n",
    "    decoded_outputs.append(decoded_output)\n",
    "    reference_texts.append(reference_text)\n",
    "\n",
    "scores = bertscore.compute(predictions=decoded_outputs, references=reference_texts, lang=\"en\")\n",
    "print(f\"Overall on Conversation\")\n",
    "print(f\"Precision: {np.mean(scores[\"precision\"])}\")\n",
    "print(f\"Recall: {np.mean(scores[\"recall\"])}\")\n",
    "print(f\"F1: {np.mean(scores[\"f1\"])}\")"
   ]
  },
  {
   "cell_type": "code",
   "execution_count": null,
   "metadata": {
    "id": "MW5ueuP77dQY"
   },
   "outputs": [],
   "source": [
    "decoded_outputs = []\n",
    "reference_texts = []\n",
    "\n",
    "for i in range(len(tokenized_eval_headline_dataset)):\n",
    "    current_sample = tokenized_eval_headline_dataset[i]\n",
    "    eval_prompt = torch.tensor(current_sample[\"input_ids\"])[None, :].to(device)\n",
    "    eval_reference = current_sample[\"output\"]\n",
    "    eval_attention = torch.tensor(current_sample[\"attention_mask\"])[None, :].to(device)\n",
    "    #eval_attention = torch.tensor(attention_mask)\n",
    "    output = overall_model.generate(input_ids=eval_prompt,\n",
    "                           attention_mask=eval_attention,\n",
    "                           max_new_tokens=100, repetition_penalty=1.17, pad_token_id=tokenizer.eos_token_id)\n",
    "    \"\"\"\n",
    "    output = ft_model.generate(input_ids=eval_prompt,\n",
    "                           attention_mask=eval_attention,\n",
    "                           max_new_tokens=100, repetition_penalty=1.17)\n",
    "    \"\"\"\n",
    "    decoded_output = tokenizer.decode(output[0], skip_special_tokens=True)\n",
    "    reference_text = current_sample[\"output\"]#tokenizer.decode(current_sample[\"labels\"], skip_special_tokens=True)\n",
    "\n",
    "    decoded_outputs.append(decoded_output)\n",
    "    reference_texts.append(reference_text)\n",
    "\n",
    "scores = bertscore.compute(predictions=decoded_outputs, references=reference_texts, lang=\"en\")\n",
    "print(f\"Overall on Headline\")\n",
    "print(f\"Precision: {np.mean(scores['precision'])}\")\n",
    "print(f\"Recall: {np.mean(scores['recall'])}\")\n",
    "print(f\"F1: {np.mean(scores['f1'])}\")"
   ]
  },
  {
   "cell_type": "code",
   "execution_count": null,
   "metadata": {
    "id": "2eyu2chb7dQY"
   },
   "outputs": [],
   "source": [
    "#scores"
   ]
  },
  {
   "cell_type": "code",
   "execution_count": null,
   "metadata": {
    "id": "1ehwZ5_47dQY"
   },
   "outputs": [],
   "source": [
    "print(f\"Baseline on Overall\")\n",
    "print(f\"Precision: {np.mean(scores['precision'])}\")\n",
    "print(f\"Recall: {np.mean(scores['recall'])}\")\n",
    "print(f\"F1: {np.mean(scores['f1'])}\")"
   ]
  },
  {
   "cell_type": "code",
   "execution_count": null,
   "metadata": {
    "id": "JLs9KAvV7dQY"
   },
   "outputs": [],
   "source": []
  },
  {
   "cell_type": "code",
   "execution_count": null,
   "metadata": {
    "id": "rMsZiDtM7dQY"
   },
   "outputs": [],
   "source": []
  },
  {
   "cell_type": "code",
   "execution_count": null,
   "metadata": {
    "id": "uCeHoQOT7dQY"
   },
   "outputs": [],
   "source": []
  },
  {
   "cell_type": "code",
   "execution_count": null,
   "metadata": {
    "id": "mX0HeFtM7dQY"
   },
   "outputs": [],
   "source": []
  },
  {
   "cell_type": "code",
   "execution_count": null,
   "metadata": {
    "id": "tHC7D6LZ7dQY"
   },
   "outputs": [],
   "source": []
  },
  {
   "cell_type": "code",
   "execution_count": null,
   "metadata": {
    "id": "OjdO_asa7dQY"
   },
   "outputs": [],
   "source": []
  },
  {
   "cell_type": "code",
   "execution_count": null,
   "metadata": {
    "id": "6BKyH97a7dQY"
   },
   "outputs": [],
   "source": []
  },
  {
   "cell_type": "code",
   "execution_count": null,
   "metadata": {
    "id": "8R28x4xE7dQY"
   },
   "outputs": [],
   "source": []
  },
  {
   "cell_type": "code",
   "execution_count": null,
   "metadata": {
    "id": "mKuxHwbZ7dQY"
   },
   "outputs": [],
   "source": []
  },
  {
   "cell_type": "code",
   "execution_count": null,
   "metadata": {
    "id": "rjWvLJYo7dQY"
   },
   "outputs": [],
   "source": []
  },
  {
   "cell_type": "code",
   "execution_count": null,
   "metadata": {
    "id": "qK0M0_QN7dQY"
   },
   "outputs": [],
   "source": []
  }
 ],
 "metadata": {
  "accelerator": "GPU",
  "colab": {
   "gpuType": "T4",
   "provenance": [],
   "toc_visible": true
  },
  "gpuClass": "standard",
  "kernelspec": {
   "display_name": "Python 3 (ipykernel)",
   "language": "python",
   "name": "python3"
  },
  "language_info": {
   "codemirror_mode": {
    "name": "ipython",
    "version": 3
   },
   "file_extension": ".py",
   "mimetype": "text/x-python",
   "name": "python",
   "nbconvert_exporter": "python",
   "pygments_lexer": "ipython3",
   "version": "3.11.9"
  },
  "widgets": {
   "application/vnd.jupyter.widget-state+json": {
    "01f4d5d9049940b5974a18c62afc2a29": {
     "model_module": "@jupyter-widgets/controls",
     "model_module_version": "1.5.0",
     "model_name": "ProgressStyleModel",
     "state": {
      "_model_module": "@jupyter-widgets/controls",
      "_model_module_version": "1.5.0",
      "_model_name": "ProgressStyleModel",
      "_view_count": null,
      "_view_module": "@jupyter-widgets/base",
      "_view_module_version": "1.2.0",
      "_view_name": "StyleView",
      "bar_color": null,
      "description_width": ""
     }
    },
    "033b204f2c524b57816c37680764c738": {
     "model_module": "@jupyter-widgets/controls",
     "model_module_version": "1.5.0",
     "model_name": "HTMLModel",
     "state": {
      "_dom_classes": [],
      "_model_module": "@jupyter-widgets/controls",
      "_model_module_version": "1.5.0",
      "_model_name": "HTMLModel",
      "_view_count": null,
      "_view_module": "@jupyter-widgets/controls",
      "_view_module_version": "1.5.0",
      "_view_name": "HTMLView",
      "description": "",
      "description_tooltip": null,
      "layout": "IPY_MODEL_a782047417534298a9ea2f077f0d2578",
      "placeholder": "​",
      "style": "IPY_MODEL_83d77bba2ca64368946b0139565381f7",
      "value": " 4500/4500 [00:11&lt;00:00, 911.90 examples/s]"
     }
    },
    "1171f256425f4695b702fbad2d7ca11b": {
     "model_module": "@jupyter-widgets/controls",
     "model_module_version": "1.5.0",
     "model_name": "ProgressStyleModel",
     "state": {
      "_model_module": "@jupyter-widgets/controls",
      "_model_module_version": "1.5.0",
      "_model_name": "ProgressStyleModel",
      "_view_count": null,
      "_view_module": "@jupyter-widgets/base",
      "_view_module_version": "1.2.0",
      "_view_name": "StyleView",
      "bar_color": null,
      "description_width": ""
     }
    },
    "12e26fca54674eacba6c970f02f7267a": {
     "model_module": "@jupyter-widgets/controls",
     "model_module_version": "1.5.0",
     "model_name": "DescriptionStyleModel",
     "state": {
      "_model_module": "@jupyter-widgets/controls",
      "_model_module_version": "1.5.0",
      "_model_name": "DescriptionStyleModel",
      "_view_count": null,
      "_view_module": "@jupyter-widgets/base",
      "_view_module_version": "1.2.0",
      "_view_name": "StyleView",
      "description_width": ""
     }
    },
    "140cd406e25f48489e794e53a365cd5f": {
     "model_module": "@jupyter-widgets/controls",
     "model_module_version": "1.5.0",
     "model_name": "DescriptionStyleModel",
     "state": {
      "_model_module": "@jupyter-widgets/controls",
      "_model_module_version": "1.5.0",
      "_model_name": "DescriptionStyleModel",
      "_view_count": null,
      "_view_module": "@jupyter-widgets/base",
      "_view_module_version": "1.2.0",
      "_view_name": "StyleView",
      "description_width": ""
     }
    },
    "16c83b4f445f4954a1ca1e7f622cb44a": {
     "model_module": "@jupyter-widgets/controls",
     "model_module_version": "1.5.0",
     "model_name": "HTMLModel",
     "state": {
      "_dom_classes": [],
      "_model_module": "@jupyter-widgets/controls",
      "_model_module_version": "1.5.0",
      "_model_name": "HTMLModel",
      "_view_count": null,
      "_view_module": "@jupyter-widgets/controls",
      "_view_module_version": "1.5.0",
      "_view_name": "HTMLView",
      "description": "",
      "description_tooltip": null,
      "layout": "IPY_MODEL_1b6e6bab709045ceb80a9b599eb17a49",
      "placeholder": "​",
      "style": "IPY_MODEL_2804155f9e954e66babd7b25121ba0df",
      "value": "Map: 100%"
     }
    },
    "16e608e97d8946ef9ab2f1d400430c9f": {
     "model_module": "@jupyter-widgets/base",
     "model_module_version": "1.2.0",
     "model_name": "LayoutModel",
     "state": {
      "_model_module": "@jupyter-widgets/base",
      "_model_module_version": "1.2.0",
      "_model_name": "LayoutModel",
      "_view_count": null,
      "_view_module": "@jupyter-widgets/base",
      "_view_module_version": "1.2.0",
      "_view_name": "LayoutView",
      "align_content": null,
      "align_items": null,
      "align_self": null,
      "border": null,
      "bottom": null,
      "display": null,
      "flex": null,
      "flex_flow": null,
      "grid_area": null,
      "grid_auto_columns": null,
      "grid_auto_flow": null,
      "grid_auto_rows": null,
      "grid_column": null,
      "grid_gap": null,
      "grid_row": null,
      "grid_template_areas": null,
      "grid_template_columns": null,
      "grid_template_rows": null,
      "height": null,
      "justify_content": null,
      "justify_items": null,
      "left": null,
      "margin": null,
      "max_height": null,
      "max_width": null,
      "min_height": null,
      "min_width": null,
      "object_fit": null,
      "object_position": null,
      "order": null,
      "overflow": null,
      "overflow_x": null,
      "overflow_y": null,
      "padding": null,
      "right": null,
      "top": null,
      "visibility": null,
      "width": null
     }
    },
    "19f3fd15c25e4c47853e432cac7315c3": {
     "model_module": "@jupyter-widgets/controls",
     "model_module_version": "1.5.0",
     "model_name": "HTMLModel",
     "state": {
      "_dom_classes": [],
      "_model_module": "@jupyter-widgets/controls",
      "_model_module_version": "1.5.0",
      "_model_name": "HTMLModel",
      "_view_count": null,
      "_view_module": "@jupyter-widgets/controls",
      "_view_module_version": "1.5.0",
      "_view_name": "HTMLView",
      "description": "",
      "description_tooltip": null,
      "layout": "IPY_MODEL_ac201a325feb436991953cba23fc09c8",
      "placeholder": "​",
      "style": "IPY_MODEL_f4eac588a3084aed80aadd46dc5e2878",
      "value": " 40/40 [00:00&lt;00:00, 455.60 examples/s]"
     }
    },
    "1b6e6bab709045ceb80a9b599eb17a49": {
     "model_module": "@jupyter-widgets/base",
     "model_module_version": "1.2.0",
     "model_name": "LayoutModel",
     "state": {
      "_model_module": "@jupyter-widgets/base",
      "_model_module_version": "1.2.0",
      "_model_name": "LayoutModel",
      "_view_count": null,
      "_view_module": "@jupyter-widgets/base",
      "_view_module_version": "1.2.0",
      "_view_name": "LayoutView",
      "align_content": null,
      "align_items": null,
      "align_self": null,
      "border": null,
      "bottom": null,
      "display": null,
      "flex": null,
      "flex_flow": null,
      "grid_area": null,
      "grid_auto_columns": null,
      "grid_auto_flow": null,
      "grid_auto_rows": null,
      "grid_column": null,
      "grid_gap": null,
      "grid_row": null,
      "grid_template_areas": null,
      "grid_template_columns": null,
      "grid_template_rows": null,
      "height": null,
      "justify_content": null,
      "justify_items": null,
      "left": null,
      "margin": null,
      "max_height": null,
      "max_width": null,
      "min_height": null,
      "min_width": null,
      "object_fit": null,
      "object_position": null,
      "order": null,
      "overflow": null,
      "overflow_x": null,
      "overflow_y": null,
      "padding": null,
      "right": null,
      "top": null,
      "visibility": null,
      "width": null
     }
    },
    "1c41af4b0e89476193220ce0e2ebc7a3": {
     "model_module": "@jupyter-widgets/controls",
     "model_module_version": "1.5.0",
     "model_name": "HBoxModel",
     "state": {
      "_dom_classes": [],
      "_model_module": "@jupyter-widgets/controls",
      "_model_module_version": "1.5.0",
      "_model_name": "HBoxModel",
      "_view_count": null,
      "_view_module": "@jupyter-widgets/controls",
      "_view_module_version": "1.5.0",
      "_view_name": "HBoxView",
      "box_style": "",
      "children": [
       "IPY_MODEL_55af32add77f4c70aefa4bae1cd5483d",
       "IPY_MODEL_226ad985c5a84a599f999bca6a67bc7a",
       "IPY_MODEL_2b732eeac86d495883bc58ce86362f9b"
      ],
      "layout": "IPY_MODEL_2fbd5daebb334741b5c6991ba66213d9"
     }
    },
    "1e64974714a04b8a8c2f2988256e18b8": {
     "model_module": "@jupyter-widgets/controls",
     "model_module_version": "1.5.0",
     "model_name": "ProgressStyleModel",
     "state": {
      "_model_module": "@jupyter-widgets/controls",
      "_model_module_version": "1.5.0",
      "_model_name": "ProgressStyleModel",
      "_view_count": null,
      "_view_module": "@jupyter-widgets/base",
      "_view_module_version": "1.2.0",
      "_view_name": "StyleView",
      "bar_color": null,
      "description_width": ""
     }
    },
    "226ad985c5a84a599f999bca6a67bc7a": {
     "model_module": "@jupyter-widgets/controls",
     "model_module_version": "1.5.0",
     "model_name": "FloatProgressModel",
     "state": {
      "_dom_classes": [],
      "_model_module": "@jupyter-widgets/controls",
      "_model_module_version": "1.5.0",
      "_model_name": "FloatProgressModel",
      "_view_count": null,
      "_view_module": "@jupyter-widgets/controls",
      "_view_module_version": "1.5.0",
      "_view_name": "ProgressView",
      "bar_style": "success",
      "description": "",
      "description_tooltip": null,
      "layout": "IPY_MODEL_cf8c11a880cb46e4b3ac1276e0c6c82f",
      "max": 500,
      "min": 0,
      "orientation": "horizontal",
      "style": "IPY_MODEL_1e64974714a04b8a8c2f2988256e18b8",
      "value": 500
     }
    },
    "23cd6500405244e1b17dd052ee4d1260": {
     "model_module": "@jupyter-widgets/base",
     "model_module_version": "1.2.0",
     "model_name": "LayoutModel",
     "state": {
      "_model_module": "@jupyter-widgets/base",
      "_model_module_version": "1.2.0",
      "_model_name": "LayoutModel",
      "_view_count": null,
      "_view_module": "@jupyter-widgets/base",
      "_view_module_version": "1.2.0",
      "_view_name": "LayoutView",
      "align_content": null,
      "align_items": null,
      "align_self": null,
      "border": null,
      "bottom": null,
      "display": null,
      "flex": null,
      "flex_flow": null,
      "grid_area": null,
      "grid_auto_columns": null,
      "grid_auto_flow": null,
      "grid_auto_rows": null,
      "grid_column": null,
      "grid_gap": null,
      "grid_row": null,
      "grid_template_areas": null,
      "grid_template_columns": null,
      "grid_template_rows": null,
      "height": null,
      "justify_content": null,
      "justify_items": null,
      "left": null,
      "margin": null,
      "max_height": null,
      "max_width": null,
      "min_height": null,
      "min_width": null,
      "object_fit": null,
      "object_position": null,
      "order": null,
      "overflow": null,
      "overflow_x": null,
      "overflow_y": null,
      "padding": null,
      "right": null,
      "top": null,
      "visibility": null,
      "width": null
     }
    },
    "2804155f9e954e66babd7b25121ba0df": {
     "model_module": "@jupyter-widgets/controls",
     "model_module_version": "1.5.0",
     "model_name": "DescriptionStyleModel",
     "state": {
      "_model_module": "@jupyter-widgets/controls",
      "_model_module_version": "1.5.0",
      "_model_name": "DescriptionStyleModel",
      "_view_count": null,
      "_view_module": "@jupyter-widgets/base",
      "_view_module_version": "1.2.0",
      "_view_name": "StyleView",
      "description_width": ""
     }
    },
    "2b732eeac86d495883bc58ce86362f9b": {
     "model_module": "@jupyter-widgets/controls",
     "model_module_version": "1.5.0",
     "model_name": "HTMLModel",
     "state": {
      "_dom_classes": [],
      "_model_module": "@jupyter-widgets/controls",
      "_model_module_version": "1.5.0",
      "_model_name": "HTMLModel",
      "_view_count": null,
      "_view_module": "@jupyter-widgets/controls",
      "_view_module_version": "1.5.0",
      "_view_name": "HTMLView",
      "description": "",
      "description_tooltip": null,
      "layout": "IPY_MODEL_878a40f4b8754eca983ac9b7973c4b7b",
      "placeholder": "​",
      "style": "IPY_MODEL_9a1761c414cc4c42bbf1dccbaf5872e0",
      "value": " 500/500 [00:00&lt;00:00, 901.22 examples/s]"
     }
    },
    "2bd40ef67b4c494aaa84143096f3d837": {
     "model_module": "@jupyter-widgets/controls",
     "model_module_version": "1.5.0",
     "model_name": "HTMLModel",
     "state": {
      "_dom_classes": [],
      "_model_module": "@jupyter-widgets/controls",
      "_model_module_version": "1.5.0",
      "_model_name": "HTMLModel",
      "_view_count": null,
      "_view_module": "@jupyter-widgets/controls",
      "_view_module_version": "1.5.0",
      "_view_name": "HTMLView",
      "description": "",
      "description_tooltip": null,
      "layout": "IPY_MODEL_cc6d8caee4e94650b97e4e96de6e5496",
      "placeholder": "​",
      "style": "IPY_MODEL_ef872889878c48d28d6bb8e5c230996f",
      "value": "Map: 100%"
     }
    },
    "2fbd5daebb334741b5c6991ba66213d9": {
     "model_module": "@jupyter-widgets/base",
     "model_module_version": "1.2.0",
     "model_name": "LayoutModel",
     "state": {
      "_model_module": "@jupyter-widgets/base",
      "_model_module_version": "1.2.0",
      "_model_name": "LayoutModel",
      "_view_count": null,
      "_view_module": "@jupyter-widgets/base",
      "_view_module_version": "1.2.0",
      "_view_name": "LayoutView",
      "align_content": null,
      "align_items": null,
      "align_self": null,
      "border": null,
      "bottom": null,
      "display": null,
      "flex": null,
      "flex_flow": null,
      "grid_area": null,
      "grid_auto_columns": null,
      "grid_auto_flow": null,
      "grid_auto_rows": null,
      "grid_column": null,
      "grid_gap": null,
      "grid_row": null,
      "grid_template_areas": null,
      "grid_template_columns": null,
      "grid_template_rows": null,
      "height": null,
      "justify_content": null,
      "justify_items": null,
      "left": null,
      "margin": null,
      "max_height": null,
      "max_width": null,
      "min_height": null,
      "min_width": null,
      "object_fit": null,
      "object_position": null,
      "order": null,
      "overflow": null,
      "overflow_x": null,
      "overflow_y": null,
      "padding": null,
      "right": null,
      "top": null,
      "visibility": null,
      "width": null
     }
    },
    "311988ff72794da596c2e9bcb42d5e33": {
     "model_module": "@jupyter-widgets/base",
     "model_module_version": "1.2.0",
     "model_name": "LayoutModel",
     "state": {
      "_model_module": "@jupyter-widgets/base",
      "_model_module_version": "1.2.0",
      "_model_name": "LayoutModel",
      "_view_count": null,
      "_view_module": "@jupyter-widgets/base",
      "_view_module_version": "1.2.0",
      "_view_name": "LayoutView",
      "align_content": null,
      "align_items": null,
      "align_self": null,
      "border": null,
      "bottom": null,
      "display": null,
      "flex": null,
      "flex_flow": null,
      "grid_area": null,
      "grid_auto_columns": null,
      "grid_auto_flow": null,
      "grid_auto_rows": null,
      "grid_column": null,
      "grid_gap": null,
      "grid_row": null,
      "grid_template_areas": null,
      "grid_template_columns": null,
      "grid_template_rows": null,
      "height": null,
      "justify_content": null,
      "justify_items": null,
      "left": null,
      "margin": null,
      "max_height": null,
      "max_width": null,
      "min_height": null,
      "min_width": null,
      "object_fit": null,
      "object_position": null,
      "order": null,
      "overflow": null,
      "overflow_x": null,
      "overflow_y": null,
      "padding": null,
      "right": null,
      "top": null,
      "visibility": null,
      "width": null
     }
    },
    "33ba5833ab1c4dbc9889e31154bcdce3": {
     "model_module": "@jupyter-widgets/controls",
     "model_module_version": "1.5.0",
     "model_name": "ProgressStyleModel",
     "state": {
      "_model_module": "@jupyter-widgets/controls",
      "_model_module_version": "1.5.0",
      "_model_name": "ProgressStyleModel",
      "_view_count": null,
      "_view_module": "@jupyter-widgets/base",
      "_view_module_version": "1.2.0",
      "_view_name": "StyleView",
      "bar_color": null,
      "description_width": ""
     }
    },
    "348617f99aca42f4b466699d46a71bae": {
     "model_module": "@jupyter-widgets/controls",
     "model_module_version": "1.5.0",
     "model_name": "HBoxModel",
     "state": {
      "_dom_classes": [],
      "_model_module": "@jupyter-widgets/controls",
      "_model_module_version": "1.5.0",
      "_model_name": "HBoxModel",
      "_view_count": null,
      "_view_module": "@jupyter-widgets/controls",
      "_view_module_version": "1.5.0",
      "_view_name": "HBoxView",
      "box_style": "",
      "children": [
       "IPY_MODEL_16c83b4f445f4954a1ca1e7f622cb44a",
       "IPY_MODEL_75cc310d17704a45a38eb3703c15f8d8",
       "IPY_MODEL_19f3fd15c25e4c47853e432cac7315c3"
      ],
      "layout": "IPY_MODEL_4af81b06836840db822a47b741bffc6a"
     }
    },
    "3a07ecc4762a4a49ba31f2879f83841e": {
     "model_module": "@jupyter-widgets/controls",
     "model_module_version": "1.5.0",
     "model_name": "HTMLModel",
     "state": {
      "_dom_classes": [],
      "_model_module": "@jupyter-widgets/controls",
      "_model_module_version": "1.5.0",
      "_model_name": "HTMLModel",
      "_view_count": null,
      "_view_module": "@jupyter-widgets/controls",
      "_view_module_version": "1.5.0",
      "_view_name": "HTMLView",
      "description": "",
      "description_tooltip": null,
      "layout": "IPY_MODEL_f823321c40eb4c74bee53f3f19ab933b",
      "placeholder": "​",
      "style": "IPY_MODEL_140cd406e25f48489e794e53a365cd5f",
      "value": "Map: 100%"
     }
    },
    "47d2d35f66014c35b6cbbdba04a460f8": {
     "model_module": "@jupyter-widgets/controls",
     "model_module_version": "1.5.0",
     "model_name": "DescriptionStyleModel",
     "state": {
      "_model_module": "@jupyter-widgets/controls",
      "_model_module_version": "1.5.0",
      "_model_name": "DescriptionStyleModel",
      "_view_count": null,
      "_view_module": "@jupyter-widgets/base",
      "_view_module_version": "1.2.0",
      "_view_name": "StyleView",
      "description_width": ""
     }
    },
    "4af81b06836840db822a47b741bffc6a": {
     "model_module": "@jupyter-widgets/base",
     "model_module_version": "1.2.0",
     "model_name": "LayoutModel",
     "state": {
      "_model_module": "@jupyter-widgets/base",
      "_model_module_version": "1.2.0",
      "_model_name": "LayoutModel",
      "_view_count": null,
      "_view_module": "@jupyter-widgets/base",
      "_view_module_version": "1.2.0",
      "_view_name": "LayoutView",
      "align_content": null,
      "align_items": null,
      "align_self": null,
      "border": null,
      "bottom": null,
      "display": null,
      "flex": null,
      "flex_flow": null,
      "grid_area": null,
      "grid_auto_columns": null,
      "grid_auto_flow": null,
      "grid_auto_rows": null,
      "grid_column": null,
      "grid_gap": null,
      "grid_row": null,
      "grid_template_areas": null,
      "grid_template_columns": null,
      "grid_template_rows": null,
      "height": null,
      "justify_content": null,
      "justify_items": null,
      "left": null,
      "margin": null,
      "max_height": null,
      "max_width": null,
      "min_height": null,
      "min_width": null,
      "object_fit": null,
      "object_position": null,
      "order": null,
      "overflow": null,
      "overflow_x": null,
      "overflow_y": null,
      "padding": null,
      "right": null,
      "top": null,
      "visibility": null,
      "width": null
     }
    },
    "4d2d68373b304f4eac33a7e037c8896b": {
     "model_module": "@jupyter-widgets/controls",
     "model_module_version": "1.5.0",
     "model_name": "ProgressStyleModel",
     "state": {
      "_model_module": "@jupyter-widgets/controls",
      "_model_module_version": "1.5.0",
      "_model_name": "ProgressStyleModel",
      "_view_count": null,
      "_view_module": "@jupyter-widgets/base",
      "_view_module_version": "1.2.0",
      "_view_name": "StyleView",
      "bar_color": null,
      "description_width": ""
     }
    },
    "504be8c19cfb47d7aca7a4011c745fd6": {
     "model_module": "@jupyter-widgets/controls",
     "model_module_version": "1.5.0",
     "model_name": "FloatProgressModel",
     "state": {
      "_dom_classes": [],
      "_model_module": "@jupyter-widgets/controls",
      "_model_module_version": "1.5.0",
      "_model_name": "FloatProgressModel",
      "_view_count": null,
      "_view_module": "@jupyter-widgets/controls",
      "_view_module_version": "1.5.0",
      "_view_name": "ProgressView",
      "bar_style": "success",
      "description": "",
      "description_tooltip": null,
      "layout": "IPY_MODEL_515aae790f7c4a2d9e7ab75c63c02fa7",
      "max": 10,
      "min": 0,
      "orientation": "horizontal",
      "style": "IPY_MODEL_4d2d68373b304f4eac33a7e037c8896b",
      "value": 10
     }
    },
    "515aae790f7c4a2d9e7ab75c63c02fa7": {
     "model_module": "@jupyter-widgets/base",
     "model_module_version": "1.2.0",
     "model_name": "LayoutModel",
     "state": {
      "_model_module": "@jupyter-widgets/base",
      "_model_module_version": "1.2.0",
      "_model_name": "LayoutModel",
      "_view_count": null,
      "_view_module": "@jupyter-widgets/base",
      "_view_module_version": "1.2.0",
      "_view_name": "LayoutView",
      "align_content": null,
      "align_items": null,
      "align_self": null,
      "border": null,
      "bottom": null,
      "display": null,
      "flex": null,
      "flex_flow": null,
      "grid_area": null,
      "grid_auto_columns": null,
      "grid_auto_flow": null,
      "grid_auto_rows": null,
      "grid_column": null,
      "grid_gap": null,
      "grid_row": null,
      "grid_template_areas": null,
      "grid_template_columns": null,
      "grid_template_rows": null,
      "height": null,
      "justify_content": null,
      "justify_items": null,
      "left": null,
      "margin": null,
      "max_height": null,
      "max_width": null,
      "min_height": null,
      "min_width": null,
      "object_fit": null,
      "object_position": null,
      "order": null,
      "overflow": null,
      "overflow_x": null,
      "overflow_y": null,
      "padding": null,
      "right": null,
      "top": null,
      "visibility": null,
      "width": null
     }
    },
    "55af32add77f4c70aefa4bae1cd5483d": {
     "model_module": "@jupyter-widgets/controls",
     "model_module_version": "1.5.0",
     "model_name": "HTMLModel",
     "state": {
      "_dom_classes": [],
      "_model_module": "@jupyter-widgets/controls",
      "_model_module_version": "1.5.0",
      "_model_name": "HTMLModel",
      "_view_count": null,
      "_view_module": "@jupyter-widgets/controls",
      "_view_module_version": "1.5.0",
      "_view_name": "HTMLView",
      "description": "",
      "description_tooltip": null,
      "layout": "IPY_MODEL_da2353da0e32451bbf164c397423191d",
      "placeholder": "​",
      "style": "IPY_MODEL_12e26fca54674eacba6c970f02f7267a",
      "value": "Map: 100%"
     }
    },
    "5d2bd5645cde4c6f99768d48b16fe910": {
     "model_module": "@jupyter-widgets/controls",
     "model_module_version": "1.5.0",
     "model_name": "HTMLModel",
     "state": {
      "_dom_classes": [],
      "_model_module": "@jupyter-widgets/controls",
      "_model_module_version": "1.5.0",
      "_model_name": "HTMLModel",
      "_view_count": null,
      "_view_module": "@jupyter-widgets/controls",
      "_view_module_version": "1.5.0",
      "_view_name": "HTMLView",
      "description": "",
      "description_tooltip": null,
      "layout": "IPY_MODEL_eb1af5d4eea34857932209907dd2eacb",
      "placeholder": "​",
      "style": "IPY_MODEL_b7b931de766c440e877fa53a4719326f",
      "value": " 1/1 [00:00&lt;00:00,  9.91 examples/s]"
     }
    },
    "61e6b57a451c4b13939285372c08f96e": {
     "model_module": "@jupyter-widgets/controls",
     "model_module_version": "1.5.0",
     "model_name": "FloatProgressModel",
     "state": {
      "_dom_classes": [],
      "_model_module": "@jupyter-widgets/controls",
      "_model_module_version": "1.5.0",
      "_model_name": "FloatProgressModel",
      "_view_count": null,
      "_view_module": "@jupyter-widgets/controls",
      "_view_module_version": "1.5.0",
      "_view_name": "ProgressView",
      "bar_style": "success",
      "description": "",
      "description_tooltip": null,
      "layout": "IPY_MODEL_311988ff72794da596c2e9bcb42d5e33",
      "max": 4500,
      "min": 0,
      "orientation": "horizontal",
      "style": "IPY_MODEL_1171f256425f4695b702fbad2d7ca11b",
      "value": 4500
     }
    },
    "6affa522e4ac49bf9c19323995e10879": {
     "model_module": "@jupyter-widgets/base",
     "model_module_version": "1.2.0",
     "model_name": "LayoutModel",
     "state": {
      "_model_module": "@jupyter-widgets/base",
      "_model_module_version": "1.2.0",
      "_model_name": "LayoutModel",
      "_view_count": null,
      "_view_module": "@jupyter-widgets/base",
      "_view_module_version": "1.2.0",
      "_view_name": "LayoutView",
      "align_content": null,
      "align_items": null,
      "align_self": null,
      "border": null,
      "bottom": null,
      "display": null,
      "flex": null,
      "flex_flow": null,
      "grid_area": null,
      "grid_auto_columns": null,
      "grid_auto_flow": null,
      "grid_auto_rows": null,
      "grid_column": null,
      "grid_gap": null,
      "grid_row": null,
      "grid_template_areas": null,
      "grid_template_columns": null,
      "grid_template_rows": null,
      "height": null,
      "justify_content": null,
      "justify_items": null,
      "left": null,
      "margin": null,
      "max_height": null,
      "max_width": null,
      "min_height": null,
      "min_width": null,
      "object_fit": null,
      "object_position": null,
      "order": null,
      "overflow": null,
      "overflow_x": null,
      "overflow_y": null,
      "padding": null,
      "right": null,
      "top": null,
      "visibility": null,
      "width": null
     }
    },
    "6de88fc8b6d64e4cac4976892c3ae490": {
     "model_module": "@jupyter-widgets/base",
     "model_module_version": "1.2.0",
     "model_name": "LayoutModel",
     "state": {
      "_model_module": "@jupyter-widgets/base",
      "_model_module_version": "1.2.0",
      "_model_name": "LayoutModel",
      "_view_count": null,
      "_view_module": "@jupyter-widgets/base",
      "_view_module_version": "1.2.0",
      "_view_name": "LayoutView",
      "align_content": null,
      "align_items": null,
      "align_self": null,
      "border": null,
      "bottom": null,
      "display": null,
      "flex": null,
      "flex_flow": null,
      "grid_area": null,
      "grid_auto_columns": null,
      "grid_auto_flow": null,
      "grid_auto_rows": null,
      "grid_column": null,
      "grid_gap": null,
      "grid_row": null,
      "grid_template_areas": null,
      "grid_template_columns": null,
      "grid_template_rows": null,
      "height": null,
      "justify_content": null,
      "justify_items": null,
      "left": null,
      "margin": null,
      "max_height": null,
      "max_width": null,
      "min_height": null,
      "min_width": null,
      "object_fit": null,
      "object_position": null,
      "order": null,
      "overflow": null,
      "overflow_x": null,
      "overflow_y": null,
      "padding": null,
      "right": null,
      "top": null,
      "visibility": null,
      "width": null
     }
    },
    "73e69bbf161d4104b609adff5b403874": {
     "model_module": "@jupyter-widgets/controls",
     "model_module_version": "1.5.0",
     "model_name": "HBoxModel",
     "state": {
      "_dom_classes": [],
      "_model_module": "@jupyter-widgets/controls",
      "_model_module_version": "1.5.0",
      "_model_name": "HBoxModel",
      "_view_count": null,
      "_view_module": "@jupyter-widgets/controls",
      "_view_module_version": "1.5.0",
      "_view_name": "HBoxView",
      "box_style": "",
      "children": [
       "IPY_MODEL_2bd40ef67b4c494aaa84143096f3d837",
       "IPY_MODEL_61e6b57a451c4b13939285372c08f96e",
       "IPY_MODEL_033b204f2c524b57816c37680764c738"
      ],
      "layout": "IPY_MODEL_da13222ff54c4cb283a80a1159778538"
     }
    },
    "75cc310d17704a45a38eb3703c15f8d8": {
     "model_module": "@jupyter-widgets/controls",
     "model_module_version": "1.5.0",
     "model_name": "FloatProgressModel",
     "state": {
      "_dom_classes": [],
      "_model_module": "@jupyter-widgets/controls",
      "_model_module_version": "1.5.0",
      "_model_name": "FloatProgressModel",
      "_view_count": null,
      "_view_module": "@jupyter-widgets/controls",
      "_view_module_version": "1.5.0",
      "_view_name": "ProgressView",
      "bar_style": "success",
      "description": "",
      "description_tooltip": null,
      "layout": "IPY_MODEL_6de88fc8b6d64e4cac4976892c3ae490",
      "max": 40,
      "min": 0,
      "orientation": "horizontal",
      "style": "IPY_MODEL_33ba5833ab1c4dbc9889e31154bcdce3",
      "value": 40
     }
    },
    "7995150321154be4a1f656983a412d32": {
     "model_module": "@jupyter-widgets/controls",
     "model_module_version": "1.5.0",
     "model_name": "FloatProgressModel",
     "state": {
      "_dom_classes": [],
      "_model_module": "@jupyter-widgets/controls",
      "_model_module_version": "1.5.0",
      "_model_name": "FloatProgressModel",
      "_view_count": null,
      "_view_module": "@jupyter-widgets/controls",
      "_view_module_version": "1.5.0",
      "_view_name": "ProgressView",
      "bar_style": "success",
      "description": "",
      "description_tooltip": null,
      "layout": "IPY_MODEL_e83663901ccc48abb5bfe52158c9efd3",
      "max": 1,
      "min": 0,
      "orientation": "horizontal",
      "style": "IPY_MODEL_01f4d5d9049940b5974a18c62afc2a29",
      "value": 1
     }
    },
    "83d77bba2ca64368946b0139565381f7": {
     "model_module": "@jupyter-widgets/controls",
     "model_module_version": "1.5.0",
     "model_name": "DescriptionStyleModel",
     "state": {
      "_model_module": "@jupyter-widgets/controls",
      "_model_module_version": "1.5.0",
      "_model_name": "DescriptionStyleModel",
      "_view_count": null,
      "_view_module": "@jupyter-widgets/base",
      "_view_module_version": "1.2.0",
      "_view_name": "StyleView",
      "description_width": ""
     }
    },
    "878a40f4b8754eca983ac9b7973c4b7b": {
     "model_module": "@jupyter-widgets/base",
     "model_module_version": "1.2.0",
     "model_name": "LayoutModel",
     "state": {
      "_model_module": "@jupyter-widgets/base",
      "_model_module_version": "1.2.0",
      "_model_name": "LayoutModel",
      "_view_count": null,
      "_view_module": "@jupyter-widgets/base",
      "_view_module_version": "1.2.0",
      "_view_name": "LayoutView",
      "align_content": null,
      "align_items": null,
      "align_self": null,
      "border": null,
      "bottom": null,
      "display": null,
      "flex": null,
      "flex_flow": null,
      "grid_area": null,
      "grid_auto_columns": null,
      "grid_auto_flow": null,
      "grid_auto_rows": null,
      "grid_column": null,
      "grid_gap": null,
      "grid_row": null,
      "grid_template_areas": null,
      "grid_template_columns": null,
      "grid_template_rows": null,
      "height": null,
      "justify_content": null,
      "justify_items": null,
      "left": null,
      "margin": null,
      "max_height": null,
      "max_width": null,
      "min_height": null,
      "min_width": null,
      "object_fit": null,
      "object_position": null,
      "order": null,
      "overflow": null,
      "overflow_x": null,
      "overflow_y": null,
      "padding": null,
      "right": null,
      "top": null,
      "visibility": null,
      "width": null
     }
    },
    "9a1761c414cc4c42bbf1dccbaf5872e0": {
     "model_module": "@jupyter-widgets/controls",
     "model_module_version": "1.5.0",
     "model_name": "DescriptionStyleModel",
     "state": {
      "_model_module": "@jupyter-widgets/controls",
      "_model_module_version": "1.5.0",
      "_model_name": "DescriptionStyleModel",
      "_view_count": null,
      "_view_module": "@jupyter-widgets/base",
      "_view_module_version": "1.2.0",
      "_view_name": "StyleView",
      "description_width": ""
     }
    },
    "a782047417534298a9ea2f077f0d2578": {
     "model_module": "@jupyter-widgets/base",
     "model_module_version": "1.2.0",
     "model_name": "LayoutModel",
     "state": {
      "_model_module": "@jupyter-widgets/base",
      "_model_module_version": "1.2.0",
      "_model_name": "LayoutModel",
      "_view_count": null,
      "_view_module": "@jupyter-widgets/base",
      "_view_module_version": "1.2.0",
      "_view_name": "LayoutView",
      "align_content": null,
      "align_items": null,
      "align_self": null,
      "border": null,
      "bottom": null,
      "display": null,
      "flex": null,
      "flex_flow": null,
      "grid_area": null,
      "grid_auto_columns": null,
      "grid_auto_flow": null,
      "grid_auto_rows": null,
      "grid_column": null,
      "grid_gap": null,
      "grid_row": null,
      "grid_template_areas": null,
      "grid_template_columns": null,
      "grid_template_rows": null,
      "height": null,
      "justify_content": null,
      "justify_items": null,
      "left": null,
      "margin": null,
      "max_height": null,
      "max_width": null,
      "min_height": null,
      "min_width": null,
      "object_fit": null,
      "object_position": null,
      "order": null,
      "overflow": null,
      "overflow_x": null,
      "overflow_y": null,
      "padding": null,
      "right": null,
      "top": null,
      "visibility": null,
      "width": null
     }
    },
    "ac201a325feb436991953cba23fc09c8": {
     "model_module": "@jupyter-widgets/base",
     "model_module_version": "1.2.0",
     "model_name": "LayoutModel",
     "state": {
      "_model_module": "@jupyter-widgets/base",
      "_model_module_version": "1.2.0",
      "_model_name": "LayoutModel",
      "_view_count": null,
      "_view_module": "@jupyter-widgets/base",
      "_view_module_version": "1.2.0",
      "_view_name": "LayoutView",
      "align_content": null,
      "align_items": null,
      "align_self": null,
      "border": null,
      "bottom": null,
      "display": null,
      "flex": null,
      "flex_flow": null,
      "grid_area": null,
      "grid_auto_columns": null,
      "grid_auto_flow": null,
      "grid_auto_rows": null,
      "grid_column": null,
      "grid_gap": null,
      "grid_row": null,
      "grid_template_areas": null,
      "grid_template_columns": null,
      "grid_template_rows": null,
      "height": null,
      "justify_content": null,
      "justify_items": null,
      "left": null,
      "margin": null,
      "max_height": null,
      "max_width": null,
      "min_height": null,
      "min_width": null,
      "object_fit": null,
      "object_position": null,
      "order": null,
      "overflow": null,
      "overflow_x": null,
      "overflow_y": null,
      "padding": null,
      "right": null,
      "top": null,
      "visibility": null,
      "width": null
     }
    },
    "b724831dacda4cd69b42b24b2b7870ff": {
     "model_module": "@jupyter-widgets/controls",
     "model_module_version": "1.5.0",
     "model_name": "HBoxModel",
     "state": {
      "_dom_classes": [],
      "_model_module": "@jupyter-widgets/controls",
      "_model_module_version": "1.5.0",
      "_model_name": "HBoxModel",
      "_view_count": null,
      "_view_module": "@jupyter-widgets/controls",
      "_view_module_version": "1.5.0",
      "_view_name": "HBoxView",
      "box_style": "",
      "children": [
       "IPY_MODEL_ceae18128c1242cd8089289704d80d5e",
       "IPY_MODEL_7995150321154be4a1f656983a412d32",
       "IPY_MODEL_5d2bd5645cde4c6f99768d48b16fe910"
      ],
      "layout": "IPY_MODEL_16e608e97d8946ef9ab2f1d400430c9f"
     }
    },
    "b7b931de766c440e877fa53a4719326f": {
     "model_module": "@jupyter-widgets/controls",
     "model_module_version": "1.5.0",
     "model_name": "DescriptionStyleModel",
     "state": {
      "_model_module": "@jupyter-widgets/controls",
      "_model_module_version": "1.5.0",
      "_model_name": "DescriptionStyleModel",
      "_view_count": null,
      "_view_module": "@jupyter-widgets/base",
      "_view_module_version": "1.2.0",
      "_view_name": "StyleView",
      "description_width": ""
     }
    },
    "bfee9fdb617f4a8f8e326ef110d5414e": {
     "model_module": "@jupyter-widgets/controls",
     "model_module_version": "1.5.0",
     "model_name": "DescriptionStyleModel",
     "state": {
      "_model_module": "@jupyter-widgets/controls",
      "_model_module_version": "1.5.0",
      "_model_name": "DescriptionStyleModel",
      "_view_count": null,
      "_view_module": "@jupyter-widgets/base",
      "_view_module_version": "1.2.0",
      "_view_name": "StyleView",
      "description_width": ""
     }
    },
    "c4e153ebddb14b29932bb338580bc260": {
     "model_module": "@jupyter-widgets/controls",
     "model_module_version": "1.5.0",
     "model_name": "HBoxModel",
     "state": {
      "_dom_classes": [],
      "_model_module": "@jupyter-widgets/controls",
      "_model_module_version": "1.5.0",
      "_model_name": "HBoxModel",
      "_view_count": null,
      "_view_module": "@jupyter-widgets/controls",
      "_view_module_version": "1.5.0",
      "_view_name": "HBoxView",
      "box_style": "",
      "children": [
       "IPY_MODEL_3a07ecc4762a4a49ba31f2879f83841e",
       "IPY_MODEL_504be8c19cfb47d7aca7a4011c745fd6",
       "IPY_MODEL_f6a266e906a543528b154f0a967d2ba5"
      ],
      "layout": "IPY_MODEL_6affa522e4ac49bf9c19323995e10879"
     }
    },
    "cc6d8caee4e94650b97e4e96de6e5496": {
     "model_module": "@jupyter-widgets/base",
     "model_module_version": "1.2.0",
     "model_name": "LayoutModel",
     "state": {
      "_model_module": "@jupyter-widgets/base",
      "_model_module_version": "1.2.0",
      "_model_name": "LayoutModel",
      "_view_count": null,
      "_view_module": "@jupyter-widgets/base",
      "_view_module_version": "1.2.0",
      "_view_name": "LayoutView",
      "align_content": null,
      "align_items": null,
      "align_self": null,
      "border": null,
      "bottom": null,
      "display": null,
      "flex": null,
      "flex_flow": null,
      "grid_area": null,
      "grid_auto_columns": null,
      "grid_auto_flow": null,
      "grid_auto_rows": null,
      "grid_column": null,
      "grid_gap": null,
      "grid_row": null,
      "grid_template_areas": null,
      "grid_template_columns": null,
      "grid_template_rows": null,
      "height": null,
      "justify_content": null,
      "justify_items": null,
      "left": null,
      "margin": null,
      "max_height": null,
      "max_width": null,
      "min_height": null,
      "min_width": null,
      "object_fit": null,
      "object_position": null,
      "order": null,
      "overflow": null,
      "overflow_x": null,
      "overflow_y": null,
      "padding": null,
      "right": null,
      "top": null,
      "visibility": null,
      "width": null
     }
    },
    "ceae18128c1242cd8089289704d80d5e": {
     "model_module": "@jupyter-widgets/controls",
     "model_module_version": "1.5.0",
     "model_name": "HTMLModel",
     "state": {
      "_dom_classes": [],
      "_model_module": "@jupyter-widgets/controls",
      "_model_module_version": "1.5.0",
      "_model_name": "HTMLModel",
      "_view_count": null,
      "_view_module": "@jupyter-widgets/controls",
      "_view_module_version": "1.5.0",
      "_view_name": "HTMLView",
      "description": "",
      "description_tooltip": null,
      "layout": "IPY_MODEL_cfdcbf422def4b0788773d6421b2bd36",
      "placeholder": "​",
      "style": "IPY_MODEL_47d2d35f66014c35b6cbbdba04a460f8",
      "value": "Map: 100%"
     }
    },
    "cf8c11a880cb46e4b3ac1276e0c6c82f": {
     "model_module": "@jupyter-widgets/base",
     "model_module_version": "1.2.0",
     "model_name": "LayoutModel",
     "state": {
      "_model_module": "@jupyter-widgets/base",
      "_model_module_version": "1.2.0",
      "_model_name": "LayoutModel",
      "_view_count": null,
      "_view_module": "@jupyter-widgets/base",
      "_view_module_version": "1.2.0",
      "_view_name": "LayoutView",
      "align_content": null,
      "align_items": null,
      "align_self": null,
      "border": null,
      "bottom": null,
      "display": null,
      "flex": null,
      "flex_flow": null,
      "grid_area": null,
      "grid_auto_columns": null,
      "grid_auto_flow": null,
      "grid_auto_rows": null,
      "grid_column": null,
      "grid_gap": null,
      "grid_row": null,
      "grid_template_areas": null,
      "grid_template_columns": null,
      "grid_template_rows": null,
      "height": null,
      "justify_content": null,
      "justify_items": null,
      "left": null,
      "margin": null,
      "max_height": null,
      "max_width": null,
      "min_height": null,
      "min_width": null,
      "object_fit": null,
      "object_position": null,
      "order": null,
      "overflow": null,
      "overflow_x": null,
      "overflow_y": null,
      "padding": null,
      "right": null,
      "top": null,
      "visibility": null,
      "width": null
     }
    },
    "cfdcbf422def4b0788773d6421b2bd36": {
     "model_module": "@jupyter-widgets/base",
     "model_module_version": "1.2.0",
     "model_name": "LayoutModel",
     "state": {
      "_model_module": "@jupyter-widgets/base",
      "_model_module_version": "1.2.0",
      "_model_name": "LayoutModel",
      "_view_count": null,
      "_view_module": "@jupyter-widgets/base",
      "_view_module_version": "1.2.0",
      "_view_name": "LayoutView",
      "align_content": null,
      "align_items": null,
      "align_self": null,
      "border": null,
      "bottom": null,
      "display": null,
      "flex": null,
      "flex_flow": null,
      "grid_area": null,
      "grid_auto_columns": null,
      "grid_auto_flow": null,
      "grid_auto_rows": null,
      "grid_column": null,
      "grid_gap": null,
      "grid_row": null,
      "grid_template_areas": null,
      "grid_template_columns": null,
      "grid_template_rows": null,
      "height": null,
      "justify_content": null,
      "justify_items": null,
      "left": null,
      "margin": null,
      "max_height": null,
      "max_width": null,
      "min_height": null,
      "min_width": null,
      "object_fit": null,
      "object_position": null,
      "order": null,
      "overflow": null,
      "overflow_x": null,
      "overflow_y": null,
      "padding": null,
      "right": null,
      "top": null,
      "visibility": null,
      "width": null
     }
    },
    "da13222ff54c4cb283a80a1159778538": {
     "model_module": "@jupyter-widgets/base",
     "model_module_version": "1.2.0",
     "model_name": "LayoutModel",
     "state": {
      "_model_module": "@jupyter-widgets/base",
      "_model_module_version": "1.2.0",
      "_model_name": "LayoutModel",
      "_view_count": null,
      "_view_module": "@jupyter-widgets/base",
      "_view_module_version": "1.2.0",
      "_view_name": "LayoutView",
      "align_content": null,
      "align_items": null,
      "align_self": null,
      "border": null,
      "bottom": null,
      "display": null,
      "flex": null,
      "flex_flow": null,
      "grid_area": null,
      "grid_auto_columns": null,
      "grid_auto_flow": null,
      "grid_auto_rows": null,
      "grid_column": null,
      "grid_gap": null,
      "grid_row": null,
      "grid_template_areas": null,
      "grid_template_columns": null,
      "grid_template_rows": null,
      "height": null,
      "justify_content": null,
      "justify_items": null,
      "left": null,
      "margin": null,
      "max_height": null,
      "max_width": null,
      "min_height": null,
      "min_width": null,
      "object_fit": null,
      "object_position": null,
      "order": null,
      "overflow": null,
      "overflow_x": null,
      "overflow_y": null,
      "padding": null,
      "right": null,
      "top": null,
      "visibility": null,
      "width": null
     }
    },
    "da2353da0e32451bbf164c397423191d": {
     "model_module": "@jupyter-widgets/base",
     "model_module_version": "1.2.0",
     "model_name": "LayoutModel",
     "state": {
      "_model_module": "@jupyter-widgets/base",
      "_model_module_version": "1.2.0",
      "_model_name": "LayoutModel",
      "_view_count": null,
      "_view_module": "@jupyter-widgets/base",
      "_view_module_version": "1.2.0",
      "_view_name": "LayoutView",
      "align_content": null,
      "align_items": null,
      "align_self": null,
      "border": null,
      "bottom": null,
      "display": null,
      "flex": null,
      "flex_flow": null,
      "grid_area": null,
      "grid_auto_columns": null,
      "grid_auto_flow": null,
      "grid_auto_rows": null,
      "grid_column": null,
      "grid_gap": null,
      "grid_row": null,
      "grid_template_areas": null,
      "grid_template_columns": null,
      "grid_template_rows": null,
      "height": null,
      "justify_content": null,
      "justify_items": null,
      "left": null,
      "margin": null,
      "max_height": null,
      "max_width": null,
      "min_height": null,
      "min_width": null,
      "object_fit": null,
      "object_position": null,
      "order": null,
      "overflow": null,
      "overflow_x": null,
      "overflow_y": null,
      "padding": null,
      "right": null,
      "top": null,
      "visibility": null,
      "width": null
     }
    },
    "e83663901ccc48abb5bfe52158c9efd3": {
     "model_module": "@jupyter-widgets/base",
     "model_module_version": "1.2.0",
     "model_name": "LayoutModel",
     "state": {
      "_model_module": "@jupyter-widgets/base",
      "_model_module_version": "1.2.0",
      "_model_name": "LayoutModel",
      "_view_count": null,
      "_view_module": "@jupyter-widgets/base",
      "_view_module_version": "1.2.0",
      "_view_name": "LayoutView",
      "align_content": null,
      "align_items": null,
      "align_self": null,
      "border": null,
      "bottom": null,
      "display": null,
      "flex": null,
      "flex_flow": null,
      "grid_area": null,
      "grid_auto_columns": null,
      "grid_auto_flow": null,
      "grid_auto_rows": null,
      "grid_column": null,
      "grid_gap": null,
      "grid_row": null,
      "grid_template_areas": null,
      "grid_template_columns": null,
      "grid_template_rows": null,
      "height": null,
      "justify_content": null,
      "justify_items": null,
      "left": null,
      "margin": null,
      "max_height": null,
      "max_width": null,
      "min_height": null,
      "min_width": null,
      "object_fit": null,
      "object_position": null,
      "order": null,
      "overflow": null,
      "overflow_x": null,
      "overflow_y": null,
      "padding": null,
      "right": null,
      "top": null,
      "visibility": null,
      "width": null
     }
    },
    "eb1af5d4eea34857932209907dd2eacb": {
     "model_module": "@jupyter-widgets/base",
     "model_module_version": "1.2.0",
     "model_name": "LayoutModel",
     "state": {
      "_model_module": "@jupyter-widgets/base",
      "_model_module_version": "1.2.0",
      "_model_name": "LayoutModel",
      "_view_count": null,
      "_view_module": "@jupyter-widgets/base",
      "_view_module_version": "1.2.0",
      "_view_name": "LayoutView",
      "align_content": null,
      "align_items": null,
      "align_self": null,
      "border": null,
      "bottom": null,
      "display": null,
      "flex": null,
      "flex_flow": null,
      "grid_area": null,
      "grid_auto_columns": null,
      "grid_auto_flow": null,
      "grid_auto_rows": null,
      "grid_column": null,
      "grid_gap": null,
      "grid_row": null,
      "grid_template_areas": null,
      "grid_template_columns": null,
      "grid_template_rows": null,
      "height": null,
      "justify_content": null,
      "justify_items": null,
      "left": null,
      "margin": null,
      "max_height": null,
      "max_width": null,
      "min_height": null,
      "min_width": null,
      "object_fit": null,
      "object_position": null,
      "order": null,
      "overflow": null,
      "overflow_x": null,
      "overflow_y": null,
      "padding": null,
      "right": null,
      "top": null,
      "visibility": null,
      "width": null
     }
    },
    "ef872889878c48d28d6bb8e5c230996f": {
     "model_module": "@jupyter-widgets/controls",
     "model_module_version": "1.5.0",
     "model_name": "DescriptionStyleModel",
     "state": {
      "_model_module": "@jupyter-widgets/controls",
      "_model_module_version": "1.5.0",
      "_model_name": "DescriptionStyleModel",
      "_view_count": null,
      "_view_module": "@jupyter-widgets/base",
      "_view_module_version": "1.2.0",
      "_view_name": "StyleView",
      "description_width": ""
     }
    },
    "f4eac588a3084aed80aadd46dc5e2878": {
     "model_module": "@jupyter-widgets/controls",
     "model_module_version": "1.5.0",
     "model_name": "DescriptionStyleModel",
     "state": {
      "_model_module": "@jupyter-widgets/controls",
      "_model_module_version": "1.5.0",
      "_model_name": "DescriptionStyleModel",
      "_view_count": null,
      "_view_module": "@jupyter-widgets/base",
      "_view_module_version": "1.2.0",
      "_view_name": "StyleView",
      "description_width": ""
     }
    },
    "f6a266e906a543528b154f0a967d2ba5": {
     "model_module": "@jupyter-widgets/controls",
     "model_module_version": "1.5.0",
     "model_name": "HTMLModel",
     "state": {
      "_dom_classes": [],
      "_model_module": "@jupyter-widgets/controls",
      "_model_module_version": "1.5.0",
      "_model_name": "HTMLModel",
      "_view_count": null,
      "_view_module": "@jupyter-widgets/controls",
      "_view_module_version": "1.5.0",
      "_view_name": "HTMLView",
      "description": "",
      "description_tooltip": null,
      "layout": "IPY_MODEL_23cd6500405244e1b17dd052ee4d1260",
      "placeholder": "​",
      "style": "IPY_MODEL_bfee9fdb617f4a8f8e326ef110d5414e",
      "value": " 10/10 [00:00&lt;00:00, 229.33 examples/s]"
     }
    },
    "f823321c40eb4c74bee53f3f19ab933b": {
     "model_module": "@jupyter-widgets/base",
     "model_module_version": "1.2.0",
     "model_name": "LayoutModel",
     "state": {
      "_model_module": "@jupyter-widgets/base",
      "_model_module_version": "1.2.0",
      "_model_name": "LayoutModel",
      "_view_count": null,
      "_view_module": "@jupyter-widgets/base",
      "_view_module_version": "1.2.0",
      "_view_name": "LayoutView",
      "align_content": null,
      "align_items": null,
      "align_self": null,
      "border": null,
      "bottom": null,
      "display": null,
      "flex": null,
      "flex_flow": null,
      "grid_area": null,
      "grid_auto_columns": null,
      "grid_auto_flow": null,
      "grid_auto_rows": null,
      "grid_column": null,
      "grid_gap": null,
      "grid_row": null,
      "grid_template_areas": null,
      "grid_template_columns": null,
      "grid_template_rows": null,
      "height": null,
      "justify_content": null,
      "justify_items": null,
      "left": null,
      "margin": null,
      "max_height": null,
      "max_width": null,
      "min_height": null,
      "min_width": null,
      "object_fit": null,
      "object_position": null,
      "order": null,
      "overflow": null,
      "overflow_x": null,
      "overflow_y": null,
      "padding": null,
      "right": null,
      "top": null,
      "visibility": null,
      "width": null
     }
    }
   }
  }
 },
 "nbformat": 4,
 "nbformat_minor": 4
}
